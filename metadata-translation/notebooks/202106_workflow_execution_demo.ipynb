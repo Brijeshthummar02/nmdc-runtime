{
 "cells": [
  {
   "cell_type": "code",
   "execution_count": 1,
   "id": "9f68aa97",
   "metadata": {},
   "outputs": [],
   "source": [
    "%load_ext autoreload\n",
    "%autoreload 2"
   ]
  },
  {
   "cell_type": "code",
   "execution_count": 2,
   "id": "3f087327",
   "metadata": {},
   "outputs": [
    {
     "data": {
      "text/plain": [
       "True"
      ]
     },
     "execution_count": 2,
     "metadata": {},
     "output_type": "execute_result"
    }
   ],
   "source": [
    "from dotenv import load_dotenv\n",
    "\n",
    "load_dotenv(\"../../.env.localhost\")"
   ]
  },
  {
   "cell_type": "markdown",
   "id": "9e7bed20",
   "metadata": {},
   "source": [
    "# S3 init"
   ]
  },
  {
   "cell_type": "code",
   "execution_count": 3,
   "id": "645e281a",
   "metadata": {},
   "outputs": [
    {
     "name": "stdout",
     "output_type": "stream",
     "text": [
      "nmdc-runtime\n",
      "polyneme\n",
      "\n",
      "using Bucket nmdc-runtime\n",
      "\n",
      "do/03c3-5kqv-57\n",
      "do/08j73-wn755\n",
      "do/0cgc-qt5f-48\n",
      "do/1bdd-ncsd-02\n",
      "do/22e0-wqt8-69\n",
      "do/2wem-dzg1-84\n",
      "do/4kr3-xa85-27\n",
      "do/55ss-n50r-11\n",
      "do/5acs-zdnm-73\n",
      "do/5f0b-pbs6-30\n",
      "do/720v-9dag-24\n",
      "do/85k8-agkq-63\n",
      "do/8a8w-s0qw-11\n",
      "do/8e7t-nd51-05\n",
      "do/acvg-nm6k-61\n",
      "do/aea1-qvxa-25\n",
      "do/ajrh-6sff-63\n",
      "do/avgy-htny-59\n",
      "do/azs9-t5dd-49\n",
      "do/c4n1-9a3d-06\n",
      "do/c6hs-4rzh-31\n",
      "do/dnk5-yqqp-09\n",
      "do/e27s-9fsv-88\n",
      "do/ecvr-mb80-57\n",
      "do/ewfm-fh80-44\n",
      "do/f7bq-ngn0-55\n",
      "do/ges8-mq5d-58\n",
      "do/gygb-zv5w-13\n",
      "do/j9cm-9hx6-69\n",
      "do/kyew-jfne-27\n",
      "do/pjwn-8yhy-54\n",
      "do/qzna-7hxj-86\n",
      "do/s50g-0rq0-58\n",
      "do/tac5-5yh9-04\n",
      "do/veh6-4naq-38\n",
      "do/vfav-x4w5-09\n",
      "do/y2s2-p1ag-52\n",
      "do/yqm2-ehg2-11\n",
      "gold_etl/nmdc_database.json.zip\n",
      "test/test.txt\n"
     ]
    }
   ],
   "source": [
    "from functools import lru_cache\n",
    "import os\n",
    "\n",
    "import boto3\n",
    "\n",
    "API_SITE_BUCKET = os.getenv(\"API_SITE_ID\")\n",
    "\n",
    "\n",
    "@lru_cache\n",
    "def get_s3_client():\n",
    "    _session = boto3.session.Session()\n",
    "    return _session.client(\n",
    "        \"s3\",\n",
    "        region_name=os.getenv(\"DO_REGION_NAME\"),\n",
    "        endpoint_url=os.getenv(\"DO_ENDPOINT_URL\"),\n",
    "        aws_access_key_id=os.getenv(\"DO_SPACES_KEY\"),\n",
    "        aws_secret_access_key=os.getenv(\"DO_SPACES_SECRET\"),\n",
    "    )\n",
    "\n",
    "\n",
    "def presigned_url_to_put(\n",
    "    key, client=None, mime_type=None, bucket=API_SITE_BUCKET, expires_in=300\n",
    "):\n",
    "    return client.generate_presigned_url(\n",
    "        ClientMethod=\"put_object\",\n",
    "        Params={\"Bucket\": bucket, \"Key\": key, \"ContentType\": mime_type},\n",
    "        ExpiresIn=expires_in,\n",
    "    )\n",
    "\n",
    "s3client = get_s3_client()\n",
    "\n",
    "response = s3client.list_buckets()\n",
    "for space in response['Buckets']:\n",
    "    print(space['Name'])\n",
    "print(f\"\\nusing Bucket {API_SITE_BUCKET}\\n\")\n",
    "response = s3client.list_objects(Bucket=API_SITE_BUCKET)\n",
    "for obj in response['Contents']:\n",
    "    print(obj['Key'])"
   ]
  },
  {
   "cell_type": "markdown",
   "id": "817ccd08",
   "metadata": {},
   "source": [
    "# Site Client Session"
   ]
  },
  {
   "cell_type": "code",
   "execution_count": 4,
   "id": "71840f6e",
   "metadata": {},
   "outputs": [],
   "source": [
    "from nmdc_runtime.util import nmdc_jsonschema, nmdc_jsonschema_validate"
   ]
  },
  {
   "cell_type": "code",
   "execution_count": 5,
   "id": "8123c095",
   "metadata": {},
   "outputs": [],
   "source": [
    "from nmdc_runtime.pipelines.core import run_config_frozen__preset_normal_env\n",
    "from nmdc_runtime.resources.mongo import get_mongo\n",
    "\n",
    "\n",
    "mongo = get_mongo(run_config_frozen__preset_normal_env)\n",
    "db = mongo.db"
   ]
  },
  {
   "cell_type": "code",
   "execution_count": 6,
   "id": "e32fd43e",
   "metadata": {},
   "outputs": [],
   "source": [
    "from nmdc_runtime.pipelines.core import run_config_frozen__preset_normal_env\n",
    "from nmdc_runtime.resources.core import get_runtime_api_site_client\n",
    "\n",
    "\n",
    "client = get_runtime_api_site_client(run_config_frozen__preset_normal_env)"
   ]
  },
  {
   "cell_type": "code",
   "execution_count": 7,
   "id": "ef2099c1",
   "metadata": {},
   "outputs": [],
   "source": [
    "from pathlib import Path\n",
    "\n",
    "from dagster import build_solid_context\n",
    "from nmdc_runtime.solids.core import local_file_to_api_object as lftao\n",
    "\n",
    "context = build_solid_context(\n",
    "    resources={\"mongo\": mongo, \"runtime_api_site_client\": client}\n",
    ")\n",
    "\n",
    "storage_path = \"../src/data/2021-07-02-study-changes.csv\"\n",
    "\n",
    "\n",
    "def local_file_to_api_object(file_info):\n",
    "    return lftao(context, file_info)\n",
    "\n",
    "#obj = local_file_to_api_object({\"storage_path\": storage_path, \"mime_type\": 'text/csv'})\n",
    "\n",
    "#doc = db.objects.find_one({\"id\": obj[\"id\"]})\n",
    "#assert doc[\"name\"] == Path(storage_path).name"
   ]
  },
  {
   "cell_type": "code",
   "execution_count": null,
   "id": "10c9b0c4",
   "metadata": {},
   "outputs": [],
   "source": [
    "!echo '{\"hello\": \"donny\"}' > test.json"
   ]
  },
  {
   "cell_type": "code",
   "execution_count": null,
   "id": "b57af2e3",
   "metadata": {},
   "outputs": [],
   "source": [
    "rv = client.put_object_in_site({\"mime_type\": \"application/json\", \"name\": \"test.json\"})"
   ]
  },
  {
   "cell_type": "code",
   "execution_count": null,
   "id": "5d424466",
   "metadata": {},
   "outputs": [],
   "source": [
    "op = rv.json()"
   ]
  },
  {
   "cell_type": "code",
   "execution_count": null,
   "id": "6b831222",
   "metadata": {},
   "outputs": [],
   "source": [
    "import put_object\n",
    "\n",
    "rv = put_object(\"test.json\", op[\"metadata\"][\"url\"])\n",
    "rv"
   ]
  },
  {
   "cell_type": "code",
   "execution_count": null,
   "id": "60eeaf2c",
   "metadata": {},
   "outputs": [],
   "source": [
    "from nmdc_runtime.util import drs_object_in_for\n",
    "\n",
    "result = drs_object_in_for(\"test.json\", op)"
   ]
  },
  {
   "cell_type": "code",
   "execution_count": null,
   "id": "d1dc14a5",
   "metadata": {},
   "outputs": [],
   "source": [
    "import json\n",
    "from pprint import pprint\n",
    "\n",
    "op_patch = {\"done\": True, \"result\": result}"
   ]
  },
  {
   "cell_type": "code",
   "execution_count": null,
   "id": "385e695b",
   "metadata": {},
   "outputs": [],
   "source": [
    "rv = client.update_operation(op[\"id\"], op_patch)"
   ]
  },
  {
   "cell_type": "code",
   "execution_count": null,
   "id": "feb3fb6b",
   "metadata": {},
   "outputs": [],
   "source": [
    "pprint(rv.json())"
   ]
  },
  {
   "cell_type": "markdown",
   "id": "45270876",
   "metadata": {},
   "source": [
    "# GSP schema  / Cordra stuff\n",
    "\n",
    "Need \"id\" in payload, e.g.:\n",
    "```\n",
    "\"results\": [\n",
    "    {\n",
    "      \"id\": \"test/activity\",\n",
    "      \"type\": \"Schema\",\n",
    "      \"content\": {\n",
    "        \"name\": \"Activity\",\n",
    "        \"schema\": collschemas[\"activity_set\"]\n",
    "      }\n",
    "    }\n",
    "  ]\n",
    "```"
   ]
  },
  {
   "cell_type": "code",
   "execution_count": null,
   "id": "c85f1c6f",
   "metadata": {},
   "outputs": [],
   "source": [
    "from time import time\n",
    "import os\n",
    "\n",
    "tic = time()\n",
    "\n",
    "from dotenv import load_dotenv\n",
    "load_dotenv(os.path.expanduser(\"~/.nmdc_mongo.env\"))"
   ]
  },
  {
   "cell_type": "code",
   "execution_count": null,
   "id": "4c11001d",
   "metadata": {},
   "outputs": [],
   "source": [
    "os.environ[\"NMDC_JSON_SCHEMA_FILE\"] = \"/Users/dwinston/Desktop/nmdc.schema.gsp.json\""
   ]
  },
  {
   "cell_type": "code",
   "execution_count": null,
   "id": "09b228f8",
   "metadata": {},
   "outputs": [],
   "source": [
    "import json\n",
    "import re\n",
    "from toolz import assoc_in, dissoc\n",
    "from zipfile import ZipFile\n",
    "\n",
    "from mongospawn.schema import collschemas_for\n",
    "\n",
    "from nmdc_mongo import (\n",
    "    add_to_db,\n",
    "    correct_metaP_doc,\n",
    "    dbschema,\n",
    "    fetch_and_validate_json,\n",
    "    fetch_conform_and_persist_from_manifest,\n",
    "    fetch_json,\n",
    "    get_db,\n",
    "    reset_database,\n",
    "    snake_case_set_name\n",
    ")"
   ]
  },
  {
   "cell_type": "code",
   "execution_count": null,
   "id": "a7577506",
   "metadata": {},
   "outputs": [],
   "source": [
    "###########################\n",
    "# Adjustments for GSP below\n",
    "###########################\n",
    "\n",
    "defined_object_names = set(dbschema[\"definitions\"])\n",
    "\n",
    "set_for_object_name = {\n",
    "    spec[\"items\"][\"$ref\"].split(\"#/definitions/\")[-1]: set_name\n",
    "    for set_name, spec in dbschema[\"properties\"].items()\n",
    "}\n",
    "\n",
    "existing_set_names = set(dbschema[\"properties\"])\n",
    "\n",
    "for object_without_set in (defined_object_names - set(set_for_object_name.keys())):\n",
    "    proposed_set_name = snake_case_set_name(object_without_set)\n",
    "    if proposed_set_name not in existing_set_names:\n",
    "        dbschema[\"properties\"][proposed_set_name] = {\n",
    "            \"description\": (f\"This property links a database object to the set of\"\n",
    "                            f\" {object_without_set} objects within it.\"),\n",
    "            \"items\": {\"$ref\": f\"#/definitions/{object_without_set}\"},\n",
    "            \"type\": \"array\",\n",
    "        }\n",
    "        \n",
    "dbschema = assoc_in(dbschema, [\"definitions\", \"ControlledTermValue\", \"properties\", \"term\", \"type\"], \"string\")\n",
    "del dbschema[\"definitions\"][\"ControlledTermValue\"][\"properties\"][\"term\"][\"$ref\"]\n",
    "\n",
    "# 'k' not capitalized upstream perhaps. should conform!\n",
    "#dbschema = assoc_in(dbschema, [\"definitions\", \"MetagenomeAssembly\", \"properties\", \"scaf_l_gt50k\", \"type\"], \"number\")"
   ]
  },
  {
   "cell_type": "code",
   "execution_count": null,
   "id": "476c870e",
   "metadata": {},
   "outputs": [],
   "source": [
    "collschemas = collschemas_for(dbschema)\n",
    "\n",
    "# Reconstruct\n",
    "set_for_object_name = {\n",
    "    spec[\"items\"][\"$ref\"].split(\"#/definitions/\")[-1]: set_name\n",
    "    for set_name, spec in dbschema[\"properties\"].items()\n",
    "}"
   ]
  },
  {
   "cell_type": "code",
   "execution_count": null,
   "id": "337b1c37",
   "metadata": {},
   "outputs": [],
   "source": [
    "sorted(collschemas.keys())"
   ]
  },
  {
   "cell_type": "code",
   "execution_count": null,
   "id": "b73f3f93",
   "metadata": {},
   "outputs": [],
   "source": [
    "collschemas[\"biosample_set\"]"
   ]
  },
  {
   "cell_type": "code",
   "execution_count": null,
   "id": "5fc63d13",
   "metadata": {},
   "outputs": [],
   "source": [
    "import requests"
   ]
  },
  {
   "cell_type": "code",
   "execution_count": null,
   "id": "b3f972df",
   "metadata": {},
   "outputs": [],
   "source": [
    "rv = requests.post(\"http://localhost:8080/auth/token\",\n",
    "              {\"grant_type\": \"password\", \"username\": \"admin\", \"password\": \"nmdcrulez\"})"
   ]
  },
  {
   "cell_type": "code",
   "execution_count": null,
   "id": "16e81e7e",
   "metadata": {},
   "outputs": [],
   "source": [
    "rv.json()"
   ]
  },
  {
   "cell_type": "code",
   "execution_count": null,
   "id": "518a119c",
   "metadata": {},
   "outputs": [],
   "source": [
    "auth_header = {\"Authorization\": f'Bearer {rv.json()[\"access_token\"]}'}"
   ]
  },
  {
   "cell_type": "code",
   "execution_count": null,
   "id": "faf849b6",
   "metadata": {},
   "outputs": [],
   "source": [
    "auth_header"
   ]
  },
  {
   "cell_type": "code",
   "execution_count": null,
   "id": "55f60aec",
   "metadata": {},
   "outputs": [],
   "source": [
    "rv = requests.post(\"http://localhost:8080/uploadObjects\", json={\n",
    "    \"results\": [\n",
    "        {\n",
    "          \"type\": \"Schema\",\n",
    "          \"content\": {\n",
    "            \"name\": \"Biosample\",\n",
    "            \"schema\": collschemas[\"biosample_set\"]\n",
    "          }\n",
    "        }\n",
    "      ]\n",
    "}, headers=auth_header)"
   ]
  },
  {
   "cell_type": "code",
   "execution_count": null,
   "id": "e2b73453",
   "metadata": {},
   "outputs": [],
   "source": [
    "rv"
   ]
  },
  {
   "cell_type": "code",
   "execution_count": null,
   "id": "b7cfd0a8",
   "metadata": {},
   "outputs": [],
   "source": [
    "import json\n",
    "with open('/Users/dwinston/Desktop/cordra-upload.json','w') as f:\n",
    "    json.dump({\n",
    "        \"results\": [\n",
    "            {\n",
    "              \"id\": \"test/activity\",\n",
    "              \"type\": \"Schema\",\n",
    "              \"content\": {\n",
    "                \"name\": \"Activity\",\n",
    "                \"schema\": collschemas[\"activity_set\"]\n",
    "              }\n",
    "            }\n",
    "          ]\n",
    "    }, f, indent=2)"
   ]
  },
  {
   "cell_type": "code",
   "execution_count": null,
   "id": "05f6d8b7",
   "metadata": {},
   "outputs": [],
   "source": [
    "import json\n",
    "with open('/Users/dwinston/Desktop/cordra-upload.json','w') as f:\n",
    "    json.dump({\n",
    "        \"results\": [\n",
    "            {\n",
    "              \"id\": \"test/study\",\n",
    "              \"type\": \"Schema\",\n",
    "              \"content\": {\n",
    "                \"name\": \"Study\",\n",
    "                \"schema\": collschemas[\"study_set\"]\n",
    "              }\n",
    "            }\n",
    "          ]\n",
    "    }, f, indent=2)"
   ]
  },
  {
   "cell_type": "code",
   "execution_count": null,
   "id": "6ce72810",
   "metadata": {},
   "outputs": [],
   "source": [
    "rv = requests.get(\"http://localhost:8080/search?query=type:%22Schema%22\", headers=auth_header)"
   ]
  },
  {
   "cell_type": "code",
   "execution_count": null,
   "id": "ddaf01b3",
   "metadata": {},
   "outputs": [],
   "source": [
    "from pprint import pprint\n",
    "\n",
    "template = rv.json()\n",
    "del template[\"pageNum\"]\n",
    "del template[\"pageSize\"]\n",
    "del template[\"size\"]\n",
    "del template[\"results\"][0]\n",
    "del template[\"results\"][0]\n",
    "template[\"results\"][0][\"id\"] = \"test/abcd1234\"\n",
    "template[\"results\"][0][\"content\"][\"name\"] = \"Document2\"\n",
    "template[\"results\"][0][\"content\"][\"schema\"][\"title\"] = \"Document2\"\n",
    "del template[\"results\"][0][\"content\"][\"identifier\"]\n",
    "\n",
    "pprint(template)"
   ]
  },
  {
   "cell_type": "code",
   "execution_count": null,
   "id": "4830a786",
   "metadata": {},
   "outputs": [],
   "source": [
    "import json\n",
    "with open('/Users/dwinston/Desktop/cordra-upload.json','w') as f:\n",
    "    json.dump(template, f, indent=2)"
   ]
  },
  {
   "cell_type": "code",
   "execution_count": null,
   "id": "873ec179",
   "metadata": {},
   "outputs": [],
   "source": [
    "!cat /Users/dwinston/Desktop/cordra-upload.json"
   ]
  },
  {
   "cell_type": "code",
   "execution_count": null,
   "id": "6d1e3897",
   "metadata": {},
   "outputs": [],
   "source": [
    "rv = requests.post(\"http://localhost:8080/uploadObjects\", json=template, headers=auth_header)\n",
    "rv"
   ]
  },
  {
   "cell_type": "code",
   "execution_count": null,
   "id": "d4bb1f87",
   "metadata": {},
   "outputs": [],
   "source": []
  }
 ],
 "metadata": {
  "kernelspec": {
   "display_name": "Python (nmdc-runtime)",
   "language": "python",
   "name": "nmdc-runtime"
  },
  "language_info": {
   "codemirror_mode": {
    "name": "ipython",
    "version": 3
   },
   "file_extension": ".py",
   "mimetype": "text/x-python",
   "name": "python",
   "nbconvert_exporter": "python",
   "pygments_lexer": "ipython3",
   "version": "3.8.8"
  }
 },
 "nbformat": 4,
 "nbformat_minor": 5
}
