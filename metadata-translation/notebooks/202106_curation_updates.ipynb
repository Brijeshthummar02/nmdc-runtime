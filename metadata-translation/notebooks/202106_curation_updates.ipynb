{
 "cells": [
  {
   "cell_type": "code",
   "execution_count": 1,
   "id": "14532162",
   "metadata": {},
   "outputs": [],
   "source": [
    "%load_ext autoreload\n",
    "%autoreload 2"
   ]
  },
  {
   "cell_type": "code",
   "execution_count": 2,
   "id": "f239fd89",
   "metadata": {},
   "outputs": [
    {
     "data": {
      "text/plain": [
       "True"
      ]
     },
     "execution_count": 2,
     "metadata": {},
     "output_type": "execute_result"
    }
   ],
   "source": [
    "from dotenv import load_dotenv\n",
    "\n",
    "load_dotenv(\"../../.env.localhost\")"
   ]
  },
  {
   "cell_type": "code",
   "execution_count": 3,
   "id": "780f730e",
   "metadata": {},
   "outputs": [
    {
     "data": {
      "text/plain": [
       "{'_tmp__get_file_size_bytes',\n",
       " 'activity_set',\n",
       " 'biosample_set',\n",
       " 'capabilities',\n",
       " 'data_object_set',\n",
       " 'date_created',\n",
       " 'etl_software_version',\n",
       " 'file_type_enum',\n",
       " 'functional_annotation_set',\n",
       " 'genome_feature_set',\n",
       " 'ids',\n",
       " 'mags_activity_set',\n",
       " 'metabolomics_analysis_activity_set',\n",
       " 'metagenome_annotation_activity_set',\n",
       " 'metagenome_assembly_set',\n",
       " 'metaproteomics_analysis_activity_set',\n",
       " 'metatranscriptome_activity_set',\n",
       " 'nmdc_schema_version',\n",
       " 'nom_analysis_activity_set',\n",
       " 'notes',\n",
       " 'object_types',\n",
       " 'objects',\n",
       " 'omics_processing_set',\n",
       " 'operations',\n",
       " 'read_QC_analysis_activity_set',\n",
       " 'read_based_analysis_activity_set',\n",
       " 'sites',\n",
       " 'study_set',\n",
       " 'triggers',\n",
       " 'users',\n",
       " 'workflows'}"
      ]
     },
     "execution_count": 3,
     "metadata": {},
     "output_type": "execute_result"
    }
   ],
   "source": [
    "from nmdc_runtime.pipelines.core import run_config_frozen__preset_normal_env\n",
    "from nmdc_runtime.resources.mongo import get_mongo\n",
    "\n",
    "\n",
    "mongo = get_mongo(run_config_frozen__preset_normal_env)\n",
    "db = mongo.db\n",
    "set(db.list_collection_names())"
   ]
  },
  {
   "cell_type": "code",
   "execution_count": 4,
   "id": "bf275fde",
   "metadata": {},
   "outputs": [],
   "source": [
    "from nmdc_runtime.pipelines.core import run_config_frozen__preset_normal_env\n",
    "from nmdc_runtime.resources.core import get_runtime_api_site_client\n",
    "\n",
    "\n",
    "client = get_runtime_api_site_client(run_config_frozen__preset_normal_env)"
   ]
  },
  {
   "cell_type": "code",
   "execution_count": 5,
   "id": "6176f3aa",
   "metadata": {},
   "outputs": [],
   "source": [
    "from nmdc_runtime.util import nmdc_jsonschema, nmdc_jsonschema_validate"
   ]
  },
  {
   "cell_type": "code",
   "execution_count": 6,
   "id": "2046605b",
   "metadata": {},
   "outputs": [],
   "source": [
    "gold_etl_latest = db.objects.find_one({\"name\": \"nmdc_database.json.zip\"}, sort=[(\"created_time\", -1)])"
   ]
  },
  {
   "cell_type": "code",
   "execution_count": 7,
   "id": "74994459",
   "metadata": {},
   "outputs": [],
   "source": [
    "rv = client.get_object_bytes(gold_etl_latest[\"id\"])"
   ]
  },
  {
   "cell_type": "code",
   "execution_count": 9,
   "id": "38bceb61",
   "metadata": {},
   "outputs": [],
   "source": [
    "from io import BytesIO\n",
    "import json\n",
    "from zipfile import ZipFile\n",
    "\n",
    "with ZipFile(BytesIO(rv.content)) as myzip:\n",
    "    # may be e.g. 'metadata-translation/src/bin/output/nmdc_database.json' rather than 'nmdc_database.json'\n",
    "    name = next(n for n in myzip.namelist() if n.endswith(\"nmdc_database.json\"))\n",
    "    with myzip.open(name) as f:\n",
    "        nmdc_database = json.load(f)"
   ]
  },
  {
   "cell_type": "code",
   "execution_count": 13,
   "id": "abdaa2b0",
   "metadata": {},
   "outputs": [
    {
     "name": "stdout",
     "output_type": "stream",
     "text": [
      "{'biosample_set',\n",
      " 'data_object_set',\n",
      " 'mags_activity_set',\n",
      " 'metabolomics_analysis_activity_set',\n",
      " 'metagenome_annotation_activity_set',\n",
      " 'metagenome_assembly_set',\n",
      " 'metaproteomics_analysis_activity_set',\n",
      " 'metatranscriptome_activity_set',\n",
      " 'nom_analysis_activity_set',\n",
      " 'omics_processing_set',\n",
      " 'read_QC_analysis_activity_set',\n",
      " 'read_based_analysis_activity_set',\n",
      " 'study_set'}\n"
     ]
    }
   ],
   "source": [
    "from pprint import pprint\n",
    "\n",
    "nmdc_db_collection_names_to_drop = set(nmdc_jsonschema[\"definitions\"][\"Database\"][\"properties\"])\n",
    "nmdc_db_collection_names_to_drop -= {\n",
    "    # not actually collections\n",
    "    \"activity_set\",\n",
    "    \"nmdc_schema_version\",\n",
    "    \"date_created\",\n",
    "    \"etl_software_version\",\n",
    "    # big collections, loaded elsewhere\n",
    "    \"functional_annotation_set\",\n",
    "    \"genome_feature_set\",\n",
    "    \n",
    "}\n",
    "pprint(nmdc_db_collection_names_to_drop)"
   ]
  },
  {
   "cell_type": "code",
   "execution_count": 14,
   "id": "39c22fe1",
   "metadata": {},
   "outputs": [
    {
     "name": "stdout",
     "output_type": "stream",
     "text": [
      "dropping metabolomics_analysis_activity_set, creating index\n",
      "dropping metagenome_assembly_set, creating index\n",
      "dropping metaproteomics_analysis_activity_set, creating index\n",
      "dropping biosample_set, creating index\n",
      "dropping study_set, creating index\n",
      "dropping metatranscriptome_activity_set, creating index\n",
      "dropping data_object_set, creating index\n",
      "dropping read_QC_analysis_activity_set, creating index\n",
      "dropping metagenome_annotation_activity_set, creating index\n",
      "dropping read_based_analysis_activity_set, creating index\n",
      "dropping omics_processing_set, creating index\n",
      "dropping nom_analysis_activity_set, creating index\n",
      "dropping mags_activity_set, creating index\n"
     ]
    }
   ],
   "source": [
    "def init_database(db, coll_names):\n",
    "    for coll_name in coll_names:\n",
    "        print(f\"dropping {coll_name}, creating index\")\n",
    "        db.drop_collection(coll_name)\n",
    "        db[coll_name].create_index(\"id\", unique=True)\n",
    "        \n",
    "init_database(db, nmdc_db_collection_names_to_drop)"
   ]
  },
  {
   "cell_type": "markdown",
   "id": "7f3d2214",
   "metadata": {},
   "source": [
    "# fix biosample.part_of and add docs"
   ]
  },
  {
   "cell_type": "code",
   "execution_count": 15,
   "id": "355e2945",
   "metadata": {},
   "outputs": [
    {
     "data": {
      "text/plain": [
       "844"
      ]
     },
     "execution_count": 15,
     "metadata": {},
     "output_type": "execute_result"
    }
   ],
   "source": [
    "from pprint import pprint\n",
    "\n",
    "from toolz import assoc_in, dissoc, get_in\n",
    "\n",
    "from nmdc_runtime.api.core.util import pick\n",
    "\n",
    "new_docs = []\n",
    "for doc in nmdc_database[\"biosample_set\"]:\n",
    "    if \"part of\" in doc:\n",
    "        doc = assoc_in(doc, [\"part_of\"], get_in([\"part of\"], doc))\n",
    "        doc = dissoc(doc, \"part of\")\n",
    "    new_docs.append(doc)\n",
    "\n",
    "nmdc_database[\"biosample_set\"] = new_docs\n",
    "len(nmdc_database[\"biosample_set\"])"
   ]
  },
  {
   "cell_type": "code",
   "execution_count": 16,
   "id": "84e3d46b",
   "metadata": {},
   "outputs": [],
   "source": [
    "ok = nmdc_jsonschema_validate(nmdc_database)"
   ]
  },
  {
   "cell_type": "code",
   "execution_count": 17,
   "id": "cdc0b17f",
   "metadata": {},
   "outputs": [],
   "source": [
    "rv = mongo.add_docs(nmdc_database)"
   ]
  },
  {
   "cell_type": "code",
   "execution_count": 18,
   "id": "eb12638d",
   "metadata": {},
   "outputs": [
    {
     "data": {
      "text/plain": [
       "844"
      ]
     },
     "execution_count": 18,
     "metadata": {},
     "output_type": "execute_result"
    }
   ],
   "source": [
    "rv['biosample_set'].upserted_count"
   ]
  },
  {
   "cell_type": "markdown",
   "id": "f168df84",
   "metadata": {},
   "source": [
    "# GOLD IDs to IGSNs"
   ]
  },
  {
   "cell_type": "code",
   "execution_count": null,
   "id": "9516a7a1",
   "metadata": {},
   "outputs": [],
   "source": [
    "# from dagster import build_solid_context\n",
    "\n",
    "# from nmdc_runtime.solids.core import local_file_to_api_object as lftao\n",
    "\n",
    "# context = build_solid_context(resources={\"mongo\": mongo, \"runtime_api_site_client\": client})\n",
    "\n",
    "\n",
    "# def local_file_to_api_object(file_info):\n",
    "#     return lftao(context, file_info)\n",
    "\n",
    "# #obj = local_file_to_api_object({\"storage_path\": storage_path, \"mime_type\": 'text/csv'})"
   ]
  },
  {
   "cell_type": "code",
   "execution_count": 19,
   "id": "8fe7f980",
   "metadata": {},
   "outputs": [],
   "source": [
    "oid__gold_ids_to_igns = \"c6hs-4rzh-31\"\n",
    "doc = db.objects.find_one({\"id\": oid__gold_ids_to_igns})\n",
    "assert doc[\"name\"] == \"2020-23-12-brodie-Gs0135149-soil-metadata.csv\""
   ]
  },
  {
   "cell_type": "code",
   "execution_count": 20,
   "id": "6e1d136d",
   "metadata": {},
   "outputs": [],
   "source": [
    "from collections import defaultdict\n",
    "import csv\n",
    "from io import StringIO\n",
    "import re\n",
    "\n",
    "GOLD_ID_IDX = 5\n",
    "IGSN_IDX = 2\n",
    "\n",
    "igsn_golds = defaultdict(list)\n",
    "\n",
    "gold_id_pattern = re.compile(r\"Gb\\d+\")\n",
    "\n",
    "f = StringIO(client.get_object_bytes(oid__gold_ids_to_igns).text)\n",
    "reader = csv.reader(f)\n",
    "for row in reader:\n",
    "    gold_id = row[GOLD_ID_IDX]\n",
    "    igsn = row[IGSN_IDX]\n",
    "    if gold_id_pattern.fullmatch(gold_id):\n",
    "        igsn_golds[igsn].append(gold_id)"
   ]
  },
  {
   "cell_type": "code",
   "execution_count": 21,
   "id": "31207f9c",
   "metadata": {},
   "outputs": [],
   "source": [
    "from pprint import pprint\n",
    "\n",
    "from toolz import get_in\n",
    "\n",
    "new_biosample_docs = []\n",
    "\n",
    "for igsn, golds in igsn_golds.items():\n",
    "    igsn_curie = \"igsn:\"+igsn\n",
    "    doc = db.biosample_set.find_one({\"id\": {\"$in\": [f\"gold:{g}\" for g in golds]}})\n",
    "    if doc is None:\n",
    "        print(igsn, golds)\n",
    "        continue\n",
    "    doc = assoc_in(doc, [\"id\"], igsn_curie)\n",
    "    doc = dissoc(doc, \"_id\")\n",
    "    new_biosample_docs.append(doc)\n",
    "\n",
    "assert len(new_biosample_docs) == len(igsn_golds)"
   ]
  },
  {
   "cell_type": "code",
   "execution_count": 22,
   "id": "d6b7eac2",
   "metadata": {},
   "outputs": [
    {
     "data": {
      "text/plain": [
       "{'biosample_set': <pymongo.results.BulkWriteResult at 0x7f8a1091d040>}"
      ]
     },
     "execution_count": 22,
     "metadata": {},
     "output_type": "execute_result"
    }
   ],
   "source": [
    "mongo.add_docs({\"biosample_set\": new_biosample_docs})"
   ]
  },
  {
   "cell_type": "code",
   "execution_count": 23,
   "id": "bfd7dd72",
   "metadata": {},
   "outputs": [
    {
     "data": {
      "text/plain": [
       "48"
      ]
     },
     "execution_count": 23,
     "metadata": {},
     "output_type": "execute_result"
    }
   ],
   "source": [
    "from pymongo import DeleteMany\n",
    "from toolz import concat\n",
    "\n",
    "requests = [DeleteMany({\"id\": {\"$in\": [\"gold:\"+g for g in concat(igsn_golds.values())]}})]\n",
    "rv = mongo.db.biosample_set.bulk_write(requests)\n",
    "rv.deleted_count"
   ]
  },
  {
   "cell_type": "markdown",
   "id": "ce66e9c3",
   "metadata": {},
   "source": [
    "# Update omics_processing_set references to biosample_set ids"
   ]
  },
  {
   "cell_type": "code",
   "execution_count": 24,
   "id": "749de37a",
   "metadata": {},
   "outputs": [],
   "source": [
    "goldid_igsn = {}\n",
    "for igsn, gids in igsn_golds.items():\n",
    "    for gid in gids:\n",
    "        goldid_igsn[gid] = igsn"
   ]
  },
  {
   "cell_type": "code",
   "execution_count": 25,
   "id": "ca0ebce8",
   "metadata": {},
   "outputs": [],
   "source": [
    "requests = []\n",
    "to_replace = {\"gold:\"+k: \"igsn:\"+v for k, v in goldid_igsn.items()}\n",
    "\n",
    "for doc in db.omics_processing_set.find({\"has_input\": {\"$in\": list(to_replace)}}):\n",
    "    operations = {\"$set\": {\n",
    "        \"has_input\": [to_replace.get(i, i) for i in doc[\"has_input\"]],\n",
    "    }}\n",
    "    requests.append({\"filter\": {\"_id\": doc[\"_id\"]}, \"update\": operations})"
   ]
  },
  {
   "cell_type": "code",
   "execution_count": 26,
   "id": "e8ed078a",
   "metadata": {},
   "outputs": [],
   "source": [
    "from pymongo import UpdateOne\n",
    "\n",
    "rv = db.omics_processing_set.bulk_write([UpdateOne(**r) for r in requests])"
   ]
  },
  {
   "cell_type": "code",
   "execution_count": 27,
   "id": "320e4649",
   "metadata": {},
   "outputs": [
    {
     "data": {
      "text/plain": [
       "93"
      ]
     },
     "execution_count": 27,
     "metadata": {},
     "output_type": "execute_result"
    }
   ],
   "source": [
    "rv.modified_count"
   ]
  },
  {
   "cell_type": "code",
   "execution_count": 28,
   "id": "960f3f73",
   "metadata": {},
   "outputs": [],
   "source": [
    "docs = [dissoc(doc, \"_id\") for doc in db.omics_processing_set.find()]"
   ]
  },
  {
   "cell_type": "code",
   "execution_count": 29,
   "id": "970a4e3e",
   "metadata": {},
   "outputs": [],
   "source": [
    "ok = nmdc_jsonschema_validate({\"omics_processing_set\": docs})"
   ]
  },
  {
   "cell_type": "markdown",
   "id": "8e887f0c",
   "metadata": {},
   "source": [
    "# Update omics_processing_set references from EMSL ids to IGSNs\n",
    "\n",
    "Skip this -- it updates zero documents!"
   ]
  },
  {
   "cell_type": "code",
   "execution_count": 30,
   "id": "83debad0",
   "metadata": {},
   "outputs": [],
   "source": [
    "EMSL_IDS_IDX = 7\n",
    "IGSN_IDX = 2\n",
    "\n",
    "igsn_emsls = {}\n",
    "\n",
    "emsl_ids_pattern = re.compile(r\"\\d+\")\n",
    "\n",
    "f = StringIO(client.get_object_bytes(oid__gold_ids_to_igns).text)\n",
    "reader = csv.reader(f)\n",
    "for row in reader:\n",
    "    emsl_ids = row[EMSL_IDS_IDX]\n",
    "    igsn = row[IGSN_IDX]\n",
    "    ids = emsl_ids_pattern.findall(emsl_ids)\n",
    "    # XXX some rows have emsl ids but no IGSN, so igsn.strip() check here\n",
    "    if igsn.strip() and ids:\n",
    "        igsn_emsls[igsn] = ids"
   ]
  },
  {
   "cell_type": "code",
   "execution_count": 31,
   "id": "7f6a4907",
   "metadata": {},
   "outputs": [],
   "source": [
    "emslid_igsn = {}\n",
    "for igsn, eids in igsn_emsls.items():\n",
    "    for eid in eids:\n",
    "        emslid_igsn[eid] = igsn"
   ]
  },
  {
   "cell_type": "code",
   "execution_count": 32,
   "id": "eb2f19e1",
   "metadata": {},
   "outputs": [],
   "source": [
    "n_with_emsl_id = db.omics_processing_set.count_documents(\n",
    "    {\"id\": {\"$in\": [\"emsl:\"+i for i in emslid_igsn]}})"
   ]
  },
  {
   "cell_type": "code",
   "execution_count": 33,
   "id": "f4e81c98",
   "metadata": {},
   "outputs": [],
   "source": [
    "requests = []\n",
    "to_replace = {\"emsl:\"+k: \"igsn:\"+v for k, v in emslid_igsn.items()}\n",
    "to_replace.update({\"emsl:output_\"+k: \"igsn:\"+v for k, v in emslid_igsn.items()})\n",
    "\n",
    "def omit(blacklist, d):\n",
    "    return keyfilter(lambda k: k not in blacklist, d)\n",
    "\n",
    "def sans_mongo_id(d):\n",
    "    return omit([\"_id\"], d)\n",
    "\n",
    "\n",
    "for doc in db.omics_processing_set.find({\"has_input\": {\"$in\": list(to_replace)}}):\n",
    "    operations = {\"$set\": {\n",
    "        \"has_input\": [to_replace.get(i, i) for i in doc[\"has_input\"]],\n",
    "    }}\n",
    "    requests.append({\"filter\": {\"_id\": doc[\"_id\"]}, \"update\": operations})"
   ]
  },
  {
   "cell_type": "code",
   "execution_count": 34,
   "id": "644a638f",
   "metadata": {},
   "outputs": [],
   "source": [
    "if requests:\n",
    "    rv = db.omics_processing_set.bulk_write([UpdateOne(**r) for r in requests])\n",
    "    print(rv.modified_count)"
   ]
  },
  {
   "cell_type": "markdown",
   "id": "1b51fe2d",
   "metadata": {},
   "source": [
    "# metaP_stegen.ipynb"
   ]
  },
  {
   "cell_type": "code",
   "execution_count": 43,
   "id": "93d8b6f2",
   "metadata": {},
   "outputs": [],
   "source": [
    "to_fetch = [{\n",
    "    # >100MB\n",
    "    \"url\": \"https://portal.nersc.gov/cfs/m3408/meta/stegen_MetaProteomicAnalysis_activity.json\",\n",
    "    \"type\": \"metaproteomics_analysis_activity_set\",\n",
    "}, {\n",
    "    # ~50KB\n",
    "    \"url\": \"https://portal.nersc.gov/cfs/m3408/meta/stegen_emsl_analysis_data_objects.json\",\n",
    "    \"type\": \"data_object_set\"\n",
    "}]"
   ]
  },
  {
   "cell_type": "code",
   "execution_count": 44,
   "id": "b3df40a9",
   "metadata": {},
   "outputs": [],
   "source": [
    "import re\n",
    "\n",
    "pattern = re.compile(r\"https?://(?P<domain>[^/]+)/(?P<path>.+)\")\n",
    "\n",
    "def url_to_name(url):\n",
    "    m = pattern.match(url)\n",
    "    return f\"{'.'.join(reversed(m.group('domain').split('.')))}__{m.group('path').replace('/', '.')}\""
   ]
  },
  {
   "cell_type": "code",
   "execution_count": 45,
   "id": "7bbc2deb",
   "metadata": {},
   "outputs": [],
   "source": [
    "import json\n",
    "from pathlib import Path\n",
    "\n",
    "import requests\n",
    "\n",
    "def download_them_all(to_fetch):\n",
    "    for i, spec in enumerate(to_fetch):\n",
    "        url = spec[\"url\"]\n",
    "        name = url_to_name(url)\n",
    "        print(f\"{i+1}/{len(to_fetch)}: fetching {url}\")\n",
    "        rv = requests.get(url)\n",
    "        print(f\"saving as {name}\")\n",
    "        with open(f'/Users/dwinston/Downloads/{name}', 'w') as f:\n",
    "            json.dump(rv.json(), f)"
   ]
  },
  {
   "cell_type": "code",
   "execution_count": 46,
   "id": "0caf3a50",
   "metadata": {},
   "outputs": [
    {
     "name": "stdout",
     "output_type": "stream",
     "text": [
      "1/2: fetching https://portal.nersc.gov/cfs/m3408/meta/stegen_MetaProteomicAnalysis_activity.json\n",
      "saving as gov.nersc.portal__cfs.m3408.meta.stegen_MetaProteomicAnalysis_activity.json\n",
      "2/2: fetching https://portal.nersc.gov/cfs/m3408/meta/stegen_emsl_analysis_data_objects.json\n",
      "saving as gov.nersc.portal__cfs.m3408.meta.stegen_emsl_analysis_data_objects.json\n"
     ]
    }
   ],
   "source": [
    "download_them_all(to_fetch)"
   ]
  },
  {
   "cell_type": "code",
   "execution_count": 55,
   "id": "24c8f0ba",
   "metadata": {},
   "outputs": [],
   "source": [
    "from toolz import identity, dissoc, assoc_in\n",
    "\n",
    "metaP_field_map = {\n",
    "    \"PeptideSequence\": (\"peptide_sequence\", identity),\n",
    "    \"sum(MASICAbundance)\": (\"peptide_sum_masic_abundance\", int),\n",
    "    \"sum_MASICAbundance\": (\"peptide_sum_masic_abundance\", int),\n",
    "    \"SpectralCount\": (\"peptide_spectral_count\", int),\n",
    "    \"BestProtein\": (\"best_protein\", identity),\n",
    "    \"min(QValue)\": (\"min_q_value\", float),\n",
    "    \"min_QValue\": (\"min_q_value\", float),\n",
    "    \n",
    "    \"peptide_sequence\": (\"peptide_sequence\", identity),\n",
    "    \"peptide_sum_masic_abundance\": (\"peptide_sum_masic_abundance\", int),\n",
    "    \"peptide_spectral_count\": (\"peptide_spectral_count\", int),\n",
    "    \"best_protein\": (\"best_protein\", identity),\n",
    "    \"min_q_value\": (\"min_q_value\", float),\n",
    "}\n",
    "\n",
    "\n",
    "def map_fields(doc, field_map=None):\n",
    "    for k_old, todo in field_map.items():\n",
    "        if k_old in doc:\n",
    "            k_new, fn = todo\n",
    "            # work around e.g. \"ValueError: invalid literal for int() with base 10: '400840000.0'\"\n",
    "            try:\n",
    "                v_new = fn(doc[k_old])\n",
    "            except ValueError:\n",
    "                v_new = fn(float(doc[k_old]))\n",
    "            doc = dissoc(doc, k_old)\n",
    "            doc = assoc_in(doc, [k_new], v_new)\n",
    "    return doc\n",
    "\n",
    "\n",
    "def correct_metaP_doc(doc):\n",
    "    if not \"has_peptide_quantifications\" in doc:\n",
    "        return doc\n",
    "    new_items = [\n",
    "        map_fields(item, metaP_field_map) for item in doc[\"has_peptide_quantifications\"]\n",
    "    ]\n",
    "    doc = assoc_in(\n",
    "        doc,\n",
    "        [\"has_peptide_quantifications\"],\n",
    "        new_items,\n",
    "    )\n",
    "    return doc"
   ]
  },
  {
   "cell_type": "code",
   "execution_count": 56,
   "id": "9e55be6a",
   "metadata": {},
   "outputs": [],
   "source": [
    "def fetch_downloaded_json(name):\n",
    "    with open(f'/Users/dwinston/Downloads/{name}') as f:\n",
    "        return json.load(f)"
   ]
  },
  {
   "cell_type": "code",
   "execution_count": 57,
   "id": "d169ac13",
   "metadata": {},
   "outputs": [],
   "source": [
    "from collections import defaultdict\n",
    "\n",
    "def fetch_metaP_validate_and_add(to_fetch):\n",
    "    to_add = defaultdict(list)\n",
    "    for i, spec in enumerate(to_fetch):\n",
    "        url = spec[\"url\"]\n",
    "        name = Path(url).name\n",
    "        collection_name = spec[\"type\"]\n",
    "        print(f\"{i+1}/{len(to_fetch)}: fetching {name} ({collection_name})\")\n",
    "        docs = fetch_downloaded_json(url_to_name(url))\n",
    "        if not isinstance(docs, list):\n",
    "            docs = [docs]\n",
    "        docs = [correct_metaP_doc(d) for d in docs]\n",
    "        to_add[collection_name].extend(docs)\n",
    "    print(\"validating\")\n",
    "    nmdc_jsonschema_validate(to_add)\n",
    "    print(\"adding\")\n",
    "    mongo.add_docs(to_add, validate=False)"
   ]
  },
  {
   "cell_type": "code",
   "execution_count": 58,
   "id": "c72f9236",
   "metadata": {},
   "outputs": [
    {
     "name": "stdout",
     "output_type": "stream",
     "text": [
      "1/2: fetching stegen_MetaProteomicAnalysis_activity.json (metaproteomics_analysis_activity_set)\n",
      "2/2: fetching stegen_emsl_analysis_data_objects.json (data_object_set)\n",
      "validating\n",
      "adding\n"
     ]
    }
   ],
   "source": [
    "fetch_metaP_validate_and_add(to_fetch)"
   ]
  },
  {
   "cell_type": "code",
   "execution_count": 59,
   "id": "9d0254c7",
   "metadata": {},
   "outputs": [],
   "source": [
    "to_fetch = [{\n",
    "    \"url\": \"https://portal.nersc.gov/project/m3408/meta/501128_1781_100340_stegen_MetaProteomicAnalysis_activity.json\",\n",
    "    \"type\": \"metaproteomics_analysis_activity_set\",\n",
    "}, {\n",
    "    \"url\": \"https://portal.nersc.gov/project/m3408/meta/501128_1781_100340_stegen_emsl_analysis_data_objects.json\",\n",
    "    \"type\": \"data_object_set\"\n",
    "}]"
   ]
  },
  {
   "cell_type": "code",
   "execution_count": 60,
   "id": "dc2874fe",
   "metadata": {},
   "outputs": [
    {
     "name": "stdout",
     "output_type": "stream",
     "text": [
      "1/2: fetching https://portal.nersc.gov/project/m3408/meta/501128_1781_100340_stegen_MetaProteomicAnalysis_activity.json\n",
      "saving as gov.nersc.portal__project.m3408.meta.501128_1781_100340_stegen_MetaProteomicAnalysis_activity.json\n",
      "2/2: fetching https://portal.nersc.gov/project/m3408/meta/501128_1781_100340_stegen_emsl_analysis_data_objects.json\n",
      "saving as gov.nersc.portal__project.m3408.meta.501128_1781_100340_stegen_emsl_analysis_data_objects.json\n"
     ]
    }
   ],
   "source": [
    "download_them_all(to_fetch)"
   ]
  },
  {
   "cell_type": "code",
   "execution_count": 61,
   "id": "31d3ef51",
   "metadata": {},
   "outputs": [
    {
     "name": "stdout",
     "output_type": "stream",
     "text": [
      "1/2: fetching 501128_1781_100340_stegen_MetaProteomicAnalysis_activity.json (metaproteomics_analysis_activity_set)\n",
      "2/2: fetching 501128_1781_100340_stegen_emsl_analysis_data_objects.json (data_object_set)\n",
      "validating\n",
      "adding\n"
     ]
    }
   ],
   "source": [
    "fetch_metaP_validate_and_add(to_fetch)"
   ]
  },
  {
   "cell_type": "markdown",
   "id": "4f519f60",
   "metadata": {},
   "source": [
    "# mongo_etl_demo.ipynb"
   ]
  },
  {
   "cell_type": "code",
   "execution_count": 62,
   "id": "b79cab03",
   "metadata": {},
   "outputs": [],
   "source": [
    "to_fetch = [{\n",
    "    \"url\": \"https://portal.nersc.gov/cfs/m3408/meta/mt_annotation_objects.json\",\n",
    "    \"type\": \"metagenome_annotation_activity_set\"\n",
    "}, {\n",
    "    \"url\": \"https://portal.nersc.gov/cfs/m3408/meta/mt_annotation_data_objects.json\",\n",
    "    \"type\": \"data_object_set\"\n",
    "}, {\n",
    "    \"url\": \"https://portal.nersc.gov/project/m3408/meta/metagenomeAssembly_activity.json\",\n",
    "    \"type\": \"metagenome_assembly_set\",\n",
    "}, {\n",
    "    \"url\": \"https://portal.nersc.gov/project/m3408/meta/metagenomeAssembly_data_objects.json\",\n",
    "    \"type\": \"data_object_set\",\n",
    "}, {\n",
    "    \"url\": \"https://portal.nersc.gov/cfs/m3408/meta/ReadbasedAnalysis_activity.json\",\n",
    "    \"type\": \"read_based_analysis_activity_set\"\n",
    "}, {\n",
    "    \"url\": \"https://portal.nersc.gov/cfs/m3408/meta/ReadbasedAnalysis_data_objects.json\",\n",
    "    \"type\": \"data_object_set\"\n",
    "}, {\n",
    "    \"url\": \"https://portal.nersc.gov/cfs/m3408/meta/MAGs_activity.json\",\n",
    "    \"type\": \"mags_activity_set\",\n",
    "}, {\n",
    "    \"url\": \"https://portal.nersc.gov/cfs/m3408/meta/MAGs_data_objects.json\",\n",
    "    \"type\": \"data_object_set\"\n",
    "}, {\n",
    "    \"url\": \"https://portal.nersc.gov/project/m3408/meta/readQC_activity.json\",\n",
    "    \"type\": \"read_QC_analysis_activity_set\"\n",
    "}, {\n",
    "    \"url\": \"https://portal.nersc.gov/project/m3408/meta/readQC_activity_data_objects.json\",\n",
    "    \"type\": \"data_object_set\"\n",
    "}, {\n",
    "    \"url\": \"https://portal.nersc.gov/cfs/m3408/meta/img_mg_annotation_objects.json\",\n",
    "    \"type\": \"metagenome_annotation_activity_set\",\n",
    "}, {\n",
    "    \"url\": \"https://portal.nersc.gov/cfs/m3408/meta/img_mg_annotation_data_objects.json\",\n",
    "    \"type\": \"data_object_set\",\n",
    "}, {\n",
    "    \"url\": \"https://nmdcdemo.emsl.pnnl.gov/metabolomics/registration/gcms_metabolomics_data_products.json\",\n",
    "    \"type\": \"data_object_set\"\n",
    "}, {\n",
    "    \"url\": \"https://nmdcdemo.emsl.pnnl.gov/nom/registration/ftms_nom_data_products.json\",\n",
    "    \"type\": \"data_object_set\"\n",
    "}]"
   ]
  },
  {
   "cell_type": "code",
   "execution_count": 63,
   "id": "441fab22",
   "metadata": {},
   "outputs": [
    {
     "name": "stdout",
     "output_type": "stream",
     "text": [
      "1/14: fetching https://portal.nersc.gov/cfs/m3408/meta/mt_annotation_objects.json\n",
      "saving as gov.nersc.portal__cfs.m3408.meta.mt_annotation_objects.json\n",
      "2/14: fetching https://portal.nersc.gov/cfs/m3408/meta/mt_annotation_data_objects.json\n",
      "saving as gov.nersc.portal__cfs.m3408.meta.mt_annotation_data_objects.json\n",
      "3/14: fetching https://portal.nersc.gov/project/m3408/meta/metagenomeAssembly_activity.json\n",
      "saving as gov.nersc.portal__project.m3408.meta.metagenomeAssembly_activity.json\n",
      "4/14: fetching https://portal.nersc.gov/project/m3408/meta/metagenomeAssembly_data_objects.json\n",
      "saving as gov.nersc.portal__project.m3408.meta.metagenomeAssembly_data_objects.json\n",
      "5/14: fetching https://portal.nersc.gov/cfs/m3408/meta/ReadbasedAnalysis_activity.json\n",
      "saving as gov.nersc.portal__cfs.m3408.meta.ReadbasedAnalysis_activity.json\n",
      "6/14: fetching https://portal.nersc.gov/cfs/m3408/meta/ReadbasedAnalysis_data_objects.json\n",
      "saving as gov.nersc.portal__cfs.m3408.meta.ReadbasedAnalysis_data_objects.json\n",
      "7/14: fetching https://portal.nersc.gov/cfs/m3408/meta/MAGs_activity.json\n",
      "saving as gov.nersc.portal__cfs.m3408.meta.MAGs_activity.json\n",
      "8/14: fetching https://portal.nersc.gov/cfs/m3408/meta/MAGs_data_objects.json\n",
      "saving as gov.nersc.portal__cfs.m3408.meta.MAGs_data_objects.json\n",
      "9/14: fetching https://portal.nersc.gov/project/m3408/meta/readQC_activity.json\n",
      "saving as gov.nersc.portal__project.m3408.meta.readQC_activity.json\n",
      "10/14: fetching https://portal.nersc.gov/project/m3408/meta/readQC_activity_data_objects.json\n",
      "saving as gov.nersc.portal__project.m3408.meta.readQC_activity_data_objects.json\n",
      "11/14: fetching https://portal.nersc.gov/cfs/m3408/meta/img_mg_annotation_objects.json\n",
      "saving as gov.nersc.portal__cfs.m3408.meta.img_mg_annotation_objects.json\n",
      "12/14: fetching https://portal.nersc.gov/cfs/m3408/meta/img_mg_annotation_data_objects.json\n",
      "saving as gov.nersc.portal__cfs.m3408.meta.img_mg_annotation_data_objects.json\n",
      "13/14: fetching https://nmdcdemo.emsl.pnnl.gov/metabolomics/registration/gcms_metabolomics_data_products.json\n",
      "saving as gov.pnnl.emsl.nmdcdemo__metabolomics.registration.gcms_metabolomics_data_products.json\n",
      "14/14: fetching https://nmdcdemo.emsl.pnnl.gov/nom/registration/ftms_nom_data_products.json\n",
      "saving as gov.pnnl.emsl.nmdcdemo__nom.registration.ftms_nom_data_products.json\n"
     ]
    }
   ],
   "source": [
    "download_them_all(to_fetch)"
   ]
  },
  {
   "cell_type": "code",
   "execution_count": 64,
   "id": "c974761a",
   "metadata": {},
   "outputs": [],
   "source": [
    "from collections import defaultdict\n",
    "\n",
    "def fetch_validate_and_add(to_fetch):\n",
    "    to_add = defaultdict(list)\n",
    "    for i, spec in enumerate(to_fetch):\n",
    "        url = spec[\"url\"]\n",
    "        name = Path(url).name\n",
    "        collection_name = spec[\"type\"]\n",
    "        print(f\"{i+1}/{len(to_fetch)}: fetching {name} ({collection_name})\")\n",
    "        docs = fetch_downloaded_json(url_to_name(url))\n",
    "        if not isinstance(docs, list):\n",
    "            docs = [docs]\n",
    "        to_add[collection_name].extend(docs)\n",
    "    print(\"validating\")\n",
    "    nmdc_jsonschema_validate(to_add)\n",
    "    print(\"adding\")\n",
    "    mongo.add_docs(to_add, validate=False)"
   ]
  },
  {
   "cell_type": "code",
   "execution_count": 65,
   "id": "e947892d",
   "metadata": {},
   "outputs": [
    {
     "name": "stdout",
     "output_type": "stream",
     "text": [
      "1/14: fetching mt_annotation_objects.json (metagenome_annotation_activity_set)\n",
      "2/14: fetching mt_annotation_data_objects.json (data_object_set)\n",
      "3/14: fetching metagenomeAssembly_activity.json (metagenome_assembly_set)\n",
      "4/14: fetching metagenomeAssembly_data_objects.json (data_object_set)\n",
      "5/14: fetching ReadbasedAnalysis_activity.json (read_based_analysis_activity_set)\n",
      "6/14: fetching ReadbasedAnalysis_data_objects.json (data_object_set)\n",
      "7/14: fetching MAGs_activity.json (mags_activity_set)\n",
      "8/14: fetching MAGs_data_objects.json (data_object_set)\n",
      "9/14: fetching readQC_activity.json (read_QC_analysis_activity_set)\n",
      "10/14: fetching readQC_activity_data_objects.json (data_object_set)\n",
      "11/14: fetching img_mg_annotation_objects.json (metagenome_annotation_activity_set)\n",
      "12/14: fetching img_mg_annotation_data_objects.json (data_object_set)\n",
      "13/14: fetching gcms_metabolomics_data_products.json (data_object_set)\n",
      "14/14: fetching ftms_nom_data_products.json (data_object_set)\n",
      "validating\n",
      "adding\n"
     ]
    }
   ],
   "source": [
    "fetch_validate_and_add(to_fetch)"
   ]
  },
  {
   "cell_type": "code",
   "execution_count": 66,
   "id": "d5e48d2a",
   "metadata": {},
   "outputs": [],
   "source": [
    "manifests = [{\n",
    "    \"url\": (\n",
    "        \"https://nmdcdemo.emsl.pnnl.gov/metabolomics/registration/\"\n",
    "        \"gcms_metabolomics_metadata_products.json\"\n",
    "    ),\n",
    "    \"type\": \"metabolomics_analysis_activity_set\"\n",
    "}, {\n",
    "    \"url\": (\n",
    "        \"https://nmdcdemo.emsl.pnnl.gov/nom/registration/\"\n",
    "        \"ftms_nom_metadata_products.json\"\n",
    "    ),\n",
    "    \"type\": \"nom_analysis_activity_set\"\n",
    "}]"
   ]
  },
  {
   "cell_type": "code",
   "execution_count": 67,
   "id": "d2e41bf8",
   "metadata": {},
   "outputs": [],
   "source": [
    "import requests\n",
    "\n",
    "\n",
    "to_fetch = []\n",
    "\n",
    "for m in manifests:\n",
    "    urls = requests.get(m[\"url\"]).json()\n",
    "    for url in urls:\n",
    "        to_fetch.append({\"url\": url, \"type\": m[\"type\"]})"
   ]
  },
  {
   "cell_type": "code",
   "execution_count": 68,
   "id": "bc4b2b1a",
   "metadata": {
    "scrolled": true
   },
   "outputs": [
    {
     "data": {
      "text/plain": [
       "[{'url': 'https://nmdcdemo.emsl.pnnl.gov/metabolomics/metadata/Froze_Core_2015_S2_0_10_7_Metab.json',\n",
       "  'type': 'metabolomics_analysis_activity_set'},\n",
       " {'url': 'https://nmdcdemo.emsl.pnnl.gov/metabolomics/metadata/Froze_Core_2015_S3_20_30_14_Metab.json',\n",
       "  'type': 'metabolomics_analysis_activity_set'},\n",
       " {'url': 'https://nmdcdemo.emsl.pnnl.gov/metabolomics/metadata/Froze_Core_2015_S3_10_20_5_Metab.json',\n",
       "  'type': 'metabolomics_analysis_activity_set'},\n",
       " {'url': 'https://nmdcdemo.emsl.pnnl.gov/metabolomics/metadata/Froze_Core_2015_S3_50_60_4_Metab.json',\n",
       "  'type': 'metabolomics_analysis_activity_set'},\n",
       " {'url': 'https://nmdcdemo.emsl.pnnl.gov/metabolomics/metadata/Froze_Core_2015_S1_40_50_17_Metab.json',\n",
       "  'type': 'metabolomics_analysis_activity_set'},\n",
       " {'url': 'https://nmdcdemo.emsl.pnnl.gov/metabolomics/metadata/Froze_Core_2015_N1_0_10_13_Metab.json',\n",
       "  'type': 'metabolomics_analysis_activity_set'},\n",
       " {'url': 'https://nmdcdemo.emsl.pnnl.gov/metabolomics/metadata/Froze_Core_2015_S1_30_40_3_Metab.json',\n",
       "  'type': 'metabolomics_analysis_activity_set'},\n",
       " {'url': 'https://nmdcdemo.emsl.pnnl.gov/metabolomics/metadata/Froze_Core_2015_N2_0_30_8_Metab.json',\n",
       "  'type': 'metabolomics_analysis_activity_set'},\n",
       " {'url': 'https://nmdcdemo.emsl.pnnl.gov/metabolomics/metadata/Froze_Core_2015_S2_50_60_2_Metab.json',\n",
       "  'type': 'metabolomics_analysis_activity_set'},\n",
       " {'url': 'https://nmdcdemo.emsl.pnnl.gov/metabolomics/metadata/Froze_Core_2015_N2_40_50_1_Metab.json',\n",
       "  'type': 'metabolomics_analysis_activity_set'},\n",
       " {'url': 'https://nmdcdemo.emsl.pnnl.gov/metabolomics/metadata/Froze_Core_2015_N3_30_40_9_Metab.json',\n",
       "  'type': 'metabolomics_analysis_activity_set'},\n",
       " {'url': 'https://nmdcdemo.emsl.pnnl.gov/metabolomics/metadata/Froze_Core_2015_N3_40_50_6_Metab.json',\n",
       "  'type': 'metabolomics_analysis_activity_set'},\n",
       " {'url': 'https://nmdcdemo.emsl.pnnl.gov/metabolomics/metadata/Froze_Core_2015_S3_30_40_12_Metab.json',\n",
       "  'type': 'metabolomics_analysis_activity_set'},\n",
       " {'url': 'https://nmdcdemo.emsl.pnnl.gov/metabolomics/metadata/Froze_Core_2015_N1_40_50_16_Metab.json',\n",
       "  'type': 'metabolomics_analysis_activity_set'},\n",
       " {'url': 'https://nmdcdemo.emsl.pnnl.gov/metabolomics/metadata/Froze_Core_2015_N2_30_40_10_Metab.json',\n",
       "  'type': 'metabolomics_analysis_activity_set'},\n",
       " {'url': 'https://nmdcdemo.emsl.pnnl.gov/metabolomics/metadata/Froze_Core_2015_S2_30_40_15_Metab.json',\n",
       "  'type': 'metabolomics_analysis_activity_set'},\n",
       " {'url': 'https://nmdcdemo.emsl.pnnl.gov/metabolomics/metadata/Froze_Core_2015_N1_50_60_11_Metab.json',\n",
       "  'type': 'metabolomics_analysis_activity_set'},\n",
       " {'url': 'https://nmdcdemo.emsl.pnnl.gov/metabolomics/metadata/Froze_Core_2015_N1_10_20_21_Metab.json',\n",
       "  'type': 'metabolomics_analysis_activity_set'},\n",
       " {'url': 'https://nmdcdemo.emsl.pnnl.gov/metabolomics/metadata/Froze_Core_2015_S1_10_20_33_Metab.json',\n",
       "  'type': 'metabolomics_analysis_activity_set'},\n",
       " {'url': 'https://nmdcdemo.emsl.pnnl.gov/metabolomics/metadata/Froze_Core_2015_N2_50_60_34_Metab.json',\n",
       "  'type': 'metabolomics_analysis_activity_set'},\n",
       " {'url': 'https://nmdcdemo.emsl.pnnl.gov/metabolomics/metadata/Froze_Core_2015_S2_40_50_29_Metab.json',\n",
       "  'type': 'metabolomics_analysis_activity_set'},\n",
       " {'url': 'https://nmdcdemo.emsl.pnnl.gov/metabolomics/metadata/Froze_Core_2015_S2_10_20_24_Metab.json',\n",
       "  'type': 'metabolomics_analysis_activity_set'},\n",
       " {'url': 'https://nmdcdemo.emsl.pnnl.gov/metabolomics/metadata/Froze_Core_2015_N3_10_20_30_Metab.json',\n",
       "  'type': 'metabolomics_analysis_activity_set'},\n",
       " {'url': 'https://nmdcdemo.emsl.pnnl.gov/metabolomics/metadata/Froze_Core_2015_S3_0_10_22_Metab.json',\n",
       "  'type': 'metabolomics_analysis_activity_set'},\n",
       " {'url': 'https://nmdcdemo.emsl.pnnl.gov/metabolomics/metadata/Froze_Core_2015_N3_0_10_27_Metab.json',\n",
       "  'type': 'metabolomics_analysis_activity_set'},\n",
       " {'url': 'https://nmdcdemo.emsl.pnnl.gov/metabolomics/metadata/Froze_Core_2015_S2_20_30_31_Metab.json',\n",
       "  'type': 'metabolomics_analysis_activity_set'},\n",
       " {'url': 'https://nmdcdemo.emsl.pnnl.gov/metabolomics/metadata/Froze_Core_2015_S1_20_30_19_Metab.json',\n",
       "  'type': 'metabolomics_analysis_activity_set'},\n",
       " {'url': 'https://nmdcdemo.emsl.pnnl.gov/metabolomics/metadata/Froze_Core_2015_N1_20_30_20_Metab.json',\n",
       "  'type': 'metabolomics_analysis_activity_set'},\n",
       " {'url': 'https://nmdcdemo.emsl.pnnl.gov/metabolomics/metadata/Froze_Core_2015_N3_50_60_28_Metab.json',\n",
       "  'type': 'metabolomics_analysis_activity_set'},\n",
       " {'url': 'https://nmdcdemo.emsl.pnnl.gov/metabolomics/metadata/Froze_Core_2015_N1_30_40_25_Metab.json',\n",
       "  'type': 'metabolomics_analysis_activity_set'},\n",
       " {'url': 'https://nmdcdemo.emsl.pnnl.gov/metabolomics/metadata/Froze_Core_2015_S1_0_10_18_Metab.json',\n",
       "  'type': 'metabolomics_analysis_activity_set'},\n",
       " {'url': 'https://nmdcdemo.emsl.pnnl.gov/metabolomics/metadata/Froze_Core_2015_S1_50_60_23_Metab.json',\n",
       "  'type': 'metabolomics_analysis_activity_set'},\n",
       " {'url': 'https://nmdcdemo.emsl.pnnl.gov/metabolomics/metadata/Froze_Core_2015_N3_20_30_32_Metab.json',\n",
       "  'type': 'metabolomics_analysis_activity_set'},\n",
       " {'url': 'https://nmdcdemo.emsl.pnnl.gov/metabolomics/metadata/Froze_Core_2015_S3_40_50_26_Metab.json',\n",
       "  'type': 'metabolomics_analysis_activity_set'},\n",
       " {'url': 'https://nmdcdemo.emsl.pnnl.gov/metabolomics/metadata/Blanch_Nat_Met_C_30_AB_M_14.json',\n",
       "  'type': 'metabolomics_analysis_activity_set'},\n",
       " {'url': 'https://nmdcdemo.emsl.pnnl.gov/metabolomics/metadata/Blanch_Nat_Met_C_14_AB_M_27.json',\n",
       "  'type': 'metabolomics_analysis_activity_set'},\n",
       " {'url': 'https://nmdcdemo.emsl.pnnl.gov/metabolomics/metadata/Blanch_Nat_Met_C_19_AB_M_16.json',\n",
       "  'type': 'metabolomics_analysis_activity_set'},\n",
       " {'url': 'https://nmdcdemo.emsl.pnnl.gov/metabolomics/metadata/Blanch_Nat_Met_C_27_AB_O_21.json',\n",
       "  'type': 'metabolomics_analysis_activity_set'},\n",
       " {'url': 'https://nmdcdemo.emsl.pnnl.gov/metabolomics/metadata/Blanch_Nat_Met_H_34_AB_M_01.json',\n",
       "  'type': 'metabolomics_analysis_activity_set'},\n",
       " {'url': 'https://nmdcdemo.emsl.pnnl.gov/metabolomics/metadata/Blanch_Nat_Met_H_30_AB_M_11.json',\n",
       "  'type': 'metabolomics_analysis_activity_set'},\n",
       " {'url': 'https://nmdcdemo.emsl.pnnl.gov/metabolomics/metadata/Blanch_Nat_Met_C_12_AB_O_25.json',\n",
       "  'type': 'metabolomics_analysis_activity_set'},\n",
       " {'url': 'https://nmdcdemo.emsl.pnnl.gov/metabolomics/metadata/Blanch_Nat_Met_H_26_AB_M_12.json',\n",
       "  'type': 'metabolomics_analysis_activity_set'},\n",
       " {'url': 'https://nmdcdemo.emsl.pnnl.gov/metabolomics/metadata/Blanch_Nat_Met_H_28_AB_M_03.json',\n",
       "  'type': 'metabolomics_analysis_activity_set'},\n",
       " {'url': 'https://nmdcdemo.emsl.pnnl.gov/metabolomics/metadata/Blanch_Nat_Met_H_2_AB_M_23.json',\n",
       "  'type': 'metabolomics_analysis_activity_set'},\n",
       " {'url': 'https://nmdcdemo.emsl.pnnl.gov/metabolomics/metadata/Blanch_Nat_Met_H_4_AB_M_05.json',\n",
       "  'type': 'metabolomics_analysis_activity_set'},\n",
       " {'url': 'https://nmdcdemo.emsl.pnnl.gov/metabolomics/metadata/Blanch_Nat_Met_C_14_AB_O_09.json',\n",
       "  'type': 'metabolomics_analysis_activity_set'},\n",
       " {'url': 'https://nmdcdemo.emsl.pnnl.gov/metabolomics/metadata/Blanch_Nat_Met_H_32_AB_O_19.json',\n",
       "  'type': 'metabolomics_analysis_activity_set'},\n",
       " {'url': 'https://nmdcdemo.emsl.pnnl.gov/metabolomics/metadata/Blanch_Nat_Met_C_4_AB_O_04.json',\n",
       "  'type': 'metabolomics_analysis_activity_set'},\n",
       " {'url': 'https://nmdcdemo.emsl.pnnl.gov/metabolomics/metadata/Blanch_Nat_Met_C_34_AB_O_10.json',\n",
       "  'type': 'metabolomics_analysis_activity_set'},\n",
       " {'url': 'https://nmdcdemo.emsl.pnnl.gov/metabolomics/metadata/Blanch_Nat_Met_H_2_AB_O_15.json',\n",
       "  'type': 'metabolomics_analysis_activity_set'},\n",
       " {'url': 'https://nmdcdemo.emsl.pnnl.gov/metabolomics/metadata/Blanch_Nat_Met_H_17_AB_M_18.json',\n",
       "  'type': 'metabolomics_analysis_activity_set'},\n",
       " {'url': 'https://nmdcdemo.emsl.pnnl.gov/metabolomics/metadata/Blanch_Nat_Met_C_7_AB_M_07.json',\n",
       "  'type': 'metabolomics_analysis_activity_set'},\n",
       " {'url': 'https://nmdcdemo.emsl.pnnl.gov/metabolomics/metadata/Blanch_Nat_Met_H_11_AB_M_13.json',\n",
       "  'type': 'metabolomics_analysis_activity_set'},\n",
       " {'url': 'https://nmdcdemo.emsl.pnnl.gov/metabolomics/metadata/Blanch_Nat_Met_C_4_AB_M_08.json',\n",
       "  'type': 'metabolomics_analysis_activity_set'},\n",
       " {'url': 'https://nmdcdemo.emsl.pnnl.gov/metabolomics/metadata/Blanch_Nat_Met_H_32_AB_M_20.json',\n",
       "  'type': 'metabolomics_analysis_activity_set'},\n",
       " {'url': 'https://nmdcdemo.emsl.pnnl.gov/metabolomics/metadata/Blanch_Nat_Met_C_12_AB_M_17.json',\n",
       "  'type': 'metabolomics_analysis_activity_set'},\n",
       " {'url': 'https://nmdcdemo.emsl.pnnl.gov/metabolomics/metadata/Blanch_Nat_Met_H_4_AB_O_06.json',\n",
       "  'type': 'metabolomics_analysis_activity_set'},\n",
       " {'url': 'https://nmdcdemo.emsl.pnnl.gov/metabolomics/metadata/Blanch_Nat_Met_C_19_AB_O_26.json',\n",
       "  'type': 'metabolomics_analysis_activity_set'},\n",
       " {'url': 'https://nmdcdemo.emsl.pnnl.gov/metabolomics/metadata/Blanch_Nat_Met_H_11_AB_O_24.json',\n",
       "  'type': 'metabolomics_analysis_activity_set'},\n",
       " {'url': 'https://nmdcdemo.emsl.pnnl.gov/metabolomics/metadata/Blanch_Nat_Met_H_17_AB_O_22.json',\n",
       "  'type': 'metabolomics_analysis_activity_set'},\n",
       " {'url': 'https://nmdcdemo.emsl.pnnl.gov/metabolomics/metadata/Blanch_Nat_Met_H_2B_M_02.json',\n",
       "  'type': 'metabolomics_analysis_activity_set'},\n",
       " {'url': 'https://nmdcdemo.emsl.pnnl.gov/metabolomics/metadata/49483_Harv_Mineral_21_M.json',\n",
       "  'type': 'metabolomics_analysis_activity_set'},\n",
       " {'url': 'https://nmdcdemo.emsl.pnnl.gov/metabolomics/metadata/49483_Harv_Organic_1_M.json',\n",
       "  'type': 'metabolomics_analysis_activity_set'},\n",
       " {'url': 'https://nmdcdemo.emsl.pnnl.gov/metabolomics/metadata/49483_Harv_Mineral_3_M.json',\n",
       "  'type': 'metabolomics_analysis_activity_set'},\n",
       " {'url': 'https://nmdcdemo.emsl.pnnl.gov/metabolomics/metadata/49483_Harv_Organic_2_M.json',\n",
       "  'type': 'metabolomics_analysis_activity_set'},\n",
       " {'url': 'https://nmdcdemo.emsl.pnnl.gov/metabolomics/metadata/49483_Harv_Organic_3_M.json',\n",
       "  'type': 'metabolomics_analysis_activity_set'},\n",
       " {'url': 'https://nmdcdemo.emsl.pnnl.gov/metabolomics/metadata/49483_Harv_Mineral_1_M.json',\n",
       "  'type': 'metabolomics_analysis_activity_set'},\n",
       " {'url': 'https://nmdcdemo.emsl.pnnl.gov/metabolomics/metadata/Firestone_13Cgluc_1_12hr_B_08__Metab.json',\n",
       "  'type': 'metabolomics_analysis_activity_set'},\n",
       " {'url': 'https://nmdcdemo.emsl.pnnl.gov/metabolomics/metadata/Firestone_13Cgluc_2_24hr_A_10__Metab.json',\n",
       "  'type': 'metabolomics_analysis_activity_set'},\n",
       " {'url': 'https://nmdcdemo.emsl.pnnl.gov/metabolomics/metadata/Firestone_13Cgluc_1_12hr_C_09__Metab.json',\n",
       "  'type': 'metabolomics_analysis_activity_set'},\n",
       " {'url': 'https://nmdcdemo.emsl.pnnl.gov/metabolomics/metadata/Firestone_13Cgluc_2_8hr_C_06__Metab.json',\n",
       "  'type': 'metabolomics_analysis_activity_set'},\n",
       " {'url': 'https://nmdcdemo.emsl.pnnl.gov/metabolomics/metadata/Firestone_13Cgluc_2_24hr_B_11__Metab.json',\n",
       "  'type': 'metabolomics_analysis_activity_set'},\n",
       " {'url': 'https://nmdcdemo.emsl.pnnl.gov/metabolomics/metadata/Firestone_13Cgluc_1_8hr_C_03__Metab.json',\n",
       "  'type': 'metabolomics_analysis_activity_set'},\n",
       " {'url': 'https://nmdcdemo.emsl.pnnl.gov/metabolomics/metadata/Firestone_13Cgluc_2_8hr_B_05__Metab.json',\n",
       "  'type': 'metabolomics_analysis_activity_set'},\n",
       " {'url': 'https://nmdcdemo.emsl.pnnl.gov/metabolomics/metadata/Firestone_13Cgluc_1_8hr_B_02__Metab.json',\n",
       "  'type': 'metabolomics_analysis_activity_set'},\n",
       " {'url': 'https://nmdcdemo.emsl.pnnl.gov/metabolomics/metadata/Firestone_13Cgluc_1_12hr_A_07__Metab.json',\n",
       "  'type': 'metabolomics_analysis_activity_set'},\n",
       " {'url': 'https://nmdcdemo.emsl.pnnl.gov/metabolomics/metadata/Firestone_13Cgluc_1_8hr_A_01__Metab.json',\n",
       "  'type': 'metabolomics_analysis_activity_set'},\n",
       " {'url': 'https://nmdcdemo.emsl.pnnl.gov/metabolomics/metadata/Firestone_13Cgluc_2_8hr_A_04__Metab.json',\n",
       "  'type': 'metabolomics_analysis_activity_set'},\n",
       " {'url': 'https://nmdcdemo.emsl.pnnl.gov/metabolomics/metadata/Firestone_13Cgluc_2_24hr_C_12__Metab.json',\n",
       "  'type': 'metabolomics_analysis_activity_set'},\n",
       " {'url': 'https://nmdcdemo.emsl.pnnl.gov/metabolomics/metadata/Firestone_13Cgluc_cont_13__Metab.json',\n",
       "  'type': 'metabolomics_analysis_activity_set'},\n",
       " {'url': 'https://nmdcdemo.emsl.pnnl.gov/metabolomics/metadata/Hess_48099_5097-A_Metab_Run2.json',\n",
       "  'type': 'metabolomics_analysis_activity_set'},\n",
       " {'url': 'https://nmdcdemo.emsl.pnnl.gov/metabolomics/metadata/Hess_48099_5099-B_Metab_Run2.json',\n",
       "  'type': 'metabolomics_analysis_activity_set'},\n",
       " {'url': 'https://nmdcdemo.emsl.pnnl.gov/metabolomics/metadata/Hess_48099_5099-B_Metab_Run1.json',\n",
       "  'type': 'metabolomics_analysis_activity_set'},\n",
       " {'url': 'https://nmdcdemo.emsl.pnnl.gov/metabolomics/metadata/Hess_48099_5098-A_Metab_Run2.json',\n",
       "  'type': 'metabolomics_analysis_activity_set'},\n",
       " {'url': 'https://nmdcdemo.emsl.pnnl.gov/metabolomics/metadata/Hess_48099_5098-A_Metab_Run1.json',\n",
       "  'type': 'metabolomics_analysis_activity_set'},\n",
       " {'url': 'https://nmdcdemo.emsl.pnnl.gov/metabolomics/metadata/Hess_48099_5097-A_Metab_Run1.json',\n",
       "  'type': 'metabolomics_analysis_activity_set'},\n",
       " {'url': 'https://nmdcdemo.emsl.pnnl.gov/metabolomics/metadata/Hess_48099_5093-B_Metab_Run2.json',\n",
       "  'type': 'metabolomics_analysis_activity_set'},\n",
       " {'url': 'https://nmdcdemo.emsl.pnnl.gov/metabolomics/metadata/Hess_48099_5093-B_Metab_Run1.json',\n",
       "  'type': 'metabolomics_analysis_activity_set'},\n",
       " {'url': 'https://nmdcdemo.emsl.pnnl.gov/metabolomics/metadata/FECB_ATCC_29133_616_Light_3_Metab.json',\n",
       "  'type': 'metabolomics_analysis_activity_set'},\n",
       " {'url': 'https://nmdcdemo.emsl.pnnl.gov/metabolomics/metadata/FECB_ATCC_29133_819_Dark_3_Metab.json',\n",
       "  'type': 'metabolomics_analysis_activity_set'},\n",
       " {'url': 'https://nmdcdemo.emsl.pnnl.gov/metabolomics/metadata/FECB_ATCC_29133_616_Dark_3_Metab.json',\n",
       "  'type': 'metabolomics_analysis_activity_set'},\n",
       " {'url': 'https://nmdcdemo.emsl.pnnl.gov/metabolomics/metadata/FECB_ATCC_29133_819_Light_3_Metab.json',\n",
       "  'type': 'metabolomics_analysis_activity_set'},\n",
       " {'url': 'https://nmdcdemo.emsl.pnnl.gov/metabolomics/metadata/FECB_ATCC_29133_616_Light_2_Metab.json',\n",
       "  'type': 'metabolomics_analysis_activity_set'},\n",
       " {'url': 'https://nmdcdemo.emsl.pnnl.gov/metabolomics/metadata/FECB_ATCC_29133_616_Dark_2_Metab.json',\n",
       "  'type': 'metabolomics_analysis_activity_set'},\n",
       " {'url': 'https://nmdcdemo.emsl.pnnl.gov/metabolomics/metadata/FECB_ATCC_29133_819_Light_2_Metab.json',\n",
       "  'type': 'metabolomics_analysis_activity_set'},\n",
       " {'url': 'https://nmdcdemo.emsl.pnnl.gov/metabolomics/metadata/FECB_ATCC_29133_819_Dark_2_Metab.json',\n",
       "  'type': 'metabolomics_analysis_activity_set'},\n",
       " {'url': 'https://nmdcdemo.emsl.pnnl.gov/metabolomics/metadata/FECB_ATCC_29133_819_Light_1_Metab.json',\n",
       "  'type': 'metabolomics_analysis_activity_set'},\n",
       " {'url': 'https://nmdcdemo.emsl.pnnl.gov/metabolomics/metadata/FECB_ATCC_29133_616_Dark_1_Metab.json',\n",
       "  'type': 'metabolomics_analysis_activity_set'},\n",
       " {'url': 'https://nmdcdemo.emsl.pnnl.gov/metabolomics/metadata/FECB_ATCC_29133_616_Light_1_Metab.json',\n",
       "  'type': 'metabolomics_analysis_activity_set'},\n",
       " {'url': 'https://nmdcdemo.emsl.pnnl.gov/metabolomics/metadata/FECB_ATCC_29133_819_Dark_1_Metab.json',\n",
       "  'type': 'metabolomics_analysis_activity_set'},\n",
       " {'url': 'https://nmdcdemo.emsl.pnnl.gov/metabolomics/metadata/FECB_ATCC_29133_819_Light_Metab.json',\n",
       "  'type': 'metabolomics_analysis_activity_set'},\n",
       " {'url': 'https://nmdcdemo.emsl.pnnl.gov/metabolomics/metadata/FECB_ATCC_29133_819_Dark_Metab.json',\n",
       "  'type': 'metabolomics_analysis_activity_set'},\n",
       " {'url': 'https://nmdcdemo.emsl.pnnl.gov/metabolomics/metadata/FECB_ATCC_29133_616_Light_Metab.json',\n",
       "  'type': 'metabolomics_analysis_activity_set'},\n",
       " {'url': 'https://nmdcdemo.emsl.pnnl.gov/metabolomics/metadata/FECB_ATCC_29133_616_Dark_Metab.json',\n",
       "  'type': 'metabolomics_analysis_activity_set'},\n",
       " {'url': 'https://nmdcdemo.emsl.pnnl.gov/metabolomics/metadata/FECB_27_ND_Light.json',\n",
       "  'type': 'metabolomics_analysis_activity_set'},\n",
       " {'url': 'https://nmdcdemo.emsl.pnnl.gov/metabolomics/metadata/FECB_27_ND_Dark.json',\n",
       "  'type': 'metabolomics_analysis_activity_set'},\n",
       " {'url': 'https://nmdcdemo.emsl.pnnl.gov/metabolomics/metadata/FECB_27_D_Light.json',\n",
       "  'type': 'metabolomics_analysis_activity_set'},\n",
       " {'url': 'https://nmdcdemo.emsl.pnnl.gov/metabolomics/metadata/FECB_27_D_Dark.json',\n",
       "  'type': 'metabolomics_analysis_activity_set'},\n",
       " {'url': 'https://nmdcdemo.emsl.pnnl.gov/metabolomics/metadata/FECB_27_5099B.json',\n",
       "  'type': 'metabolomics_analysis_activity_set'},\n",
       " {'url': 'https://nmdcdemo.emsl.pnnl.gov/metabolomics/metadata/FECB_24_5098A.json',\n",
       "  'type': 'metabolomics_analysis_activity_set'},\n",
       " {'url': 'https://nmdcdemo.emsl.pnnl.gov/metabolomics/metadata/FECB_21_5093B.json',\n",
       "  'type': 'metabolomics_analysis_activity_set'},\n",
       " {'url': 'https://nmdcdemo.emsl.pnnl.gov/metabolomics/metadata/48462_Sed_Test_PNNL-GC-A_1_Blk.json',\n",
       "  'type': 'metabolomics_analysis_activity_set'},\n",
       " {'url': 'https://nmdcdemo.emsl.pnnl.gov/metabolomics/metadata/48462_Sed_Test_PNNL-GC-A_1.json',\n",
       "  'type': 'metabolomics_analysis_activity_set'},\n",
       " {'url': 'https://nmdcdemo.emsl.pnnl.gov/metabolomics/metadata/48462_Sed_Test_OSU-GC-A_1_Blk.json',\n",
       "  'type': 'metabolomics_analysis_activity_set'},\n",
       " {'url': 'https://nmdcdemo.emsl.pnnl.gov/metabolomics/metadata/48462_Sed_Test_OSU-GC-A_1.json',\n",
       "  'type': 'metabolomics_analysis_activity_set'},\n",
       " {'url': 'https://nmdcdemo.emsl.pnnl.gov/metabolomics/metadata/48462_Sed_Test_OSU-GC-A_2.json',\n",
       "  'type': 'metabolomics_analysis_activity_set'},\n",
       " {'url': 'https://nmdcdemo.emsl.pnnl.gov/metabolomics/metadata/48462_Sed_Test_OSU-GC-A_3.json',\n",
       "  'type': 'metabolomics_analysis_activity_set'},\n",
       " {'url': 'https://nmdcdemo.emsl.pnnl.gov/metabolomics/metadata/48462_Sed_Test_PNNL-GC-A_2.json',\n",
       "  'type': 'metabolomics_analysis_activity_set'},\n",
       " {'url': 'https://nmdcdemo.emsl.pnnl.gov/metabolomics/metadata/48462_Sed_Test_PNNL-GC-A_3.json',\n",
       "  'type': 'metabolomics_analysis_activity_set'},\n",
       " {'url': 'https://nmdcdemo.emsl.pnnl.gov/metabolomics/metadata/48462_Sed_Test_OSU-GC-A_2_Blk.json',\n",
       "  'type': 'metabolomics_analysis_activity_set'},\n",
       " {'url': 'https://nmdcdemo.emsl.pnnl.gov/metabolomics/metadata/48462_Sed_Test_PNNL-GC-A_3_Blk.json',\n",
       "  'type': 'metabolomics_analysis_activity_set'},\n",
       " {'url': 'https://nmdcdemo.emsl.pnnl.gov/metabolomics/metadata/48462_Sed_Test_PNNL-GC-A_2_Blk.json',\n",
       "  'type': 'metabolomics_analysis_activity_set'},\n",
       " {'url': 'https://nmdcdemo.emsl.pnnl.gov/metabolomics/metadata/48462_Sed_Test_OSU-GC-A_3_Blk.json',\n",
       "  'type': 'metabolomics_analysis_activity_set'},\n",
       " {'url': 'https://nmdcdemo.emsl.pnnl.gov/metabolomics/metadata/PM_Perma_GCMS_08_run2.json',\n",
       "  'type': 'metabolomics_analysis_activity_set'},\n",
       " {'url': 'https://nmdcdemo.emsl.pnnl.gov/metabolomics/metadata/PM_Perma_GCMS_03_run2.json',\n",
       "  'type': 'metabolomics_analysis_activity_set'},\n",
       " {'url': 'https://nmdcdemo.emsl.pnnl.gov/metabolomics/metadata/PM_Perma_GCMS_02_run2.json',\n",
       "  'type': 'metabolomics_analysis_activity_set'},\n",
       " {'url': 'https://nmdcdemo.emsl.pnnl.gov/metabolomics/metadata/PM_Perma_GCMS_04_run2.json',\n",
       "  'type': 'metabolomics_analysis_activity_set'},\n",
       " {'url': 'https://nmdcdemo.emsl.pnnl.gov/metabolomics/metadata/PM_Perma_GCMS_01_run2.json',\n",
       "  'type': 'metabolomics_analysis_activity_set'},\n",
       " {'url': 'https://nmdcdemo.emsl.pnnl.gov/metabolomics/metadata/PM_Perma_GCMS_05_run2.json',\n",
       "  'type': 'metabolomics_analysis_activity_set'},\n",
       " {'url': 'https://nmdcdemo.emsl.pnnl.gov/metabolomics/metadata/PM_Perma_GCMS_10_run2.json',\n",
       "  'type': 'metabolomics_analysis_activity_set'},\n",
       " {'url': 'https://nmdcdemo.emsl.pnnl.gov/metabolomics/metadata/PM_Perma_GCMS_12_run2.json',\n",
       "  'type': 'metabolomics_analysis_activity_set'},\n",
       " {'url': 'https://nmdcdemo.emsl.pnnl.gov/metabolomics/metadata/PM_Perma_GCMS_07_run2.json',\n",
       "  'type': 'metabolomics_analysis_activity_set'},\n",
       " {'url': 'https://nmdcdemo.emsl.pnnl.gov/metabolomics/metadata/PM_Perma_GCMS_09_run2.json',\n",
       "  'type': 'metabolomics_analysis_activity_set'},\n",
       " {'url': 'https://nmdcdemo.emsl.pnnl.gov/metabolomics/metadata/PM_Perma_GCMS_15_run2.json',\n",
       "  'type': 'metabolomics_analysis_activity_set'},\n",
       " {'url': 'https://nmdcdemo.emsl.pnnl.gov/metabolomics/metadata/PM_Perma_GCMS_11_run2.json',\n",
       "  'type': 'metabolomics_analysis_activity_set'},\n",
       " {'url': 'https://nmdcdemo.emsl.pnnl.gov/metabolomics/metadata/PM_Perma_GCMS_06_run2.json',\n",
       "  'type': 'metabolomics_analysis_activity_set'},\n",
       " {'url': 'https://nmdcdemo.emsl.pnnl.gov/metabolomics/metadata/PM_Perma_GCMS_14_run2.json',\n",
       "  'type': 'metabolomics_analysis_activity_set'},\n",
       " {'url': 'https://nmdcdemo.emsl.pnnl.gov/metabolomics/metadata/PM_Perma_GCMS_13_run2.json',\n",
       "  'type': 'metabolomics_analysis_activity_set'},\n",
       " {'url': 'https://nmdcdemo.emsl.pnnl.gov/metabolomics/metadata/PM_Perma_Incuba_21.json',\n",
       "  'type': 'metabolomics_analysis_activity_set'},\n",
       " {'url': 'https://nmdcdemo.emsl.pnnl.gov/metabolomics/metadata/PM_Perma_Incuba_03.json',\n",
       "  'type': 'metabolomics_analysis_activity_set'},\n",
       " {'url': 'https://nmdcdemo.emsl.pnnl.gov/metabolomics/metadata/PM_Perma_Incuba_08.json',\n",
       "  'type': 'metabolomics_analysis_activity_set'},\n",
       " {'url': 'https://nmdcdemo.emsl.pnnl.gov/metabolomics/metadata/PM_Perma_Incuba_09.json',\n",
       "  'type': 'metabolomics_analysis_activity_set'},\n",
       " {'url': 'https://nmdcdemo.emsl.pnnl.gov/metabolomics/metadata/PM_Perma_Incuba_13.json',\n",
       "  'type': 'metabolomics_analysis_activity_set'},\n",
       " {'url': 'https://nmdcdemo.emsl.pnnl.gov/metabolomics/metadata/PM_Perma_Incuba_23.json',\n",
       "  'type': 'metabolomics_analysis_activity_set'},\n",
       " {'url': 'https://nmdcdemo.emsl.pnnl.gov/metabolomics/metadata/PM_Perma_Incuba_17.json',\n",
       "  'type': 'metabolomics_analysis_activity_set'},\n",
       " {'url': 'https://nmdcdemo.emsl.pnnl.gov/metabolomics/metadata/PM_Perma_Incuba_28.json',\n",
       "  'type': 'metabolomics_analysis_activity_set'},\n",
       " {'url': 'https://nmdcdemo.emsl.pnnl.gov/metabolomics/metadata/PM_Perma_Incuba_01.json',\n",
       "  'type': 'metabolomics_analysis_activity_set'},\n",
       " {'url': 'https://nmdcdemo.emsl.pnnl.gov/metabolomics/metadata/PM_Perma_Incuba_18.json',\n",
       "  'type': 'metabolomics_analysis_activity_set'},\n",
       " {'url': 'https://nmdcdemo.emsl.pnnl.gov/metabolomics/metadata/PM_Perma_Incuba_05.json',\n",
       "  'type': 'metabolomics_analysis_activity_set'},\n",
       " {'url': 'https://nmdcdemo.emsl.pnnl.gov/metabolomics/metadata/PM_Perma_Incuba_06.json',\n",
       "  'type': 'metabolomics_analysis_activity_set'},\n",
       " {'url': 'https://nmdcdemo.emsl.pnnl.gov/metabolomics/metadata/PM_Perma_Incuba_07.json',\n",
       "  'type': 'metabolomics_analysis_activity_set'},\n",
       " {'url': 'https://nmdcdemo.emsl.pnnl.gov/metabolomics/metadata/PM_Perma_Incuba_24.json',\n",
       "  'type': 'metabolomics_analysis_activity_set'},\n",
       " {'url': 'https://nmdcdemo.emsl.pnnl.gov/metabolomics/metadata/PM_Perma_Incuba_25.json',\n",
       "  'type': 'metabolomics_analysis_activity_set'},\n",
       " {'url': 'https://nmdcdemo.emsl.pnnl.gov/metabolomics/metadata/PM_Perma_Incuba_16.json',\n",
       "  'type': 'metabolomics_analysis_activity_set'},\n",
       " {'url': 'https://nmdcdemo.emsl.pnnl.gov/metabolomics/metadata/PM_Perma_Incuba_02.json',\n",
       "  'type': 'metabolomics_analysis_activity_set'},\n",
       " {'url': 'https://nmdcdemo.emsl.pnnl.gov/metabolomics/metadata/PM_Perma_Incuba_19.json',\n",
       "  'type': 'metabolomics_analysis_activity_set'},\n",
       " {'url': 'https://nmdcdemo.emsl.pnnl.gov/metabolomics/metadata/PM_Perma_Incuba_10.json',\n",
       "  'type': 'metabolomics_analysis_activity_set'},\n",
       " {'url': 'https://nmdcdemo.emsl.pnnl.gov/metabolomics/metadata/PM_Perma_Incuba_26.json',\n",
       "  'type': 'metabolomics_analysis_activity_set'},\n",
       " {'url': 'https://nmdcdemo.emsl.pnnl.gov/metabolomics/metadata/PM_Perma_Incuba_12.json',\n",
       "  'type': 'metabolomics_analysis_activity_set'},\n",
       " {'url': 'https://nmdcdemo.emsl.pnnl.gov/metabolomics/metadata/PM_Perma_Incuba_15.json',\n",
       "  'type': 'metabolomics_analysis_activity_set'},\n",
       " {'url': 'https://nmdcdemo.emsl.pnnl.gov/metabolomics/metadata/PM_Perma_Incuba_11.json',\n",
       "  'type': 'metabolomics_analysis_activity_set'},\n",
       " {'url': 'https://nmdcdemo.emsl.pnnl.gov/metabolomics/metadata/PM_Perma_Incuba_22.json',\n",
       "  'type': 'metabolomics_analysis_activity_set'},\n",
       " {'url': 'https://nmdcdemo.emsl.pnnl.gov/metabolomics/metadata/PM_Perma_Incuba_04.json',\n",
       "  'type': 'metabolomics_analysis_activity_set'},\n",
       " {'url': 'https://nmdcdemo.emsl.pnnl.gov/metabolomics/metadata/PM_Perma_Incuba_20.json',\n",
       "  'type': 'metabolomics_analysis_activity_set'},\n",
       " {'url': 'https://nmdcdemo.emsl.pnnl.gov/metabolomics/metadata/PM_Perma_Incuba_27.json',\n",
       "  'type': 'metabolomics_analysis_activity_set'},\n",
       " {'url': 'https://nmdcdemo.emsl.pnnl.gov/metabolomics/metadata/PM_Perma_Incuba_14.json',\n",
       "  'type': 'metabolomics_analysis_activity_set'},\n",
       " {'url': 'https://nmdcdemo.emsl.pnnl.gov/metabolomics/metadata/PM_Perma_Incuba_04_R_02.json',\n",
       "  'type': 'metabolomics_analysis_activity_set'},\n",
       " {'url': 'https://nmdcdemo.emsl.pnnl.gov/metabolomics/metadata/PM_Perma_Incuba_25_R_02.json',\n",
       "  'type': 'metabolomics_analysis_activity_set'},\n",
       " {'url': 'https://nmdcdemo.emsl.pnnl.gov/metabolomics/metadata/PM_Perma_Incuba_17_R_02.json',\n",
       "  'type': 'metabolomics_analysis_activity_set'},\n",
       " {'url': 'https://nmdcdemo.emsl.pnnl.gov/metabolomics/metadata/PM_Perma_Incuba_23_R_02.json',\n",
       "  'type': 'metabolomics_analysis_activity_set'},\n",
       " {'url': 'https://nmdcdemo.emsl.pnnl.gov/metabolomics/metadata/PM_Perma_Incuba_03_R_02.json',\n",
       "  'type': 'metabolomics_analysis_activity_set'},\n",
       " {'url': 'https://nmdcdemo.emsl.pnnl.gov/metabolomics/metadata/PM_Perma_Incuba_13_R_02.json',\n",
       "  'type': 'metabolomics_analysis_activity_set'},\n",
       " {'url': 'https://nmdcdemo.emsl.pnnl.gov/metabolomics/metadata/PM_Perma_Incuba_12_R_02.json',\n",
       "  'type': 'metabolomics_analysis_activity_set'},\n",
       " {'url': 'https://nmdcdemo.emsl.pnnl.gov/metabolomics/metadata/PM_Perma_Incuba_14_R_02.json',\n",
       "  'type': 'metabolomics_analysis_activity_set'},\n",
       " {'url': 'https://nmdcdemo.emsl.pnnl.gov/metabolomics/metadata/PM_Perma_Incuba_27_R_02.json',\n",
       "  'type': 'metabolomics_analysis_activity_set'},\n",
       " {'url': 'https://nmdcdemo.emsl.pnnl.gov/metabolomics/metadata/PM_Perma_Incuba_24_R_02.json',\n",
       "  'type': 'metabolomics_analysis_activity_set'},\n",
       " {'url': 'https://nmdcdemo.emsl.pnnl.gov/metabolomics/metadata/PM_Perma_Incuba_26_R_02.json',\n",
       "  'type': 'metabolomics_analysis_activity_set'},\n",
       " {'url': 'https://nmdcdemo.emsl.pnnl.gov/metabolomics/metadata/PM_Perma_Incuba_10_R_02.json',\n",
       "  'type': 'metabolomics_analysis_activity_set'},\n",
       " {'url': 'https://nmdcdemo.emsl.pnnl.gov/metabolomics/metadata/PM_Perma_Incuba_19_R_02.json',\n",
       "  'type': 'metabolomics_analysis_activity_set'},\n",
       " {'url': 'https://nmdcdemo.emsl.pnnl.gov/metabolomics/metadata/PM_Perma_Incuba_11_R_02.json',\n",
       "  'type': 'metabolomics_analysis_activity_set'},\n",
       " {'url': 'https://nmdcdemo.emsl.pnnl.gov/metabolomics/metadata/PM_Perma_Incuba_15_R_02.json',\n",
       "  'type': 'metabolomics_analysis_activity_set'},\n",
       " {'url': 'https://nmdcdemo.emsl.pnnl.gov/metabolomics/metadata/PM_Perma_Incuba_21_R_02.json',\n",
       "  'type': 'metabolomics_analysis_activity_set'},\n",
       " {'url': 'https://nmdcdemo.emsl.pnnl.gov/metabolomics/metadata/PM_Perma_Incuba_22_R_02.json',\n",
       "  'type': 'metabolomics_analysis_activity_set'},\n",
       " {'url': 'https://nmdcdemo.emsl.pnnl.gov/metabolomics/metadata/PM_Perma_Incuba_06_R_02.json',\n",
       "  'type': 'metabolomics_analysis_activity_set'},\n",
       " {'url': 'https://nmdcdemo.emsl.pnnl.gov/metabolomics/metadata/PM_Perma_Incuba_02_R_02.json',\n",
       "  'type': 'metabolomics_analysis_activity_set'},\n",
       " {'url': 'https://nmdcdemo.emsl.pnnl.gov/metabolomics/metadata/PM_Perma_Incuba_07_R_02.json',\n",
       "  'type': 'metabolomics_analysis_activity_set'},\n",
       " {'url': 'https://nmdcdemo.emsl.pnnl.gov/metabolomics/metadata/PM_Perma_Incuba_01_R_02.json',\n",
       "  'type': 'metabolomics_analysis_activity_set'},\n",
       " {'url': 'https://nmdcdemo.emsl.pnnl.gov/metabolomics/metadata/PM_Perma_Incuba_08_R_02.json',\n",
       "  'type': 'metabolomics_analysis_activity_set'},\n",
       " {'url': 'https://nmdcdemo.emsl.pnnl.gov/metabolomics/metadata/PM_Perma_Incuba_28_R_02.json',\n",
       "  'type': 'metabolomics_analysis_activity_set'},\n",
       " {'url': 'https://nmdcdemo.emsl.pnnl.gov/metabolomics/metadata/PM_Perma_Incuba_05_R_02.json',\n",
       "  'type': 'metabolomics_analysis_activity_set'},\n",
       " {'url': 'https://nmdcdemo.emsl.pnnl.gov/metabolomics/metadata/PM_Perma_Incuba_18_R_02.json',\n",
       "  'type': 'metabolomics_analysis_activity_set'},\n",
       " {'url': 'https://nmdcdemo.emsl.pnnl.gov/metabolomics/metadata/PM_Perma_Incuba_16_R_02.json',\n",
       "  'type': 'metabolomics_analysis_activity_set'},\n",
       " {'url': 'https://nmdcdemo.emsl.pnnl.gov/metabolomics/metadata/PM_Perma_Incuba_20_R_02.json',\n",
       "  'type': 'metabolomics_analysis_activity_set'},\n",
       " {'url': 'https://nmdcdemo.emsl.pnnl.gov/metabolomics/metadata/PM_Perma_Incuba_09_R_02.json',\n",
       "  'type': 'metabolomics_analysis_activity_set'},\n",
       " {'url': 'https://nmdcdemo.emsl.pnnl.gov/metabolomics/metadata/PM_Perma_GCMS_15.json',\n",
       "  'type': 'metabolomics_analysis_activity_set'},\n",
       " {'url': 'https://nmdcdemo.emsl.pnnl.gov/metabolomics/metadata/PM_Perma_GCMS_08.json',\n",
       "  'type': 'metabolomics_analysis_activity_set'},\n",
       " {'url': 'https://nmdcdemo.emsl.pnnl.gov/metabolomics/metadata/PM_Perma_GCMS_09.json',\n",
       "  'type': 'metabolomics_analysis_activity_set'},\n",
       " {'url': 'https://nmdcdemo.emsl.pnnl.gov/metabolomics/metadata/PM_Perma_GCMS_03.json',\n",
       "  'type': 'metabolomics_analysis_activity_set'},\n",
       " {'url': 'https://nmdcdemo.emsl.pnnl.gov/metabolomics/metadata/PM_Perma_GCMS_13.json',\n",
       "  'type': 'metabolomics_analysis_activity_set'},\n",
       " {'url': 'https://nmdcdemo.emsl.pnnl.gov/metabolomics/metadata/PM_Perma_GCMS_01.json',\n",
       "  'type': 'metabolomics_analysis_activity_set'},\n",
       " {'url': 'https://nmdcdemo.emsl.pnnl.gov/metabolomics/metadata/PM_Perma_GCMS_11.json',\n",
       "  'type': 'metabolomics_analysis_activity_set'},\n",
       " {'url': 'https://nmdcdemo.emsl.pnnl.gov/metabolomics/metadata/PM_Perma_GCMS_04.json',\n",
       "  'type': 'metabolomics_analysis_activity_set'},\n",
       " {'url': 'https://nmdcdemo.emsl.pnnl.gov/metabolomics/metadata/PM_Perma_GCMS_10.json',\n",
       "  'type': 'metabolomics_analysis_activity_set'},\n",
       " {'url': 'https://nmdcdemo.emsl.pnnl.gov/metabolomics/metadata/PM_Perma_GCMS_12.json',\n",
       "  'type': 'metabolomics_analysis_activity_set'},\n",
       " {'url': 'https://nmdcdemo.emsl.pnnl.gov/metabolomics/metadata/PM_Perma_GCMS_07.json',\n",
       "  'type': 'metabolomics_analysis_activity_set'},\n",
       " {'url': 'https://nmdcdemo.emsl.pnnl.gov/metabolomics/metadata/PM_Perma_GCMS_14.json',\n",
       "  'type': 'metabolomics_analysis_activity_set'},\n",
       " {'url': 'https://nmdcdemo.emsl.pnnl.gov/metabolomics/metadata/PM_Perma_GCMS_06.json',\n",
       "  'type': 'metabolomics_analysis_activity_set'},\n",
       " {'url': 'https://nmdcdemo.emsl.pnnl.gov/metabolomics/metadata/PM_Perma_GCMS_05.json',\n",
       "  'type': 'metabolomics_analysis_activity_set'},\n",
       " {'url': 'https://nmdcdemo.emsl.pnnl.gov/metabolomics/metadata/PM_Perma_GCMS_02.json',\n",
       "  'type': 'metabolomics_analysis_activity_set'},\n",
       " {'url': 'https://nmdcdemo.emsl.pnnl.gov/nom/metadata/Brodie_381_R2_CHCl3_03May19_Alder_Infuse_IATp05_144SA_1_01_43829.json',\n",
       "  'type': 'nom_analysis_activity_set'},\n",
       " {'url': 'https://nmdcdemo.emsl.pnnl.gov/nom/metadata/Brodie_381_R3_CHCl3_03May19_Alder_Infuse_IATp05_144SA_1_01_43877.json',\n",
       "  'type': 'nom_analysis_activity_set'},\n",
       " {'url': 'https://nmdcdemo.emsl.pnnl.gov/nom/metadata/Brodie_380_R2_CHCl3_03May19_Alder_Infuse_IATp05_144SA_1_01_43851.json',\n",
       "  'type': 'nom_analysis_activity_set'},\n",
       " {'url': 'https://nmdcdemo.emsl.pnnl.gov/nom/metadata/Brodie_380_R3_CHCl3_03May19_Alder_Infuse_IATp05_144SA_1_01_43899.json',\n",
       "  'type': 'nom_analysis_activity_set'},\n",
       " {'url': 'https://nmdcdemo.emsl.pnnl.gov/nom/metadata/Brodie_379_R2_CHCl3_03May19_Alder_Infuse_IATp05_144SA_1_01_43850.json',\n",
       "  'type': 'nom_analysis_activity_set'},\n",
       " {'url': 'https://nmdcdemo.emsl.pnnl.gov/nom/metadata/Brodie_379_R3_CHCl3_03May19_Alder_Infuse_IATp05_144SA_1_01_43898.json',\n",
       "  'type': 'nom_analysis_activity_set'},\n",
       " {'url': 'https://nmdcdemo.emsl.pnnl.gov/nom/metadata/Brodie_369_R1_CHCl3_03May19_Alder_Infuse_IATp08_144SA_1_01_43817.json',\n",
       "  'type': 'nom_analysis_activity_set'},\n",
       " {'url': 'https://nmdcdemo.emsl.pnnl.gov/nom/metadata/Brodie_369_R2_CHCl3_03May19_Alder_Infuse_IATp05_144SA_1_01_43865.json',\n",
       "  'type': 'nom_analysis_activity_set'},\n",
       " {'url': 'https://nmdcdemo.emsl.pnnl.gov/nom/metadata/Brodie_369_R3_CHCl3_03May19_Alder_Infuse_IATp05_144SA_1_01_43913.json',\n",
       "  'type': 'nom_analysis_activity_set'},\n",
       " {'url': 'https://nmdcdemo.emsl.pnnl.gov/nom/metadata/Brodie_368_R2_CHCl3_03May19_Alder_Infuse_IATp05_144SA_1_01_43828.json',\n",
       "  'type': 'nom_analysis_activity_set'},\n",
       " {'url': 'https://nmdcdemo.emsl.pnnl.gov/nom/metadata/Brodie_368_R3_CHCl3_03May19_Alder_Infuse_IATp05_144SA_1_01_43876.json',\n",
       "  'type': 'nom_analysis_activity_set'},\n",
       " {'url': 'https://nmdcdemo.emsl.pnnl.gov/nom/metadata/Brodie_367_R2_CHCl3_03May19_Alder_Infuse_IATp05_144SA_1_01_43837.json',\n",
       "  'type': 'nom_analysis_activity_set'},\n",
       " {'url': 'https://nmdcdemo.emsl.pnnl.gov/nom/metadata/Brodie_367_R3_CHCl3_03May19_Alder_Infuse_IATp05_144SA_1_01_43885.json',\n",
       "  'type': 'nom_analysis_activity_set'},\n",
       " {'url': 'https://nmdcdemo.emsl.pnnl.gov/nom/metadata/Brodie_357_MeOH_Only_26Nov18_IATp1_1_01_37624.json',\n",
       "  'type': 'nom_analysis_activity_set'},\n",
       " {'url': 'https://nmdcdemo.emsl.pnnl.gov/nom/metadata/Brodie_357_MeOH_Seq_26Nov18_IATp1_1_01_37627.json',\n",
       "  'type': 'nom_analysis_activity_set'},\n",
       " {'url': 'https://nmdcdemo.emsl.pnnl.gov/nom/metadata/Brodie_357_H2O_26Nov18_IATp1_1_01_37632.json',\n",
       "  'type': 'nom_analysis_activity_set'},\n",
       " {'url': 'https://nmdcdemo.emsl.pnnl.gov/nom/metadata/Brodie_357_CHCl3_26Nov18_IATp1_1_01_37637.json',\n",
       "  'type': 'nom_analysis_activity_set'},\n",
       " {'url': 'https://nmdcdemo.emsl.pnnl.gov/nom/metadata/Brodie_357_r3_H2O_30Nov18_IATp1_1_01_37901.json',\n",
       "  'type': 'nom_analysis_activity_set'},\n",
       " {'url': 'https://nmdcdemo.emsl.pnnl.gov/nom/metadata/Brodie_357_H2O_3_IATp1_07Dec18_1_01_38229.json',\n",
       "  'type': 'nom_analysis_activity_set'},\n",
       " {'url': 'https://nmdcdemo.emsl.pnnl.gov/nom/metadata/Brodie_357_H2O_1_12Dec18_IATp3_1_01_38492.json',\n",
       "  'type': 'nom_analysis_activity_set'},\n",
       " {'url': 'https://nmdcdemo.emsl.pnnl.gov/nom/metadata/Brodie_357_H2O_2_12Dec18_IATp3_1_01_38493.json',\n",
       "  'type': 'nom_analysis_activity_set'},\n",
       " {'url': 'https://nmdcdemo.emsl.pnnl.gov/nom/metadata/Brodie_357_H2O_3_12Dec18_IATp3_1_01_38494.json',\n",
       "  'type': 'nom_analysis_activity_set'},\n",
       " {'url': 'https://nmdcdemo.emsl.pnnl.gov/nom/metadata/Brodie_357_H2O_1_13Dec18_IATp15_1_01_38562.json',\n",
       "  'type': 'nom_analysis_activity_set'},\n",
       " {'url': 'https://nmdcdemo.emsl.pnnl.gov/nom/metadata/Brodie_357_H2O_2_13Dec18_IATp15_1_01_38563.json',\n",
       "  'type': 'nom_analysis_activity_set'},\n",
       " {'url': 'https://nmdcdemo.emsl.pnnl.gov/nom/metadata/Brodie_357_R2_CHCl3_03May19_Alder_Infuse_IATp05_144SA_1_01_43841.json',\n",
       "  'type': 'nom_analysis_activity_set'},\n",
       " {'url': 'https://nmdcdemo.emsl.pnnl.gov/nom/metadata/Brodie_357_R3_CHCl3_03May19_Alder_Infuse_IATp05_144SA_1_01_43889.json',\n",
       "  'type': 'nom_analysis_activity_set'},\n",
       " {'url': 'https://nmdcdemo.emsl.pnnl.gov/nom/metadata/Brodie_356_MeOH_Only_26Nov18_IATp1_1_01_37623.json',\n",
       "  'type': 'nom_analysis_activity_set'},\n",
       " {'url': 'https://nmdcdemo.emsl.pnnl.gov/nom/metadata/Brodie_356_MeOH_Seq_26Nov18_IATp1_1_01_37626.json',\n",
       "  'type': 'nom_analysis_activity_set'},\n",
       " {'url': 'https://nmdcdemo.emsl.pnnl.gov/nom/metadata/Brodie_356_H2O_26Nov18_IATp1_1_01_37631.json',\n",
       "  'type': 'nom_analysis_activity_set'},\n",
       " {'url': 'https://nmdcdemo.emsl.pnnl.gov/nom/metadata/Brodie_356_CHCl3_26Nov18_IATp1_1_01_37636.json',\n",
       "  'type': 'nom_analysis_activity_set'},\n",
       " {'url': 'https://nmdcdemo.emsl.pnnl.gov/nom/metadata/Brodie_356_r2_H2O_30Nov18_IATp1_1_01_37891.json',\n",
       "  'type': 'nom_analysis_activity_set'},\n",
       " {'url': 'https://nmdcdemo.emsl.pnnl.gov/nom/metadata/Brodie_356_r3_H2O_30Nov18_IATp1_1_01_37900.json',\n",
       "  'type': 'nom_analysis_activity_set'},\n",
       " {'url': 'https://nmdcdemo.emsl.pnnl.gov/nom/metadata/Brodie_356_H2O_1_IATp1_07Dec18_1_01_38224.json',\n",
       "  'type': 'nom_analysis_activity_set'},\n",
       " {'url': 'https://nmdcdemo.emsl.pnnl.gov/nom/metadata/Brodie_356_H2O_2_IATp1_07Dec18_1_01_38225.json',\n",
       "  'type': 'nom_analysis_activity_set'},\n",
       " {'url': 'https://nmdcdemo.emsl.pnnl.gov/nom/metadata/Brodie_356_H2O_3_IATp1_07Dec18_1_01_38226.json',\n",
       "  'type': 'nom_analysis_activity_set'},\n",
       " {'url': 'https://nmdcdemo.emsl.pnnl.gov/nom/metadata/Brodie_356_R2_CHCl3_03May19_Alder_Infuse_IATp05_144SA_1_01_43849.json',\n",
       "  'type': 'nom_analysis_activity_set'},\n",
       " {'url': 'https://nmdcdemo.emsl.pnnl.gov/nom/metadata/Brodie_356_R3_CHCl3_03May19_Alder_Infuse_IATp05_144SA_1_01_43897.json',\n",
       "  'type': 'nom_analysis_activity_set'},\n",
       " {'url': 'https://nmdcdemo.emsl.pnnl.gov/nom/metadata/Brodie_355_MeOH_Only_26Nov18_IATp1_1_01_37622.json',\n",
       "  'type': 'nom_analysis_activity_set'},\n",
       " {'url': 'https://nmdcdemo.emsl.pnnl.gov/nom/metadata/Brodie_355_MeOH_Seq_26Nov18_IATp1_1_01_37625.json',\n",
       "  'type': 'nom_analysis_activity_set'},\n",
       " {'url': 'https://nmdcdemo.emsl.pnnl.gov/nom/metadata/Brodie_355_H2O_26Nov18_IATp1_1_01_37630.json',\n",
       "  'type': 'nom_analysis_activity_set'},\n",
       " {'url': 'https://nmdcdemo.emsl.pnnl.gov/nom/metadata/Brodie_355_CHCl3_26Nov18_IATp1_1_01_37635.json',\n",
       "  'type': 'nom_analysis_activity_set'},\n",
       " {'url': 'https://nmdcdemo.emsl.pnnl.gov/nom/metadata/Brodie_355_r2_H2O_30Nov18_IATp1_1_01_37890.json',\n",
       "  'type': 'nom_analysis_activity_set'},\n",
       " {'url': 'https://nmdcdemo.emsl.pnnl.gov/nom/metadata/Brodie_355_r3_H2O_30Nov18_IATp1_1_01_37899.json',\n",
       "  'type': 'nom_analysis_activity_set'},\n",
       " {'url': 'https://nmdcdemo.emsl.pnnl.gov/nom/metadata/Brodie_355_H2O_2_IATp1_07Dec18_1_01_38222.json',\n",
       "  'type': 'nom_analysis_activity_set'},\n",
       " {'url': 'https://nmdcdemo.emsl.pnnl.gov/nom/metadata/Brodie_355_H2O_3_IATp1_07Dec18_1_01_38223.json',\n",
       "  'type': 'nom_analysis_activity_set'},\n",
       " {'url': 'https://nmdcdemo.emsl.pnnl.gov/nom/metadata/Brodie_355_R2_CHCl3_03May19_Alder_Infuse_IATp05_144SA_1_01_43843.json',\n",
       "  'type': 'nom_analysis_activity_set'},\n",
       " {'url': 'https://nmdcdemo.emsl.pnnl.gov/nom/metadata/Brodie_355_R3_CHCl3_03May19_Alder_Infuse_IATp05_144SA_1_01_43891.json',\n",
       "  'type': 'nom_analysis_activity_set'},\n",
       " {'url': 'https://nmdcdemo.emsl.pnnl.gov/nom/metadata/Brodie_204_R2_CHCl3_05May19_Alder_Infuse_IATp03_144SA_1_01_43935.json',\n",
       "  'type': 'nom_analysis_activity_set'},\n",
       " {'url': 'https://nmdcdemo.emsl.pnnl.gov/nom/metadata/Brodie_204_R2_CHCl3_03May19_Alder_Infuse_IATp05_144SA_1_01_43831.json',\n",
       "  'type': 'nom_analysis_activity_set'},\n",
       " {'url': 'https://nmdcdemo.emsl.pnnl.gov/nom/metadata/Brodie_204_R3_CHCl3_05May19_Alder_Infuse_IATp03_144SA_1_01_43922.json',\n",
       "  'type': 'nom_analysis_activity_set'},\n",
       " {'url': 'https://nmdcdemo.emsl.pnnl.gov/nom/metadata/Brodie_203_R3_CHCl3_05May19_Alder_Infuse_IATp03_144SA_1_01_43925.json',\n",
       "  'type': 'nom_analysis_activity_set'},\n",
       " {'url': 'https://nmdcdemo.emsl.pnnl.gov/nom/metadata/Brodie_203_R2_CHCl3_05May19_Alder_Infuse_IATp03_144SA_1_01_43938.json',\n",
       "  'type': 'nom_analysis_activity_set'},\n",
       " {'url': 'https://nmdcdemo.emsl.pnnl.gov/nom/metadata/Brodie_203_R2_CHCl3_03May19_Alder_Infuse_IATp05_144SA_1_01_43835.json',\n",
       "  'type': 'nom_analysis_activity_set'},\n",
       " {'url': 'https://nmdcdemo.emsl.pnnl.gov/nom/metadata/Brodie_203_R3_CHCl3_03May19_Alder_Infuse_IATp05_144SA_1_01_43883.json',\n",
       "  'type': 'nom_analysis_activity_set'},\n",
       " {'url': 'https://nmdcdemo.emsl.pnnl.gov/nom/metadata/Brodie_202_R3_CHCl3_05May19_Alder_Infuse_IATp03_144SA_1_01_43924.json',\n",
       "  'type': 'nom_analysis_activity_set'},\n",
       " {'url': 'https://nmdcdemo.emsl.pnnl.gov/nom/metadata/Brodie_202_R2_CHCl3_05May19_Alder_Infuse_IATp03_144SA_1_01_43937.json',\n",
       "  'type': 'nom_analysis_activity_set'},\n",
       " {'url': 'https://nmdcdemo.emsl.pnnl.gov/nom/metadata/Brodie_202_R2_CHCl3_03May19_Alder_Infuse_IATp05_144SA_1_01_43839.json',\n",
       "  'type': 'nom_analysis_activity_set'},\n",
       " {'url': 'https://nmdcdemo.emsl.pnnl.gov/nom/metadata/Brodie_198_R3_CHCl3_03May19_Alder_Infuse_IATp03_144SA_1_01_43931.json',\n",
       "  'type': 'nom_analysis_activity_set'},\n",
       " {'url': 'https://nmdcdemo.emsl.pnnl.gov/nom/metadata/Brodie_198_R2_CHCl3_03May19_Alder_Infuse_IATp03_144SA_1_01_43944.json',\n",
       "  'type': 'nom_analysis_activity_set'},\n",
       " {'url': 'https://nmdcdemo.emsl.pnnl.gov/nom/metadata/Brodie_197_R2_CHCl3_03May19_Alder_Infuse_IATp05_144SA_1_01_43832.json',\n",
       "  'type': 'nom_analysis_activity_set'},\n",
       " {'url': 'https://nmdcdemo.emsl.pnnl.gov/nom/metadata/Brodie_197_R3_CHCl3_03May19_Alder_Infuse_IATp05_144SA_1_01_43880.json',\n",
       "  'type': 'nom_analysis_activity_set'},\n",
       " {'url': 'https://nmdcdemo.emsl.pnnl.gov/nom/metadata/Brodie_196_R2_CHCl3_03May19_Alder_Infuse_IATp05_144SA_1_01_43857.json',\n",
       "  'type': 'nom_analysis_activity_set'},\n",
       " {'url': 'https://nmdcdemo.emsl.pnnl.gov/nom/metadata/Brodie_196_R3_CHCl3_03May19_Alder_Infuse_IATp05_144SA_1_01_43905.json',\n",
       "  'type': 'nom_analysis_activity_set'},\n",
       " {'url': 'https://nmdcdemo.emsl.pnnl.gov/nom/metadata/Brodie_195_R3_CHCl3_03May19_Alder_Infuse_IATp03_144SA_1_01_43930.json',\n",
       "  'type': 'nom_analysis_activity_set'},\n",
       " {'url': 'https://nmdcdemo.emsl.pnnl.gov/nom/metadata/Brodie_195_R2_CHCl3_03May19_Alder_Infuse_IATp03_144SA_1_01_43943.json',\n",
       "  'type': 'nom_analysis_activity_set'},\n",
       " {'url': 'https://nmdcdemo.emsl.pnnl.gov/nom/metadata/Brodie_194_R2_CHCl3_03May19_Alder_Infuse_IATp05_144SA_1_01_43858.json',\n",
       "  'type': 'nom_analysis_activity_set'},\n",
       " {'url': 'https://nmdcdemo.emsl.pnnl.gov/nom/metadata/Brodie_194_R3_CHCl3_03May19_Alder_Infuse_IATp05_144SA_1_01_43906.json',\n",
       "  'type': 'nom_analysis_activity_set'},\n",
       " {'url': 'https://nmdcdemo.emsl.pnnl.gov/nom/metadata/Brodie_193_R2_CHCl3_03May19_Alder_Infuse_IATp05_144SA_1_01_43834.json',\n",
       "  'type': 'nom_analysis_activity_set'},\n",
       " {'url': 'https://nmdcdemo.emsl.pnnl.gov/nom/metadata/Brodie_193_R3_CHCl3_03May19_Alder_Infuse_IATp05_144SA_1_01_43882.json',\n",
       "  'type': 'nom_analysis_activity_set'},\n",
       " {'url': 'https://nmdcdemo.emsl.pnnl.gov/nom/metadata/Brodie_186_R2_CHCl3_03May19_Alder_Infuse_IATp05_144SA_1_01_43844.json',\n",
       "  'type': 'nom_analysis_activity_set'},\n",
       " {'url': 'https://nmdcdemo.emsl.pnnl.gov/nom/metadata/Brodie_186_R3_CHCl3_03May19_Alder_Infuse_IATp05_144SA_1_01_43892.json',\n",
       "  'type': 'nom_analysis_activity_set'},\n",
       " {'url': 'https://nmdcdemo.emsl.pnnl.gov/nom/metadata/Brodie_185_R2_CHCl3_03May19_Alder_Infuse_IATp05_144SA_1_01_43859.json',\n",
       "  'type': 'nom_analysis_activity_set'},\n",
       " {'url': 'https://nmdcdemo.emsl.pnnl.gov/nom/metadata/Brodie_185_R3_CHCl3_03May19_Alder_Infuse_IATp05_144SA_1_01_43907.json',\n",
       "  'type': 'nom_analysis_activity_set'},\n",
       " {'url': 'https://nmdcdemo.emsl.pnnl.gov/nom/metadata/Brodie_184_R2_CHCl3_03May19_Alder_Infuse_IATp05_144SA_1_01_43840.json',\n",
       "  'type': 'nom_analysis_activity_set'},\n",
       " {'url': 'https://nmdcdemo.emsl.pnnl.gov/nom/metadata/Brodie_184_R3_CHCl3_03May19_Alder_Infuse_IATp05_144SA_1_01_43888.json',\n",
       "  'type': 'nom_analysis_activity_set'},\n",
       " {'url': 'https://nmdcdemo.emsl.pnnl.gov/nom/metadata/Brodie_183_R3_CHCl3_03May19_Alder_Infuse_IATp03_144SA_1_01_43929.json',\n",
       "  'type': 'nom_analysis_activity_set'},\n",
       " {'url': 'https://nmdcdemo.emsl.pnnl.gov/nom/metadata/Brodie_183_R2_CHCl3_03May19_Alder_Infuse_IATp03_144SA_1_01_43942.json',\n",
       "  'type': 'nom_analysis_activity_set'},\n",
       " {'url': 'https://nmdcdemo.emsl.pnnl.gov/nom/metadata/Brodie_183_R3_CHCl3_03May19_Alder_Infuse_IATp05_144SA_1_01_43908.json',\n",
       "  'type': 'nom_analysis_activity_set'},\n",
       " {'url': 'https://nmdcdemo.emsl.pnnl.gov/nom/metadata/Brodie_182_R2_CHCl3_03May19_Alder_Infuse_IATp05_144SA_1_01_43827.json',\n",
       "  'type': 'nom_analysis_activity_set'},\n",
       " {'url': 'https://nmdcdemo.emsl.pnnl.gov/nom/metadata/Brodie_182_R3_CHCl3_03May19_Alder_Infuse_IATp05_144SA_1_01_43875.json',\n",
       "  'type': 'nom_analysis_activity_set'},\n",
       " {'url': 'https://nmdcdemo.emsl.pnnl.gov/nom/metadata/Brodie_181_R3_CHCl3_05May19_Alder_Infuse_IATp03_144SA_1_01_43928.json',\n",
       "  'type': 'nom_analysis_activity_set'},\n",
       " {'url': 'https://nmdcdemo.emsl.pnnl.gov/nom/metadata/Brodie_181_R2_CHCl3_05May19_Alder_Infuse_IATp03_144SA_1_01_43941.json',\n",
       "  'type': 'nom_analysis_activity_set'},\n",
       " {'url': 'https://nmdcdemo.emsl.pnnl.gov/nom/metadata/Brodie_181_R2_CHCl3_03May19_Alder_Infuse_IATp05_144SA_1_01_43854.json',\n",
       "  'type': 'nom_analysis_activity_set'},\n",
       " {'url': 'https://nmdcdemo.emsl.pnnl.gov/nom/metadata/Brodie_158_R1_CHCl3_03May19_Alder_Infuse_IATp08_144SA_1_01_43818.json',\n",
       "  'type': 'nom_analysis_activity_set'},\n",
       " {'url': 'https://nmdcdemo.emsl.pnnl.gov/nom/metadata/Brodie_158_R2_CHCl3_03May19_Alder_Infuse_IATp05_144SA_1_01_43866.json',\n",
       "  'type': 'nom_analysis_activity_set'},\n",
       " {'url': 'https://nmdcdemo.emsl.pnnl.gov/nom/metadata/Brodie_158_R3_CHCl3_03May19_Alder_Infuse_IATp05_144SA_1_01_43914.json',\n",
       "  'type': 'nom_analysis_activity_set'},\n",
       " {'url': 'https://nmdcdemo.emsl.pnnl.gov/nom/metadata/Brodie_157_R2_CHCl3_03May19_Alder_Infuse_IATp05_144SA_1_01_43824.json',\n",
       "  'type': 'nom_analysis_activity_set'},\n",
       " {'url': 'https://nmdcdemo.emsl.pnnl.gov/nom/metadata/Brodie_157_R3_CHCl3_03May19_Alder_Infuse_IATp05_144SA_1_01_43872.json',\n",
       "  'type': 'nom_analysis_activity_set'},\n",
       " {'url': 'https://nmdcdemo.emsl.pnnl.gov/nom/metadata/Brodie_152_R2_CHCl3_03May19_Alder_Infuse_IATp05_144SA_1_01_43826.json',\n",
       "  'type': 'nom_analysis_activity_set'},\n",
       " {'url': 'https://nmdcdemo.emsl.pnnl.gov/nom/metadata/Brodie_152_R3_CHCl3_03May19_Alder_Infuse_IATp05_144SA_1_01_43874.json',\n",
       "  'type': 'nom_analysis_activity_set'},\n",
       " {'url': 'https://nmdcdemo.emsl.pnnl.gov/nom/metadata/Brodie_151_R2_CHCl3_03May19_Alder_Infuse_IATp05_144SA_1_01_43861.json',\n",
       "  'type': 'nom_analysis_activity_set'},\n",
       " {'url': 'https://nmdcdemo.emsl.pnnl.gov/nom/metadata/Brodie_151_R3_CHCl3_03May19_Alder_Infuse_IATp05_144SA_1_01_43909.json',\n",
       "  'type': 'nom_analysis_activity_set'},\n",
       " {'url': 'https://nmdcdemo.emsl.pnnl.gov/nom/metadata/Brodie_150_R2_CHCl3_03May19_Alder_Infuse_IATp05_144SA_1_01_43838.json',\n",
       "  'type': 'nom_analysis_activity_set'},\n",
       " {'url': 'https://nmdcdemo.emsl.pnnl.gov/nom/metadata/Brodie_150_R3_CHCl3_03May19_Alder_Infuse_IATp05_144SA_1_01_43886.json',\n",
       "  'type': 'nom_analysis_activity_set'},\n",
       " {'url': 'https://nmdcdemo.emsl.pnnl.gov/nom/metadata/Brodie_147A_CHCl3_15Oct18_IAT_p1_1_01_35926.json',\n",
       "  'type': 'nom_analysis_activity_set'},\n",
       " {'url': 'https://nmdcdemo.emsl.pnnl.gov/nom/metadata/Brodie_147A_H2O_15Oct18_IAT_p1_1_01_35897.json',\n",
       "  'type': 'nom_analysis_activity_set'},\n",
       " {'url': 'https://nmdcdemo.emsl.pnnl.gov/nom/metadata/Brodie_147B_CHCl3_15Oct18_IAT_p1_1_01_35931.json',\n",
       "  'type': 'nom_analysis_activity_set'},\n",
       " {'url': 'https://nmdcdemo.emsl.pnnl.gov/nom/metadata/Brodie_147B_H2O_15Oct18_IAT_p1_1_01_35902.json',\n",
       "  'type': 'nom_analysis_activity_set'},\n",
       " {'url': 'https://nmdcdemo.emsl.pnnl.gov/nom/metadata/Brodie_147B_H2O_SPE_15Oct18_IAT_p05_1_01_35907.json',\n",
       "  'type': 'nom_analysis_activity_set'},\n",
       " {'url': 'https://nmdcdemo.emsl.pnnl.gov/nom/metadata/Brodie_147B_MeOH_15Oct18_IAT_p1_1_01_35919.json',\n",
       "  'type': 'nom_analysis_activity_set'},\n",
       " {'url': 'https://nmdcdemo.emsl.pnnl.gov/nom/metadata/Brodie_147_r1_H2O_30Nov18_IATp1_1_01_37888.json',\n",
       "  'type': 'nom_analysis_activity_set'},\n",
       " {'url': 'https://nmdcdemo.emsl.pnnl.gov/nom/metadata/Brodie_147_r2_H2O_30Nov18_IATp1_1_01_37897.json',\n",
       "  'type': 'nom_analysis_activity_set'},\n",
       " {'url': 'https://nmdcdemo.emsl.pnnl.gov/nom/metadata/Brodie_147_r3_H2O_30Nov18_IATp1_1_01_37906.json',\n",
       "  'type': 'nom_analysis_activity_set'},\n",
       " {'url': 'https://nmdcdemo.emsl.pnnl.gov/nom/metadata/Brodie_147_H2O_2_IATp1_07Dec18_1_01_38243.json',\n",
       "  'type': 'nom_analysis_activity_set'},\n",
       " {'url': 'https://nmdcdemo.emsl.pnnl.gov/nom/metadata/Brodie_147_H2O_3_IATp1_07Dec18_1_01_38244.json',\n",
       "  'type': 'nom_analysis_activity_set'},\n",
       " {'url': 'https://nmdcdemo.emsl.pnnl.gov/nom/metadata/Brodie_146A_CHCl3_15Oct18_IAT_p1_1_01_35925.json',\n",
       "  'type': 'nom_analysis_activity_set'},\n",
       " {'url': 'https://nmdcdemo.emsl.pnnl.gov/nom/metadata/Brodie_146A_H2O_15Oct18_IAT_p1_1_01_35896.json',\n",
       "  'type': 'nom_analysis_activity_set'},\n",
       " {'url': 'https://nmdcdemo.emsl.pnnl.gov/nom/metadata/Brodie_146A_MeOH_15Oct18_IAT_p1_1_01_35913.json',\n",
       "  'type': 'nom_analysis_activity_set'},\n",
       " {'url': 'https://nmdcdemo.emsl.pnnl.gov/nom/metadata/Brodie_146B_CHCl3_15Oct18_IAT_p1_1_01_35930.json',\n",
       "  'type': 'nom_analysis_activity_set'},\n",
       " {'url': 'https://nmdcdemo.emsl.pnnl.gov/nom/metadata/Brodie_146B_H2O_15Oct18_IAT_p1_1_01_35901.json',\n",
       "  'type': 'nom_analysis_activity_set'},\n",
       " {'url': 'https://nmdcdemo.emsl.pnnl.gov/nom/metadata/Brodie_146B_H2O_SPE_15Oct18_IAT_p05_1_01_35906.json',\n",
       "  'type': 'nom_analysis_activity_set'},\n",
       " {'url': 'https://nmdcdemo.emsl.pnnl.gov/nom/metadata/Brodie_146B_MeOH_15Oct18_IAT_p1_1_01_35918.json',\n",
       "  'type': 'nom_analysis_activity_set'},\n",
       " {'url': 'https://nmdcdemo.emsl.pnnl.gov/nom/metadata/Brodie_146_r1_H2O_30Nov18_IATp1_1_01_37887.json',\n",
       "  'type': 'nom_analysis_activity_set'},\n",
       " {'url': 'https://nmdcdemo.emsl.pnnl.gov/nom/metadata/Brodie_146_r2_H2O_30Nov18_IATp1_1_01_37896.json',\n",
       "  'type': 'nom_analysis_activity_set'},\n",
       " {'url': 'https://nmdcdemo.emsl.pnnl.gov/nom/metadata/Brodie_146_r3_H2O_30Nov18_IATp1_1_01_37905.json',\n",
       "  'type': 'nom_analysis_activity_set'},\n",
       " {'url': 'https://nmdcdemo.emsl.pnnl.gov/nom/metadata/Brodie_146_H2O_1_IATp1_07Dec18_1_01_38239.json',\n",
       "  'type': 'nom_analysis_activity_set'},\n",
       " {'url': 'https://nmdcdemo.emsl.pnnl.gov/nom/metadata/Brodie_146_H2O_2_IATp1_07Dec18_1_01_38240.json',\n",
       "  'type': 'nom_analysis_activity_set'},\n",
       " {'url': 'https://nmdcdemo.emsl.pnnl.gov/nom/metadata/Brodie_146_H2O_3_IATp1_07Dec18_1_01_38241.json',\n",
       "  'type': 'nom_analysis_activity_set'},\n",
       " {'url': 'https://nmdcdemo.emsl.pnnl.gov/nom/metadata/Brodie_145A_CHCl3_15Oct18_IAT_p1_1_01_35924.json',\n",
       "  'type': 'nom_analysis_activity_set'},\n",
       " {'url': 'https://nmdcdemo.emsl.pnnl.gov/nom/metadata/Brodie_145A_H2O_15Oct18_IAT_p1_1_01_35895.json',\n",
       "  'type': 'nom_analysis_activity_set'},\n",
       " {'url': 'https://nmdcdemo.emsl.pnnl.gov/nom/metadata/Brodie_145A_MeOH_15Oct18_IAT_p1_1_01_35912.json',\n",
       "  'type': 'nom_analysis_activity_set'},\n",
       " {'url': 'https://nmdcdemo.emsl.pnnl.gov/nom/metadata/Brodie_145B_CHCl3_15Oct18_IAT_p1_1_01_35929.json',\n",
       "  'type': 'nom_analysis_activity_set'},\n",
       " {'url': 'https://nmdcdemo.emsl.pnnl.gov/nom/metadata/Brodie_145B_H2O_15Oct18_IAT_p1_1_01_35900.json',\n",
       "  'type': 'nom_analysis_activity_set'},\n",
       " {'url': 'https://nmdcdemo.emsl.pnnl.gov/nom/metadata/Brodie_145B_H2O_SPE_15Oct18_IAT_p05_1_01_35905.json',\n",
       "  'type': 'nom_analysis_activity_set'},\n",
       " {'url': 'https://nmdcdemo.emsl.pnnl.gov/nom/metadata/Brodie_145B_MeOH_15Oct18_IAT_p1_1_01_35917.json',\n",
       "  'type': 'nom_analysis_activity_set'},\n",
       " {'url': 'https://nmdcdemo.emsl.pnnl.gov/nom/metadata/Brodie_145_r1_H2O_30Nov18_IATp1_1_01_37886.json',\n",
       "  'type': 'nom_analysis_activity_set'},\n",
       " {'url': 'https://nmdcdemo.emsl.pnnl.gov/nom/metadata/Brodie_145_r2_H2O_30Nov18_IATp1_1_01_37895.json',\n",
       "  'type': 'nom_analysis_activity_set'},\n",
       " {'url': 'https://nmdcdemo.emsl.pnnl.gov/nom/metadata/Brodie_145_r3_H2O_30Nov18_IATp1_1_01_37904.json',\n",
       "  'type': 'nom_analysis_activity_set'},\n",
       " {'url': 'https://nmdcdemo.emsl.pnnl.gov/nom/metadata/Brodie_145_H2O_1_IATp1_07Dec18_1_01_38236.json',\n",
       "  'type': 'nom_analysis_activity_set'},\n",
       " {'url': 'https://nmdcdemo.emsl.pnnl.gov/nom/metadata/Brodie_145_H2O_2_IATp1_07Dec18_1_01_38237.json',\n",
       "  'type': 'nom_analysis_activity_set'},\n",
       " {'url': 'https://nmdcdemo.emsl.pnnl.gov/nom/metadata/Brodie_145_H2O_3_IATp1_07Dec18_1_01_38238.json',\n",
       "  'type': 'nom_analysis_activity_set'},\n",
       " {'url': 'https://nmdcdemo.emsl.pnnl.gov/nom/metadata/Brodie_144_R2_CHCl3_03May19_Alder_Infuse_IATp05_144SA_1_01_43846.json',\n",
       "  'type': 'nom_analysis_activity_set'},\n",
       " {'url': 'https://nmdcdemo.emsl.pnnl.gov/nom/metadata/Brodie_144_R3_CHCl3_03May19_Alder_Infuse_IATp05_144SA_1_01_43894.json',\n",
       "  'type': 'nom_analysis_activity_set'},\n",
       " {'url': 'https://nmdcdemo.emsl.pnnl.gov/nom/metadata/Brodie_143_R2_CHCl3_03May19_Alder_Infuse_IATp05_144SA_1_01_43825.json',\n",
       "  'type': 'nom_analysis_activity_set'},\n",
       " {'url': 'https://nmdcdemo.emsl.pnnl.gov/nom/metadata/Brodie_143_R3_CHCl3_03May19_Alder_Infuse_IATp05_144SA_1_01_43873.json',\n",
       "  'type': 'nom_analysis_activity_set'},\n",
       " {'url': 'https://nmdcdemo.emsl.pnnl.gov/nom/metadata/Brodie_141_R1_CHCl3_03May19_Alder_Infuse_IATp08_144SA_1_01_43814.json',\n",
       "  'type': 'nom_analysis_activity_set'},\n",
       " {'url': 'https://nmdcdemo.emsl.pnnl.gov/nom/metadata/Brodie_141_R2_CHCl3_03May19_Alder_Infuse_IATp05_144SA_1_01_43862.json',\n",
       "  'type': 'nom_analysis_activity_set'},\n",
       " {'url': 'https://nmdcdemo.emsl.pnnl.gov/nom/metadata/Brodie_141_R3_CHCl3_03May19_Alder_Infuse_IATp05_144SA_1_01_43910.json',\n",
       "  'type': 'nom_analysis_activity_set'},\n",
       " {'url': 'https://nmdcdemo.emsl.pnnl.gov/nom/metadata/Brodie_140_R2_CHCl3_03May19_Alder_Infuse_IATp05_144SA_1_01_43833.json',\n",
       "  'type': 'nom_analysis_activity_set'},\n",
       " {'url': 'https://nmdcdemo.emsl.pnnl.gov/nom/metadata/Brodie_140_R3_CHCl3_03May19_Alder_Infuse_IATp05_144SA_1_01_43881.json',\n",
       "  'type': 'nom_analysis_activity_set'},\n",
       " {'url': 'https://nmdcdemo.emsl.pnnl.gov/nom/metadata/Brodie_135A_CHCl3_15Oct18_IAT_p1_1_01_35923.json',\n",
       "  'type': 'nom_analysis_activity_set'},\n",
       " {'url': 'https://nmdcdemo.emsl.pnnl.gov/nom/metadata/Brodie_135A_H2O_15Oct18_IAT_p1_1_01_35894.json',\n",
       "  'type': 'nom_analysis_activity_set'},\n",
       " {'url': 'https://nmdcdemo.emsl.pnnl.gov/nom/metadata/Brodie_135A_MeOH_15Oct18_IAT_p1_1_01_35911.json',\n",
       "  'type': 'nom_analysis_activity_set'},\n",
       " {'url': 'https://nmdcdemo.emsl.pnnl.gov/nom/metadata/Brodie_135B_CHCl3_15Oct18_IAT_p1_1_01_35928.json',\n",
       "  'type': 'nom_analysis_activity_set'},\n",
       " {'url': 'https://nmdcdemo.emsl.pnnl.gov/nom/metadata/Brodie_135B_H2O_15Oct18_IAT_p1_1_01_35899.json',\n",
       "  'type': 'nom_analysis_activity_set'},\n",
       " {'url': 'https://nmdcdemo.emsl.pnnl.gov/nom/metadata/Brodie_135B_H2O_SPE_15Oct18_IAT_p05_1_01_35904.json',\n",
       "  'type': 'nom_analysis_activity_set'},\n",
       " {'url': 'https://nmdcdemo.emsl.pnnl.gov/nom/metadata/Brodie_135B_MeOH_15Oct18_IAT_p1_1_01_35916.json',\n",
       "  'type': 'nom_analysis_activity_set'},\n",
       " {'url': 'https://nmdcdemo.emsl.pnnl.gov/nom/metadata/Brodie_135_r1_H2O_30Nov18_IATp1_1_01_37885.json',\n",
       "  'type': 'nom_analysis_activity_set'},\n",
       " {'url': 'https://nmdcdemo.emsl.pnnl.gov/nom/metadata/Brodie_135_r2_H2O_30Nov18_IATp1_1_01_37894.json',\n",
       "  'type': 'nom_analysis_activity_set'},\n",
       " {'url': 'https://nmdcdemo.emsl.pnnl.gov/nom/metadata/Brodie_135_r3_H2O_30Nov18_IATp1_1_01_37903.json',\n",
       "  'type': 'nom_analysis_activity_set'},\n",
       " {'url': 'https://nmdcdemo.emsl.pnnl.gov/nom/metadata/Brodie_135_H2O_1_IATp1_07Dec18_1_01_38233.json',\n",
       "  'type': 'nom_analysis_activity_set'},\n",
       " {'url': 'https://nmdcdemo.emsl.pnnl.gov/nom/metadata/Brodie_135_H2O_2_IATp1_07Dec18_1_01_38234.json',\n",
       "  'type': 'nom_analysis_activity_set'},\n",
       " {'url': 'https://nmdcdemo.emsl.pnnl.gov/nom/metadata/Brodie_135_H2O_3_IATp1_07Dec18_1_01_38235.json',\n",
       "  'type': 'nom_analysis_activity_set'},\n",
       " {'url': 'https://nmdcdemo.emsl.pnnl.gov/nom/metadata/Brodie_134A_CHCl3_15Oct18_IAT_p1_1_01_35922.json',\n",
       "  'type': 'nom_analysis_activity_set'},\n",
       " {'url': 'https://nmdcdemo.emsl.pnnl.gov/nom/metadata/Brodie_134A_H2O_15Oct18_IAT_p1_1_01_35893.json',\n",
       "  'type': 'nom_analysis_activity_set'},\n",
       " {'url': 'https://nmdcdemo.emsl.pnnl.gov/nom/metadata/Brodie_134A_MeOH_15Oct18_IAT_p1_1_01_35910.json',\n",
       "  'type': 'nom_analysis_activity_set'},\n",
       " {'url': 'https://nmdcdemo.emsl.pnnl.gov/nom/metadata/Brodie_134B_CHCl3_15Oct18_IAT_p1_1_01_35927.json',\n",
       "  'type': 'nom_analysis_activity_set'},\n",
       " {'url': 'https://nmdcdemo.emsl.pnnl.gov/nom/metadata/Brodie_134B_H2O_15Oct18_IAT_p1_1_01_35898.json',\n",
       "  'type': 'nom_analysis_activity_set'},\n",
       " {'url': 'https://nmdcdemo.emsl.pnnl.gov/nom/metadata/Brodie_134B_H2O_SPE_15Oct18_IAT_p05_1_01_35903.json',\n",
       "  'type': 'nom_analysis_activity_set'},\n",
       " {'url': 'https://nmdcdemo.emsl.pnnl.gov/nom/metadata/Brodie_134B_MeOH_15Oct18_IAT_p1_1_01_35915.json',\n",
       "  'type': 'nom_analysis_activity_set'},\n",
       " {'url': 'https://nmdcdemo.emsl.pnnl.gov/nom/metadata/Brodie_134_r3_H2O_30Nov18_IATp1_1_01_37902.json',\n",
       "  'type': 'nom_analysis_activity_set'},\n",
       " {'url': 'https://nmdcdemo.emsl.pnnl.gov/nom/metadata/Brodie_134_H2O_3_IATp1_07Dec18_1_01_38232.json',\n",
       "  'type': 'nom_analysis_activity_set'},\n",
       " {'url': 'https://nmdcdemo.emsl.pnnl.gov/nom/metadata/Brodie_134_H2O_1_12Dec18_IATp1_1_01_38495.json',\n",
       "  'type': 'nom_analysis_activity_set'},\n",
       " {'url': 'https://nmdcdemo.emsl.pnnl.gov/nom/metadata/Brodie_134_H2O_2_12Dec18_IATp1_1_01_38496.json',\n",
       "  'type': 'nom_analysis_activity_set'},\n",
       " {'url': 'https://nmdcdemo.emsl.pnnl.gov/nom/metadata/Brodie_134_H2O_3_12Dec18_IATp1_1_01_38497.json',\n",
       "  'type': 'nom_analysis_activity_set'},\n",
       " {'url': 'https://nmdcdemo.emsl.pnnl.gov/nom/metadata/Brodie_134_H2O_1_13Dec18_IATp15_1_01_38565.json',\n",
       "  'type': 'nom_analysis_activity_set'},\n",
       " {'url': 'https://nmdcdemo.emsl.pnnl.gov/nom/metadata/Brodie_123_R1_CHCl3_03May19_Alder_Infuse_IATp08_144SA_1_01_43815.json',\n",
       "  'type': 'nom_analysis_activity_set'},\n",
       " {'url': 'https://nmdcdemo.emsl.pnnl.gov/nom/metadata/Brodie_123_R2_CHCl3_03May19_Alder_Infuse_IATp05_144SA_1_01_43863.json',\n",
       "  'type': 'nom_analysis_activity_set'},\n",
       " {'url': 'https://nmdcdemo.emsl.pnnl.gov/nom/metadata/Brodie_123_R3_CHCl3_03May19_Alder_Infuse_IATp05_144SA_1_01_43911.json',\n",
       "  'type': 'nom_analysis_activity_set'},\n",
       " {'url': 'https://nmdcdemo.emsl.pnnl.gov/nom/metadata/Brodie_122_R2_CHCl3_03May19_Alder_Infuse_IATp05_144SA_1_01_43830.json',\n",
       "  'type': 'nom_analysis_activity_set'},\n",
       " {'url': 'https://nmdcdemo.emsl.pnnl.gov/nom/metadata/Brodie_122_R3_CHCl3_03May19_Alder_Infuse_IATp05_144SA_1_01_43878.json',\n",
       "  'type': 'nom_analysis_activity_set'},\n",
       " {'url': 'https://nmdcdemo.emsl.pnnl.gov/nom/metadata/Brodie_121_R1_CHCl3_03May19_Alder_Infuse_IATp08_144SA_1_01_43816.json',\n",
       "  'type': 'nom_analysis_activity_set'},\n",
       " {'url': 'https://nmdcdemo.emsl.pnnl.gov/nom/metadata/Brodie_121_R2_CHCl3_03May19_Alder_Infuse_IATp05_144SA_1_01_43864.json',\n",
       "  'type': 'nom_analysis_activity_set'},\n",
       " {'url': 'https://nmdcdemo.emsl.pnnl.gov/nom/metadata/Brodie_121_R3_CHCl3_03May19_Alder_Infuse_IATp05_144SA_1_01_43912.json',\n",
       "  'type': 'nom_analysis_activity_set'},\n",
       " {'url': 'https://nmdcdemo.emsl.pnnl.gov/nom/metadata/Brodie_120_R3_CHCl3_05May19_Alder_Infuse_IATp03_144SA_1_01_43923.json',\n",
       "  'type': 'nom_analysis_activity_set'},\n",
       " {'url': 'https://nmdcdemo.emsl.pnnl.gov/nom/metadata/Brodie_120_R2_CHCl3_05May19_Alder_Infuse_IATp03_144SA_1_01_43936.json',\n",
       "  'type': 'nom_analysis_activity_set'},\n",
       " {'url': 'https://nmdcdemo.emsl.pnnl.gov/nom/metadata/Brodie_120_R2_CHCl3_03May19_Alder_Infuse_IATp05_144SA_1_01_43836.json',\n",
       "  'type': 'nom_analysis_activity_set'},\n",
       " {'url': 'https://nmdcdemo.emsl.pnnl.gov/nom/metadata/Brodie_119_R3_CHCl3_05May19_Alder_Infuse_IATp03_144SA_1_01_43927.json',\n",
       "  'type': 'nom_analysis_activity_set'},\n",
       " {'url': 'https://nmdcdemo.emsl.pnnl.gov/nom/metadata/Brodie_119_R2_CHCl3_05May19_Alder_Infuse_IATp03_144SA_1_01_43940.json',\n",
       "  'type': 'nom_analysis_activity_set'},\n",
       " {'url': 'https://nmdcdemo.emsl.pnnl.gov/nom/metadata/Brodie_119_R2_CHCl3_03May19_Alder_Infuse_IATp05_144SA_1_01_43853.json',\n",
       "  'type': 'nom_analysis_activity_set'},\n",
       " {'url': 'https://nmdcdemo.emsl.pnnl.gov/nom/metadata/Brodie_118_R3_CHCl3_05May19_Alder_Infuse_IATp03_144SA_1_01_43926.json',\n",
       "  'type': 'nom_analysis_activity_set'},\n",
       " {'url': 'https://nmdcdemo.emsl.pnnl.gov/nom/metadata/Brodie_118_R2_CHCl3_05May19_Alder_Infuse_IATp03_144SA_1_01_43939.json',\n",
       "  'type': 'nom_analysis_activity_set'},\n",
       " {'url': 'https://nmdcdemo.emsl.pnnl.gov/nom/metadata/Brodie_118_R2_CHCl3_03May19_Alder_Infuse_IATp05_144SA_1_01_43852.json',\n",
       "  'type': 'nom_analysis_activity_set'},\n",
       " {'url': 'https://nmdcdemo.emsl.pnnl.gov/nom/metadata/Brodie_117_R2_CHCl3_05May19_Alder_Infuse_IATp03_144SA_1_01_43934.json',\n",
       "  'type': 'nom_analysis_activity_set'},\n",
       " {'url': 'https://nmdcdemo.emsl.pnnl.gov/nom/metadata/Brodie_117_R2_CHCl3_03May19_Alder_Infuse_IATp05_144SA_1_01_43823.json',\n",
       "  'type': 'nom_analysis_activity_set'},\n",
       " {'url': 'https://nmdcdemo.emsl.pnnl.gov/nom/metadata/Brodie_117_R3_CHCl3_05May19_Alder_Infuse_IATp03_144SA_1_01_43921.json',\n",
       "  'type': 'nom_analysis_activity_set'},\n",
       " {'url': 'https://nmdcdemo.emsl.pnnl.gov/nom/metadata/Brodie_116_R2_CHCl3_05May19_Alder_Infuse_IATp03_144SA_1_01_43933.json',\n",
       "  'type': 'nom_analysis_activity_set'},\n",
       " {'url': 'https://nmdcdemo.emsl.pnnl.gov/nom/metadata/Brodie_116_R2_CHCl3_03May19_Alder_Infuse_IATp05_144SA_1_01_43822.json',\n",
       "  'type': 'nom_analysis_activity_set'},\n",
       " {'url': 'https://nmdcdemo.emsl.pnnl.gov/nom/metadata/Brodie_116_R3_CHCl3_05May19_Alder_Infuse_IATp03_144SA_1_01_43920.json',\n",
       "  'type': 'nom_analysis_activity_set'},\n",
       " {'url': 'https://nmdcdemo.emsl.pnnl.gov/nom/metadata/Brodie_115_R2_CHCl3_05May19_Alder_Infuse_IATp03_144SA_1_01_43932.json',\n",
       "  'type': 'nom_analysis_activity_set'},\n",
       " {'url': 'https://nmdcdemo.emsl.pnnl.gov/nom/metadata/Brodie_115_R2_CHCl3_03May19_Alder_Infuse_IATp05_144SA_1_01_43821.json',\n",
       "  'type': 'nom_analysis_activity_set'},\n",
       " {'url': 'https://nmdcdemo.emsl.pnnl.gov/nom/metadata/Brodie_115_R3_CHCl3_05May19_Alder_Infuse_IATp03_144SA_1_01_43919.json',\n",
       "  'type': 'nom_analysis_activity_set'},\n",
       " {'url': 'https://nmdcdemo.emsl.pnnl.gov/nom/metadata/Stegen_U_N1_1_01_6732.json',\n",
       "  'type': 'nom_analysis_activity_set'},\n",
       " {'url': 'https://nmdcdemo.emsl.pnnl.gov/nom/metadata/Stegen_U_N2_1_01_6733.json',\n",
       "  'type': 'nom_analysis_activity_set'},\n",
       " {'url': 'https://nmdcdemo.emsl.pnnl.gov/nom/metadata/Stegen_U_N3_1_01_6734.json',\n",
       "  'type': 'nom_analysis_activity_set'},\n",
       " {'url': 'https://nmdcdemo.emsl.pnnl.gov/nom/metadata/Stegen_U_N4_1_01_6735.json',\n",
       "  'type': 'nom_analysis_activity_set'},\n",
       " {'url': 'https://nmdcdemo.emsl.pnnl.gov/nom/metadata/Stegen_U_N5_1_01_6736.json',\n",
       "  'type': 'nom_analysis_activity_set'},\n",
       " {'url': 'https://nmdcdemo.emsl.pnnl.gov/nom/metadata/Stegen_U_S1_1_01_6737.json',\n",
       "  'type': 'nom_analysis_activity_set'},\n",
       " {'url': 'https://nmdcdemo.emsl.pnnl.gov/nom/metadata/Stegen_U_S2_1_01_6738.json',\n",
       "  'type': 'nom_analysis_activity_set'},\n",
       " {'url': 'https://nmdcdemo.emsl.pnnl.gov/nom/metadata/Stegen_U_S3_1_01_6739.json',\n",
       "  'type': 'nom_analysis_activity_set'},\n",
       " {'url': 'https://nmdcdemo.emsl.pnnl.gov/nom/metadata/Stegen_U_S4_1_01_6740.json',\n",
       "  'type': 'nom_analysis_activity_set'},\n",
       " {'url': 'https://nmdcdemo.emsl.pnnl.gov/nom/metadata/Stegen_U_S5_1_01_6741.json',\n",
       "  'type': 'nom_analysis_activity_set'},\n",
       " {'url': 'https://nmdcdemo.emsl.pnnl.gov/nom/metadata/Jan2016_Filtered_N1_27Jan2016_Leopard_Infuse_1_01_6359.json',\n",
       "  'type': 'nom_analysis_activity_set'},\n",
       " {'url': 'https://nmdcdemo.emsl.pnnl.gov/nom/metadata/Jan2016_Filtered_N1_28Jan2016_Leopard_Infuse_1_01_6387.json',\n",
       "  'type': 'nom_analysis_activity_set'},\n",
       " {'url': 'https://nmdcdemo.emsl.pnnl.gov/nom/metadata/Jan2016_Filtered_N2_27Jan2016_Leopard_Infuse_1_01_6360.json',\n",
       "  'type': 'nom_analysis_activity_set'},\n",
       " {'url': 'https://nmdcdemo.emsl.pnnl.gov/nom/metadata/Jan2016_Filtered_N2_28Jan2016_Leopard_Infuse_1_01_6388.json',\n",
       "  'type': 'nom_analysis_activity_set'},\n",
       " {'url': 'https://nmdcdemo.emsl.pnnl.gov/nom/metadata/Jan2016_Filtered_N3_27Jan2016_Leopard_Infuse_1_01_6361.json',\n",
       "  'type': 'nom_analysis_activity_set'},\n",
       " {'url': 'https://nmdcdemo.emsl.pnnl.gov/nom/metadata/Jan2016_Filtered_N3_28Jan2016_Leopard_Infuse_1_01_6389.json',\n",
       "  'type': 'nom_analysis_activity_set'},\n",
       " {'url': 'https://nmdcdemo.emsl.pnnl.gov/nom/metadata/Jan2016_Filtered_N4_27Jan2016_Leopard_Infuse_1_01_6362.json',\n",
       "  'type': 'nom_analysis_activity_set'},\n",
       " {'url': 'https://nmdcdemo.emsl.pnnl.gov/nom/metadata/Jan2016_Filtered_N4_28Jan2016_Leopard_Infuse_1_01_6390.json',\n",
       "  'type': 'nom_analysis_activity_set'},\n",
       " {'url': 'https://nmdcdemo.emsl.pnnl.gov/nom/metadata/Jan2016_Filtered_N5_27Jan2016_Leopard_Infuse_1_01_6363.json',\n",
       "  'type': 'nom_analysis_activity_set'},\n",
       " {'url': 'https://nmdcdemo.emsl.pnnl.gov/nom/metadata/Jan2016_Filtered_N5_28Jan2016_Leopard_Infuse_1_01_6391.json',\n",
       "  'type': 'nom_analysis_activity_set'},\n",
       " {'url': 'https://nmdcdemo.emsl.pnnl.gov/nom/metadata/Jan2016_Filtered_S1_27Jan2016_Leopard_Infuse_1_01_6364.json',\n",
       "  'type': 'nom_analysis_activity_set'},\n",
       " {'url': 'https://nmdcdemo.emsl.pnnl.gov/nom/metadata/Jan2016_Filtered_S2_27Jan2016_Leopard_Infuse_1_01_6365.json',\n",
       "  'type': 'nom_analysis_activity_set'},\n",
       " {'url': 'https://nmdcdemo.emsl.pnnl.gov/nom/metadata/Jan2016_Filtered_S3_27Jan2016_Leopard_Infuse_1_01_6366.json',\n",
       "  'type': 'nom_analysis_activity_set'},\n",
       " {'url': 'https://nmdcdemo.emsl.pnnl.gov/nom/metadata/Jan2016_Filtered_S4_27Jan2016_Leopard_Infuse_1_01_6367.json',\n",
       "  'type': 'nom_analysis_activity_set'},\n",
       " {'url': 'https://nmdcdemo.emsl.pnnl.gov/nom/metadata/Jan2016_Filtered_S5_27Jan2016_Leopard_Infuse_1_01_6368.json',\n",
       "  'type': 'nom_analysis_activity_set'},\n",
       " {'url': 'https://nmdcdemo.emsl.pnnl.gov/nom/metadata/Jan2016_FrzThw_N1_27Jan2016_Leopard_Infuse_1_01_6371.json',\n",
       "  'type': 'nom_analysis_activity_set'},\n",
       " {'url': 'https://nmdcdemo.emsl.pnnl.gov/nom/metadata/Jan2016_FrzThw_N1_28Jan2016_Leopard_Infuse_1_01_6399.json',\n",
       "  'type': 'nom_analysis_activity_set'},\n",
       " {'url': 'https://nmdcdemo.emsl.pnnl.gov/nom/metadata/Jan2016_FrzThw_N2_28Jan2016_Leopard_Infuse_1_01_6400.json',\n",
       "  'type': 'nom_analysis_activity_set'},\n",
       " {'url': 'https://nmdcdemo.emsl.pnnl.gov/nom/metadata/Jan2016_FrzThw_N3_28Jan2016_Leopard_Infuse_1_01_6401.json',\n",
       "  'type': 'nom_analysis_activity_set'},\n",
       " {'url': 'https://nmdcdemo.emsl.pnnl.gov/nom/metadata/Jan2016_FrzThw_N5_28Jan2016_Leopard_Infuse_1_01_6403.json',\n",
       "  'type': 'nom_analysis_activity_set'},\n",
       " {'url': 'https://nmdcdemo.emsl.pnnl.gov/nom/metadata/Jan2016_Unfiltered_N1_27Jan2016_Leopard_Infuse_1_01_6347.json',\n",
       "  'type': 'nom_analysis_activity_set'},\n",
       " {'url': 'https://nmdcdemo.emsl.pnnl.gov/nom/metadata/Jan2016_Unfiltered_N1_28Jan2016_Leopard_Infuse_1_01_6375.json',\n",
       "  'type': 'nom_analysis_activity_set'},\n",
       " {'url': 'https://nmdcdemo.emsl.pnnl.gov/nom/metadata/Jan2016_Unfiltered_N2_27Jan2016_Leopard_Infuse_1_01_6348.json',\n",
       "  'type': 'nom_analysis_activity_set'},\n",
       " {'url': 'https://nmdcdemo.emsl.pnnl.gov/nom/metadata/Jan2016_Unfiltered_N2_28Jan2016_Leopard_Infuse_1_01_6376.json',\n",
       "  'type': 'nom_analysis_activity_set'},\n",
       " {'url': 'https://nmdcdemo.emsl.pnnl.gov/nom/metadata/Jan2016_Unfiltered_N3_27Jan2016_Leopard_Infuse_1_01_6349.json',\n",
       "  'type': 'nom_analysis_activity_set'},\n",
       " {'url': 'https://nmdcdemo.emsl.pnnl.gov/nom/metadata/Jan2016_Unfiltered_N3_28Jan2016_Leopard_Infuse_1_01_6377.json',\n",
       "  'type': 'nom_analysis_activity_set'},\n",
       " {'url': 'https://nmdcdemo.emsl.pnnl.gov/nom/metadata/Jan2016_Unfiltered_N4_27Jan2016_Leopard_Infuse_1_01_6350.json',\n",
       "  'type': 'nom_analysis_activity_set'},\n",
       " {'url': 'https://nmdcdemo.emsl.pnnl.gov/nom/metadata/Jan2016_Unfiltered_N4_28Jan2016_Leopard_Infuse_1_01_6378.json',\n",
       "  'type': 'nom_analysis_activity_set'},\n",
       " {'url': 'https://nmdcdemo.emsl.pnnl.gov/nom/metadata/Jan2016_Unfiltered_N5_27Jan2016_Leopard_Infuse_1_01_6351.json',\n",
       "  'type': 'nom_analysis_activity_set'},\n",
       " {'url': 'https://nmdcdemo.emsl.pnnl.gov/nom/metadata/Jan2016_Unfiltered_N5_28Jan2016_Leopard_Infuse_1_01_6379.json',\n",
       "  'type': 'nom_analysis_activity_set'},\n",
       " {'url': 'https://nmdcdemo.emsl.pnnl.gov/nom/metadata/Stegen_F_N1_1_01_6722.json',\n",
       "  'type': 'nom_analysis_activity_set'},\n",
       " {'url': 'https://nmdcdemo.emsl.pnnl.gov/nom/metadata/Stegen_F_N2_1_01_6723.json',\n",
       "  'type': 'nom_analysis_activity_set'},\n",
       " {'url': 'https://nmdcdemo.emsl.pnnl.gov/nom/metadata/Stegen_F_N3_1_01_6724.json',\n",
       "  'type': 'nom_analysis_activity_set'},\n",
       " {'url': 'https://nmdcdemo.emsl.pnnl.gov/nom/metadata/Stegen_F_N4_1_01_6725.json',\n",
       "  'type': 'nom_analysis_activity_set'},\n",
       " {'url': 'https://nmdcdemo.emsl.pnnl.gov/nom/metadata/Stegen_F_N5_1_01_6726.json',\n",
       "  'type': 'nom_analysis_activity_set'},\n",
       " {'url': 'https://nmdcdemo.emsl.pnnl.gov/nom/metadata/Stegen_F_S1_1_01_6727.json',\n",
       "  'type': 'nom_analysis_activity_set'},\n",
       " {'url': 'https://nmdcdemo.emsl.pnnl.gov/nom/metadata/Stegen_F_S2_1_01_6728.json',\n",
       "  'type': 'nom_analysis_activity_set'},\n",
       " {'url': 'https://nmdcdemo.emsl.pnnl.gov/nom/metadata/Stegen_F_S3_1_01_6729.json',\n",
       "  'type': 'nom_analysis_activity_set'},\n",
       " {'url': 'https://nmdcdemo.emsl.pnnl.gov/nom/metadata/Stegen_F_S5_1_01_6731.json',\n",
       "  'type': 'nom_analysis_activity_set'},\n",
       " {'url': 'https://nmdcdemo.emsl.pnnl.gov/nom/metadata/Stegen_FR_N1_1_01_6742.json',\n",
       "  'type': 'nom_analysis_activity_set'},\n",
       " {'url': 'https://nmdcdemo.emsl.pnnl.gov/nom/metadata/Stegen_FR_N2_1_01_6743.json',\n",
       "  'type': 'nom_analysis_activity_set'},\n",
       " {'url': 'https://nmdcdemo.emsl.pnnl.gov/nom/metadata/Stegen_FR_N3_1_01_6744.json',\n",
       "  'type': 'nom_analysis_activity_set'},\n",
       " {'url': 'https://nmdcdemo.emsl.pnnl.gov/nom/metadata/Stegen_FR_N4_1_01_6745.json',\n",
       "  'type': 'nom_analysis_activity_set'},\n",
       " {'url': 'https://nmdcdemo.emsl.pnnl.gov/nom/metadata/Stegen_FR_N5_1_01_6746.json',\n",
       "  'type': 'nom_analysis_activity_set'},\n",
       " {'url': 'https://nmdcdemo.emsl.pnnl.gov/nom/metadata/Stegen_Fr_S1_1_01_6747.json',\n",
       "  'type': 'nom_analysis_activity_set'},\n",
       " {'url': 'https://nmdcdemo.emsl.pnnl.gov/nom/metadata/Stegen_Fr_S2_1_01_6748.json',\n",
       "  'type': 'nom_analysis_activity_set'},\n",
       " {'url': 'https://nmdcdemo.emsl.pnnl.gov/nom/metadata/Stegen_Fr_S3_1_01_6749.json',\n",
       "  'type': 'nom_analysis_activity_set'},\n",
       " {'url': 'https://nmdcdemo.emsl.pnnl.gov/nom/metadata/Stegen_Fr_S4_1_01_6750.json',\n",
       "  'type': 'nom_analysis_activity_set'},\n",
       " {'url': 'https://nmdcdemo.emsl.pnnl.gov/nom/metadata/Stegen_Fr_S5_1_01_6751.json',\n",
       "  'type': 'nom_analysis_activity_set'},\n",
       " {'url': 'https://nmdcdemo.emsl.pnnl.gov/nom/metadata/Unground_SBR_Spring_2014_FC_MeOH_MethodBlank_22Oct15_Leopard_1_01_4859.json',\n",
       "  'type': 'nom_analysis_activity_set'},\n",
       " {'url': 'https://nmdcdemo.emsl.pnnl.gov/nom/metadata/Unground_SBR_Spring_2014_FC_N1_00-10_MeOHExt_22Oct15_Leopard_1_01_4825.json',\n",
       "  'type': 'nom_analysis_activity_set'},\n",
       " {'url': 'https://nmdcdemo.emsl.pnnl.gov/nom/metadata/Unground_SBR_Spring_2014_FC_N1_10-20_MeOHExt_22Oct15_Leopard_1_01_4826.json',\n",
       "  'type': 'nom_analysis_activity_set'},\n",
       " {'url': 'https://nmdcdemo.emsl.pnnl.gov/nom/metadata/Unground_SBR_Spring_2014_FC_N1_20-30_MeOHExt_22Oct15_Leopard_1_01_4827.json',\n",
       "  'type': 'nom_analysis_activity_set'},\n",
       " {'url': 'https://nmdcdemo.emsl.pnnl.gov/nom/metadata/Unground_SBR_Spring_2014_FC_N1_30-40_MeOHExt_22Oct15_Leopard_1_01_4828.json',\n",
       "  'type': 'nom_analysis_activity_set'},\n",
       " {'url': 'https://nmdcdemo.emsl.pnnl.gov/nom/metadata/Unground_SBR_Spring_2014_FC_N1_40-50_MeOHExt_22Oct15_Leopard_1_01_4829.json',\n",
       "  'type': 'nom_analysis_activity_set'},\n",
       " {'url': 'https://nmdcdemo.emsl.pnnl.gov/nom/metadata/Unground_SBR_Spring_2014_FC_N1_50-60_MeOHExt_22Oct15_Leopard_1_01_4830.json',\n",
       "  'type': 'nom_analysis_activity_set'},\n",
       " {'url': 'https://nmdcdemo.emsl.pnnl.gov/nom/metadata/Unground_SBR_Spring_2014_FC_N2_00-30_MeOHExt_22Oct15_Leopard_1_01_4831.json',\n",
       "  'type': 'nom_analysis_activity_set'},\n",
       " {'url': 'https://nmdcdemo.emsl.pnnl.gov/nom/metadata/Unground_SBR_Spring_2014_FC_N2_30-40_MeOHExt_22Oct15_Leopard_1_01_4832.json',\n",
       "  'type': 'nom_analysis_activity_set'},\n",
       " {'url': 'https://nmdcdemo.emsl.pnnl.gov/nom/metadata/Unground_SBR_Spring_2014_FC_N2_40-50_MeOHExt_22Oct15_Leopard_1_01_4833.json',\n",
       "  'type': 'nom_analysis_activity_set'},\n",
       " {'url': 'https://nmdcdemo.emsl.pnnl.gov/nom/metadata/Unground_SBR_Spring_2014_FC_N2_50-60_MeOHExt_22Oct15_Leopard_1_01_4834.json',\n",
       "  'type': 'nom_analysis_activity_set'},\n",
       " {'url': 'https://nmdcdemo.emsl.pnnl.gov/nom/metadata/Unground_SBR_Spring_2014_FC_N3_00-10_MeOHExt_22Oct15_Leopard_1_01_4835.json',\n",
       "  'type': 'nom_analysis_activity_set'},\n",
       " {'url': 'https://nmdcdemo.emsl.pnnl.gov/nom/metadata/Unground_SBR_Spring_2014_FC_N3_10-20_MeOHExt_22Oct15_Leopard_1_01_4836.json',\n",
       "  'type': 'nom_analysis_activity_set'},\n",
       " {'url': 'https://nmdcdemo.emsl.pnnl.gov/nom/metadata/Unground_SBR_Spring_2014_FC_N3_20-30_MeOHExt_22Oct15_Leopard_1_01_4837.json',\n",
       "  'type': 'nom_analysis_activity_set'},\n",
       " {'url': 'https://nmdcdemo.emsl.pnnl.gov/nom/metadata/Unground_SBR_Spring_2014_FC_N3_30-40_MeOHExt_22Oct15_Leopard_1_01_4838.json',\n",
       "  'type': 'nom_analysis_activity_set'},\n",
       " {'url': 'https://nmdcdemo.emsl.pnnl.gov/nom/metadata/Unground_SBR_Spring_2014_FC_N3_40-50_MeOHExt_22Oct15_Leopard_1_01_4839.json',\n",
       "  'type': 'nom_analysis_activity_set'},\n",
       " {'url': 'https://nmdcdemo.emsl.pnnl.gov/nom/metadata/Unground_SBR_Spring_2014_FC_N3_50-60_MeOHExt_22Oct15_Leopard_1_01_4840.json',\n",
       "  'type': 'nom_analysis_activity_set'},\n",
       " {'url': 'https://nmdcdemo.emsl.pnnl.gov/nom/metadata/Unground_SBR_Spring_2014_FC_S1_00-10_MeOHExt_22Oct15_Leopard_1_01_4841.json',\n",
       "  'type': 'nom_analysis_activity_set'},\n",
       " {'url': 'https://nmdcdemo.emsl.pnnl.gov/nom/metadata/Unground_SBR_Spring_2014_FC_S1_10-20_MeOHExt_22Oct15_Leopard_1_01_4842.json',\n",
       "  'type': 'nom_analysis_activity_set'},\n",
       " {'url': 'https://nmdcdemo.emsl.pnnl.gov/nom/metadata/Unground_SBR_Spring_2014_FC_S1_20-30_MeOHExt_22Oct15_Leopard_1_01_4843.json',\n",
       "  'type': 'nom_analysis_activity_set'},\n",
       " {'url': 'https://nmdcdemo.emsl.pnnl.gov/nom/metadata/Unground_SBR_Spring_2014_FC_S1_30-40_MeOHExt_22Oct15_Leopard_1_01_4844.json',\n",
       "  'type': 'nom_analysis_activity_set'},\n",
       " {'url': 'https://nmdcdemo.emsl.pnnl.gov/nom/metadata/Unground_SBR_Spring_2014_FC_S1_40-50_MeOHExt_22Oct15_Leopard_1_01_4845.json',\n",
       "  'type': 'nom_analysis_activity_set'},\n",
       " {'url': 'https://nmdcdemo.emsl.pnnl.gov/nom/metadata/Unground_SBR_Spring_2014_FC_S1_50-60_MeOHExt_22Oct15_Leopard_1_01_4846.json',\n",
       "  'type': 'nom_analysis_activity_set'},\n",
       " {'url': 'https://nmdcdemo.emsl.pnnl.gov/nom/metadata/Unground_SBR_Spring_2014_FC_S2_00-10_MeOHExt_22Oct15_Leopard_1_01_4847.json',\n",
       "  'type': 'nom_analysis_activity_set'},\n",
       " {'url': 'https://nmdcdemo.emsl.pnnl.gov/nom/metadata/Unground_SBR_Spring_2014_FC_S2_10-20_MeOHExt_22Oct15_Leopard_1_01_4848.json',\n",
       "  'type': 'nom_analysis_activity_set'},\n",
       " {'url': 'https://nmdcdemo.emsl.pnnl.gov/nom/metadata/Unground_SBR_Spring_2014_FC_S2_20-30_MeOHExt_22Oct15_Leopard_1_01_4849.json',\n",
       "  'type': 'nom_analysis_activity_set'},\n",
       " {'url': 'https://nmdcdemo.emsl.pnnl.gov/nom/metadata/Unground_SBR_Spring_2014_FC_S2_30-40_MeOHExt_22Oct15_Leopard_1_01_4850.json',\n",
       "  'type': 'nom_analysis_activity_set'},\n",
       " {'url': 'https://nmdcdemo.emsl.pnnl.gov/nom/metadata/Unground_SBR_Spring_2014_FC_S2_40-50_MeOHExt_22Oct15_Leopard_1_01_4851.json',\n",
       "  'type': 'nom_analysis_activity_set'},\n",
       " {'url': 'https://nmdcdemo.emsl.pnnl.gov/nom/metadata/Unground_SBR_Spring_2014_FC_S2_50-60_MeOHExt_22Oct15_Leopard_1_01_4852.json',\n",
       "  'type': 'nom_analysis_activity_set'},\n",
       " {'url': 'https://nmdcdemo.emsl.pnnl.gov/nom/metadata/Unground_SBR_Spring_2014_FC_S3_00-10_MeOHExt_22Oct15_Leopard_1_01_4853.json',\n",
       "  'type': 'nom_analysis_activity_set'},\n",
       " {'url': 'https://nmdcdemo.emsl.pnnl.gov/nom/metadata/Unground_SBR_Spring_2014_FC_S3_10-20_MeOHExt_22Oct15_Leopard_1_01_4854.json',\n",
       "  'type': 'nom_analysis_activity_set'},\n",
       " {'url': 'https://nmdcdemo.emsl.pnnl.gov/nom/metadata/Unground_SBR_Spring_2014_FC_S3_20-30_MeOHExt_22Oct15_Leopard_1_01_4855.json',\n",
       "  'type': 'nom_analysis_activity_set'},\n",
       " {'url': 'https://nmdcdemo.emsl.pnnl.gov/nom/metadata/Unground_SBR_Spring_2014_FC_S3_30-40_MeOHExt_22Oct15_Leopard_1_01_4856.json',\n",
       "  'type': 'nom_analysis_activity_set'},\n",
       " {'url': 'https://nmdcdemo.emsl.pnnl.gov/nom/metadata/Unground_SBR_Spring_2014_FC_S3_40-50_MeOHExt_22Oct15_Leopard_1_01_4857.json',\n",
       "  'type': 'nom_analysis_activity_set'},\n",
       " {'url': 'https://nmdcdemo.emsl.pnnl.gov/nom/metadata/Unground_SBR_Spring_2014_FC_S3_50-60_MeOHExt_22Oct15_Leopard_1_01_4858.json',\n",
       "  'type': 'nom_analysis_activity_set'},\n",
       " {'url': 'https://nmdcdemo.emsl.pnnl.gov/nom/metadata/SBR_FC_N1_00-10_H2Oext_13Oct15_Leopard_1_01_4404.json',\n",
       "  'type': 'nom_analysis_activity_set'},\n",
       " {'url': 'https://nmdcdemo.emsl.pnnl.gov/nom/metadata/SBR_FC_N1_00-10_H2Oext_15Oct15_Leopard_1_01_4515.json',\n",
       "  'type': 'nom_analysis_activity_set'},\n",
       " {'url': 'https://nmdcdemo.emsl.pnnl.gov/nom/metadata/SBR_FC_N1_10-20_H2Oext_13Oct15_Leopard_1_01_4405.json',\n",
       "  'type': 'nom_analysis_activity_set'},\n",
       " {'url': 'https://nmdcdemo.emsl.pnnl.gov/nom/metadata/SBR_FC_N1_10-20_H2Oext_15Oct15_Leopard_1_01_4516.json',\n",
       "  'type': 'nom_analysis_activity_set'},\n",
       " {'url': 'https://nmdcdemo.emsl.pnnl.gov/nom/metadata/SBR_FC_N1_20-30_H2Oext_13Oct15_Leopard_1_01_4406.json',\n",
       "  'type': 'nom_analysis_activity_set'},\n",
       " {'url': 'https://nmdcdemo.emsl.pnnl.gov/nom/metadata/SBR_FC_N1_20-30_H2Oext_15Oct15_Leopard_1_01_4517.json',\n",
       "  'type': 'nom_analysis_activity_set'},\n",
       " {'url': 'https://nmdcdemo.emsl.pnnl.gov/nom/metadata/SBR_FC_N1_30-40_H2Oext_13Oct15_Leopard_1_01_4407.json',\n",
       "  'type': 'nom_analysis_activity_set'},\n",
       " {'url': 'https://nmdcdemo.emsl.pnnl.gov/nom/metadata/SBR_FC_N1_30-40_H2Oext_15Oct15_Leopard_1_01_4518.json',\n",
       "  'type': 'nom_analysis_activity_set'},\n",
       " {'url': 'https://nmdcdemo.emsl.pnnl.gov/nom/metadata/SBR_FC_N1_40-50_H2Oext_13Oct15_Leopard_1_01_4408.json',\n",
       "  'type': 'nom_analysis_activity_set'},\n",
       " {'url': 'https://nmdcdemo.emsl.pnnl.gov/nom/metadata/SBR_FC_N1_40-50_H2Oext_15Oct15_Leopard_1_01_4519.json',\n",
       "  'type': 'nom_analysis_activity_set'},\n",
       " {'url': 'https://nmdcdemo.emsl.pnnl.gov/nom/metadata/SBR_FC_N1_50-60_H2Oext_13Oct15_Leopard_1_01_4409.json',\n",
       "  'type': 'nom_analysis_activity_set'},\n",
       " {'url': 'https://nmdcdemo.emsl.pnnl.gov/nom/metadata/SBR_FC_N1_50-60_H2Oext_15Oct15_Leopard_1_01_4520.json',\n",
       "  'type': 'nom_analysis_activity_set'},\n",
       " {'url': 'https://nmdcdemo.emsl.pnnl.gov/nom/metadata/SBR_FC_N2_00-30_H2Oext_13Oct15_Leopard_1_01_4410.json',\n",
       "  'type': 'nom_analysis_activity_set'},\n",
       " {'url': 'https://nmdcdemo.emsl.pnnl.gov/nom/metadata/SBR_FC_N2_00-30_H2Oext_15Oct15_Leopard_1_01_4521.json',\n",
       "  'type': 'nom_analysis_activity_set'},\n",
       " {'url': 'https://nmdcdemo.emsl.pnnl.gov/nom/metadata/SBR_FC_N2_30-40_H2Oext_13Oct15_Leopard_1_01_4411.json',\n",
       "  'type': 'nom_analysis_activity_set'},\n",
       " {'url': 'https://nmdcdemo.emsl.pnnl.gov/nom/metadata/SBR_FC_N2_30-40_H2Oext_15Oct15_Leopard_1_01_4522.json',\n",
       "  'type': 'nom_analysis_activity_set'},\n",
       " {'url': 'https://nmdcdemo.emsl.pnnl.gov/nom/metadata/SBR_FC_N2_40-50_H2Oext_13Oct15_Leopard_1_01_4412.json',\n",
       "  'type': 'nom_analysis_activity_set'},\n",
       " {'url': 'https://nmdcdemo.emsl.pnnl.gov/nom/metadata/SBR_FC_N2_40-50_H2Oext_15Oct15_Leopard_1_01_4523.json',\n",
       "  'type': 'nom_analysis_activity_set'},\n",
       " {'url': 'https://nmdcdemo.emsl.pnnl.gov/nom/metadata/SBR_FC_N2_50-60_H2Oext_13Oct15_Leopard_1_01_4413.json',\n",
       "  'type': 'nom_analysis_activity_set'},\n",
       " {'url': 'https://nmdcdemo.emsl.pnnl.gov/nom/metadata/SBR_FC_N2_50-60_H2Oext_15Oct15_Leopard_1_01_4524.json',\n",
       "  'type': 'nom_analysis_activity_set'},\n",
       " {'url': 'https://nmdcdemo.emsl.pnnl.gov/nom/metadata/SBR_FC_N3_00-10_H2Oext_13Oct15_Leopard_1_01_4414.json',\n",
       "  'type': 'nom_analysis_activity_set'},\n",
       " {'url': 'https://nmdcdemo.emsl.pnnl.gov/nom/metadata/SBR_FC_N3_00-10_H2Oext_15Oct15_Leopard_1_01_4525.json',\n",
       "  'type': 'nom_analysis_activity_set'},\n",
       " {'url': 'https://nmdcdemo.emsl.pnnl.gov/nom/metadata/SBR_FC_N3_10-20_H2Oext_13Oct15_Leopard_1_01_4415.json',\n",
       "  'type': 'nom_analysis_activity_set'},\n",
       " {'url': 'https://nmdcdemo.emsl.pnnl.gov/nom/metadata/SBR_FC_N3_10-20_H2Oext_15Oct15_Leopard_1_01_4526.json',\n",
       "  'type': 'nom_analysis_activity_set'},\n",
       " {'url': 'https://nmdcdemo.emsl.pnnl.gov/nom/metadata/SBR_FC_N3_20-30_H2Oext_13Oct15_Leopard_1_01_4416.json',\n",
       "  'type': 'nom_analysis_activity_set'},\n",
       " {'url': 'https://nmdcdemo.emsl.pnnl.gov/nom/metadata/SBR_FC_N3_20-30_H2Oext_15Oct15_Leopard_1_01_4527.json',\n",
       "  'type': 'nom_analysis_activity_set'},\n",
       " {'url': 'https://nmdcdemo.emsl.pnnl.gov/nom/metadata/SBR_FC_N3_30-40_H2Oext_13Oct15_Leopard_1_01_4417.json',\n",
       "  'type': 'nom_analysis_activity_set'},\n",
       " {'url': 'https://nmdcdemo.emsl.pnnl.gov/nom/metadata/SBR_FC_N3_30-40_H2Oext_15Oct15_Leopard_1_01_4528.json',\n",
       "  'type': 'nom_analysis_activity_set'},\n",
       " {'url': 'https://nmdcdemo.emsl.pnnl.gov/nom/metadata/SBR_FC_N3_40-50_H2Oext_13Oct15_Leopard_1_01_4418.json',\n",
       "  'type': 'nom_analysis_activity_set'},\n",
       " {'url': 'https://nmdcdemo.emsl.pnnl.gov/nom/metadata/SBR_FC_N3_40-50_H2Oext_15Oct15_Leopard_1_01_4529.json',\n",
       "  'type': 'nom_analysis_activity_set'},\n",
       " {'url': 'https://nmdcdemo.emsl.pnnl.gov/nom/metadata/SBR_FC_N3_50-60_H2Oext_13Oct15_Leopard_1_01_4419.json',\n",
       "  'type': 'nom_analysis_activity_set'},\n",
       " {'url': 'https://nmdcdemo.emsl.pnnl.gov/nom/metadata/SBR_FC_N3_50-60_H2Oext_15Oct15_Leopard_1_01_4530.json',\n",
       "  'type': 'nom_analysis_activity_set'},\n",
       " {'url': 'https://nmdcdemo.emsl.pnnl.gov/nom/metadata/SBR_FC_S1_00-10_H2Oext_13Oct15_Leopard_1_01_4420.json',\n",
       "  'type': 'nom_analysis_activity_set'},\n",
       " {'url': 'https://nmdcdemo.emsl.pnnl.gov/nom/metadata/SBR_FC_S1_00-10_H2Oext_15Oct15_Leopard_1_01_4531.json',\n",
       "  'type': 'nom_analysis_activity_set'},\n",
       " {'url': 'https://nmdcdemo.emsl.pnnl.gov/nom/metadata/SBR_FC_S1_10-20_H2Oext_13Oct15_Leopard_1_01_4421.json',\n",
       "  'type': 'nom_analysis_activity_set'},\n",
       " {'url': 'https://nmdcdemo.emsl.pnnl.gov/nom/metadata/SBR_FC_S1_10-20_H2Oext_15Oct15_Leopard_1_01_4532.json',\n",
       "  'type': 'nom_analysis_activity_set'},\n",
       " {'url': 'https://nmdcdemo.emsl.pnnl.gov/nom/metadata/SBR_FC_S1_20-30_H2Oext_13Oct15_Leopard_1_01_4422.json',\n",
       "  'type': 'nom_analysis_activity_set'},\n",
       " {'url': 'https://nmdcdemo.emsl.pnnl.gov/nom/metadata/SBR_FC_S1_20-30_H2Oext_15Oct15_Leopard_1_01_4533.json',\n",
       "  'type': 'nom_analysis_activity_set'},\n",
       " {'url': 'https://nmdcdemo.emsl.pnnl.gov/nom/metadata/SBR_FC_S1_30-40_H2Oext_13Oct15_Leopard_1_01_4423.json',\n",
       "  'type': 'nom_analysis_activity_set'},\n",
       " {'url': 'https://nmdcdemo.emsl.pnnl.gov/nom/metadata/SBR_FC_S1_30-40_H2Oext_15Oct15_Leopard_1_01_4534.json',\n",
       "  'type': 'nom_analysis_activity_set'},\n",
       " {'url': 'https://nmdcdemo.emsl.pnnl.gov/nom/metadata/SBR_FC_S1_40-50_H2Oext_13Oct15_Leopard_1_01_4424.json',\n",
       "  'type': 'nom_analysis_activity_set'},\n",
       " {'url': 'https://nmdcdemo.emsl.pnnl.gov/nom/metadata/SBR_FC_S1_40-50_H2Oext_15Oct15_Leopard_1_01_4535.json',\n",
       "  'type': 'nom_analysis_activity_set'},\n",
       " {'url': 'https://nmdcdemo.emsl.pnnl.gov/nom/metadata/SBR_FC_S1_50-60_H2Oext_13Oct15_Leopard_1_01_4425.json',\n",
       "  'type': 'nom_analysis_activity_set'},\n",
       " {'url': 'https://nmdcdemo.emsl.pnnl.gov/nom/metadata/SBR_FC_S1_50-60_H2Oext_15Oct15_Leopard_1_01_4536.json',\n",
       "  'type': 'nom_analysis_activity_set'},\n",
       " {'url': 'https://nmdcdemo.emsl.pnnl.gov/nom/metadata/SBR_FC_S2_00-10_H2Oext_13Oct15_Leopard_1_01_4426.json',\n",
       "  'type': 'nom_analysis_activity_set'},\n",
       " {'url': 'https://nmdcdemo.emsl.pnnl.gov/nom/metadata/SBR_FC_S2_00-10_H2Oext_15Oct15_Leopard_1_01_4537.json',\n",
       "  'type': 'nom_analysis_activity_set'},\n",
       " {'url': 'https://nmdcdemo.emsl.pnnl.gov/nom/metadata/SBR_FC_S2_10-20_H2Oext_13Oct15_Leopard_1_01_4427.json',\n",
       "  'type': 'nom_analysis_activity_set'},\n",
       " {'url': 'https://nmdcdemo.emsl.pnnl.gov/nom/metadata/SBR_FC_S2_10-20_H2Oext_15Oct15_Leopard_1_01_4538.json',\n",
       "  'type': 'nom_analysis_activity_set'},\n",
       " {'url': 'https://nmdcdemo.emsl.pnnl.gov/nom/metadata/SBR_FC_S2_20-30_H2Oext_13Oct15_Leopard_1_01_4428.json',\n",
       "  'type': 'nom_analysis_activity_set'},\n",
       " {'url': 'https://nmdcdemo.emsl.pnnl.gov/nom/metadata/SBR_FC_S2_20-30_H2Oext_15Oct15_Leopard_1_01_4539.json',\n",
       "  'type': 'nom_analysis_activity_set'},\n",
       " {'url': 'https://nmdcdemo.emsl.pnnl.gov/nom/metadata/SBR_FC_S2_30-40_H2Oext_13Oct15_Leopard_1_01_4429.json',\n",
       "  'type': 'nom_analysis_activity_set'},\n",
       " {'url': 'https://nmdcdemo.emsl.pnnl.gov/nom/metadata/SBR_FC_S2_30-40_H2Oext_15Oct15_Leopard_1_01_4540.json',\n",
       "  'type': 'nom_analysis_activity_set'},\n",
       " {'url': 'https://nmdcdemo.emsl.pnnl.gov/nom/metadata/SBR_FC_S2_40-50_H2Oext_13Oct15_Leopard_1_01_4430.json',\n",
       "  'type': 'nom_analysis_activity_set'},\n",
       " {'url': 'https://nmdcdemo.emsl.pnnl.gov/nom/metadata/SBR_FC_S2_40-50_H2Oext_15Oct15_Leopard_1_01_4541.json',\n",
       "  'type': 'nom_analysis_activity_set'},\n",
       " {'url': 'https://nmdcdemo.emsl.pnnl.gov/nom/metadata/SBR_FC_S2_50-60_H2Oext_13Oct15_Leopard_1_01_4431.json',\n",
       "  'type': 'nom_analysis_activity_set'},\n",
       " {'url': 'https://nmdcdemo.emsl.pnnl.gov/nom/metadata/SBR_FC_S2_50-60_H2Oext_15Oct15_Leopard_1_01_4542.json',\n",
       "  'type': 'nom_analysis_activity_set'},\n",
       " {'url': 'https://nmdcdemo.emsl.pnnl.gov/nom/metadata/SBR_FC_S3_00-10_H2Oext_13Oct15_Leopard_1_01_4432.json',\n",
       "  'type': 'nom_analysis_activity_set'},\n",
       " {'url': 'https://nmdcdemo.emsl.pnnl.gov/nom/metadata/SBR_FC_S3_00-10_H2Oext_15Oct15_Leopard_1_01_4543.json',\n",
       "  'type': 'nom_analysis_activity_set'},\n",
       " {'url': 'https://nmdcdemo.emsl.pnnl.gov/nom/metadata/SBR_FC_S3_10-20_H2Oext_13Oct15_Leopard_1_01_4433.json',\n",
       "  'type': 'nom_analysis_activity_set'},\n",
       " {'url': 'https://nmdcdemo.emsl.pnnl.gov/nom/metadata/SBR_FC_S3_10-20_H2Oext_15Oct15_Leopard_1_01_4544.json',\n",
       "  'type': 'nom_analysis_activity_set'},\n",
       " {'url': 'https://nmdcdemo.emsl.pnnl.gov/nom/metadata/SBR_FC_S3_20-30_H2Oext_13Oct15_Leopard_1_01_4434.json',\n",
       "  'type': 'nom_analysis_activity_set'},\n",
       " {'url': 'https://nmdcdemo.emsl.pnnl.gov/nom/metadata/SBR_FC_S3_20-30_H2Oext_15Oct15_Leopard_1_01_4545.json',\n",
       "  'type': 'nom_analysis_activity_set'},\n",
       " {'url': 'https://nmdcdemo.emsl.pnnl.gov/nom/metadata/SBR_FC_S3_30-40_H2Oext_13Oct15_Leopard_1_01_4435.json',\n",
       "  'type': 'nom_analysis_activity_set'},\n",
       " {'url': 'https://nmdcdemo.emsl.pnnl.gov/nom/metadata/SBR_FC_S3_30-40_H2Oext_15Oct15_Leopard_1_01_4546.json',\n",
       "  'type': 'nom_analysis_activity_set'},\n",
       " {'url': 'https://nmdcdemo.emsl.pnnl.gov/nom/metadata/SBR_FC_S3_40-50_H2Oext_13Oct15_Leopard_1_01_4436.json',\n",
       "  'type': 'nom_analysis_activity_set'},\n",
       " {'url': 'https://nmdcdemo.emsl.pnnl.gov/nom/metadata/SBR_FC_S3_40-50_H2Oext_15Oct15_Leopard_1_01_4547.json',\n",
       "  'type': 'nom_analysis_activity_set'},\n",
       " {'url': 'https://nmdcdemo.emsl.pnnl.gov/nom/metadata/SBR_FC_S3_50-60_H2Oext_13Oct15_Leopard_1_01_4437.json',\n",
       "  'type': 'nom_analysis_activity_set'},\n",
       " {'url': 'https://nmdcdemo.emsl.pnnl.gov/nom/metadata/SBR_FC_S3_50-60_H2Oext_15Oct15_Leopard_1_01_4548.json',\n",
       "  'type': 'nom_analysis_activity_set'},\n",
       " {'url': 'https://nmdcdemo.emsl.pnnl.gov/nom/metadata/SBR_Spring_2014_FC_N1_00-10_H2Oext_19Oct15_Leopard_1_01_4712.json',\n",
       "  'type': 'nom_analysis_activity_set'},\n",
       " {'url': 'https://nmdcdemo.emsl.pnnl.gov/nom/metadata/SBR_Spring_2014_FC_N1_10-20_H2Oext_19Oct15_Leopard_1_01_4713.json',\n",
       "  'type': 'nom_analysis_activity_set'},\n",
       " {'url': 'https://nmdcdemo.emsl.pnnl.gov/nom/metadata/SBR_Spring_2014_FC_N1_20-30_H2Oext_19Oct15_Leopard_1_01_4714.json',\n",
       "  'type': 'nom_analysis_activity_set'},\n",
       " {'url': 'https://nmdcdemo.emsl.pnnl.gov/nom/metadata/SBR_Spring_2014_FC_N1_30-40_H2Oext_19Oct15_Leopard_1_01_4715.json',\n",
       "  'type': 'nom_analysis_activity_set'},\n",
       " {'url': 'https://nmdcdemo.emsl.pnnl.gov/nom/metadata/SBR_Spring_2014_FC_N1_40-50_H2Oext_19Oct15_Leopard_1_01_4716.json',\n",
       "  'type': 'nom_analysis_activity_set'},\n",
       " {'url': 'https://nmdcdemo.emsl.pnnl.gov/nom/metadata/SBR_Spring_2014_FC_N1_50-60_H2Oext_19Oct15_Leopard_1_01_4717.json',\n",
       "  'type': 'nom_analysis_activity_set'},\n",
       " {'url': 'https://nmdcdemo.emsl.pnnl.gov/nom/metadata/SBR_Spring_2014_FC_N2_00-30_H2Oext_19Oct15_Leopard_1_01_4718.json',\n",
       "  'type': 'nom_analysis_activity_set'},\n",
       " {'url': 'https://nmdcdemo.emsl.pnnl.gov/nom/metadata/SBR_Spring_2014_FC_N2_30-40_H2Oext_19Oct15_Leopard_1_01_4719.json',\n",
       "  'type': 'nom_analysis_activity_set'},\n",
       " {'url': 'https://nmdcdemo.emsl.pnnl.gov/nom/metadata/SBR_Spring_2014_FC_N2_40-50_H2Oext_19Oct15_Leopard_1_01_4720.json',\n",
       "  'type': 'nom_analysis_activity_set'},\n",
       " {'url': 'https://nmdcdemo.emsl.pnnl.gov/nom/metadata/SBR_Spring_2014_FC_N2_50-60_H2Oext_19Oct15_Leopard_1_01_4721.json',\n",
       "  'type': 'nom_analysis_activity_set'},\n",
       " {'url': 'https://nmdcdemo.emsl.pnnl.gov/nom/metadata/SBR_Spring_2014_FC_N3_00-10_H2Oext_19Oct15_Leopard_1_01_4722.json',\n",
       "  'type': 'nom_analysis_activity_set'},\n",
       " {'url': 'https://nmdcdemo.emsl.pnnl.gov/nom/metadata/SBR_Spring_2014_FC_N3_10-20_H2Oext_19Oct15_Leopard_1_01_4723.json',\n",
       "  'type': 'nom_analysis_activity_set'},\n",
       " {'url': 'https://nmdcdemo.emsl.pnnl.gov/nom/metadata/SBR_Spring_2014_FC_N3_20-30_H2Oext_19Oct15_Leopard_1_01_4724.json',\n",
       "  'type': 'nom_analysis_activity_set'},\n",
       " {'url': 'https://nmdcdemo.emsl.pnnl.gov/nom/metadata/SBR_Spring_2014_FC_N3_30-40_H2Oext_19Oct15_Leopard_1_01_4725.json',\n",
       "  'type': 'nom_analysis_activity_set'},\n",
       " {'url': 'https://nmdcdemo.emsl.pnnl.gov/nom/metadata/SBR_Spring_2014_FC_N3_40-50_H2Oext_19Oct15_Leopard_1_01_4726.json',\n",
       "  'type': 'nom_analysis_activity_set'},\n",
       " {'url': 'https://nmdcdemo.emsl.pnnl.gov/nom/metadata/SBR_Spring_2014_FC_N3_50-60_H2Oext_19Oct15_Leopard_1_01_4727.json',\n",
       "  'type': 'nom_analysis_activity_set'},\n",
       " {'url': 'https://nmdcdemo.emsl.pnnl.gov/nom/metadata/SBR_Spring_2014_FC_S1_00-10_H2Oext_19Oct15_Leopard_1_01_4728.json',\n",
       "  'type': 'nom_analysis_activity_set'},\n",
       " {'url': 'https://nmdcdemo.emsl.pnnl.gov/nom/metadata/SBR_Spring_2014_FC_S1_10-20_H2Oext_19Oct15_Leopard_1_01_4729.json',\n",
       "  'type': 'nom_analysis_activity_set'},\n",
       " {'url': 'https://nmdcdemo.emsl.pnnl.gov/nom/metadata/SBR_Spring_2014_FC_S1_20-30_H2Oext_19Oct15_Leopard_1_01_4730.json',\n",
       "  'type': 'nom_analysis_activity_set'},\n",
       " {'url': 'https://nmdcdemo.emsl.pnnl.gov/nom/metadata/SBR_Spring_2014_FC_S1_30-40_H2Oext_19Oct15_Leopard_1_01_4731.json',\n",
       "  'type': 'nom_analysis_activity_set'},\n",
       " {'url': 'https://nmdcdemo.emsl.pnnl.gov/nom/metadata/SBR_Spring_2014_FC_S1_40-50_H2Oext_19Oct15_Leopard_1_01_4732.json',\n",
       "  'type': 'nom_analysis_activity_set'},\n",
       " {'url': 'https://nmdcdemo.emsl.pnnl.gov/nom/metadata/SBR_Spring_2014_FC_S1_50-60_H2Oext_19Oct15_Leopard_1_01_4733.json',\n",
       "  'type': 'nom_analysis_activity_set'},\n",
       " {'url': 'https://nmdcdemo.emsl.pnnl.gov/nom/metadata/SBR_Spring_2014_FC_S2_00-10_H2Oext_19Oct15_Leopard_1_01_4734.json',\n",
       "  'type': 'nom_analysis_activity_set'},\n",
       " {'url': 'https://nmdcdemo.emsl.pnnl.gov/nom/metadata/SBR_Spring_2014_FC_S2_10-20_H2Oext_19Oct15_Leopard_1_01_4735.json',\n",
       "  'type': 'nom_analysis_activity_set'},\n",
       " {'url': 'https://nmdcdemo.emsl.pnnl.gov/nom/metadata/SBR_Spring_2014_FC_S2_20-30_H2Oext_19Oct15_Leopard_1_01_4736.json',\n",
       "  'type': 'nom_analysis_activity_set'},\n",
       " {'url': 'https://nmdcdemo.emsl.pnnl.gov/nom/metadata/SBR_Spring_2014_FC_S2_30-40_H2Oext_19Oct15_Leopard_1_01_4737.json',\n",
       "  'type': 'nom_analysis_activity_set'},\n",
       " {'url': 'https://nmdcdemo.emsl.pnnl.gov/nom/metadata/SBR_Spring_2014_FC_S2_40-50_H2Oext_19Oct15_Leopard_1_01_4738.json',\n",
       "  'type': 'nom_analysis_activity_set'},\n",
       " {'url': 'https://nmdcdemo.emsl.pnnl.gov/nom/metadata/SBR_Spring_2014_FC_S2_50-60_H2Oext_19Oct15_Leopard_1_01_4739.json',\n",
       "  'type': 'nom_analysis_activity_set'},\n",
       " {'url': 'https://nmdcdemo.emsl.pnnl.gov/nom/metadata/SBR_Spring_2014_FC_S3_00-10_H2Oext_19Oct15_Leopard_1_01_4740.json',\n",
       "  'type': 'nom_analysis_activity_set'},\n",
       " {'url': 'https://nmdcdemo.emsl.pnnl.gov/nom/metadata/SBR_Spring_2014_FC_S3_10-20_H2Oext_19Oct15_Leopard_1_01_4741.json',\n",
       "  'type': 'nom_analysis_activity_set'},\n",
       " {'url': 'https://nmdcdemo.emsl.pnnl.gov/nom/metadata/SBR_Spring_2014_FC_S3_20-30_H2Oext_19Oct15_Leopard_1_01_4742.json',\n",
       "  'type': 'nom_analysis_activity_set'},\n",
       " {'url': 'https://nmdcdemo.emsl.pnnl.gov/nom/metadata/SBR_Spring_2014_FC_S3_30-40_H2Oext_19Oct15_Leopard_1_01_4743.json',\n",
       "  'type': 'nom_analysis_activity_set'},\n",
       " {'url': 'https://nmdcdemo.emsl.pnnl.gov/nom/metadata/SBR_Spring_2014_FC_S3_40-50_H2Oext_19Oct15_Leopard_1_01_4744.json',\n",
       "  'type': 'nom_analysis_activity_set'},\n",
       " {'url': 'https://nmdcdemo.emsl.pnnl.gov/nom/metadata/SBR_Spring_2014_FC_S3_50-60_H2Oext_19Oct15_Leopard_1_01_4745.json',\n",
       "  'type': 'nom_analysis_activity_set'},\n",
       " {'url': 'https://nmdcdemo.emsl.pnnl.gov/nom/metadata/Unground_SBR_Spring_2014_FC_N1_00-10_H2Oext_22Oct15_Leopard_1_01_4788.json',\n",
       "  'type': 'nom_analysis_activity_set'},\n",
       " {'url': 'https://nmdcdemo.emsl.pnnl.gov/nom/metadata/Unground_SBR_Spring_2014_FC_N1_10-20_H2Oext_22Oct15_Leopard_1_01_4789.json',\n",
       "  'type': 'nom_analysis_activity_set'},\n",
       " {'url': 'https://nmdcdemo.emsl.pnnl.gov/nom/metadata/Unground_SBR_Spring_2014_FC_N1_20-30_H2Oext_22Oct15_Leopard_1_01_4790.json',\n",
       "  'type': 'nom_analysis_activity_set'},\n",
       " {'url': 'https://nmdcdemo.emsl.pnnl.gov/nom/metadata/Unground_SBR_Spring_2014_FC_N1_30-40_H2Oext_22Oct15_Leopard_1_01_4791.json',\n",
       "  'type': 'nom_analysis_activity_set'},\n",
       " {'url': 'https://nmdcdemo.emsl.pnnl.gov/nom/metadata/Unground_SBR_Spring_2014_FC_N1_40-50_H2Oext_22Oct15_Leopard_1_01_4792.json',\n",
       "  'type': 'nom_analysis_activity_set'},\n",
       " {'url': 'https://nmdcdemo.emsl.pnnl.gov/nom/metadata/Unground_SBR_Spring_2014_FC_N1_50-60_H2Oext_22Oct15_Leopard_1_01_4793.json',\n",
       "  'type': 'nom_analysis_activity_set'},\n",
       " {'url': 'https://nmdcdemo.emsl.pnnl.gov/nom/metadata/Unground_SBR_Spring_2014_FC_N2_00-30_H2Oext_22Oct15_Leopard_1_01_4794.json',\n",
       "  'type': 'nom_analysis_activity_set'},\n",
       " {'url': 'https://nmdcdemo.emsl.pnnl.gov/nom/metadata/Unground_SBR_Spring_2014_FC_N2_30-40_H2Oext_22Oct15_Leopard_1_01_4795.json',\n",
       "  'type': 'nom_analysis_activity_set'},\n",
       " {'url': 'https://nmdcdemo.emsl.pnnl.gov/nom/metadata/Unground_SBR_Spring_2014_FC_N2_40-50_H2Oext_22Oct15_Leopard_1_01_4796.json',\n",
       "  'type': 'nom_analysis_activity_set'},\n",
       " {'url': 'https://nmdcdemo.emsl.pnnl.gov/nom/metadata/Unground_SBR_Spring_2014_FC_N2_50-60_H2Oext_22Oct15_Leopard_1_01_4797.json',\n",
       "  'type': 'nom_analysis_activity_set'},\n",
       " {'url': 'https://nmdcdemo.emsl.pnnl.gov/nom/metadata/Unground_SBR_Spring_2014_FC_N3_00-10_H2Oext_22Oct15_Leopard_1_01_4798.json',\n",
       "  'type': 'nom_analysis_activity_set'},\n",
       " {'url': 'https://nmdcdemo.emsl.pnnl.gov/nom/metadata/Unground_SBR_Spring_2014_FC_N3_10-20_H2Oext_22Oct15_Leopard_1_01_4799.json',\n",
       "  'type': 'nom_analysis_activity_set'},\n",
       " {'url': 'https://nmdcdemo.emsl.pnnl.gov/nom/metadata/Unground_SBR_Spring_2014_FC_N3_20-30_H2Oext_22Oct15_Leopard_1_01_4800.json',\n",
       "  'type': 'nom_analysis_activity_set'},\n",
       " {'url': 'https://nmdcdemo.emsl.pnnl.gov/nom/metadata/Unground_SBR_Spring_2014_FC_N3_30-40_H2Oext_22Oct15_Leopard_1_01_4801.json',\n",
       "  'type': 'nom_analysis_activity_set'},\n",
       " {'url': 'https://nmdcdemo.emsl.pnnl.gov/nom/metadata/Unground_SBR_Spring_2014_FC_N3_40-50_H2Oext_22Oct15_Leopard_1_01_4802.json',\n",
       "  'type': 'nom_analysis_activity_set'},\n",
       " {'url': 'https://nmdcdemo.emsl.pnnl.gov/nom/metadata/Unground_SBR_Spring_2014_FC_N3_50-60_H2Oext_22Oct15_Leopard_1_01_4803.json',\n",
       "  'type': 'nom_analysis_activity_set'},\n",
       " {'url': 'https://nmdcdemo.emsl.pnnl.gov/nom/metadata/Unground_SBR_Spring_2014_FC_S1_00-10_H2Oext_22Oct15_Leopard_1_01_4804.json',\n",
       "  'type': 'nom_analysis_activity_set'},\n",
       " {'url': 'https://nmdcdemo.emsl.pnnl.gov/nom/metadata/Unground_SBR_Spring_2014_FC_S1_10-20_H2Oext_22Oct15_Leopard_1_01_4805.json',\n",
       "  'type': 'nom_analysis_activity_set'},\n",
       " {'url': 'https://nmdcdemo.emsl.pnnl.gov/nom/metadata/Unground_SBR_Spring_2014_FC_S1_20-30_H2Oext_22Oct15_Leopard_1_01_4806.json',\n",
       "  'type': 'nom_analysis_activity_set'},\n",
       " {'url': 'https://nmdcdemo.emsl.pnnl.gov/nom/metadata/Unground_SBR_Spring_2014_FC_S1_30-40_H2Oext_22Oct15_Leopard_1_01_4807.json',\n",
       "  'type': 'nom_analysis_activity_set'},\n",
       " {'url': 'https://nmdcdemo.emsl.pnnl.gov/nom/metadata/Unground_SBR_Spring_2014_FC_S1_40-50_H2Oext_22Oct15_Leopard_1_01_4808.json',\n",
       "  'type': 'nom_analysis_activity_set'},\n",
       " {'url': 'https://nmdcdemo.emsl.pnnl.gov/nom/metadata/Unground_SBR_Spring_2014_FC_S1_50-60_H2Oext_22Oct15_Leopard_1_01_4809.json',\n",
       "  'type': 'nom_analysis_activity_set'},\n",
       " {'url': 'https://nmdcdemo.emsl.pnnl.gov/nom/metadata/Unground_SBR_Spring_2014_FC_S2_00-10_H2Oext_22Oct15_Leopard_1_01_4810.json',\n",
       "  'type': 'nom_analysis_activity_set'},\n",
       " {'url': 'https://nmdcdemo.emsl.pnnl.gov/nom/metadata/Unground_SBR_Spring_2014_FC_S2_10-20_H2Oext_22Oct15_Leopard_1_01_4811.json',\n",
       "  'type': 'nom_analysis_activity_set'},\n",
       " {'url': 'https://nmdcdemo.emsl.pnnl.gov/nom/metadata/Unground_SBR_Spring_2014_FC_S2_20-30_H2Oext_22Oct15_Leopard_1_01_4812.json',\n",
       "  'type': 'nom_analysis_activity_set'},\n",
       " {'url': 'https://nmdcdemo.emsl.pnnl.gov/nom/metadata/Unground_SBR_Spring_2014_FC_S2_30-40_H2Oext_22Oct15_Leopard_1_01_4813.json',\n",
       "  'type': 'nom_analysis_activity_set'},\n",
       " {'url': 'https://nmdcdemo.emsl.pnnl.gov/nom/metadata/Unground_SBR_Spring_2014_FC_S2_40-50_H2Oext_22Oct15_Leopard_1_01_4814.json',\n",
       "  'type': 'nom_analysis_activity_set'},\n",
       " {'url': 'https://nmdcdemo.emsl.pnnl.gov/nom/metadata/Unground_SBR_Spring_2014_FC_S2_50-60_H2Oext_22Oct15_Leopard_1_01_4815.json',\n",
       "  'type': 'nom_analysis_activity_set'},\n",
       " {'url': 'https://nmdcdemo.emsl.pnnl.gov/nom/metadata/Unground_SBR_Spring_2014_FC_S3_00-10_H2Oext_22Oct15_Leopard_1_01_4816.json',\n",
       "  'type': 'nom_analysis_activity_set'},\n",
       " {'url': 'https://nmdcdemo.emsl.pnnl.gov/nom/metadata/Unground_SBR_Spring_2014_FC_S3_10-20_H2Oext_22Oct15_Leopard_1_01_4817.json',\n",
       "  'type': 'nom_analysis_activity_set'},\n",
       " {'url': 'https://nmdcdemo.emsl.pnnl.gov/nom/metadata/Unground_SBR_Spring_2014_FC_S3_20-30_H2Oext_22Oct15_Leopard_1_01_4818.json',\n",
       "  'type': 'nom_analysis_activity_set'},\n",
       " {'url': 'https://nmdcdemo.emsl.pnnl.gov/nom/metadata/Unground_SBR_Spring_2014_FC_S3_30-40_H2Oext_22Oct15_Leopard_1_01_4819.json',\n",
       "  'type': 'nom_analysis_activity_set'},\n",
       " {'url': 'https://nmdcdemo.emsl.pnnl.gov/nom/metadata/Unground_SBR_Spring_2014_FC_S3_40-50_H2Oext_22Oct15_Leopard_1_01_4820.json',\n",
       "  'type': 'nom_analysis_activity_set'},\n",
       " {'url': 'https://nmdcdemo.emsl.pnnl.gov/nom/metadata/Unground_SBR_Spring_2014_FC_S3_50-60_H2Oext_22Oct15_Leopard_1_01_4821.json',\n",
       "  'type': 'nom_analysis_activity_set'},\n",
       " {'url': 'https://nmdcdemo.emsl.pnnl.gov/nom/metadata/Brodie_381_w_r2_29Jan19_HESI_neg.json',\n",
       "  'type': 'nom_analysis_activity_set'},\n",
       " {'url': 'https://nmdcdemo.emsl.pnnl.gov/nom/metadata/Brodie_381_w_r3_31Jan19_HESI_neg.json',\n",
       "  'type': 'nom_analysis_activity_set'},\n",
       " {'url': 'https://nmdcdemo.emsl.pnnl.gov/nom/metadata/Brodie_381_H2O_11Mar19_R2_HESI_Neg.json',\n",
       "  'type': 'nom_analysis_activity_set'},\n",
       " {'url': 'https://nmdcdemo.emsl.pnnl.gov/nom/metadata/Brodie_381_MeOH_R1_19Mar19_HESI_Neg.json',\n",
       "  'type': 'nom_analysis_activity_set'},\n",
       " {'url': 'https://nmdcdemo.emsl.pnnl.gov/nom/metadata/Brodie_381_MeOH_R2_21Mar19_HESI_Neg.json',\n",
       "  'type': 'nom_analysis_activity_set'},\n",
       " {'url': 'https://nmdcdemo.emsl.pnnl.gov/nom/metadata/Brodie_381_MeOH_R3_23Mar19_HESI_Neg.json',\n",
       "  'type': 'nom_analysis_activity_set'},\n",
       " {'url': 'https://nmdcdemo.emsl.pnnl.gov/nom/metadata/Brodie_381_H2O_R3_23Mar19_HESI_Neg.json',\n",
       "  'type': 'nom_analysis_activity_set'},\n",
       " {'url': 'https://nmdcdemo.emsl.pnnl.gov/nom/metadata/Brodie_380_w_r1_25Jan19_HESI_neg.json',\n",
       "  'type': 'nom_analysis_activity_set'},\n",
       " {'url': 'https://nmdcdemo.emsl.pnnl.gov/nom/metadata/Brodie_380_w_r2_29Jan19_HESI_neg.json',\n",
       "  'type': 'nom_analysis_activity_set'},\n",
       " {'url': 'https://nmdcdemo.emsl.pnnl.gov/nom/metadata/Brodie_380_w_r3_31Jan19_HESI_neg.json',\n",
       "  'type': 'nom_analysis_activity_set'},\n",
       " {'url': 'https://nmdcdemo.emsl.pnnl.gov/nom/metadata/Brodie_380_H2O_18Mar19_R1_HESI_Neg.json',\n",
       "  'type': 'nom_analysis_activity_set'},\n",
       " {'url': 'https://nmdcdemo.emsl.pnnl.gov/nom/metadata/Brodie_380_H2O_18Mar19_R2_HESI_Neg.json',\n",
       "  'type': 'nom_analysis_activity_set'},\n",
       " {'url': 'https://nmdcdemo.emsl.pnnl.gov/nom/metadata/Brodie_380_H2O_18Mar19_R3_HESI_Neg.json',\n",
       "  'type': 'nom_analysis_activity_set'},\n",
       " {'url': 'https://nmdcdemo.emsl.pnnl.gov/nom/metadata/Brodie_380_MeOH_R1_19Mar19_HESI_Neg.json',\n",
       "  'type': 'nom_analysis_activity_set'},\n",
       " {'url': 'https://nmdcdemo.emsl.pnnl.gov/nom/metadata/Brodie_380_MeOH_R2_21Mar19_HESI_Neg.json',\n",
       "  'type': 'nom_analysis_activity_set'},\n",
       " {'url': 'https://nmdcdemo.emsl.pnnl.gov/nom/metadata/Brodie_380_MeOH_R3_23Mar19_HESI_Neg.json',\n",
       "  'type': 'nom_analysis_activity_set'},\n",
       " {'url': 'https://nmdcdemo.emsl.pnnl.gov/nom/metadata/Brodie_379_w_r1_25Jan19_HESI_neg.json',\n",
       "  'type': 'nom_analysis_activity_set'},\n",
       " {'url': 'https://nmdcdemo.emsl.pnnl.gov/nom/metadata/Brodie_379_w_r2_29Jan19_HESI_neg.json',\n",
       "  'type': 'nom_analysis_activity_set'},\n",
       " {'url': 'https://nmdcdemo.emsl.pnnl.gov/nom/metadata/Brodie_379_w_r3_31Jan19_HESI_neg.json',\n",
       "  'type': 'nom_analysis_activity_set'},\n",
       " {'url': 'https://nmdcdemo.emsl.pnnl.gov/nom/metadata/Brodie_379_H2O_14Mar19_R1_HESI_Neg.json',\n",
       "  'type': 'nom_analysis_activity_set'},\n",
       " {'url': 'https://nmdcdemo.emsl.pnnl.gov/nom/metadata/Brodie_379_H2O_14Mar19_R2_HESI_Neg.json',\n",
       "  'type': 'nom_analysis_activity_set'},\n",
       " {'url': 'https://nmdcdemo.emsl.pnnl.gov/nom/metadata/Brodie_379_H2O_18Mar19_R3_HESI_Neg.json',\n",
       "  'type': 'nom_analysis_activity_set'},\n",
       " {'url': 'https://nmdcdemo.emsl.pnnl.gov/nom/metadata/Brodie_379_MeOH_R1_19Mar19_HESI_Neg.json',\n",
       "  'type': 'nom_analysis_activity_set'},\n",
       " {'url': 'https://nmdcdemo.emsl.pnnl.gov/nom/metadata/Brodie_379_MeOH_R2_21Mar19_HESI_Neg.json',\n",
       "  'type': 'nom_analysis_activity_set'},\n",
       " {'url': 'https://nmdcdemo.emsl.pnnl.gov/nom/metadata/Brodie_379_MeOH_R3_23Mar19_HESI_Neg.json',\n",
       "  'type': 'nom_analysis_activity_set'},\n",
       " {'url': 'https://nmdcdemo.emsl.pnnl.gov/nom/metadata/Brodie_369_w_r1_25Jan19_HESI_neg.json',\n",
       "  'type': 'nom_analysis_activity_set'},\n",
       " {'url': 'https://nmdcdemo.emsl.pnnl.gov/nom/metadata/Brodie_369_w_r2_29Jan19_HESI_neg.json',\n",
       "  'type': 'nom_analysis_activity_set'},\n",
       " {'url': 'https://nmdcdemo.emsl.pnnl.gov/nom/metadata/Brodie_369_w_r3_31Jan19_HESI_neg.json',\n",
       "  'type': 'nom_analysis_activity_set'},\n",
       " {'url': 'https://nmdcdemo.emsl.pnnl.gov/nom/metadata/Brodie_369_H2O_14Mar19_R1_HESI_Neg.json',\n",
       "  'type': 'nom_analysis_activity_set'},\n",
       " {'url': 'https://nmdcdemo.emsl.pnnl.gov/nom/metadata/Brodie_369_H2O_14Mar19_R2_HESI_Neg.json',\n",
       "  'type': 'nom_analysis_activity_set'},\n",
       " {'url': 'https://nmdcdemo.emsl.pnnl.gov/nom/metadata/Brodie_369_H2O_18Mar19_R3_HESI_Neg.json',\n",
       "  'type': 'nom_analysis_activity_set'},\n",
       " {'url': 'https://nmdcdemo.emsl.pnnl.gov/nom/metadata/Brodie_369_MeOH_R1_19Mar19_HESI_Neg.json',\n",
       "  'type': 'nom_analysis_activity_set'},\n",
       " {'url': 'https://nmdcdemo.emsl.pnnl.gov/nom/metadata/Brodie_369_MeOH_R2_21Mar19_HESI_Neg.json',\n",
       "  'type': 'nom_analysis_activity_set'},\n",
       " {'url': 'https://nmdcdemo.emsl.pnnl.gov/nom/metadata/Brodie_369_MeOH_R3_23Mar19_HESI_Neg.json',\n",
       "  'type': 'nom_analysis_activity_set'},\n",
       " {'url': 'https://nmdcdemo.emsl.pnnl.gov/nom/metadata/Brodie_368_w_r1_25Jan19_HESI_neg.json',\n",
       "  'type': 'nom_analysis_activity_set'},\n",
       " {'url': 'https://nmdcdemo.emsl.pnnl.gov/nom/metadata/Brodie_368_w_r2_29Jan19_HESI_neg.json',\n",
       "  'type': 'nom_analysis_activity_set'},\n",
       " {'url': 'https://nmdcdemo.emsl.pnnl.gov/nom/metadata/Brodie_368_w_r3_31Jan19_HESI_neg.json',\n",
       "  'type': 'nom_analysis_activity_set'},\n",
       " {'url': 'https://nmdcdemo.emsl.pnnl.gov/nom/metadata/Brodie_368_H2O_11Mar19_R1_HESI_Neg.json',\n",
       "  'type': 'nom_analysis_activity_set'},\n",
       " {'url': 'https://nmdcdemo.emsl.pnnl.gov/nom/metadata/Brodie_368_H2O_11Mar19_R2_HESI_Neg.json',\n",
       "  'type': 'nom_analysis_activity_set'},\n",
       " {'url': 'https://nmdcdemo.emsl.pnnl.gov/nom/metadata/Brodie_368_MeOH_R1_19Mar19_HESI_Neg.json',\n",
       "  'type': 'nom_analysis_activity_set'},\n",
       " {'url': 'https://nmdcdemo.emsl.pnnl.gov/nom/metadata/Brodie_368_MeOH_R2_21Mar19_HESI_Neg.json',\n",
       "  'type': 'nom_analysis_activity_set'},\n",
       " {'url': 'https://nmdcdemo.emsl.pnnl.gov/nom/metadata/Brodie_368_MeOH_R3_23Mar19_HESI_Neg.json',\n",
       "  'type': 'nom_analysis_activity_set'},\n",
       " {'url': 'https://nmdcdemo.emsl.pnnl.gov/nom/metadata/Brodie_368_H2O_R3_23Mar19_HESI_Neg.json',\n",
       "  'type': 'nom_analysis_activity_set'},\n",
       " {'url': 'https://nmdcdemo.emsl.pnnl.gov/nom/metadata/Brodie_367_w_r1_25Jan19_HESI_neg.json',\n",
       "  'type': 'nom_analysis_activity_set'},\n",
       " {'url': 'https://nmdcdemo.emsl.pnnl.gov/nom/metadata/Brodie_367_w_r2_29Jan19_HESI_neg.json',\n",
       "  'type': 'nom_analysis_activity_set'},\n",
       " {'url': 'https://nmdcdemo.emsl.pnnl.gov/nom/metadata/Brodie_367_w_r3_31Jan19_HESI_neg.json',\n",
       "  'type': 'nom_analysis_activity_set'},\n",
       " {'url': 'https://nmdcdemo.emsl.pnnl.gov/nom/metadata/Brodie_367_H2O_11Mar19_R1_HESI_Neg.json',\n",
       "  'type': 'nom_analysis_activity_set'},\n",
       " {'url': 'https://nmdcdemo.emsl.pnnl.gov/nom/metadata/Brodie_367_MeOH_R1_19Mar19_HESI_Neg.json',\n",
       "  'type': 'nom_analysis_activity_set'},\n",
       " {'url': 'https://nmdcdemo.emsl.pnnl.gov/nom/metadata/Brodie_367_MeOH_R2_21Mar19_HESI_Neg.json',\n",
       "  'type': 'nom_analysis_activity_set'},\n",
       " {'url': 'https://nmdcdemo.emsl.pnnl.gov/nom/metadata/Brodie_367_MeOH_R3_23Mar19_HESI_Neg.json',\n",
       "  'type': 'nom_analysis_activity_set'},\n",
       " {'url': 'https://nmdcdemo.emsl.pnnl.gov/nom/metadata/Brodie_357_w_r1_25Jan19_HESI_neg.json',\n",
       "  'type': 'nom_analysis_activity_set'},\n",
       " {'url': 'https://nmdcdemo.emsl.pnnl.gov/nom/metadata/Brodie_357_w_r2_29Jan19_HESI_neg.json',\n",
       "  'type': 'nom_analysis_activity_set'},\n",
       " {'url': 'https://nmdcdemo.emsl.pnnl.gov/nom/metadata/Brodie_357_w_r3_31Jan19_HESI_neg.json',\n",
       "  'type': 'nom_analysis_activity_set'},\n",
       " {'url': 'https://nmdcdemo.emsl.pnnl.gov/nom/metadata/Brodie_357_H2O_11Mar19_R2_HESI_Neg.json',\n",
       "  'type': 'nom_analysis_activity_set'},\n",
       " {'url': 'https://nmdcdemo.emsl.pnnl.gov/nom/metadata/Brodie_357_MeOH_R1_19Mar19_HESI_Neg.json',\n",
       "  'type': 'nom_analysis_activity_set'},\n",
       " {'url': 'https://nmdcdemo.emsl.pnnl.gov/nom/metadata/Brodie_357_MeOH_R2_21Mar19_HESI_Neg.json',\n",
       "  'type': 'nom_analysis_activity_set'},\n",
       " {'url': 'https://nmdcdemo.emsl.pnnl.gov/nom/metadata/Brodie_357_MeOH_R3_23Mar19_HESI_Neg.json',\n",
       "  'type': 'nom_analysis_activity_set'},\n",
       " {'url': 'https://nmdcdemo.emsl.pnnl.gov/nom/metadata/Brodie_356_w_r1_25Jan19_HESI_neg.json',\n",
       "  'type': 'nom_analysis_activity_set'},\n",
       " {'url': 'https://nmdcdemo.emsl.pnnl.gov/nom/metadata/Brodie_356_w_r2_29Jan19_HESI_neg.json',\n",
       "  'type': 'nom_analysis_activity_set'},\n",
       " {'url': 'https://nmdcdemo.emsl.pnnl.gov/nom/metadata/Brodie_356_w_r3_31Jan19_HESI_neg.json',\n",
       "  'type': 'nom_analysis_activity_set'},\n",
       " {'url': 'https://nmdcdemo.emsl.pnnl.gov/nom/metadata/Brodie_356_H2O_14Mar19_R1_HESI_Neg.json',\n",
       "  'type': 'nom_analysis_activity_set'},\n",
       " {'url': 'https://nmdcdemo.emsl.pnnl.gov/nom/metadata/Brodie_356_H2O_14Mar19_R3_HESI_Neg.json',\n",
       "  'type': 'nom_analysis_activity_set'},\n",
       " {'url': 'https://nmdcdemo.emsl.pnnl.gov/nom/metadata/Brodie_356_H2O_18Mar19_R2_HESI_Neg.json',\n",
       "  'type': 'nom_analysis_activity_set'},\n",
       " {'url': 'https://nmdcdemo.emsl.pnnl.gov/nom/metadata/Brodie_356_MeOH_R1_19Mar19_HESI_Neg.json',\n",
       "  'type': 'nom_analysis_activity_set'},\n",
       " {'url': 'https://nmdcdemo.emsl.pnnl.gov/nom/metadata/Brodie_356_MeOH_R2_21Mar19_HESI_Neg.json',\n",
       "  'type': 'nom_analysis_activity_set'},\n",
       " {'url': 'https://nmdcdemo.emsl.pnnl.gov/nom/metadata/Brodie_356_MeOH_R3_23Mar19_HESI_Neg.json',\n",
       "  'type': 'nom_analysis_activity_set'},\n",
       " {'url': 'https://nmdcdemo.emsl.pnnl.gov/nom/metadata/Brodie_355_w_r1_25Jan19_HESI_neg.json',\n",
       "  'type': 'nom_analysis_activity_set'},\n",
       " {'url': 'https://nmdcdemo.emsl.pnnl.gov/nom/metadata/Brodie_355_w_r2_29Jan19_HESI_neg.json',\n",
       "  'type': 'nom_analysis_activity_set'},\n",
       " {'url': 'https://nmdcdemo.emsl.pnnl.gov/nom/metadata/Brodie_355_w_r3_31Jan19_HESI_neg.json',\n",
       "  'type': 'nom_analysis_activity_set'},\n",
       " {'url': 'https://nmdcdemo.emsl.pnnl.gov/nom/metadata/Brodie_355_H2O_11Mar19_R1_HESI_Neg-rr.json',\n",
       "  'type': 'nom_analysis_activity_set'},\n",
       " {'url': 'https://nmdcdemo.emsl.pnnl.gov/nom/metadata/Brodie_355_H2O_12Mar19_R2_HESI_Neg-rr.json',\n",
       "  'type': 'nom_analysis_activity_set'},\n",
       " {'url': 'https://nmdcdemo.emsl.pnnl.gov/nom/metadata/Brodie_355_H2O_12Mar19_R3_HESI_Neg-rr.json',\n",
       "  'type': 'nom_analysis_activity_set'},\n",
       " {'url': 'https://nmdcdemo.emsl.pnnl.gov/nom/metadata/Brodie_355_MeOH_R1_19Mar19_HESI_Neg.json',\n",
       "  'type': 'nom_analysis_activity_set'},\n",
       " {'url': 'https://nmdcdemo.emsl.pnnl.gov/nom/metadata/Brodie_355_MeOH_R2_21Mar19_HESI_Neg.json',\n",
       "  'type': 'nom_analysis_activity_set'},\n",
       " {'url': 'https://nmdcdemo.emsl.pnnl.gov/nom/metadata/Brodie_355_MeOH_R3_23Mar19_HESI_Neg.json',\n",
       "  'type': 'nom_analysis_activity_set'},\n",
       " {'url': 'https://nmdcdemo.emsl.pnnl.gov/nom/metadata/Brodie_204_w_r1_25Jan19_HESI_neg.json',\n",
       "  'type': 'nom_analysis_activity_set'},\n",
       " {'url': 'https://nmdcdemo.emsl.pnnl.gov/nom/metadata/Brodie_204_w_r2_29Jan19_HESI_neg.json',\n",
       "  'type': 'nom_analysis_activity_set'},\n",
       " {'url': 'https://nmdcdemo.emsl.pnnl.gov/nom/metadata/Brodie_204_w_r3_31Jan19_HESI_neg.json',\n",
       "  'type': 'nom_analysis_activity_set'},\n",
       " {'url': 'https://nmdcdemo.emsl.pnnl.gov/nom/metadata/Brodie_204_MeOH_R1_19Mar19_HESI_Neg.json',\n",
       "  'type': 'nom_analysis_activity_set'},\n",
       " {'url': 'https://nmdcdemo.emsl.pnnl.gov/nom/metadata/Brodie_204_MeOH_R2_21Mar19_HESI_Neg.json',\n",
       "  'type': 'nom_analysis_activity_set'},\n",
       " {'url': 'https://nmdcdemo.emsl.pnnl.gov/nom/metadata/Brodie_204_MeOH_R3_23Mar19_HESI_Neg.json',\n",
       "  'type': 'nom_analysis_activity_set'},\n",
       " {'url': 'https://nmdcdemo.emsl.pnnl.gov/nom/metadata/Brodie_203_w_r2_29Jan19_HESI_neg.json',\n",
       "  'type': 'nom_analysis_activity_set'},\n",
       " {'url': 'https://nmdcdemo.emsl.pnnl.gov/nom/metadata/Brodie_203_w_r3_31Jan19_HESI_neg.json',\n",
       "  'type': 'nom_analysis_activity_set'},\n",
       " {'url': 'https://nmdcdemo.emsl.pnnl.gov/nom/metadata/Brodie_203_H2O_11Mar19_R1_HESI_Neg.json',\n",
       "  'type': 'nom_analysis_activity_set'},\n",
       " {'url': 'https://nmdcdemo.emsl.pnnl.gov/nom/metadata/Brodie_203_H2O_12Mar19_R3_HESI_Neg.json',\n",
       "  'type': 'nom_analysis_activity_set'},\n",
       " {'url': 'https://nmdcdemo.emsl.pnnl.gov/nom/metadata/Brodie_203_MeOH_R1_19Mar19_HESI_Neg.json',\n",
       "  'type': 'nom_analysis_activity_set'},\n",
       " {'url': 'https://nmdcdemo.emsl.pnnl.gov/nom/metadata/Brodie_203_MeOH_R2_21Mar19_HESI_Neg.json',\n",
       "  'type': 'nom_analysis_activity_set'},\n",
       " {'url': 'https://nmdcdemo.emsl.pnnl.gov/nom/metadata/Brodie_203_MeOH_R3_23Mar19_HESI_Neg.json',\n",
       "  'type': 'nom_analysis_activity_set'},\n",
       " {'url': 'https://nmdcdemo.emsl.pnnl.gov/nom/metadata/Brodie_202_w_r1_25Jan19_HESI_neg.json',\n",
       "  'type': 'nom_analysis_activity_set'},\n",
       " {'url': 'https://nmdcdemo.emsl.pnnl.gov/nom/metadata/Brodie_202_w_r2_29Jan19_HESI_neg.json',\n",
       "  'type': 'nom_analysis_activity_set'},\n",
       " {'url': 'https://nmdcdemo.emsl.pnnl.gov/nom/metadata/Brodie_202_w_r3_31Jan19_HESI_neg.json',\n",
       "  'type': 'nom_analysis_activity_set'},\n",
       " {'url': 'https://nmdcdemo.emsl.pnnl.gov/nom/metadata/Brodie_202_H2O_11Mar19_R1_HESI_Neg.json',\n",
       "  'type': 'nom_analysis_activity_set'},\n",
       " {'url': 'https://nmdcdemo.emsl.pnnl.gov/nom/metadata/Brodie_202_H2O_12Mar19_R3_HESI_Neg.json',\n",
       "  'type': 'nom_analysis_activity_set'},\n",
       " {'url': 'https://nmdcdemo.emsl.pnnl.gov/nom/metadata/Brodie_202_MeOH_R1_19Mar19_HESI_Neg.json',\n",
       "  'type': 'nom_analysis_activity_set'},\n",
       " {'url': 'https://nmdcdemo.emsl.pnnl.gov/nom/metadata/Brodie_202_MeOH_R2_21Mar19_HESI_Neg.json',\n",
       "  'type': 'nom_analysis_activity_set'},\n",
       " {'url': 'https://nmdcdemo.emsl.pnnl.gov/nom/metadata/Brodie_202_MeOH_R3_23Mar19_HESI_Neg.json',\n",
       "  'type': 'nom_analysis_activity_set'},\n",
       " {'url': 'https://nmdcdemo.emsl.pnnl.gov/nom/metadata/Brodie_202_H2O_R2_23Mar19_HESI_Neg.json',\n",
       "  'type': 'nom_analysis_activity_set'},\n",
       " {'url': 'https://nmdcdemo.emsl.pnnl.gov/nom/metadata/Brodie_198_w_r1_25Jan19_HESI_neg.json',\n",
       "  'type': 'nom_analysis_activity_set'},\n",
       " {'url': 'https://nmdcdemo.emsl.pnnl.gov/nom/metadata/Brodie_198_w_r2_29Jan19_HESI_neg.json',\n",
       "  'type': 'nom_analysis_activity_set'},\n",
       " {'url': 'https://nmdcdemo.emsl.pnnl.gov/nom/metadata/Brodie_198_w_r3_31Jan19_HESI_neg.json',\n",
       "  'type': 'nom_analysis_activity_set'},\n",
       " {'url': 'https://nmdcdemo.emsl.pnnl.gov/nom/metadata/Brodie_198_H2O_11Mar19_R1_HESI_Neg.json',\n",
       "  'type': 'nom_analysis_activity_set'},\n",
       " {'url': 'https://nmdcdemo.emsl.pnnl.gov/nom/metadata/Brodie_198_H2O_12Mar19_R2_HESI_Neg.json',\n",
       "  'type': 'nom_analysis_activity_set'},\n",
       " {'url': 'https://nmdcdemo.emsl.pnnl.gov/nom/metadata/Brodie_198_H2O_12Mar19_R3_HESI_Neg.json',\n",
       "  'type': 'nom_analysis_activity_set'},\n",
       " {'url': 'https://nmdcdemo.emsl.pnnl.gov/nom/metadata/Brodie_198_MeOH_R1_19Mar19_HESI_Neg.json',\n",
       "  'type': 'nom_analysis_activity_set'},\n",
       " {'url': 'https://nmdcdemo.emsl.pnnl.gov/nom/metadata/Brodie_198_MeOH_R2_21Mar19_HESI_Neg.json',\n",
       "  'type': 'nom_analysis_activity_set'},\n",
       " {'url': 'https://nmdcdemo.emsl.pnnl.gov/nom/metadata/Brodie_198_MeOH_R3_23Mar19_HESI_Neg.json',\n",
       "  'type': 'nom_analysis_activity_set'},\n",
       " {'url': 'https://nmdcdemo.emsl.pnnl.gov/nom/metadata/Brodie_197_w_r2_29Jan19_HESI_neg.json',\n",
       "  'type': 'nom_analysis_activity_set'},\n",
       " {'url': 'https://nmdcdemo.emsl.pnnl.gov/nom/metadata/Brodie_197_w_r3_31Jan19_HESI_neg.json',\n",
       "  'type': 'nom_analysis_activity_set'},\n",
       " {'url': 'https://nmdcdemo.emsl.pnnl.gov/nom/metadata/Brodie_197_H2O_11Mar19_R1_HESI_Neg.json',\n",
       "  'type': 'nom_analysis_activity_set'},\n",
       " {'url': 'https://nmdcdemo.emsl.pnnl.gov/nom/metadata/Brodie_197_MeOH_R1_19Mar19_HESI_Neg.json',\n",
       "  'type': 'nom_analysis_activity_set'},\n",
       " {'url': 'https://nmdcdemo.emsl.pnnl.gov/nom/metadata/Brodie_197_MeOH_R2_21Mar19_HESI_Neg.json',\n",
       "  'type': 'nom_analysis_activity_set'},\n",
       " {'url': 'https://nmdcdemo.emsl.pnnl.gov/nom/metadata/Brodie_197_MeOH_R3_23Mar19_HESI_Neg.json',\n",
       "  'type': 'nom_analysis_activity_set'},\n",
       " {'url': 'https://nmdcdemo.emsl.pnnl.gov/nom/metadata/Brodie_197_H2O_R3_23Mar19_HESI_Neg.json',\n",
       "  'type': 'nom_analysis_activity_set'},\n",
       " {'url': 'https://nmdcdemo.emsl.pnnl.gov/nom/metadata/Brodie_196_H2O_14Mar19_R1_HESI_Neg.json',\n",
       "  'type': 'nom_analysis_activity_set'},\n",
       " {'url': 'https://nmdcdemo.emsl.pnnl.gov/nom/metadata/Brodie_196_H2O_14Mar19_R2_HESI_Neg.json',\n",
       "  'type': 'nom_analysis_activity_set'},\n",
       " {'url': 'https://nmdcdemo.emsl.pnnl.gov/nom/metadata/Brodie_196_H2O_14Mar19_R3_HESI_Neg.json',\n",
       "  'type': 'nom_analysis_activity_set'},\n",
       " {'url': 'https://nmdcdemo.emsl.pnnl.gov/nom/metadata/Brodie_196_MeOH_R1_19Mar19_HESI_Neg.json',\n",
       "  'type': 'nom_analysis_activity_set'},\n",
       " {'url': 'https://nmdcdemo.emsl.pnnl.gov/nom/metadata/Brodie_196_MeOH_R2_21Mar19_HESI_Neg.json',\n",
       "  'type': 'nom_analysis_activity_set'},\n",
       " {'url': 'https://nmdcdemo.emsl.pnnl.gov/nom/metadata/Brodie_196_MeOH_R3_23Mar19_HESI_Neg.json',\n",
       "  'type': 'nom_analysis_activity_set'},\n",
       " {'url': 'https://nmdcdemo.emsl.pnnl.gov/nom/metadata/Brodie_195_w_r1_25Jan19_HESI_neg.json',\n",
       "  'type': 'nom_analysis_activity_set'},\n",
       " {'url': 'https://nmdcdemo.emsl.pnnl.gov/nom/metadata/Brodie_195_w_r2_29Jan19_HESI_neg.json',\n",
       "  'type': 'nom_analysis_activity_set'},\n",
       " {'url': 'https://nmdcdemo.emsl.pnnl.gov/nom/metadata/Brodie_195_w_r3_31Jan19_HESI_neg.json',\n",
       "  'type': 'nom_analysis_activity_set'},\n",
       " {'url': 'https://nmdcdemo.emsl.pnnl.gov/nom/metadata/Brodie_195_H2O_11Mar19_R1_HESI_Neg.json',\n",
       "  'type': 'nom_analysis_activity_set'},\n",
       " {'url': 'https://nmdcdemo.emsl.pnnl.gov/nom/metadata/Brodie_195_H2O_12Mar19_R2_HESI_Neg.json',\n",
       "  'type': 'nom_analysis_activity_set'},\n",
       " {'url': 'https://nmdcdemo.emsl.pnnl.gov/nom/metadata/Brodie_195_H2O_12Mar19_R3_HESI_Neg.json',\n",
       "  'type': 'nom_analysis_activity_set'},\n",
       " {'url': 'https://nmdcdemo.emsl.pnnl.gov/nom/metadata/Brodie_195_MeOH_R1_19Mar19_HESI_Neg.json',\n",
       "  'type': 'nom_analysis_activity_set'},\n",
       " {'url': 'https://nmdcdemo.emsl.pnnl.gov/nom/metadata/Brodie_195_MeOH_R2_21Mar19_HESI_Neg.json',\n",
       "  'type': 'nom_analysis_activity_set'},\n",
       " {'url': 'https://nmdcdemo.emsl.pnnl.gov/nom/metadata/Brodie_195_MeOH_R3_23Mar19_HESI_Neg.json',\n",
       "  'type': 'nom_analysis_activity_set'},\n",
       " {'url': 'https://nmdcdemo.emsl.pnnl.gov/nom/metadata/Brodie_194_w_r2_29Jan19_HESI_neg.json',\n",
       "  'type': 'nom_analysis_activity_set'},\n",
       " {'url': 'https://nmdcdemo.emsl.pnnl.gov/nom/metadata/Brodie_194_w_r3_31Jan19_HESI_neg.json',\n",
       "  'type': 'nom_analysis_activity_set'},\n",
       " {'url': 'https://nmdcdemo.emsl.pnnl.gov/nom/metadata/Brodie_194_H2O_14Mar19_R1_HESI_Neg.json',\n",
       "  'type': 'nom_analysis_activity_set'},\n",
       " {'url': 'https://nmdcdemo.emsl.pnnl.gov/nom/metadata/Brodie_194_H2O_14Mar19_R2_HESI_Neg.json',\n",
       "  'type': 'nom_analysis_activity_set'},\n",
       " {'url': 'https://nmdcdemo.emsl.pnnl.gov/nom/metadata/Brodie_194_H2O_14Mar19_R3_HESI_Neg.json',\n",
       "  'type': 'nom_analysis_activity_set'},\n",
       " {'url': 'https://nmdcdemo.emsl.pnnl.gov/nom/metadata/Brodie_194_MeOH_R1_19Mar19_HESI_Neg.json',\n",
       "  'type': 'nom_analysis_activity_set'},\n",
       " {'url': 'https://nmdcdemo.emsl.pnnl.gov/nom/metadata/Brodie_194_MeOH_R2_21Mar19_HESI_Neg.json',\n",
       "  'type': 'nom_analysis_activity_set'},\n",
       " {'url': 'https://nmdcdemo.emsl.pnnl.gov/nom/metadata/Brodie_194_MeOH_R3_23Mar19_HESI_Neg.json',\n",
       "  'type': 'nom_analysis_activity_set'},\n",
       " {'url': 'https://nmdcdemo.emsl.pnnl.gov/nom/metadata/Brodie_193_w_r2_29Jan19_HESI_neg.json',\n",
       "  'type': 'nom_analysis_activity_set'},\n",
       " {'url': 'https://nmdcdemo.emsl.pnnl.gov/nom/metadata/Brodie_193_w_r3_31Jan19_HESI_neg.json',\n",
       "  'type': 'nom_analysis_activity_set'},\n",
       " {'url': 'https://nmdcdemo.emsl.pnnl.gov/nom/metadata/Brodie_193_H2O_11Mar19_R1_HESI_Neg.json',\n",
       "  'type': 'nom_analysis_activity_set'},\n",
       " {'url': 'https://nmdcdemo.emsl.pnnl.gov/nom/metadata/Brodie_193_H2O_11Mar19_R2_HESI_Neg.json',\n",
       "  'type': 'nom_analysis_activity_set'},\n",
       " {'url': 'https://nmdcdemo.emsl.pnnl.gov/nom/metadata/Brodie_193_H2O_12Mar19_R3_HESI_Neg.json',\n",
       "  'type': 'nom_analysis_activity_set'},\n",
       " {'url': 'https://nmdcdemo.emsl.pnnl.gov/nom/metadata/Brodie_193_MeOH_R1_19Mar19_HESI_Neg.json',\n",
       "  'type': 'nom_analysis_activity_set'},\n",
       " {'url': 'https://nmdcdemo.emsl.pnnl.gov/nom/metadata/Brodie_193_MeOH_R2_21Mar19_HESI_Neg.json',\n",
       "  'type': 'nom_analysis_activity_set'},\n",
       " {'url': 'https://nmdcdemo.emsl.pnnl.gov/nom/metadata/Brodie_193_MeOH_R3_23Mar19_HESI_Neg.json',\n",
       "  'type': 'nom_analysis_activity_set'},\n",
       " {'url': 'https://nmdcdemo.emsl.pnnl.gov/nom/metadata/Brodie_186_w_r1_25Jan19_HESI_neg.json',\n",
       "  'type': 'nom_analysis_activity_set'},\n",
       " {'url': 'https://nmdcdemo.emsl.pnnl.gov/nom/metadata/Brodie_186_w_r2_29Jan19_HESI_neg.json',\n",
       "  'type': 'nom_analysis_activity_set'},\n",
       " {'url': 'https://nmdcdemo.emsl.pnnl.gov/nom/metadata/Brodie_186_w_r3_31Jan19_HESI_neg.json',\n",
       "  'type': 'nom_analysis_activity_set'},\n",
       " {'url': 'https://nmdcdemo.emsl.pnnl.gov/nom/metadata/Brodie_186_2_w_r2_29Jan19_HESI_neg.json',\n",
       "  'type': 'nom_analysis_activity_set'},\n",
       " {'url': 'https://nmdcdemo.emsl.pnnl.gov/nom/metadata/Brodie_186_2_w_r3_31Jan19_HESI_neg.json',\n",
       "  'type': 'nom_analysis_activity_set'},\n",
       " {'url': 'https://nmdcdemo.emsl.pnnl.gov/nom/metadata/Brodie_186_H2O_11Mar19_R1_HESI_Neg.json',\n",
       "  'type': 'nom_analysis_activity_set'},\n",
       " {'url': 'https://nmdcdemo.emsl.pnnl.gov/nom/metadata/Brodie_186_H2O_12Mar19_R2_HESI_Neg.json',\n",
       "  'type': 'nom_analysis_activity_set'},\n",
       " {'url': 'https://nmdcdemo.emsl.pnnl.gov/nom/metadata/Brodie_186_H2O_12Mar19_R3_HESI_Neg.json',\n",
       "  'type': 'nom_analysis_activity_set'},\n",
       " {'url': 'https://nmdcdemo.emsl.pnnl.gov/nom/metadata/Brodie_186_MeOH_R1_19Mar19_HESI_Neg.json',\n",
       "  'type': 'nom_analysis_activity_set'},\n",
       " {'url': 'https://nmdcdemo.emsl.pnnl.gov/nom/metadata/Brodie_186_MeOH_R2_21Mar19_HESI_Neg.json',\n",
       "  'type': 'nom_analysis_activity_set'},\n",
       " {'url': 'https://nmdcdemo.emsl.pnnl.gov/nom/metadata/Brodie_186_MeOH_R3_23Mar19_HESI_Neg.json',\n",
       "  'type': 'nom_analysis_activity_set'},\n",
       " {'url': 'https://nmdcdemo.emsl.pnnl.gov/nom/metadata/Brodie_185_w_r2_29Jan19_HESI_neg.json',\n",
       "  'type': 'nom_analysis_activity_set'},\n",
       " {'url': 'https://nmdcdemo.emsl.pnnl.gov/nom/metadata/Brodie_185_w_r1_01Feb19_HESI_neg.json',\n",
       "  'type': 'nom_analysis_activity_set'},\n",
       " {'url': 'https://nmdcdemo.emsl.pnnl.gov/nom/metadata/Brodie_185_w_r3_31Jan19_HESI_neg.json',\n",
       "  'type': 'nom_analysis_activity_set'},\n",
       " {'url': 'https://nmdcdemo.emsl.pnnl.gov/nom/metadata/Brodie_185_H2O_14Mar19_R1_HESI_Neg.json',\n",
       "  'type': 'nom_analysis_activity_set'},\n",
       " {'url': 'https://nmdcdemo.emsl.pnnl.gov/nom/metadata/Brodie_185_H2O_14Mar19_R2_HESI_Neg.json',\n",
       "  'type': 'nom_analysis_activity_set'},\n",
       " {'url': 'https://nmdcdemo.emsl.pnnl.gov/nom/metadata/Brodie_185_H2O_14Mar19_R3_HESI_Neg.json',\n",
       "  'type': 'nom_analysis_activity_set'},\n",
       " {'url': 'https://nmdcdemo.emsl.pnnl.gov/nom/metadata/Brodie_185_MeOH_R1_19Mar19_HESI_Neg.json',\n",
       "  'type': 'nom_analysis_activity_set'},\n",
       " {'url': 'https://nmdcdemo.emsl.pnnl.gov/nom/metadata/Brodie_185_MeOH_R2_21Mar19_HESI_Neg.json',\n",
       "  'type': 'nom_analysis_activity_set'},\n",
       " {'url': 'https://nmdcdemo.emsl.pnnl.gov/nom/metadata/Brodie_185_MeOH_R3_23Mar19_HESI_Neg.json',\n",
       "  'type': 'nom_analysis_activity_set'},\n",
       " {'url': 'https://nmdcdemo.emsl.pnnl.gov/nom/metadata/Brodie_184_w_r1_25Jan19_HESI_neg.json',\n",
       "  'type': 'nom_analysis_activity_set'},\n",
       " {'url': 'https://nmdcdemo.emsl.pnnl.gov/nom/metadata/Brodie_184_w_r2_29Jan19_HESI_neg.json',\n",
       "  'type': 'nom_analysis_activity_set'},\n",
       " {'url': 'https://nmdcdemo.emsl.pnnl.gov/nom/metadata/Brodie_184_w_r3_31Jan19_HESI_neg.json',\n",
       "  'type': 'nom_analysis_activity_set'},\n",
       " {'url': 'https://nmdcdemo.emsl.pnnl.gov/nom/metadata/Brodie_184_H2O_11Mar19_R1_HESI_Neg.json',\n",
       "  'type': 'nom_analysis_activity_set'},\n",
       " {'url': 'https://nmdcdemo.emsl.pnnl.gov/nom/metadata/Brodie_184_H2O_11Mar19_R2_HESI_Neg.json',\n",
       "  'type': 'nom_analysis_activity_set'},\n",
       " {'url': 'https://nmdcdemo.emsl.pnnl.gov/nom/metadata/Brodie_184_H2O_12Mar19_R3_HESI_Neg.json',\n",
       "  'type': 'nom_analysis_activity_set'},\n",
       " {'url': 'https://nmdcdemo.emsl.pnnl.gov/nom/metadata/Brodie_184_MeOH_R1_19Mar19_HESI_Neg.json',\n",
       "  'type': 'nom_analysis_activity_set'},\n",
       " {'url': 'https://nmdcdemo.emsl.pnnl.gov/nom/metadata/Brodie_184_MeOH_R2_21Mar19_HESI_Neg.json',\n",
       "  'type': 'nom_analysis_activity_set'},\n",
       " {'url': 'https://nmdcdemo.emsl.pnnl.gov/nom/metadata/Brodie_184_MeOH_R3_23Mar19_HESI_Neg.json',\n",
       "  'type': 'nom_analysis_activity_set'},\n",
       " {'url': 'https://nmdcdemo.emsl.pnnl.gov/nom/metadata/Brodie_183_w_r2_29Jan19_HESI_neg.json',\n",
       "  'type': 'nom_analysis_activity_set'},\n",
       " {'url': 'https://nmdcdemo.emsl.pnnl.gov/nom/metadata/Brodie_183_w_r1_01Feb19_HESI_neg.json',\n",
       "  'type': 'nom_analysis_activity_set'},\n",
       " {'url': 'https://nmdcdemo.emsl.pnnl.gov/nom/metadata/Brodie_183_w_r3_31Jan19_HESI_neg.json',\n",
       "  'type': 'nom_analysis_activity_set'},\n",
       " {'url': 'https://nmdcdemo.emsl.pnnl.gov/nom/metadata/Brodie_183_H2O_14Mar19_R1_HESI_Neg.json',\n",
       "  'type': 'nom_analysis_activity_set'},\n",
       " {'url': 'https://nmdcdemo.emsl.pnnl.gov/nom/metadata/Brodie_183_H2O_14Mar19_R2_HESI_Neg.json',\n",
       "  'type': 'nom_analysis_activity_set'},\n",
       " {'url': 'https://nmdcdemo.emsl.pnnl.gov/nom/metadata/Brodie_183_H2O_14Mar19_R3_HESI_Neg.json',\n",
       "  'type': 'nom_analysis_activity_set'},\n",
       " {'url': 'https://nmdcdemo.emsl.pnnl.gov/nom/metadata/Brodie_183_MeOH_R1_19Mar19_HESI_Neg.json',\n",
       "  'type': 'nom_analysis_activity_set'},\n",
       " {'url': 'https://nmdcdemo.emsl.pnnl.gov/nom/metadata/Brodie_183_MeOH_R2_21Mar19_HESI_Neg.json',\n",
       "  'type': 'nom_analysis_activity_set'},\n",
       " {'url': 'https://nmdcdemo.emsl.pnnl.gov/nom/metadata/Brodie_183_MeOH_R3_23Mar19_HESI_Neg.json',\n",
       "  'type': 'nom_analysis_activity_set'},\n",
       " {'url': 'https://nmdcdemo.emsl.pnnl.gov/nom/metadata/Brodie_182_w_r1_25Jan19_HESI_neg.json',\n",
       "  'type': 'nom_analysis_activity_set'},\n",
       " {'url': 'https://nmdcdemo.emsl.pnnl.gov/nom/metadata/Brodie_182_w_r2_29Jan19_HESI_neg.json',\n",
       "  'type': 'nom_analysis_activity_set'},\n",
       " {'url': 'https://nmdcdemo.emsl.pnnl.gov/nom/metadata/Brodie_182_w_r3_31Jan19_HESI_neg.json',\n",
       "  'type': 'nom_analysis_activity_set'},\n",
       " {'url': 'https://nmdcdemo.emsl.pnnl.gov/nom/metadata/Brodie_182_MeOH_R1_19Mar19_HESI_Neg.json',\n",
       "  'type': 'nom_analysis_activity_set'},\n",
       " {'url': 'https://nmdcdemo.emsl.pnnl.gov/nom/metadata/Brodie_182_MeOH_R2_21Mar19_HESI_Neg.json',\n",
       "  'type': 'nom_analysis_activity_set'},\n",
       " {'url': 'https://nmdcdemo.emsl.pnnl.gov/nom/metadata/Brodie_182_MeOH_R3_23Mar19_HESI_Neg.json',\n",
       "  'type': 'nom_analysis_activity_set'},\n",
       " {'url': 'https://nmdcdemo.emsl.pnnl.gov/nom/metadata/Brodie_181_w_r1_25Jan19_HESI_neg.json',\n",
       "  'type': 'nom_analysis_activity_set'},\n",
       " {'url': 'https://nmdcdemo.emsl.pnnl.gov/nom/metadata/Brodie_181_w_r2_29Jan19_HESI_neg.json',\n",
       "  'type': 'nom_analysis_activity_set'},\n",
       " {'url': 'https://nmdcdemo.emsl.pnnl.gov/nom/metadata/Brodie_181_w_r3_31Jan19_HESI_neg.json',\n",
       "  'type': 'nom_analysis_activity_set'},\n",
       " {'url': 'https://nmdcdemo.emsl.pnnl.gov/nom/metadata/Brodie_181_H2O_14Mar19_R1_HESI_Neg.json',\n",
       "  'type': 'nom_analysis_activity_set'},\n",
       " {'url': 'https://nmdcdemo.emsl.pnnl.gov/nom/metadata/Brodie_181_H2O_14Mar19_R3_HESI_Neg.json',\n",
       "  'type': 'nom_analysis_activity_set'},\n",
       " {'url': 'https://nmdcdemo.emsl.pnnl.gov/nom/metadata/Brodie_181_H2O_18Mar19_R2_HESI_Neg.json',\n",
       "  'type': 'nom_analysis_activity_set'},\n",
       " {'url': 'https://nmdcdemo.emsl.pnnl.gov/nom/metadata/Brodie_181_MeOH_R1_19Mar19_HESI_Neg.json',\n",
       "  'type': 'nom_analysis_activity_set'},\n",
       " {'url': 'https://nmdcdemo.emsl.pnnl.gov/nom/metadata/Brodie_181_MeOH_R2_21Mar19_HESI_Neg.json',\n",
       "  'type': 'nom_analysis_activity_set'},\n",
       " {'url': 'https://nmdcdemo.emsl.pnnl.gov/nom/metadata/Brodie_181_MeOH_R3_23Mar19_HESI_Neg.json',\n",
       "  'type': 'nom_analysis_activity_set'},\n",
       " {'url': 'https://nmdcdemo.emsl.pnnl.gov/nom/metadata/Brodie_158_w_r1_25Jan19_HESI_neg.json',\n",
       "  'type': 'nom_analysis_activity_set'},\n",
       " {'url': 'https://nmdcdemo.emsl.pnnl.gov/nom/metadata/Brodie_158_w_r2_29Jan19_HESI_neg.json',\n",
       "  'type': 'nom_analysis_activity_set'},\n",
       " {'url': 'https://nmdcdemo.emsl.pnnl.gov/nom/metadata/Brodie_158_w_r3_31Jan19_HESI_neg.json',\n",
       "  'type': 'nom_analysis_activity_set'},\n",
       " {'url': 'https://nmdcdemo.emsl.pnnl.gov/nom/metadata/Brodie_158_H2O_18Mar19_R1_HESI_Neg.json',\n",
       "  'type': 'nom_analysis_activity_set'},\n",
       " {'url': 'https://nmdcdemo.emsl.pnnl.gov/nom/metadata/Brodie_158_H2O_18Mar19_R2_HESI_Neg.json',\n",
       "  'type': 'nom_analysis_activity_set'},\n",
       " {'url': 'https://nmdcdemo.emsl.pnnl.gov/nom/metadata/Brodie_158_H2O_18Mar19_R3_HESI_Neg.json',\n",
       "  'type': 'nom_analysis_activity_set'},\n",
       " {'url': 'https://nmdcdemo.emsl.pnnl.gov/nom/metadata/Brodie_158_MeOH_R1_19Mar19_HESI_Neg.json',\n",
       "  'type': 'nom_analysis_activity_set'},\n",
       " {'url': 'https://nmdcdemo.emsl.pnnl.gov/nom/metadata/Brodie_158_MeOH_R2_21Mar19_HESI_Neg.json',\n",
       "  'type': 'nom_analysis_activity_set'},\n",
       " {'url': 'https://nmdcdemo.emsl.pnnl.gov/nom/metadata/Brodie_158_MeOH_R3_23Mar19_HESI_Neg.json',\n",
       "  'type': 'nom_analysis_activity_set'},\n",
       " {'url': 'https://nmdcdemo.emsl.pnnl.gov/nom/metadata/Brodie_157_w_r1_25Jan19_HESI_neg.json',\n",
       "  'type': 'nom_analysis_activity_set'},\n",
       " {'url': 'https://nmdcdemo.emsl.pnnl.gov/nom/metadata/Brodie_157_w_r2_29Jan19_HESI_neg.json',\n",
       "  'type': 'nom_analysis_activity_set'},\n",
       " {'url': 'https://nmdcdemo.emsl.pnnl.gov/nom/metadata/Brodie_157_w_r3_31Jan19_HESI_neg.json',\n",
       "  'type': 'nom_analysis_activity_set'},\n",
       " {'url': 'https://nmdcdemo.emsl.pnnl.gov/nom/metadata/Brodie_157_H2O_11Mar19_R1_HESI_Neg.json',\n",
       "  'type': 'nom_analysis_activity_set'},\n",
       " {'url': 'https://nmdcdemo.emsl.pnnl.gov/nom/metadata/Brodie_157_H2O_12Mar19_R2_HESI_Neg.json',\n",
       "  'type': 'nom_analysis_activity_set'},\n",
       " {'url': 'https://nmdcdemo.emsl.pnnl.gov/nom/metadata/Brodie_157_H2O_12Mar19_R3_HESI_Neg.json',\n",
       "  'type': 'nom_analysis_activity_set'},\n",
       " {'url': 'https://nmdcdemo.emsl.pnnl.gov/nom/metadata/Brodie_157_MeOH_R1_19Mar19_HESI_Neg.json',\n",
       "  'type': 'nom_analysis_activity_set'},\n",
       " {'url': 'https://nmdcdemo.emsl.pnnl.gov/nom/metadata/Brodie_157_MeOH_R2_21Mar19_HESI_Neg.json',\n",
       "  'type': 'nom_analysis_activity_set'},\n",
       " {'url': 'https://nmdcdemo.emsl.pnnl.gov/nom/metadata/Brodie_157_MeOH_R3_23Mar19_HESI_Neg.json',\n",
       "  'type': 'nom_analysis_activity_set'},\n",
       " {'url': 'https://nmdcdemo.emsl.pnnl.gov/nom/metadata/Brodie_153_w_r2_29Jan19_HESI_neg.json',\n",
       "  'type': 'nom_analysis_activity_set'},\n",
       " {'url': 'https://nmdcdemo.emsl.pnnl.gov/nom/metadata/Brodie_153_w_r3_31Jan19_HESI_neg.json',\n",
       "  'type': 'nom_analysis_activity_set'},\n",
       " {'url': 'https://nmdcdemo.emsl.pnnl.gov/nom/metadata/Brodie_152_w_r1_25Jan19_HESI_neg.json',\n",
       "  'type': 'nom_analysis_activity_set'},\n",
       " {'url': 'https://nmdcdemo.emsl.pnnl.gov/nom/metadata/Brodie_152_w_r2_29Jan19_HESI_neg.json',\n",
       "  'type': 'nom_analysis_activity_set'},\n",
       " {'url': 'https://nmdcdemo.emsl.pnnl.gov/nom/metadata/Brodie_152_w_r3_31Jan19_HESI_neg.json',\n",
       "  'type': 'nom_analysis_activity_set'},\n",
       " {'url': 'https://nmdcdemo.emsl.pnnl.gov/nom/metadata/Brodie_152_H2O_11Mar19_R1_HESI_Neg.json',\n",
       "  'type': 'nom_analysis_activity_set'},\n",
       " {'url': 'https://nmdcdemo.emsl.pnnl.gov/nom/metadata/Brodie_152_H2O_11Mar19_R2_HESI_Neg.json',\n",
       "  'type': 'nom_analysis_activity_set'},\n",
       " {'url': 'https://nmdcdemo.emsl.pnnl.gov/nom/metadata/Brodie_152_MeOH_R1_19Mar19_HESI_Neg.json',\n",
       "  'type': 'nom_analysis_activity_set'},\n",
       " {'url': 'https://nmdcdemo.emsl.pnnl.gov/nom/metadata/Brodie_152_MeOH_R2_21Mar19_HESI_Neg.json',\n",
       "  'type': 'nom_analysis_activity_set'},\n",
       " {'url': 'https://nmdcdemo.emsl.pnnl.gov/nom/metadata/Brodie_152_MeOH_R3_23Mar19_HESI_Neg.json',\n",
       "  'type': 'nom_analysis_activity_set'},\n",
       " {'url': 'https://nmdcdemo.emsl.pnnl.gov/nom/metadata/Brodie_152_H2O_R3_23Mar19_HESI_Neg.json',\n",
       "  'type': 'nom_analysis_activity_set'},\n",
       " {'url': 'https://nmdcdemo.emsl.pnnl.gov/nom/metadata/Brodie_151_w_r1_25Jan19_HESI_neg.json',\n",
       "  'type': 'nom_analysis_activity_set'},\n",
       " {'url': 'https://nmdcdemo.emsl.pnnl.gov/nom/metadata/Brodie_151_w_r2_29Jan19_HESI_neg.json',\n",
       "  'type': 'nom_analysis_activity_set'},\n",
       " {'url': 'https://nmdcdemo.emsl.pnnl.gov/nom/metadata/Brodie_151_w_r3_31Jan19_HESI_neg.json',\n",
       "  'type': 'nom_analysis_activity_set'},\n",
       " {'url': 'https://nmdcdemo.emsl.pnnl.gov/nom/metadata/Brodie_151_H2O_14Mar19_R1_HESI_Neg.json',\n",
       "  'type': 'nom_analysis_activity_set'},\n",
       " {'url': 'https://nmdcdemo.emsl.pnnl.gov/nom/metadata/Brodie_151_H2O_14Mar19_R2_HESI_Neg.json',\n",
       "  'type': 'nom_analysis_activity_set'},\n",
       " {'url': 'https://nmdcdemo.emsl.pnnl.gov/nom/metadata/Brodie_151_H2O_14Mar19_R3_HESI_Neg.json',\n",
       "  'type': 'nom_analysis_activity_set'},\n",
       " {'url': 'https://nmdcdemo.emsl.pnnl.gov/nom/metadata/Brodie_151_MeOH_R1_19Mar19_HESI_Neg.json',\n",
       "  'type': 'nom_analysis_activity_set'},\n",
       " {'url': 'https://nmdcdemo.emsl.pnnl.gov/nom/metadata/Brodie_151_MeOH_R2_21Mar19_HESI_Neg.json',\n",
       "  'type': 'nom_analysis_activity_set'},\n",
       " {'url': 'https://nmdcdemo.emsl.pnnl.gov/nom/metadata/Brodie_151_MeOH_R3_23Mar19_HESI_Neg.json',\n",
       "  'type': 'nom_analysis_activity_set'},\n",
       " {'url': 'https://nmdcdemo.emsl.pnnl.gov/nom/metadata/Brodie_150_w_r1_25Jan19_HESI_neg.json',\n",
       "  'type': 'nom_analysis_activity_set'},\n",
       " {'url': 'https://nmdcdemo.emsl.pnnl.gov/nom/metadata/Brodie_150_w_r2_29Jan19_HESI_neg.json',\n",
       "  'type': 'nom_analysis_activity_set'},\n",
       " {'url': 'https://nmdcdemo.emsl.pnnl.gov/nom/metadata/Brodie_150_w_r3_31Jan19_HESI_neg.json',\n",
       "  'type': 'nom_analysis_activity_set'},\n",
       " {'url': 'https://nmdcdemo.emsl.pnnl.gov/nom/metadata/Brodie_150_H2O_11Mar19_R1_HESI_Neg.json',\n",
       "  'type': 'nom_analysis_activity_set'},\n",
       " {'url': 'https://nmdcdemo.emsl.pnnl.gov/nom/metadata/Brodie_150_H2O_11Mar19_R2_HESI_Neg.json',\n",
       "  'type': 'nom_analysis_activity_set'},\n",
       " {'url': 'https://nmdcdemo.emsl.pnnl.gov/nom/metadata/Brodie_150_MeOH_R1_19Mar19_HESI_Neg.json',\n",
       "  'type': 'nom_analysis_activity_set'},\n",
       " {'url': 'https://nmdcdemo.emsl.pnnl.gov/nom/metadata/Brodie_150_MeOH_R2_21Mar19_HESI_Neg.json',\n",
       "  'type': 'nom_analysis_activity_set'},\n",
       " {'url': 'https://nmdcdemo.emsl.pnnl.gov/nom/metadata/Brodie_150_MeOH_R3_23Mar19_HESI_Neg.json',\n",
       "  'type': 'nom_analysis_activity_set'},\n",
       " {'url': 'https://nmdcdemo.emsl.pnnl.gov/nom/metadata/Brodie_148_w_r1_25Jan19_HESI_neg.json',\n",
       "  'type': 'nom_analysis_activity_set'},\n",
       " {'url': 'https://nmdcdemo.emsl.pnnl.gov/nom/metadata/Brodie_148_w_r2_29Jan19_HESI_neg.json',\n",
       "  'type': 'nom_analysis_activity_set'},\n",
       " {'url': 'https://nmdcdemo.emsl.pnnl.gov/nom/metadata/Brodie_148_w_r3_31Jan19_HESI_neg.json',\n",
       "  'type': 'nom_analysis_activity_set'},\n",
       " {'url': 'https://nmdcdemo.emsl.pnnl.gov/nom/metadata/Brodie_146_w_r1_25Jan19_HESI_neg.json',\n",
       "  'type': 'nom_analysis_activity_set'},\n",
       " {'url': 'https://nmdcdemo.emsl.pnnl.gov/nom/metadata/Brodie_146_w_r2_29Jan19_HESI_neg.json',\n",
       "  'type': 'nom_analysis_activity_set'},\n",
       " {'url': 'https://nmdcdemo.emsl.pnnl.gov/nom/metadata/Brodie_146_w_r3_31Jan19_HESI_neg.json',\n",
       "  'type': 'nom_analysis_activity_set'},\n",
       " {'url': 'https://nmdcdemo.emsl.pnnl.gov/nom/metadata/Brodie_144_w_r2_29Jan19_HESI_neg.json',\n",
       "  'type': 'nom_analysis_activity_set'},\n",
       " {'url': 'https://nmdcdemo.emsl.pnnl.gov/nom/metadata/Brodie_144_w_r1_01Feb19_HESI_neg.json',\n",
       "  'type': 'nom_analysis_activity_set'},\n",
       " {'url': 'https://nmdcdemo.emsl.pnnl.gov/nom/metadata/Brodie_144_w_r3_31Jan19_HESI_neg.json',\n",
       "  'type': 'nom_analysis_activity_set'},\n",
       " {'url': 'https://nmdcdemo.emsl.pnnl.gov/nom/metadata/Brodie_144_H2O_11Mar19_R1_HESI_Neg.json',\n",
       "  'type': 'nom_analysis_activity_set'},\n",
       " {'url': 'https://nmdcdemo.emsl.pnnl.gov/nom/metadata/Brodie_144_H2O_12Mar19_R2_HESI_Neg.json',\n",
       "  'type': 'nom_analysis_activity_set'},\n",
       " {'url': 'https://nmdcdemo.emsl.pnnl.gov/nom/metadata/Brodie_144_H2O_12Mar19_R3_HESI_Neg.json',\n",
       "  'type': 'nom_analysis_activity_set'},\n",
       " {'url': 'https://nmdcdemo.emsl.pnnl.gov/nom/metadata/Brodie_144_MeOH_R1_19Mar19_HESI_Neg.json',\n",
       "  'type': 'nom_analysis_activity_set'},\n",
       " {'url': 'https://nmdcdemo.emsl.pnnl.gov/nom/metadata/Brodie_144_MeOH_R2_21Mar19_HESI_Neg.json',\n",
       "  'type': 'nom_analysis_activity_set'},\n",
       " {'url': 'https://nmdcdemo.emsl.pnnl.gov/nom/metadata/Brodie_144_MeOH_R3_23Mar19_HESI_Neg.json',\n",
       "  'type': 'nom_analysis_activity_set'},\n",
       " {'url': 'https://nmdcdemo.emsl.pnnl.gov/nom/metadata/Brodie_143_w_r2_29Jan19_HESI_neg.json',\n",
       "  'type': 'nom_analysis_activity_set'},\n",
       " {'url': 'https://nmdcdemo.emsl.pnnl.gov/nom/metadata/Brodie_143_w_r3_31Jan19_HESI_neg.json',\n",
       "  'type': 'nom_analysis_activity_set'},\n",
       " {'url': 'https://nmdcdemo.emsl.pnnl.gov/nom/metadata/Brodie_143_H2O_11Mar19_R1_HESI_Neg.json',\n",
       "  'type': 'nom_analysis_activity_set'},\n",
       " {'url': 'https://nmdcdemo.emsl.pnnl.gov/nom/metadata/Brodie_143_H2O_11Mar19_R2_HESI_Neg.json',\n",
       "  'type': 'nom_analysis_activity_set'},\n",
       " {'url': 'https://nmdcdemo.emsl.pnnl.gov/nom/metadata/Brodie_143_MeOH_R1_19Mar19_HESI_Neg.json',\n",
       "  'type': 'nom_analysis_activity_set'},\n",
       " {'url': 'https://nmdcdemo.emsl.pnnl.gov/nom/metadata/Brodie_143_MeOH_R2_21Mar19_HESI_Neg.json',\n",
       "  'type': 'nom_analysis_activity_set'},\n",
       " {'url': 'https://nmdcdemo.emsl.pnnl.gov/nom/metadata/Brodie_143_MeOH_R3_23Mar19_HESI_Neg.json',\n",
       "  'type': 'nom_analysis_activity_set'},\n",
       " {'url': 'https://nmdcdemo.emsl.pnnl.gov/nom/metadata/Brodie_143_H2O_R3_23Mar19_HESI_Neg.json',\n",
       "  'type': 'nom_analysis_activity_set'},\n",
       " {'url': 'https://nmdcdemo.emsl.pnnl.gov/nom/metadata/Brodie_142_w_r1_25Jan19_HESI_neg.json',\n",
       "  'type': 'nom_analysis_activity_set'},\n",
       " {'url': 'https://nmdcdemo.emsl.pnnl.gov/nom/metadata/Brodie_142_w_r2_29Jan19_HESI_neg.json',\n",
       "  'type': 'nom_analysis_activity_set'},\n",
       " {'url': 'https://nmdcdemo.emsl.pnnl.gov/nom/metadata/Brodie_141_w_r2_29Jan19_HESI_neg.json',\n",
       "  'type': 'nom_analysis_activity_set'},\n",
       " {'url': 'https://nmdcdemo.emsl.pnnl.gov/nom/metadata/Brodie_141_w_r3_31Jan19_HESI_neg.json',\n",
       "  'type': 'nom_analysis_activity_set'},\n",
       " {'url': 'https://nmdcdemo.emsl.pnnl.gov/nom/metadata/Brodie_141_w_r1_01Feb19_HESI_neg.json',\n",
       "  'type': 'nom_analysis_activity_set'},\n",
       " {'url': 'https://nmdcdemo.emsl.pnnl.gov/nom/metadata/Brodie_141_H2O_14Mar19_R1_HESI_Neg.json',\n",
       "  'type': 'nom_analysis_activity_set'},\n",
       " {'url': 'https://nmdcdemo.emsl.pnnl.gov/nom/metadata/Brodie_141_H2O_14Mar19_R2_HESI_Neg.json',\n",
       "  'type': 'nom_analysis_activity_set'},\n",
       " {'url': 'https://nmdcdemo.emsl.pnnl.gov/nom/metadata/Brodie_141_H2O_14Mar19_R3_HESI_Neg.json',\n",
       "  'type': 'nom_analysis_activity_set'},\n",
       " {'url': 'https://nmdcdemo.emsl.pnnl.gov/nom/metadata/Brodie_141_MeOH_R1_19Mar19_HESI_Neg.json',\n",
       "  'type': 'nom_analysis_activity_set'},\n",
       " {'url': 'https://nmdcdemo.emsl.pnnl.gov/nom/metadata/Brodie_141_MeOH_R2_21Mar19_HESI_Neg.json',\n",
       "  'type': 'nom_analysis_activity_set'},\n",
       " {'url': 'https://nmdcdemo.emsl.pnnl.gov/nom/metadata/Brodie_141_MeOH_R3_23Mar19_HESI_Neg.json',\n",
       "  'type': 'nom_analysis_activity_set'},\n",
       " {'url': 'https://nmdcdemo.emsl.pnnl.gov/nom/metadata/Brodie_140_w_r1_25Jan19_HESI_neg.json',\n",
       "  'type': 'nom_analysis_activity_set'},\n",
       " {'url': 'https://nmdcdemo.emsl.pnnl.gov/nom/metadata/Brodie_140_w_r2_29Jan19_HESI_neg.json',\n",
       "  'type': 'nom_analysis_activity_set'},\n",
       " {'url': 'https://nmdcdemo.emsl.pnnl.gov/nom/metadata/Brodie_140_w_r3_31Jan19_HESI_neg.json',\n",
       "  'type': 'nom_analysis_activity_set'},\n",
       " {'url': 'https://nmdcdemo.emsl.pnnl.gov/nom/metadata/Brodie_140_H2O_11Mar19_R1_HESI_Neg.json',\n",
       "  'type': 'nom_analysis_activity_set'},\n",
       " {'url': 'https://nmdcdemo.emsl.pnnl.gov/nom/metadata/Brodie_140_H2O_11Mar19_R2_HESI_Neg.json',\n",
       "  'type': 'nom_analysis_activity_set'},\n",
       " {'url': 'https://nmdcdemo.emsl.pnnl.gov/nom/metadata/Brodie_140_MeOH_R1_19Mar19_HESI_Neg.json',\n",
       "  'type': 'nom_analysis_activity_set'},\n",
       " {'url': 'https://nmdcdemo.emsl.pnnl.gov/nom/metadata/Brodie_140_MeOH_R2_21Mar19_HESI_Neg.json',\n",
       "  'type': 'nom_analysis_activity_set'},\n",
       " {'url': 'https://nmdcdemo.emsl.pnnl.gov/nom/metadata/Brodie_140_MeOH_R3_23Mar19_HESI_Neg.json',\n",
       "  'type': 'nom_analysis_activity_set'},\n",
       " {'url': 'https://nmdcdemo.emsl.pnnl.gov/nom/metadata/Brodie_139_w_r2_29Jan19_HESI_neg.json',\n",
       "  'type': 'nom_analysis_activity_set'},\n",
       " {'url': 'https://nmdcdemo.emsl.pnnl.gov/nom/metadata/Brodie_139_w_r3_31Jan19_HESI_neg.json',\n",
       "  'type': 'nom_analysis_activity_set'},\n",
       " {'url': 'https://nmdcdemo.emsl.pnnl.gov/nom/metadata/Brodie_123_w_r1_25Jan19_HESI_neg.json',\n",
       "  'type': 'nom_analysis_activity_set'},\n",
       " {'url': 'https://nmdcdemo.emsl.pnnl.gov/nom/metadata/Brodie_123_w_r2_29Jan19_HESI_neg.json',\n",
       "  'type': 'nom_analysis_activity_set'},\n",
       " {'url': 'https://nmdcdemo.emsl.pnnl.gov/nom/metadata/Brodie_123_w_r3_31Jan19_HESI_neg.json',\n",
       "  'type': 'nom_analysis_activity_set'},\n",
       " {'url': 'https://nmdcdemo.emsl.pnnl.gov/nom/metadata/Brodie_123_H2O_14Mar19_R1_HESI_Neg.json',\n",
       "  'type': 'nom_analysis_activity_set'},\n",
       " {'url': 'https://nmdcdemo.emsl.pnnl.gov/nom/metadata/Brodie_123_H2O_14Mar19_R2_HESI_Neg.json',\n",
       "  'type': 'nom_analysis_activity_set'},\n",
       " {'url': 'https://nmdcdemo.emsl.pnnl.gov/nom/metadata/Brodie_123_H2O_14Mar19_R3_HESI_Neg.json',\n",
       "  'type': 'nom_analysis_activity_set'},\n",
       " {'url': 'https://nmdcdemo.emsl.pnnl.gov/nom/metadata/Brodie_123_MeOH_R1_19Mar19_HESI_Neg.json',\n",
       "  'type': 'nom_analysis_activity_set'},\n",
       " {'url': 'https://nmdcdemo.emsl.pnnl.gov/nom/metadata/Brodie_123_MeOH_R2_21Mar19_HESI_Neg.json',\n",
       "  'type': 'nom_analysis_activity_set'},\n",
       " {'url': 'https://nmdcdemo.emsl.pnnl.gov/nom/metadata/Brodie_123_MeOH_R3_23Mar19_HESI_Neg.json',\n",
       "  'type': 'nom_analysis_activity_set'},\n",
       " {'url': 'https://nmdcdemo.emsl.pnnl.gov/nom/metadata/Brodie_122_w_r2_29Jan19_HESI_neg.json',\n",
       "  'type': 'nom_analysis_activity_set'},\n",
       " {'url': 'https://nmdcdemo.emsl.pnnl.gov/nom/metadata/Brodie_122_w_r1_01Feb19_HESI_neg.json',\n",
       "  'type': 'nom_analysis_activity_set'},\n",
       " {'url': 'https://nmdcdemo.emsl.pnnl.gov/nom/metadata/Brodie_122_w_r3_31Jan19_HESI_neg.json',\n",
       "  'type': 'nom_analysis_activity_set'},\n",
       " {'url': 'https://nmdcdemo.emsl.pnnl.gov/nom/metadata/Brodie_122_H2O_11Mar19_R1_HESI_Neg.json',\n",
       "  'type': 'nom_analysis_activity_set'},\n",
       " {'url': 'https://nmdcdemo.emsl.pnnl.gov/nom/metadata/Brodie_122_H2O_11Mar19_R2_HESI_Neg.json',\n",
       "  'type': 'nom_analysis_activity_set'},\n",
       " {'url': 'https://nmdcdemo.emsl.pnnl.gov/nom/metadata/Brodie_122_MeOH_R1_19Mar19_HESI_Neg.json',\n",
       "  'type': 'nom_analysis_activity_set'},\n",
       " {'url': 'https://nmdcdemo.emsl.pnnl.gov/nom/metadata/Brodie_122_MeOH_R2_21Mar19_HESI_Neg.json',\n",
       "  'type': 'nom_analysis_activity_set'},\n",
       " {'url': 'https://nmdcdemo.emsl.pnnl.gov/nom/metadata/Brodie_122_MeOH_R3_23Mar19_HESI_Neg.json',\n",
       "  'type': 'nom_analysis_activity_set'},\n",
       " {'url': 'https://nmdcdemo.emsl.pnnl.gov/nom/metadata/Brodie_122_H2O_R3_23Mar19_HESI_Neg.json',\n",
       "  'type': 'nom_analysis_activity_set'},\n",
       " {'url': 'https://nmdcdemo.emsl.pnnl.gov/nom/metadata/Brodie_121_w_r2_29Jan19_HESI_neg.json',\n",
       "  'type': 'nom_analysis_activity_set'},\n",
       " {'url': 'https://nmdcdemo.emsl.pnnl.gov/nom/metadata/Brodie_121_w_r3_31Jan19_HESI_neg.json',\n",
       "  'type': 'nom_analysis_activity_set'},\n",
       " {'url': 'https://nmdcdemo.emsl.pnnl.gov/nom/metadata/Brodie_121_H2O_14Mar19_R1_HESI_Neg.json',\n",
       "  'type': 'nom_analysis_activity_set'},\n",
       " {'url': 'https://nmdcdemo.emsl.pnnl.gov/nom/metadata/Brodie_121_H2O_14Mar19_R2_HESI_Neg.json',\n",
       "  'type': 'nom_analysis_activity_set'},\n",
       " {'url': 'https://nmdcdemo.emsl.pnnl.gov/nom/metadata/Brodie_121_H2O_14Mar19_R3_HESI_Neg.json',\n",
       "  'type': 'nom_analysis_activity_set'},\n",
       " {'url': 'https://nmdcdemo.emsl.pnnl.gov/nom/metadata/Brodie_121_MeOH_R1_19Mar19_HESI_Neg.json',\n",
       "  'type': 'nom_analysis_activity_set'},\n",
       " {'url': 'https://nmdcdemo.emsl.pnnl.gov/nom/metadata/Brodie_121_MeOH_R2_21Mar19_HESI_Neg.json',\n",
       "  'type': 'nom_analysis_activity_set'},\n",
       " {'url': 'https://nmdcdemo.emsl.pnnl.gov/nom/metadata/Brodie_121_MeOH_R3_23Mar19_HESI_Neg.json',\n",
       "  'type': 'nom_analysis_activity_set'},\n",
       " {'url': 'https://nmdcdemo.emsl.pnnl.gov/nom/metadata/Brodie_120_w_r1_25Jan19_HESI_neg.json',\n",
       "  'type': 'nom_analysis_activity_set'},\n",
       " {'url': 'https://nmdcdemo.emsl.pnnl.gov/nom/metadata/Brodie_120_w_r2_29Jan19_HESI_neg.json',\n",
       "  'type': 'nom_analysis_activity_set'},\n",
       " {'url': 'https://nmdcdemo.emsl.pnnl.gov/nom/metadata/Brodie_120_w_r3_31Jan19_HESI_neg.json',\n",
       "  'type': 'nom_analysis_activity_set'},\n",
       " {'url': 'https://nmdcdemo.emsl.pnnl.gov/nom/metadata/Brodie_120_H2O_11Mar19_R1_HESI_Neg.json',\n",
       "  'type': 'nom_analysis_activity_set'},\n",
       " {'url': 'https://nmdcdemo.emsl.pnnl.gov/nom/metadata/Brodie_120_H2O_11Mar19_R2_HESI_Neg.json',\n",
       "  'type': 'nom_analysis_activity_set'},\n",
       " {'url': 'https://nmdcdemo.emsl.pnnl.gov/nom/metadata/Brodie_120_H2O_12Mar19_R3_HESI_Neg.json',\n",
       "  'type': 'nom_analysis_activity_set'},\n",
       " {'url': 'https://nmdcdemo.emsl.pnnl.gov/nom/metadata/Brodie_120_MeOH_R1_19Mar19_HESI_Neg.json',\n",
       "  'type': 'nom_analysis_activity_set'},\n",
       " {'url': 'https://nmdcdemo.emsl.pnnl.gov/nom/metadata/Brodie_120_MeOH_R2_21Mar19_HESI_Neg.json',\n",
       "  'type': 'nom_analysis_activity_set'},\n",
       " {'url': 'https://nmdcdemo.emsl.pnnl.gov/nom/metadata/Brodie_120_MeOH_R3_23Mar19_HESI_Neg.json',\n",
       "  'type': 'nom_analysis_activity_set'},\n",
       " {'url': 'https://nmdcdemo.emsl.pnnl.gov/nom/metadata/Brodie_119_w_r1_25Jan19_HESI_neg.json',\n",
       "  'type': 'nom_analysis_activity_set'},\n",
       " {'url': 'https://nmdcdemo.emsl.pnnl.gov/nom/metadata/Brodie_119_w_r2_29Jan19_HESI_neg.json',\n",
       "  'type': 'nom_analysis_activity_set'},\n",
       " {'url': 'https://nmdcdemo.emsl.pnnl.gov/nom/metadata/Brodie_119_w_r3_31Jan19_HESI_neg.json',\n",
       "  'type': 'nom_analysis_activity_set'},\n",
       " {'url': 'https://nmdcdemo.emsl.pnnl.gov/nom/metadata/Brodie_119_H2O_14Mar19_R3_HESI_Neg.json',\n",
       "  'type': 'nom_analysis_activity_set'},\n",
       " {'url': 'https://nmdcdemo.emsl.pnnl.gov/nom/metadata/Brodie_119_H2O_18Mar19_R1_HESI_Neg.json',\n",
       "  'type': 'nom_analysis_activity_set'},\n",
       " {'url': 'https://nmdcdemo.emsl.pnnl.gov/nom/metadata/Brodie_119_H2O_18Mar19_R2_HESI_Neg.json',\n",
       "  'type': 'nom_analysis_activity_set'},\n",
       " {'url': 'https://nmdcdemo.emsl.pnnl.gov/nom/metadata/Brodie_119_MeOH_R2_21Mar19_HESI_Neg.json',\n",
       "  'type': 'nom_analysis_activity_set'},\n",
       " {'url': 'https://nmdcdemo.emsl.pnnl.gov/nom/metadata/Brodie_119_MeOH_R3_23Mar19_HESI_Neg.json',\n",
       "  'type': 'nom_analysis_activity_set'},\n",
       " {'url': 'https://nmdcdemo.emsl.pnnl.gov/nom/metadata/Brodie_118_w_r2_29Jan19_HESI_neg.json',\n",
       "  'type': 'nom_analysis_activity_set'},\n",
       " {'url': 'https://nmdcdemo.emsl.pnnl.gov/nom/metadata/Brodie_118_w_r3_31Jan19_HESI_neg.json',\n",
       "  'type': 'nom_analysis_activity_set'},\n",
       " {'url': 'https://nmdcdemo.emsl.pnnl.gov/nom/metadata/Brodie_118_H2O_14Mar19_R1_HESI_Neg.json',\n",
       "  'type': 'nom_analysis_activity_set'},\n",
       " {'url': 'https://nmdcdemo.emsl.pnnl.gov/nom/metadata/Brodie_118_H2O_14Mar19_R3_HESI_Neg.json',\n",
       "  'type': 'nom_analysis_activity_set'},\n",
       " {'url': 'https://nmdcdemo.emsl.pnnl.gov/nom/metadata/Brodie_118_H2O_18Mar19_R2_HESI_Neg.json',\n",
       "  'type': 'nom_analysis_activity_set'},\n",
       " {'url': 'https://nmdcdemo.emsl.pnnl.gov/nom/metadata/Brodie_118_MeOH_R1_19Mar19_HESI_Neg.json',\n",
       "  'type': 'nom_analysis_activity_set'},\n",
       " {'url': 'https://nmdcdemo.emsl.pnnl.gov/nom/metadata/Brodie_118_MeOH_R2_21Mar19_HESI_Neg.json',\n",
       "  'type': 'nom_analysis_activity_set'},\n",
       " {'url': 'https://nmdcdemo.emsl.pnnl.gov/nom/metadata/Brodie_118_MeOH_R3_23Mar19_HESI_Neg.json',\n",
       "  'type': 'nom_analysis_activity_set'},\n",
       " {'url': 'https://nmdcdemo.emsl.pnnl.gov/nom/metadata/Brodie_117_w_r1_25Jan19_HESI_neg.json',\n",
       "  'type': 'nom_analysis_activity_set'},\n",
       " {'url': 'https://nmdcdemo.emsl.pnnl.gov/nom/metadata/Brodie_117_w_r2_29Jan19_HESI_neg.json',\n",
       "  'type': 'nom_analysis_activity_set'},\n",
       " {'url': 'https://nmdcdemo.emsl.pnnl.gov/nom/metadata/Brodie_117_w_r3_31Jan19_HESI_neg.json',\n",
       "  'type': 'nom_analysis_activity_set'},\n",
       " {'url': 'https://nmdcdemo.emsl.pnnl.gov/nom/metadata/Brodie_117_H2O_11Mar19_R1_HESI_Neg.json',\n",
       "  'type': 'nom_analysis_activity_set'},\n",
       " {'url': 'https://nmdcdemo.emsl.pnnl.gov/nom/metadata/Brodie_117_H2O_11Mar19_R2_HESI_Neg.json',\n",
       "  'type': 'nom_analysis_activity_set'},\n",
       " {'url': 'https://nmdcdemo.emsl.pnnl.gov/nom/metadata/Brodie_117_H2O_12Mar19_R3_HESI_Neg.json',\n",
       "  'type': 'nom_analysis_activity_set'},\n",
       " {'url': 'https://nmdcdemo.emsl.pnnl.gov/nom/metadata/Brodie_117_MeOH_R1_19Mar19_HESI_Neg.json',\n",
       "  'type': 'nom_analysis_activity_set'},\n",
       " {'url': 'https://nmdcdemo.emsl.pnnl.gov/nom/metadata/Brodie_117_MeOH_R2_21Mar19_HESI_Neg.json',\n",
       "  'type': 'nom_analysis_activity_set'},\n",
       " {'url': 'https://nmdcdemo.emsl.pnnl.gov/nom/metadata/Brodie_117_MeOH_R3_23Mar19_HESI_Neg.json',\n",
       "  'type': 'nom_analysis_activity_set'},\n",
       " {'url': 'https://nmdcdemo.emsl.pnnl.gov/nom/metadata/Brodie_116_w_r2_29Jan19_HESI_neg.json',\n",
       "  'type': 'nom_analysis_activity_set'},\n",
       " {'url': 'https://nmdcdemo.emsl.pnnl.gov/nom/metadata/Brodie_116_w_r1_01Feb19_HESI_neg.json',\n",
       "  'type': 'nom_analysis_activity_set'},\n",
       " {'url': 'https://nmdcdemo.emsl.pnnl.gov/nom/metadata/Brodie_116_w_r3_31Jan19_HESI_neg.json',\n",
       "  'type': 'nom_analysis_activity_set'},\n",
       " {'url': 'https://nmdcdemo.emsl.pnnl.gov/nom/metadata/Brodie_116_H2O_11Mar19_R1_HESI_Neg.json',\n",
       "  'type': 'nom_analysis_activity_set'},\n",
       " {'url': 'https://nmdcdemo.emsl.pnnl.gov/nom/metadata/Brodie_116_H2O_12Mar19_R2_HESI_Neg.json',\n",
       "  'type': 'nom_analysis_activity_set'},\n",
       " {'url': 'https://nmdcdemo.emsl.pnnl.gov/nom/metadata/Brodie_116_H2O_12Mar19_R3_HESI_Neg.json',\n",
       "  'type': 'nom_analysis_activity_set'},\n",
       " {'url': 'https://nmdcdemo.emsl.pnnl.gov/nom/metadata/Brodie_116_MeOH_R1_19Mar19_HESI_Neg.json',\n",
       "  'type': 'nom_analysis_activity_set'},\n",
       " {'url': 'https://nmdcdemo.emsl.pnnl.gov/nom/metadata/Brodie_116_MeOH_R2_21Mar19_HESI_Neg.json',\n",
       "  'type': 'nom_analysis_activity_set'},\n",
       " {'url': 'https://nmdcdemo.emsl.pnnl.gov/nom/metadata/Brodie_116_MeOH_R3_23Mar19_HESI_Neg.json',\n",
       "  'type': 'nom_analysis_activity_set'},\n",
       " {'url': 'https://nmdcdemo.emsl.pnnl.gov/nom/metadata/Brodie_115_w_r1_25Jan19_HESI_neg.json',\n",
       "  'type': 'nom_analysis_activity_set'},\n",
       " {'url': 'https://nmdcdemo.emsl.pnnl.gov/nom/metadata/Brodie_115_w_r2_29Jan19_HESI_neg.json',\n",
       "  'type': 'nom_analysis_activity_set'},\n",
       " {'url': 'https://nmdcdemo.emsl.pnnl.gov/nom/metadata/Brodie_115_w_r3_31Jan19_HESI_neg.json',\n",
       "  'type': 'nom_analysis_activity_set'},\n",
       " {'url': 'https://nmdcdemo.emsl.pnnl.gov/nom/metadata/Brodie_115_H2O_14Mar19_R1_HESI_Neg.json',\n",
       "  'type': 'nom_analysis_activity_set'},\n",
       " {'url': 'https://nmdcdemo.emsl.pnnl.gov/nom/metadata/Brodie_115_H2O_14Mar19_R2_HESI_Neg.json',\n",
       "  'type': 'nom_analysis_activity_set'},\n",
       " {'url': 'https://nmdcdemo.emsl.pnnl.gov/nom/metadata/Brodie_115_H2O_14Mar19_R3_HESI_Neg.json',\n",
       "  'type': 'nom_analysis_activity_set'},\n",
       " {'url': 'https://nmdcdemo.emsl.pnnl.gov/nom/metadata/Brodie_115_MeOH_R1_19Mar19_HESI_Neg.json',\n",
       "  'type': 'nom_analysis_activity_set'},\n",
       " {'url': 'https://nmdcdemo.emsl.pnnl.gov/nom/metadata/Brodie_115_MeOH_R2_21Mar19_HESI_Neg.json',\n",
       "  'type': 'nom_analysis_activity_set'},\n",
       " {'url': 'https://nmdcdemo.emsl.pnnl.gov/nom/metadata/Brodie_115_H2O_R2_23Mar19_HESI_Neg.json',\n",
       "  'type': 'nom_analysis_activity_set'},\n",
       " {'url': 'https://nmdcdemo.emsl.pnnl.gov/nom/metadata/Brodie_115_MeOH_R3_23Mar19_HESI_Neg.json',\n",
       "  'type': 'nom_analysis_activity_set'}]"
      ]
     },
     "execution_count": 68,
     "metadata": {},
     "output_type": "execute_result"
    }
   ],
   "source": [
    "to_fetch"
   ]
  },
  {
   "cell_type": "code",
   "execution_count": 69,
   "id": "abba1e2b",
   "metadata": {},
   "outputs": [],
   "source": [
    "import concurrent.futures\n",
    "import json\n",
    "\n",
    "import requests\n",
    "from tqdm.notebook import tqdm\n",
    "\n",
    "def fetch_json(url):\n",
    "    return requests.get(url).json()\n",
    "\n",
    "\n",
    "def download_them_all_parallel(to_fetch):\n",
    "    error_urls = []\n",
    "    pbar = tqdm(total=len(to_fetch))\n",
    "    urls = [spec[\"url\"] for spec in to_fetch]\n",
    "\n",
    "    with concurrent.futures.ThreadPoolExecutor() as executor:\n",
    "        future_to_url = {\n",
    "            executor.submit(fetch_json, url): url\n",
    "            for url in urls\n",
    "        }\n",
    "        for future in concurrent.futures.as_completed(future_to_url):\n",
    "            pbar.update(1)\n",
    "            url = future_to_url[future]\n",
    "            try:\n",
    "                payload = future.result()\n",
    "            except Exception as e:\n",
    "                error_urls.append((url, str(e)))\n",
    "            else:\n",
    "                name = url_to_name(url)\n",
    "                with open(f'/Users/dwinston/Downloads/{name}', 'w') as f:\n",
    "                    json.dump(payload, f)\n",
    "\n",
    "    pbar.close()\n",
    "    return error_urls"
   ]
  },
  {
   "cell_type": "code",
   "execution_count": 70,
   "id": "ded2c515",
   "metadata": {},
   "outputs": [
    {
     "data": {
      "application/vnd.jupyter.widget-view+json": {
       "model_id": "a00694a563ba4e73b70db230888b7172",
       "version_major": 2,
       "version_minor": 0
      },
      "text/plain": [
       "  0%|          | 0/997 [00:00<?, ?it/s]"
      ]
     },
     "metadata": {},
     "output_type": "display_data"
    },
    {
     "data": {
      "text/plain": [
       "[]"
      ]
     },
     "execution_count": 70,
     "metadata": {},
     "output_type": "execute_result"
    }
   ],
   "source": [
    "download_them_all_parallel(to_fetch)"
   ]
  },
  {
   "cell_type": "code",
   "execution_count": 71,
   "id": "0bbfcdfc",
   "metadata": {},
   "outputs": [],
   "source": [
    "def fetch_downloaded_json_given_url(url):\n",
    "    name = url_to_name(url)\n",
    "    with open(f'/Users/dwinston/Downloads/{name}') as f:\n",
    "        return json.load(f)"
   ]
  },
  {
   "cell_type": "code",
   "execution_count": 72,
   "id": "56dc5a08",
   "metadata": {},
   "outputs": [],
   "source": [
    "import requests\n",
    "from tqdm.notebook import tqdm\n",
    "\n",
    "def validate_and_add_parallel(to_fetch):\n",
    "    nmdc_db = defaultdict(list)\n",
    "    error_urls = []\n",
    "    pbar = tqdm(total=len(to_fetch))\n",
    "\n",
    "    with concurrent.futures.ThreadPoolExecutor() as executor:\n",
    "        future_to_spec = {\n",
    "            executor.submit(fetch_downloaded_json_given_url, spec[\"url\"]): spec\n",
    "            for spec in to_fetch\n",
    "        }\n",
    "        for future in concurrent.futures.as_completed(future_to_spec):\n",
    "            spec = future_to_spec[future]\n",
    "            try:\n",
    "                payload = future.result()\n",
    "            except Exception as e:\n",
    "                error_urls.append((spec[\"url\"], url_to_name(spec[\"url\"]), str(e)))\n",
    "            else:\n",
    "                nmdc_db[spec[\"type\"]].append(payload)\n",
    "            pbar.update(1)\n",
    "\n",
    "    pbar.close()\n",
    "    return nmdc_db, error_urls"
   ]
  },
  {
   "cell_type": "code",
   "execution_count": 73,
   "id": "f875cbf8",
   "metadata": {},
   "outputs": [
    {
     "data": {
      "application/vnd.jupyter.widget-view+json": {
       "model_id": "69e4d763b30949318618b06649c63662",
       "version_major": 2,
       "version_minor": 0
      },
      "text/plain": [
       "  0%|          | 0/997 [00:00<?, ?it/s]"
      ]
     },
     "metadata": {},
     "output_type": "display_data"
    }
   ],
   "source": [
    "nmdc_db, error_urls = validate_and_add_parallel(to_fetch)"
   ]
  },
  {
   "cell_type": "code",
   "execution_count": 74,
   "id": "1162f602",
   "metadata": {},
   "outputs": [],
   "source": [
    "ok = nmdc_jsonschema_validate(nmdc_db)"
   ]
  },
  {
   "cell_type": "code",
   "execution_count": 75,
   "id": "8505d63c",
   "metadata": {},
   "outputs": [
    {
     "data": {
      "text/plain": [
       "[]"
      ]
     },
     "execution_count": 75,
     "metadata": {},
     "output_type": "execute_result"
    }
   ],
   "source": [
    "error_urls"
   ]
  },
  {
   "cell_type": "code",
   "execution_count": 76,
   "id": "48007baf",
   "metadata": {},
   "outputs": [
    {
     "data": {
      "text/plain": [
       "{'metabolomics_analysis_activity_set': <pymongo.results.BulkWriteResult at 0x7f8a219a2a40>,\n",
       " 'nom_analysis_activity_set': <pymongo.results.BulkWriteResult at 0x7f8a21fe9480>}"
      ]
     },
     "execution_count": 76,
     "metadata": {},
     "output_type": "execute_result"
    }
   ],
   "source": [
    "mongo.add_docs(nmdc_db)"
   ]
  },
  {
   "cell_type": "markdown",
   "id": "a80fab23",
   "metadata": {},
   "source": [
    "MetaG annotations (`/global/project/projectdirs/m3408/www/meta/anno2/*_annotations.json`) are 155 JSON files totalling  ~83GB. To load them into MongoDB, I\n",
    "1. Set up a Globus transfer from NERSC DTN to a Globus Connect Personal endpoint on my laptop. I could e.g.\n",
    "```\n",
    "$ scp dtn01.nersc.gov:/global/project/projectdirs/m3408/www/meta/anno2/*_annotations.json .\n",
    "```\n",
    "but I chose to use Globus, and it works well.\n",
    "2. I have a bash script that uses GNU sed to transform each JSON file to a simple JSON Lines file, as expected by `mongoimport`:\n",
    "\n",
    "```bash\n",
    "# trim.sh\n",
    "\n",
    "task(){\n",
    "    echo $datafile\n",
    "    gsed -e '1,2d' -e '$d' $datafile | gsed -e '$d' | gsed s/\\}\\,/\\}/ > anno2/$(basename $datafile).jsonl\n",
    "}\n",
    "\n",
    "for datafile in ~/globus-nersc/nmdc/m3408/www/meta/anno2/*_annotations.json; do\n",
    "    task $datafile &\n",
    "done\n",
    "```\n",
    "I use `ps aux | grep \"gsed s\" | wc -l` to monitor the progress of the parallel sed tasks. I found that trying to do this head/tail file trimming by `json.load`ing the files in Python and resaving was quite slow because the JSON files are individually quite large.\n",
    "\n",
    "\n",
    "3. I use `jq` to filter for KEGG orthology annotations only, as these are currently the only annotations ingested by the data portal, reducing the number of annotation documents tenfold (from ~500M to ~50M):\n",
    "\n",
    "```bash\n",
    "# jqfilter.sh\n",
    "\n",
    "task(){\n",
    "    echo $datafile\n",
    "    jq 'select(.has_function|test(\"^KEGG.\"))' $datafile > anno2/$(basename $datafile).filtered.jsonl\n",
    "}\n",
    "\n",
    "for datafile in anno2/*_annotations.json.jsonl; do\n",
    "    task $datafile &\n",
    "done\n",
    "```\n",
    "\n",
    "4. I have a bash script that `mongoimport`s each filtered json lines file to the database\n",
    "\n",
    "```bash\n",
    "# mongoimport.sh\n",
    "# Note: be sure to remove any remote collection indexes first, to speed up import. Then, re-create indexes.\n",
    "\n",
    "n=$(ls anno2/*_annotations.*filtered.jsonl | wc -l | xargs) # `| xargs` to trim whitespace\n",
    "i=1\n",
    "for datafile in anno2/*_annotations.*filtered.jsonl; do\n",
    "    echo \"($i of $n): $datafile\"\n",
    "    mongoimport -h HOST \\\n",
    "        -u USER -p PASS --authenticationDatabase admin \\\n",
    "        -d nmdc -c functional_annotation_set \\\n",
    "        --numInsertionWorkers 8 \\\n",
    "        $datafile\n",
    "    i=$((i+1))\n",
    "done\n",
    "```\n",
    "\n",
    "specifying multiple (8 in this case) insertion workers per import."
   ]
  },
  {
   "cell_type": "markdown",
   "id": "3416bc0c",
   "metadata": {},
   "source": [
    "# ghissue_252_253_linked_samples.ipynb\n",
    "Biosample linking update"
   ]
  },
  {
   "cell_type": "code",
   "execution_count": 77,
   "id": "ca768979",
   "metadata": {},
   "outputs": [],
   "source": [
    "rows = []\n",
    "with open(\"../src/data/2021-02-03-stegen_biosample_linking_update.csv\") as f:\n",
    "    next(f) # skip header row\n",
    "    for row in f:\n",
    "        line = row.strip()\n",
    "        tokens = line.split(\",\")\n",
    "        if tokens[-1] == '':\n",
    "            rows.append(tokens[:-1])\n",
    "        else:\n",
    "            rows.append(tokens)"
   ]
  },
  {
   "cell_type": "code",
   "execution_count": 78,
   "id": "c5726c31",
   "metadata": {},
   "outputs": [],
   "source": [
    "import json\n",
    "from pprint import pprint\n",
    "\n",
    "\n",
    "with open(\"../src/data/2021-02-04-stegen_biosample_template.json\") as f:\n",
    "    s = f.read()\n",
    "\n",
    "try:\n",
    "    stegen_sample_template = json.loads(s)\n",
    "except json.JSONDecodeError:\n",
    "    stegen_sample_template = json.loads(\n",
    "        s.replace('\\n', '')\\\n",
    "        .replace(\"$BIOSAMPLE_ID\", '\"$BIOSAMPLE_ID\"')\\\n",
    "        .replace(\"“\", '\"')\n",
    "    )"
   ]
  },
  {
   "cell_type": "code",
   "execution_count": 79,
   "id": "5cc622f3",
   "metadata": {},
   "outputs": [],
   "source": [
    "import re\n",
    "\n",
    "gold_pattern = re.compile(r\"Gb\\d+\")\n",
    "\n",
    "def prefix_sample_id(s):\n",
    "    if \":\" in s:\n",
    "        return s\n",
    "    elif re.fullmatch(gold_pattern, s):\n",
    "        return \"gold:\" + s\n",
    "    else:\n",
    "        return \"emsl:\" + s"
   ]
  },
  {
   "cell_type": "code",
   "execution_count": 80,
   "id": "5382dbc2",
   "metadata": {},
   "outputs": [],
   "source": [
    "omics = []\n",
    "for i, row in enumerate(rows):\n",
    "    omics.append({\n",
    "        \"omics_id\": row[0],\n",
    "        \"omics_type\": row[1],\n",
    "        \"sample_name\": row[2],\n",
    "        \"sample_id\": prefix_sample_id(row[3]),\n",
    "        \"new\": len(row) > 4 and row[4] == \"TRUE\"\n",
    "    })"
   ]
  },
  {
   "cell_type": "code",
   "execution_count": 81,
   "id": "3ed3a19f",
   "metadata": {},
   "outputs": [],
   "source": [
    "existing_ids = [\n",
    "    d[\"id\"] for d in\n",
    "    db.biosample_set.find({\"id\": {\"$in\": [o[\"sample_id\"] for o in omics]}}, [\"id\"])\n",
    "]"
   ]
  },
  {
   "cell_type": "code",
   "execution_count": 82,
   "id": "4d9299f5",
   "metadata": {},
   "outputs": [],
   "source": [
    "from toolz import assoc_in, get_in\n",
    "\n",
    "def transform_in(doc, keys, fn):\n",
    "    initial = get_in(keys, doc)\n",
    "    transformed = fn(initial)\n",
    "    return assoc_in(doc, keys, transformed)"
   ]
  },
  {
   "cell_type": "code",
   "execution_count": 83,
   "id": "5ae166f3",
   "metadata": {},
   "outputs": [],
   "source": [
    "def fill_template(template, sample_id, sample_name):\n",
    "    doc = assoc_in(template, [\"id\"], sample_id)\n",
    "    doc = transform_in(\n",
    "        doc, [\"identifier\", \"has_raw_value\"],\n",
    "        lambda s: s.replace(\"$BIOSAMPLE_NAME\", sample_name)\n",
    "    )\n",
    "    doc = transform_in(\n",
    "        doc, [\"name\"],\n",
    "        lambda s: s.replace(\"$BIOSAMPLE_NAME\", sample_name)\n",
    "    )\n",
    "    return doc"
   ]
  },
  {
   "cell_type": "code",
   "execution_count": 84,
   "id": "08ece649",
   "metadata": {},
   "outputs": [],
   "source": [
    "# def term_subdocs_to_id_strings(doc):\n",
    "#     keys_with_term_ids = [\n",
    "#         k for k in doc\n",
    "#         if isinstance(doc[k], dict)\n",
    "#         and \"term\" in doc[k]\n",
    "#         and \"id\" in doc[k][\"term\"]\n",
    "#     ]\n",
    "#     for k in keys_with_term_ids:\n",
    "#         doc = assoc_in(doc, [k, \"term\"], doc[k][\"term\"][\"id\"])\n",
    "#     return doc"
   ]
  },
  {
   "cell_type": "code",
   "execution_count": 85,
   "id": "56eb61f7",
   "metadata": {},
   "outputs": [],
   "source": [
    "new_samples = {}\n",
    "for o in omics:\n",
    "    if o[\"new\"]:\n",
    "        new_samples[o[\"sample_id\"]] = o[\"sample_name\"]\n",
    "\n",
    "docs = []\n",
    "\n",
    "for sample_id, sample_name in new_samples.items():\n",
    "    doc = fill_template(stegen_sample_template, sample_id, sample_name)\n",
    "    #doc = term_subdocs_to_id_strings(doc)\n",
    "    docs.append(doc)"
   ]
  },
  {
   "cell_type": "code",
   "execution_count": 86,
   "id": "e0613853",
   "metadata": {},
   "outputs": [],
   "source": [
    "from toolz import get_in, assoc_in\n",
    "\n",
    "def un_raw_value(doc, key):\n",
    "    value = get_in([key, \"has_raw_value\"], doc)\n",
    "    if value is not None:\n",
    "        return assoc_in(doc, [key], value)\n",
    "    else:\n",
    "        return doc\n",
    "\n",
    "def re_raw_value(doc, key):\n",
    "    value = get_in([key], doc)\n",
    "    if value is not None and not isinstance(value, dict):\n",
    "        del doc[key]\n",
    "        return assoc_in(doc, [key, \"has_raw_value\"], value)\n",
    "    else:\n",
    "        return doc\n",
    "\n",
    "raws = [\n",
    "    \"ecosystem\",\n",
    "    \"collection_date\",\n",
    "    \"community\",\n",
    "    \"ecosystem_category\",\n",
    "    \"ecosystem_subtype\",\n",
    "    \"ecosystem_type\",\n",
    "    \"geo_loc_name\",\n",
    "    \"habitat\",\n",
    "    \"identifier\",\n",
    "    \"location\",\n",
    "    \"ncbi_taxonomy_name\",\n",
    "    \"sample_collection_site\",\n",
    "    \"specific_ecosystem\",\n",
    "]\n",
    "timestampvalue_fields = [\n",
    "    p for p, spec in nmdc_jsonschema['definitions']['Biosample']['properties'].items()\n",
    "    if '$ref' in spec and spec[\"$ref\"].endswith(\"TimestampValue\")\n",
    "]\n",
    "textvalue_fields = [\n",
    "    p for p, spec in nmdc_jsonschema['definitions']['Biosample']['properties'].items()\n",
    "    if '$ref' in spec and spec[\"$ref\"].endswith(\"TextValue\")\n",
    "]\n",
    "\n",
    "for key in raws:\n",
    "    docs = [un_raw_value(d, key) for d in docs]\n",
    "for key in timestampvalue_fields + textvalue_fields:\n",
    "    docs = [re_raw_value(d, key) for d in docs]"
   ]
  },
  {
   "cell_type": "code",
   "execution_count": 87,
   "id": "6221cee5",
   "metadata": {},
   "outputs": [],
   "source": [
    "ok = nmdc_jsonschema_validate({\"biosample_set\": docs})"
   ]
  },
  {
   "cell_type": "code",
   "execution_count": 88,
   "id": "ab71814f",
   "metadata": {},
   "outputs": [],
   "source": [
    "rv = mongo.add_docs({\"biosample_set\": docs})"
   ]
  },
  {
   "cell_type": "code",
   "execution_count": 89,
   "id": "6fa0a788",
   "metadata": {},
   "outputs": [
    {
     "data": {
      "text/plain": [
       "35"
      ]
     },
     "execution_count": 89,
     "metadata": {},
     "output_type": "execute_result"
    }
   ],
   "source": [
    "rv['biosample_set'].upserted_count"
   ]
  },
  {
   "cell_type": "markdown",
   "id": "3af29186",
   "metadata": {},
   "source": [
    "Second checklist item of GH Issue 252"
   ]
  },
  {
   "cell_type": "code",
   "execution_count": 90,
   "id": "34cdb376",
   "metadata": {},
   "outputs": [],
   "source": [
    "omics = [\n",
    "    transform_in(o, [\"omics_id\"], lambda s: \"emsl:\"+s if \":\" not in s else s)\n",
    "    for o in omics\n",
    "]"
   ]
  },
  {
   "cell_type": "code",
   "execution_count": 91,
   "id": "8939c84d",
   "metadata": {},
   "outputs": [],
   "source": [
    "omics_ids = [o[\"omics_id\"] for o in omics]\n",
    "\n",
    "found_omics_ids = [\n",
    "    d[\"id\"] for d in\n",
    "    db.omics_processing_set.find({\"id\": {\"$in\": omics_ids}},[\"id\"])\n",
    "]"
   ]
  },
  {
   "cell_type": "code",
   "execution_count": 92,
   "id": "122da255",
   "metadata": {},
   "outputs": [],
   "source": [
    "assert set(omics_ids) == set(found_omics_ids)"
   ]
  },
  {
   "cell_type": "code",
   "execution_count": 93,
   "id": "03511070",
   "metadata": {},
   "outputs": [],
   "source": [
    "omics_updates = {}\n",
    "for o in omics:\n",
    "    omics_updates[o[\"omics_id\"]] = o"
   ]
  },
  {
   "cell_type": "code",
   "execution_count": 94,
   "id": "cb92c33d",
   "metadata": {},
   "outputs": [],
   "source": [
    "from toolz import dissoc\n",
    "\n",
    "replacing_omics_type = {}\n",
    "\n",
    "docs = []\n",
    "\n",
    "for doc in db.omics_processing_set.find({\"id\": {\"$in\": omics_ids}}):\n",
    "    omics_type = get_in([\"omics_type\"], doc)\n",
    "    updates = omics_updates[doc[\"id\"]]\n",
    "    new_omics_type = {\"has_raw_value\": updates[\"omics_type\"]}\n",
    "    if omics_type != new_omics_type:\n",
    "        replacing_omics_type[doc[\"id\"]] = {\"from\": omics_type, \"to\": new_omics_type}\n",
    "    doc = assoc_in(doc, [\"omics_type\"], new_omics_type)\n",
    "    doc = assoc_in(doc, [\"has_input\"], [updates[\"sample_id\"]])\n",
    "    docs.append(dissoc(doc, \"_id\"))"
   ]
  },
  {
   "cell_type": "code",
   "execution_count": 95,
   "id": "2f60ea81",
   "metadata": {},
   "outputs": [
    {
     "data": {
      "text/plain": [
       "{}"
      ]
     },
     "execution_count": 95,
     "metadata": {},
     "output_type": "execute_result"
    }
   ],
   "source": [
    "replacing_omics_type"
   ]
  },
  {
   "cell_type": "code",
   "execution_count": 96,
   "id": "7db0397e",
   "metadata": {},
   "outputs": [],
   "source": [
    "ok = nmdc_jsonschema_validate({\"omics_processing_set\": docs})"
   ]
  },
  {
   "cell_type": "code",
   "execution_count": 97,
   "id": "54c4dc8e",
   "metadata": {},
   "outputs": [],
   "source": [
    "rv = mongo.add_docs({\"omics_processing_set\": docs})"
   ]
  },
  {
   "cell_type": "code",
   "execution_count": 98,
   "id": "6862c377",
   "metadata": {},
   "outputs": [
    {
     "data": {
      "text/plain": [
       "434"
      ]
     },
     "execution_count": 98,
     "metadata": {},
     "output_type": "execute_result"
    }
   ],
   "source": [
    "rv['omics_processing_set'].modified_count"
   ]
  },
  {
   "cell_type": "markdown",
   "id": "49db46ce",
   "metadata": {},
   "source": [
    "GH issue 253 - Brodie"
   ]
  },
  {
   "cell_type": "code",
   "execution_count": 99,
   "id": "62d34817",
   "metadata": {},
   "outputs": [],
   "source": [
    "rows = []\n",
    "with open(\"../src/data/2021-02-04-brodie_biosample_linking_update.csv\") as f:\n",
    "    next(f) # skip header row\n",
    "    for row in f:\n",
    "        line = row.strip()\n",
    "        tokens = line.split(\",\")\n",
    "        if tokens[-1] == '':\n",
    "            rows.append(tokens[:-1])\n",
    "        else:\n",
    "            rows.append(tokens)"
   ]
  },
  {
   "cell_type": "code",
   "execution_count": 100,
   "id": "3fc3e75f",
   "metadata": {},
   "outputs": [],
   "source": [
    "omics = []\n",
    "for i, row in enumerate(rows):\n",
    "    omics.append({\n",
    "        \"omics_id\": \"emsl:\" + row[0].strip(),\n",
    "        \"omics_type\": row[1].strip(),\n",
    "        \"sample_name\": row[2].strip(),\n",
    "        \"sample_id\": \"igsn:\" + row[3].strip(),\n",
    "    })"
   ]
  },
  {
   "cell_type": "code",
   "execution_count": 101,
   "id": "e678f7fa",
   "metadata": {},
   "outputs": [],
   "source": [
    "omics_ids = [o[\"omics_id\"] for o in omics]\n",
    "\n",
    "found_omics_ids = [\n",
    "    d[\"id\"] for d in\n",
    "    db.omics_processing_set.find({\"id\": {\"$in\": omics_ids}},[\"id\"])\n",
    "]"
   ]
  },
  {
   "cell_type": "code",
   "execution_count": 102,
   "id": "ac85df28",
   "metadata": {},
   "outputs": [],
   "source": [
    "assert set(omics_ids) == set(found_omics_ids)"
   ]
  },
  {
   "cell_type": "code",
   "execution_count": 103,
   "id": "4105a92b",
   "metadata": {},
   "outputs": [],
   "source": [
    "omics_updates = {}\n",
    "for o in omics:\n",
    "    omics_updates[o[\"omics_id\"]] = o"
   ]
  },
  {
   "cell_type": "code",
   "execution_count": 104,
   "id": "149e6e77",
   "metadata": {},
   "outputs": [],
   "source": [
    "replacing_omics_type = {}\n",
    "\n",
    "docs = []\n",
    "\n",
    "for doc in db.omics_processing_set.find({\"id\": {\"$in\": omics_ids}}):\n",
    "    omics_type = get_in([\"omics_type\"], doc)\n",
    "    updates = omics_updates[doc[\"id\"]]\n",
    "    new_omics_type = {\"has_raw_value\": updates[\"omics_type\"]}\n",
    "    if omics_type != new_omics_type:\n",
    "        replacing_omics_type[doc[\"id\"]] = {\"from\": omics_type, \"to\": new_omics_type}\n",
    "    doc = assoc_in(doc, [\"omics_type\"], new_omics_type)\n",
    "    doc = assoc_in(doc, [\"has_input\"], [updates[\"sample_id\"]])\n",
    "    docs.append(dissoc(doc, \"_id\"))"
   ]
  },
  {
   "cell_type": "code",
   "execution_count": 105,
   "id": "26d74af2",
   "metadata": {},
   "outputs": [
    {
     "data": {
      "text/plain": [
       "{}"
      ]
     },
     "execution_count": 105,
     "metadata": {},
     "output_type": "execute_result"
    }
   ],
   "source": [
    "replacing_omics_type"
   ]
  },
  {
   "cell_type": "code",
   "execution_count": 106,
   "id": "8047ffa5",
   "metadata": {},
   "outputs": [],
   "source": [
    "ok = nmdc_jsonschema_validate({\"omics_processing_set\": docs})"
   ]
  },
  {
   "cell_type": "code",
   "execution_count": 107,
   "id": "1142fb6a",
   "metadata": {},
   "outputs": [],
   "source": [
    "rv = mongo.add_docs({\"omics_processing_set\": docs})"
   ]
  },
  {
   "cell_type": "code",
   "execution_count": 108,
   "id": "16095755",
   "metadata": {},
   "outputs": [
    {
     "data": {
      "text/plain": [
       "738"
      ]
     },
     "execution_count": 108,
     "metadata": {},
     "output_type": "execute_result"
    }
   ],
   "source": [
    "rv['omics_processing_set'].modified_count"
   ]
  },
  {
   "cell_type": "markdown",
   "id": "30f17b6a",
   "metadata": {},
   "source": [
    "# ghissue_255.ipynb"
   ]
  },
  {
   "cell_type": "markdown",
   "id": "8a7eee60",
   "metadata": {},
   "source": [
    "Remove the 40 Wrighton EMSL omics_processing and data object documents that relate to isolates"
   ]
  },
  {
   "cell_type": "code",
   "execution_count": 109,
   "id": "13b67561",
   "metadata": {},
   "outputs": [
    {
     "data": {
      "text/plain": [
       "40"
      ]
     },
     "execution_count": 109,
     "metadata": {},
     "output_type": "execute_result"
    }
   ],
   "source": [
    "mfilter = {\n",
    "    \"part_of\": [\"gold:Gs0114675\"],\n",
    "    \"processing_institution\": \"Environmental Molecular Sciences Lab\"\n",
    "}\n",
    "\n",
    "db.omics_processing_set.count_documents(filter=mfilter)"
   ]
  },
  {
   "cell_type": "code",
   "execution_count": 110,
   "id": "a9c1fabb",
   "metadata": {},
   "outputs": [],
   "source": [
    "from pymongo import DeleteMany\n",
    "from toolz import concat\n",
    "\n",
    "requests = []\n",
    "\n",
    "\n",
    "docs = list(db.omics_processing_set.find(mfilter, [\"id\", \"has_output\"]))\n",
    "omics_processing_ids = [d[\"id\"] for d in docs]\n",
    "data_object_ids = list(concat(d[\"has_output\"] for d in docs))\n",
    "\n",
    "assert len(omics_processing_ids) == db.data_object_set.count_documents({\"id\": {\"$in\": data_object_ids}})"
   ]
  },
  {
   "cell_type": "code",
   "execution_count": 111,
   "id": "3a2dd214",
   "metadata": {},
   "outputs": [],
   "source": [
    "rv1 = db.omics_processing_set.delete_many({\"id\": {\"$in\": omics_processing_ids}})\n",
    "rv2 = db.data_object_set.delete_many({\"id\": {\"$in\": data_object_ids}})"
   ]
  },
  {
   "cell_type": "code",
   "execution_count": 112,
   "id": "34c0c1ba",
   "metadata": {},
   "outputs": [
    {
     "data": {
      "text/plain": [
       "(40, 40)"
      ]
     },
     "execution_count": 112,
     "metadata": {},
     "output_type": "execute_result"
    }
   ],
   "source": [
    "rv1.deleted_count, rv2.deleted_count"
   ]
  },
  {
   "cell_type": "markdown",
   "id": "3311ff82",
   "metadata": {},
   "source": [
    "# ghissue_272.ipynb"
   ]
  },
  {
   "cell_type": "markdown",
   "id": "4c202252",
   "metadata": {},
   "source": [
    "add 5 Brodie samples used at EMSL but not JGI"
   ]
  },
  {
   "cell_type": "code",
   "execution_count": 113,
   "id": "d5bd94f4",
   "metadata": {},
   "outputs": [],
   "source": [
    "from datetime import datetime\n",
    "\n",
    "dt_pattern = re.compile(r\"\\d{2}-(?P<month>\\w+)-\\d{2} \\d{2}\\.\\d{2}\\.\\d{2}\\.(?P<ns>\\d+) [A|P]M\")\n",
    "dt_format = \"%d-%b-%y %I.%M.%S.%f %p\"\n",
    "\n",
    "def gold_dtstr_to_iso8601(s):\n",
    "    match = dt_pattern.search(s)\n",
    "    first, month, rest = s.partition(match.group(\"month\"))\n",
    "    s_new = first + month[0] + month[1:].lower() + rest\n",
    "    s_new = s_new.replace(match.group(\"ns\"), match.group(\"ns\")[:-3]) # truncate to microseconds\n",
    "    dt = datetime.strptime(s_new, dt_format)\n",
    "    return dt.strftime(\"%Y-%m-%d\")"
   ]
  },
  {
   "cell_type": "code",
   "execution_count": 114,
   "id": "66f1d4a4",
   "metadata": {},
   "outputs": [],
   "source": [
    "docs = [\n",
    "   {\n",
    "      \"name\":\"Soil microbial communities from the East River watershed near Crested Butte, Colorado, United States - \",\n",
    "      \"description\":\"Soil microbial communities from the East River watershed near Crested Butte, Colorado, United States\",\n",
    "      \"lat_lon\":{\n",
    "         \"has_raw_value\":\"38.9206 -106.9489\",\n",
    "         \"latitude\":38.9206,\n",
    "         \"longitude\":-106.9489\n",
    "      },\n",
    "      \"geo_loc_name\":\"USA: Colorado\",\n",
    "      \"collection_date\":\"2017-05-09\",\n",
    "      \"env_broad_scale\":{\n",
    "         \"has_raw_value\":\"ENVO_00000446\",\n",
    "         \"type\":\"ControlledTermValue\"\n",
    "      },\n",
    "      \"env_local_scale\":{\n",
    "         \"has_raw_value\":\"ENVO_00000292\",\n",
    "         \"type\":\"ControlledTermValue\"\n",
    "      },\n",
    "      \"env_medium\":{\n",
    "         \"has_raw_value\":\"ENVO_00001998\",\n",
    "         \"type\":\"ControlledTermValue\"\n",
    "      },\n",
    "      \"ecosystem\":\"Environmental\",\n",
    "      \"ecosystem_category\":\"Terrestrial\",\n",
    "      \"ecosystem_type\":\"Soil\",\n",
    "      \"ecosystem_subtype\":\"Unclassified\",\n",
    "      \"specific_ecosystem\":\"Unclassified\",\n",
    "      \"depth\": {\"has_numeric_value\": 15},\n",
    "      \"ncbi_taxonomy_name\":\"soil metagenome\",\n",
    "      \"community\":\"microbial communities\",\n",
    "      \"location\":\"The East River watershed near Crested Butte, Colorado, USA\",\n",
    "      \"habitat\":\"soil\",\n",
    "      \"sample_collection_site\":\"soil\",\n",
    "      \"add_date\":\"22-Jun-18 04.28.47.015000 PM\",\n",
    "      \"mod_date\":\"01-Oct-19 09.41.01.459000 AM\",\n",
    "      \"id\":\"igsn:IEWFS000I\",\n",
    "      \"identifier\":\"igsn:IEWFS000I\"\n",
    "   },\n",
    "   {\n",
    "      \"name\":\"Soil microbial communities from the East River watershed near Crested Butte, Colorado, United States - \",\n",
    "      \"description\":\"Soil microbial communities from the East River watershed near Crested Butte, Colorado, United States\",\n",
    "      \"lat_lon\":{\n",
    "         \"has_raw_value\":\"38.9206 -106.9489\",\n",
    "         \"latitude\":38.9206,\n",
    "         \"longitude\":-106.9489\n",
    "      },\n",
    "      \"geo_loc_name\":\"USA: Colorado\",\n",
    "      \"collection_date\":\"2017-05-09\",\n",
    "      \"env_broad_scale\":{\n",
    "         \"has_raw_value\":\"ENVO_00000446\",\n",
    "         \"type\":\"ControlledTermValue\"\n",
    "      },\n",
    "      \"env_local_scale\":{\n",
    "         \"has_raw_value\":\"ENVO_00000292\",\n",
    "         \"type\":\"ControlledTermValue\"\n",
    "      },\n",
    "      \"env_medium\":{\n",
    "         \"has_raw_value\":\"ENVO_00001998\",\n",
    "         \"type\":\"ControlledTermValue\"\n",
    "      },\n",
    "      \"ecosystem\":\"Environmental\",\n",
    "      \"ecosystem_category\":\"Terrestrial\",\n",
    "      \"ecosystem_type\":\"Soil\",\n",
    "      \"ecosystem_subtype\":\"Unclassified\",\n",
    "      \"specific_ecosystem\":\"Unclassified\",\n",
    "      \"depth\":{\"has_numeric_value\": 15},\n",
    "      \"ncbi_taxonomy_name\":\"soil metagenome\",\n",
    "      \"community\":\"microbial communities\",\n",
    "      \"location\":\"The East River watershed near Crested Butte, Colorado, USA\",\n",
    "      \"habitat\":\"soil\",\n",
    "      \"sample_collection_site\":\"soil\",\n",
    "      \"add_date\":\"22-Jun-18 04.28.47.015000 PM\",\n",
    "      \"mod_date\":\"01-Oct-19 09.41.01.459000 AM\",\n",
    "      \"id\":\"igsn:IEWFS000K\",\n",
    "      \"identifier\":\"igsn:IEWFS000K\"\n",
    "   },\n",
    "   {\n",
    "      \"name\":\"Soil microbial communities from the East River watershed near Crested Butte, Colorado, United States - \",\n",
    "      \"description\":\"Soil microbial communities from the East River watershed near Crested Butte, Colorado, United States\",\n",
    "      \"lat_lon\":{\n",
    "         \"has_raw_value\":\"38.9206 -106.9489\",\n",
    "         \"latitude\":38.9206,\n",
    "         \"longitude\":-106.9489\n",
    "      },\n",
    "      \"geo_loc_name\":\"USA: Colorado\",\n",
    "      \"collection_date\":\"2017-05-09\",\n",
    "      \"env_broad_scale\":{\n",
    "         \"has_raw_value\":\"ENVO_00000446\",\n",
    "         \"type\":\"ControlledTermValue\"\n",
    "      },\n",
    "      \"env_local_scale\":{\n",
    "         \"has_raw_value\":\"ENVO_00000292\",\n",
    "         \"type\":\"ControlledTermValue\"\n",
    "      },\n",
    "      \"env_medium\":{\n",
    "         \"has_raw_value\":\"ENVO_00001998\",\n",
    "         \"type\":\"ControlledTermValue\"\n",
    "      },\n",
    "      \"ecosystem\":\"Environmental\",\n",
    "      \"ecosystem_category\":\"Terrestrial\",\n",
    "      \"ecosystem_type\":\"Soil\",\n",
    "      \"ecosystem_subtype\":\"Unclassified\",\n",
    "      \"specific_ecosystem\":\"Unclassified\",\n",
    "      \"depth\":{\"has_numeric_value\": 15},\n",
    "      \"ncbi_taxonomy_name\":\"soil metagenome\",\n",
    "      \"community\":\"microbial communities\",\n",
    "      \"location\":\"The East River watershed near Crested Butte, Colorado, USA\",\n",
    "      \"habitat\":\"soil\",\n",
    "      \"sample_collection_site\":\"soil\",\n",
    "      \"add_date\":\"22-Jun-18 04.28.47.015000 PM\",\n",
    "      \"mod_date\":\"01-Oct-19 09.41.01.459000 AM\",\n",
    "      \"id\":\"igsn:IEWFS000B\",\n",
    "      \"identifier\":\"igsn:IEWFS000B\"\n",
    "   },\n",
    "   {\n",
    "      \"name\":\"Soil microbial communities from the East River watershed near Crested Butte, Colorado, United States - \",\n",
    "      \"description\":\"Soil microbial communities from the East River watershed near Crested Butte, Colorado, United States\",\n",
    "      \"lat_lon\":{\n",
    "         \"has_raw_value\":\"38.9206 -106.9489\",\n",
    "         \"latitude\":38.9206,\n",
    "         \"longitude\":-106.9489\n",
    "      },\n",
    "      \"geo_loc_name\":\"USA: Colorado\",\n",
    "      \"collection_date\":\"2017-05-09\",\n",
    "      \"env_broad_scale\":{\n",
    "         \"has_raw_value\":\"ENVO_00000446\",\n",
    "         \"type\":\"ControlledTermValue\"\n",
    "      },\n",
    "      \"env_local_scale\":{\n",
    "         \"has_raw_value\":\"ENVO_00000292\",\n",
    "         \"type\":\"ControlledTermValue\"\n",
    "      },\n",
    "      \"env_medium\":{\n",
    "         \"has_raw_value\":\"ENVO_00001998\",\n",
    "         \"type\":\"ControlledTermValue\"\n",
    "      },\n",
    "      \"ecosystem\":\"Environmental\",\n",
    "      \"ecosystem_category\":\"Terrestrial\",\n",
    "      \"ecosystem_type\":\"Soil\",\n",
    "      \"ecosystem_subtype\":\"Unclassified\",\n",
    "      \"specific_ecosystem\":\"Unclassified\",\n",
    "      \"depth\":{\"has_numeric_value\": 15},\n",
    "      \"ncbi_taxonomy_name\":\"soil metagenome\",\n",
    "      \"community\":\"microbial communities\",\n",
    "      \"location\":\"The East River watershed near Crested Butte, Colorado, USA\",\n",
    "      \"habitat\":\"soil\",\n",
    "      \"sample_collection_site\":\"soil\",\n",
    "      \"add_date\":\"22-Jun-18 04.28.47.015000 PM\",\n",
    "      \"mod_date\":\"01-Oct-19 09.41.01.459000 AM\",\n",
    "      \"id\":\"igsn:IEWFS000A\",\n",
    "      \"identifier\":\"igsn:IEWFS000A\"\n",
    "   },\n",
    "   {\n",
    "      \"name\":\"Soil microbial communities from the East River watershed near Crested Butte, Colorado, United States - \",\n",
    "      \"description\":\"Soil microbial communities from the East River watershed near Crested Butte, Colorado, United States\",\n",
    "      \"lat_lon\":{\n",
    "         \"has_raw_value\":\"38.9206 -106.9489\",\n",
    "         \"latitude\":38.9206,\n",
    "         \"longitude\":-106.9489\n",
    "      },\n",
    "      \"geo_loc_name\":\"USA: Colorado\",\n",
    "      \"collection_date\":\"2017-05-09\",\n",
    "      \"env_broad_scale\":{\n",
    "         \"has_raw_value\":\"ENVO_00000446\",\n",
    "         \"type\":\"ControlledTermValue\"\n",
    "      },\n",
    "      \"env_local_scale\":{\n",
    "         \"has_raw_value\":\"ENVO_00000292\",\n",
    "         \"type\":\"ControlledTermValue\"\n",
    "      },\n",
    "      \"env_medium\":{\n",
    "         \"has_raw_value\":\"ENVO_00001998\",\n",
    "         \"type\":\"ControlledTermValue\"\n",
    "      },\n",
    "      \"ecosystem\":\"Environmental\",\n",
    "      \"ecosystem_category\":\"Terrestrial\",\n",
    "      \"ecosystem_type\":\"Soil\",\n",
    "      \"ecosystem_subtype\":\"Unclassified\",\n",
    "      \"specific_ecosystem\":\"Unclassified\",\n",
    "      \"depth\":{\"has_numeric_value\": 15},\n",
    "      \"ncbi_taxonomy_name\":\"soil metagenome\",\n",
    "      \"community\":\"microbial communities\",\n",
    "      \"location\":\"The East River watershed near Crested Butte, Colorado, USA\",\n",
    "      \"habitat\":\"soil\",\n",
    "      \"sample_collection_site\":\"soil\",\n",
    "      \"add_date\":\"22-Jun-18 04.28.47.015000 PM\",\n",
    "      \"mod_date\":\"01-Oct-19 09.41.01.459000 AM\",\n",
    "      \"id\":\"igsn:IEWFS000J\",\n",
    "      \"identifier\":\"igsn:IEWFS000J\"\n",
    "   }\n",
    "]"
   ]
  },
  {
   "cell_type": "code",
   "execution_count": 115,
   "id": "bc0a746e",
   "metadata": {},
   "outputs": [],
   "source": [
    "from toolz import get_in, assoc_in\n",
    "\n",
    "def re_raw_value(doc, key):\n",
    "    value = get_in([key], doc)\n",
    "    if value is not None and not isinstance(value, dict):\n",
    "        del doc[key]\n",
    "        return assoc_in(doc, [key, \"has_raw_value\"], value)\n",
    "    else:\n",
    "        return doc\n",
    "\n",
    "timestampvalue_fields = [\n",
    "    p for p, spec in nmdc_jsonschema['definitions']['Biosample']['properties'].items()\n",
    "    if '$ref' in spec and spec[\"$ref\"].endswith(\"TimestampValue\")\n",
    "]\n",
    "textvalue_fields = [\n",
    "    p for p, spec in nmdc_jsonschema['definitions']['Biosample']['properties'].items()\n",
    "    if '$ref' in spec and spec[\"$ref\"].endswith(\"TextValue\")\n",
    "]\n",
    "quantityvalue_fields = [\n",
    "    p for p, spec in nmdc_jsonschema['definitions']['Biosample']['properties'].items()\n",
    "    if '$ref' in spec and spec[\"$ref\"].endswith(\"QuantityValue\")\n",
    "]\n",
    "\n",
    "for key in timestampvalue_fields + textvalue_fields + quantityvalue_fields:\n",
    "    docs = [re_raw_value(d, key) for d in docs]"
   ]
  },
  {
   "cell_type": "code",
   "execution_count": 116,
   "id": "9a4e2d77",
   "metadata": {},
   "outputs": [],
   "source": [
    "for d in docs:\n",
    "    d[\"add_date\"] = gold_dtstr_to_iso8601(d[\"add_date\"])\n",
    "    d[\"mod_date\"] = gold_dtstr_to_iso8601(d[\"mod_date\"])"
   ]
  },
  {
   "cell_type": "code",
   "execution_count": 117,
   "id": "996a31a9",
   "metadata": {},
   "outputs": [],
   "source": [
    "ok = nmdc_jsonschema_validate({\"biosample_set\": docs})"
   ]
  },
  {
   "cell_type": "code",
   "execution_count": 119,
   "id": "79459a51",
   "metadata": {},
   "outputs": [],
   "source": [
    "rv = mongo.add_docs({\"biosample_set\": docs})"
   ]
  },
  {
   "cell_type": "code",
   "execution_count": 120,
   "id": "fb862a47",
   "metadata": {},
   "outputs": [],
   "source": [
    "assert db.biosample_set.count_documents({\"id\": {\"$in\": [d[\"id\"] for d in docs]}}) == len(docs)"
   ]
  },
  {
   "cell_type": "markdown",
   "id": "d6c15511",
   "metadata": {},
   "source": [
    "# ensure_biosample_set_study_id.ipynb"
   ]
  },
  {
   "cell_type": "code",
   "execution_count": 121,
   "id": "32d2b151",
   "metadata": {},
   "outputs": [],
   "source": [
    "# Done via biosample_set.part_of field (\"Relates the biosample to the study for which the sample was collected.\")."
   ]
  },
  {
   "cell_type": "code",
   "execution_count": 122,
   "id": "10a6ef98",
   "metadata": {},
   "outputs": [
    {
     "data": {
      "text/plain": [
       "'part_of_1'"
      ]
     },
     "execution_count": 122,
     "metadata": {},
     "output_type": "execute_result"
    }
   ],
   "source": [
    "db.biosample_set.create_index(\"part_of\")"
   ]
  },
  {
   "cell_type": "code",
   "execution_count": 123,
   "id": "15238579",
   "metadata": {},
   "outputs": [],
   "source": [
    "stegen = \"gold:Gs0114663\"\n",
    "wrighton = \"gold:Gs0114675\"\n",
    "brodie = \"gold:Gs0135149\""
   ]
  },
  {
   "cell_type": "code",
   "execution_count": 124,
   "id": "ab670663",
   "metadata": {},
   "outputs": [
    {
     "data": {
      "text/plain": [
       "48"
      ]
     },
     "execution_count": 124,
     "metadata": {},
     "output_type": "execute_result"
    }
   ],
   "source": [
    "db.biosample_set.count_documents({\"part_of\": brodie})"
   ]
  },
  {
   "cell_type": "code",
   "execution_count": 125,
   "id": "679f82c3",
   "metadata": {},
   "outputs": [
    {
     "data": {
      "text/plain": [
       "50"
      ]
     },
     "execution_count": 125,
     "metadata": {},
     "output_type": "execute_result"
    }
   ],
   "source": [
    "db.biosample_set.count_documents({\"part_of\": stegen})"
   ]
  },
  {
   "cell_type": "code",
   "execution_count": 126,
   "id": "90dbc421",
   "metadata": {},
   "outputs": [
    {
     "data": {
      "text/plain": [
       "25"
      ]
     },
     "execution_count": 126,
     "metadata": {},
     "output_type": "execute_result"
    }
   ],
   "source": [
    "db.biosample_set.count_documents({\"part_of\": wrighton})"
   ]
  },
  {
   "cell_type": "code",
   "execution_count": 127,
   "id": "6e4a60ee",
   "metadata": {},
   "outputs": [
    {
     "data": {
      "text/plain": [
       "123"
      ]
     },
     "execution_count": 127,
     "metadata": {},
     "output_type": "execute_result"
    }
   ],
   "source": [
    "db.biosample_set.count_documents({\"part_of\": {\"$in\": [brodie, stegen, wrighton]}})"
   ]
  },
  {
   "cell_type": "markdown",
   "id": "0b46a3b7",
   "metadata": {},
   "source": [
    "# Remove omics_processing without has_input"
   ]
  },
  {
   "cell_type": "code",
   "execution_count": 128,
   "id": "85697039",
   "metadata": {},
   "outputs": [
    {
     "name": "stdout",
     "output_type": "stream",
     "text": [
      "1336\n"
     ]
    }
   ],
   "source": [
    "to_delete = [d[\"id\"] for d in db.omics_processing_set.find({\"has_input\": \"emsl:TBD\"}, [\"id\"])]\n",
    "print(len(to_delete))"
   ]
  },
  {
   "cell_type": "code",
   "execution_count": 129,
   "id": "9659d610",
   "metadata": {},
   "outputs": [],
   "source": [
    "from pymongo import DeleteMany\n",
    "\n",
    "rv = db.omics_processing_set.bulk_write([DeleteMany({\"id\": {\"$in\": to_delete}})])"
   ]
  },
  {
   "cell_type": "code",
   "execution_count": 130,
   "id": "2e8b2624",
   "metadata": {},
   "outputs": [
    {
     "data": {
      "text/plain": [
       "1336"
      ]
     },
     "execution_count": 130,
     "metadata": {},
     "output_type": "execute_result"
    }
   ],
   "source": [
    "rv.deleted_count"
   ]
  },
  {
   "cell_type": "markdown",
   "id": "f856a591",
   "metadata": {},
   "source": [
    "# add metaT files"
   ]
  },
  {
   "cell_type": "code",
   "execution_count": 131,
   "id": "dc274ddc",
   "metadata": {},
   "outputs": [
    {
     "name": "stdout",
     "output_type": "stream",
     "text": [
      "1/2: fetching https://portal.nersc.gov/project/m3408/meta/metaT_activity.json\n",
      "saving as gov.nersc.portal__project.m3408.meta.metaT_activity.json\n",
      "2/2: fetching https://portal.nersc.gov/project/m3408/meta/metaT_data_objects.json\n",
      "saving as gov.nersc.portal__project.m3408.meta.metaT_data_objects.json\n",
      "1/2: fetching metaT_activity.json (metatranscriptome_activity_set)\n",
      "2/2: fetching metaT_data_objects.json (data_object_set)\n",
      "validating\n",
      "adding\n"
     ]
    }
   ],
   "source": [
    "from collections import defaultdict\n",
    "import json\n",
    "from pathlib import Path\n",
    "import re\n",
    "\n",
    "import requests\n",
    "\n",
    "from nmdc_runtime.util import nmdc_jsonschema_validate\n",
    "\n",
    "pattern = re.compile(r\"https?://(?P<domain>[^/]+)/(?P<path>.+)\")\n",
    "\n",
    "to_fetch = [{\n",
    "    \"url\": \"https://portal.nersc.gov/project/m3408/meta/metaT_activity.json\",\n",
    "    \"type\": \"metatranscriptome_activity_set\" # waiting on PR microbiomedata/nmdc-schema#86\n",
    "}, {\n",
    "    \"url\": \"https://portal.nersc.gov/project/m3408/meta/metaT_data_objects.json\",\n",
    "    \"type\": \"data_object_set\" # already mongoimported, but good to re-do via notebook\n",
    "}]\n",
    "\n",
    "def url_to_name(url):\n",
    "    m = pattern.match(url)\n",
    "    return f\"{'.'.join(reversed(m.group('domain').split('.')))}__{m.group('path').replace('/', '.')}\"\n",
    "\n",
    "def download_them_all(to_fetch):\n",
    "    for i, spec in enumerate(to_fetch):\n",
    "        url = spec[\"url\"]\n",
    "        name = url_to_name(url)\n",
    "        print(f\"{i+1}/{len(to_fetch)}: fetching {url}\")\n",
    "        rv = requests.get(url)\n",
    "        print(f\"saving as {name}\")\n",
    "        with open(f'/Users/dwinston/Downloads/{name}', 'w') as f:\n",
    "            json.dump(rv.json(), f)\n",
    "            \n",
    "def fetch_downloaded_json(name):\n",
    "    with open(f'/Users/dwinston/Downloads/{name}') as f:\n",
    "        return json.load(f)\n",
    "    \n",
    "def fetch_downloaded_json_given_url(url):\n",
    "    name = url_to_name(url)\n",
    "    with open(f'/Users/dwinston/Downloads/{name}') as f:\n",
    "        return json.load(f)\n",
    "\n",
    "def fetch_validate_and_add(to_fetch):\n",
    "    to_add = defaultdict(list)\n",
    "    for i, spec in enumerate(to_fetch):\n",
    "        url = spec[\"url\"]\n",
    "        name = Path(url).name\n",
    "        collection_name = spec[\"type\"]\n",
    "        print(f\"{i+1}/{len(to_fetch)}: fetching {name} ({collection_name})\")\n",
    "        docs = fetch_downloaded_json_given_url(url)\n",
    "        if not isinstance(docs, list):\n",
    "            docs = [docs]\n",
    "        to_add[collection_name].extend(docs)\n",
    "    print(\"validating\")\n",
    "    nmdc_jsonschema_validate(to_add)\n",
    "    print(\"adding\")\n",
    "    mongo.add_docs(to_add, validate=False)\n",
    "            \n",
    "download_them_all(to_fetch)\n",
    "fetch_validate_and_add(to_fetch)"
   ]
  },
  {
   "cell_type": "markdown",
   "id": "e6e041b2",
   "metadata": {},
   "source": [
    "# Create file_type_enum collection\n",
    "May end up being the same as `object_types`, but keep seperate for now"
   ]
  },
  {
   "cell_type": "code",
   "execution_count": 132,
   "id": "b56169ca",
   "metadata": {},
   "outputs": [],
   "source": [
    "from pydantic import BaseModel\n",
    "\n",
    "from nmdc_runtime.api.core.idgen import Base32Id, generate_id_unique\n",
    "\n",
    "\n",
    "class FileTypeEnumBase(BaseModel):\n",
    "    name: str\n",
    "    description: str\n",
    "    filter: str # JSON-encoded data_object_set mongo collection filter document    \n",
    "\n",
    "class FileTypeEnum(FileTypeEnumBase):\n",
    "    id: Base32Id"
   ]
  },
  {
   "cell_type": "code",
   "execution_count": 133,
   "id": "1f1bb410",
   "metadata": {},
   "outputs": [],
   "source": [
    "from functools import lru_cache\n",
    "\n",
    "@lru_cache\n",
    "def _fte_id(fte_as_str):\n",
    "    return generate_id_unique(mongo.db, \"file_type_enum\")\n",
    "\n",
    "def get_fte_id(fte):\n",
    "    return _fte_id(fte.json())"
   ]
  },
  {
   "cell_type": "code",
   "execution_count": 134,
   "id": "de038bb7",
   "metadata": {},
   "outputs": [],
   "source": [
    "def filter_matches(filter_):\n",
    "    return list(mongo.db.data_object_set.find(filter_).limit(3))"
   ]
  },
  {
   "cell_type": "code",
   "execution_count": 135,
   "id": "0ca605e4",
   "metadata": {},
   "outputs": [],
   "source": [
    "file_type_enum = [\n",
    "    FileTypeEnumBase(\n",
    "        name=\"FT ICR-MS analysis results\",\n",
    "        description=\"FT ICR-MS-based metabolite assignment results table\",\n",
    "        filter=json.dumps({\"url\": {\"$regex\": \"nom\\/results\"}, \"description\": {\"$regex\": \"FT ICR-MS\"}})\n",
    "    ),\n",
    "    FileTypeEnumBase(\n",
    "        name=\"GC-MS Metabolomics Results\",\n",
    "        description=\"GC-MS-based metabolite assignment results table\",\n",
    "        filter=json.dumps({\"url\": {\"$regex\": \"metabolomics\\/results\"}})\n",
    "    ),\n",
    "    FileTypeEnumBase(\n",
    "        name=\"Metaproteomics Workflow Statistics\",\n",
    "        description=\"Aggregate workflow statistics file\",\n",
    "        filter=json.dumps({\"url\": {\"$regex\": \"QC_Metrics.tsv\"}})\n",
    "    ),\n",
    "    FileTypeEnumBase(\n",
    "        name=\"Protein Report\",\n",
    "        description=\"Filtered protein report file\",\n",
    "        filter=json.dumps({\"url\": {\"$regex\": \"Protein_Report.tsv\"}})\n",
    "    ),\n",
    "    FileTypeEnumBase(\n",
    "        name=\"Peptide Report\",\n",
    "        description=\"Filtered peptide report file\",\n",
    "        filter=json.dumps({\"url\": {\"$regex\": \"Peptide_Report.tsv\"}})\n",
    "    ),\n",
    "    FileTypeEnumBase(\n",
    "        name=\"Unfiltered Metaproteomics Results\",\n",
    "        description=\"MSGFjobs and MASIC output file\",\n",
    "        filter=json.dumps({\"url\": {\"$regex\": \"MSGFjobs_MASIC_resultant.tsv\"}})\n",
    "    ),\n",
    "    FileTypeEnumBase(\n",
    "        name=\"Read Count and RPKM\",\n",
    "        description=\"Annotation read count and RPKM per feature JSON\",\n",
    "        filter=json.dumps({\"url\": {\"$regex\": \"metat_out_json\\/output.json\"}})\n",
    "    ),\n",
    "    FileTypeEnumBase(\n",
    "        name=\"QC non-rRNA R2\",\n",
    "        description=\"QC removed rRNA reads (R2) fastq\",\n",
    "        filter=json.dumps({\"url\": {\"$regex\": \"filtered_R2.fastq\"}})\n",
    "    ),\n",
    "    FileTypeEnumBase(\n",
    "        name=\"QC non-rRNA R1\",\n",
    "        description=\"QC removed rRNA reads (R1) fastq\",\n",
    "        filter=json.dumps({\"url\": {\"$regex\": \"filtered_R1.fastq\"}})\n",
    "    ),\n",
    "    FileTypeEnumBase(\n",
    "        name=\"Metagenome Bins\",\n",
    "        description=\"Metagenome bin contigs fasta\",\n",
    "        filter=json.dumps({\"url\": {\"$regex\": \"bins\\.\\d+\\.fa\"}})\n",
    "    ),\n",
    "    FileTypeEnumBase(\n",
    "        name=\"CheckM Statistics\",\n",
    "        description=\"CheckM statistics report\",\n",
    "        filter=json.dumps({\"url\": {\"$regex\": \"checkm_qa.out\"}})\n",
    "    ),    \n",
    "    FileTypeEnumBase(\n",
    "        name=\"Krona Plot\",\n",
    "        description=\"[GOTTCHA2] krona plot HTML file\",\n",
    "        filter=json.dumps({\"url\": {\"$regex\": \"gottcha2.*krona.html\"}})\n",
    "    ),\n",
    "    FileTypeEnumBase(\n",
    "        name=\"Krona Plot\",\n",
    "        description=\"[Kraken2] krona plot HTML file\",\n",
    "        filter=json.dumps({\"url\": {\"$regex\": \"kraken2.*krona.html\"}})\n",
    "    ),\n",
    "    FileTypeEnumBase(\n",
    "        name=\"Classification Report\",\n",
    "        description=\"[Kraken2] output report file\",\n",
    "        filter=json.dumps({\"url\": {\"$regex\": \"kraken2.*report.tsv\"}})\n",
    "    ),    \n",
    "    FileTypeEnumBase(\n",
    "        name=\"Taxonomic Classification\",\n",
    "        description=\"[Kraken2] output read classification file\",\n",
    "        filter=json.dumps({\"url\": {\"$regex\": \"kraken2.*classification.tsv\"}})\n",
    "    ),    \n",
    "    FileTypeEnumBase(\n",
    "        name=\"Krona Plot\",\n",
    "        description=\"[Centrifuge] krona plot HTML file\",\n",
    "        filter=json.dumps({\"url\": {\"$regex\": \"centrifuge.*krona.html\"}})\n",
    "    ),    \n",
    "    FileTypeEnumBase(\n",
    "        name=\"Classification Report\",\n",
    "        description=\"[Centrifuge] output report file\",\n",
    "        filter=json.dumps({\"url\": {\"$regex\": \"centrifuge.*report.tsv\"}})\n",
    "    ),    \n",
    "    FileTypeEnumBase(\n",
    "        name=\"Taxonomic Classification\",\n",
    "        description=\"[Centrifuge] output read classification file\",\n",
    "        filter=json.dumps({\"url\": {\"$regex\": \"centrifuge.*classification.tsv\"}})\n",
    "    ),    \n",
    "    FileTypeEnumBase(\n",
    "        name=\"Structural Annotation GFF\",\n",
    "        description=\"GFF3 format file with structural annotations\",\n",
    "        filter=json.dumps({\"url\": {\"$regex\": \"annotation\\/.*structural_annotation\\.gff\"}})\n",
    "    ),    \n",
    "    FileTypeEnumBase(\n",
    "        name=\"Functional Annotation GFF\",\n",
    "        description=\"GFF3 format file with functional annotations\",\n",
    "        filter=json.dumps({\"url\": {\"$regex\": \"annotation\\/.*functional_annotation\\.gff\"}})\n",
    "    ),   \n",
    "    FileTypeEnumBase(\n",
    "        name=\"Annotation Amino Acid FASTA\",\n",
    "        description=\"FASTA amino acid file for annotated proteins\",\n",
    "        filter=json.dumps({\"url\": {\"$regex\": \"annotation.*\\.faa\"}})\n",
    "    ),    \n",
    "    FileTypeEnumBase(\n",
    "        name=\"Annotation Enzyme Commission\",\n",
    "        description=\"Tab delimited file for EC annotation\",\n",
    "        filter=json.dumps({\"url\": {\"$regex\": \"_ec.tsv\"}})\n",
    "    ),    \n",
    "    FileTypeEnumBase(\n",
    "        name=\"Annotation KEGG Orthology\",\n",
    "        description=\"Tab delimited file for KO annotation\",\n",
    "        filter=json.dumps({\"url\": {\"$regex\": \"_ko.tsv\"}})\n",
    "    ),      \n",
    "    FileTypeEnumBase(\n",
    "        name=\"Assembly Coverage BAM\",\n",
    "        description=\"Sorted bam file of reads mapping back to the final assembly\",\n",
    "        filter=json.dumps({\"url\": {\"$regex\": \"pairedMapped_sorted.bam\"}})\n",
    "    ),       \n",
    "    FileTypeEnumBase(\n",
    "        name=\"Assembly AGP\",\n",
    "        description=\"An AGP format file describes the assembly\",\n",
    "        filter=json.dumps({\"url\": {\"$regex\": \"assembly.agp\"}})\n",
    "    ),       \n",
    "    FileTypeEnumBase(\n",
    "        name=\"Assembly Scaffolds\",\n",
    "        description=\"Final assembly scaffolds fasta\",\n",
    "        filter=json.dumps({\"url\": {\"$regex\": \"assembly_scaffolds.fna\"}})\n",
    "    ),      \n",
    "    FileTypeEnumBase(\n",
    "        name=\"Assembly Contigs\",\n",
    "        description=\"Final assembly contigs fasta\",\n",
    "        filter=json.dumps({\"url\": {\"$regex\": \"assembly_contigs.fna\"}})\n",
    "    ),    \n",
    "    FileTypeEnumBase(\n",
    "        name=\"Assembly Coverage Stats\",\n",
    "        description=\"Assembled contigs coverage information\",\n",
    "        filter=json.dumps({\"url\": {\"$regex\": \"mapping_stats.txt\"}})\n",
    "    ),\n",
    "    FileTypeEnumBase(\n",
    "        name=\"Filtered Sequencing Reads\",\n",
    "        description=\"Reads QC result fastq (clean data)\",\n",
    "        filter=json.dumps({\"url\": {\"$regex\": \"filtered.fastq.gz\"}})\n",
    "    ),\n",
    "    FileTypeEnumBase(\n",
    "        name=\"QC Statistics\",\n",
    "        description=\"Reads QC summary statistics\",\n",
    "        filter=json.dumps({\"url\": {\"$regex\": \"filterStats.txt\"}})\n",
    "    ),\n",
    "]\n",
    "\n",
    "file_type_enum = [\n",
    "    FileTypeEnum(id=get_fte_id(fte), **fte.dict())\n",
    "    for fte in file_type_enum\n",
    "]"
   ]
  },
  {
   "cell_type": "code",
   "execution_count": 136,
   "id": "0da62e52",
   "metadata": {},
   "outputs": [
    {
     "data": {
      "text/plain": [
       "30"
      ]
     },
     "execution_count": 136,
     "metadata": {},
     "output_type": "execute_result"
    }
   ],
   "source": [
    "db.drop_collection(\"file_type_enum\")\n",
    "db.file_type_enum.create_index(\"id\", unique=True)\n",
    "rv = db.file_type_enum.insert_many([fte.dict() for fte in file_type_enum])\n",
    "len(rv.inserted_ids)"
   ]
  },
  {
   "cell_type": "code",
   "execution_count": 137,
   "id": "04d16881",
   "metadata": {},
   "outputs": [],
   "source": [
    "def fte_matches(fte):\n",
    "    return [dissoc(d, \"_id\") for d in mongo.db.data_object_set.find(json.loads(fte.filter))]"
   ]
  },
  {
   "cell_type": "code",
   "execution_count": 138,
   "id": "81e3fce0",
   "metadata": {},
   "outputs": [
    {
     "name": "stdout",
     "output_type": "stream",
     "text": [
      "aaa1-tye4-03 FT ICR-MS analysis results\n",
      "37my-19jk-66 GC-MS Metabolomics Results\n",
      "xctf-zdw2-22 Metaproteomics Workflow Statistics\n",
      "2ydr-9qqq-53 Protein Report\n",
      "e8y8-pvrd-95 Peptide Report\n",
      "rd87-fv8m-80 Unfiltered Metaproteomics Results\n",
      "1gqm-wmyp-53 Read Count and RPKM\n",
      "fwyp-8w70-07 QC non-rRNA R2\n",
      "hzt1-y5fx-18 QC non-rRNA R1\n",
      "bm1x-vd6b-06 Metagenome Bins\n",
      "b575-qc77-75 CheckM Statistics\n",
      "gch0-zrdx-65 Krona Plot\n",
      "ayxv-k605-95 Krona Plot\n",
      "t278-2zf9-95 Classification Report\n",
      "x534-570e-85 Taxonomic Classification\n",
      "q043-5qe3-92 Krona Plot\n",
      "h3zm-dkwj-17 Classification Report\n",
      "dn7v-gy46-08 Taxonomic Classification\n",
      "0a1f-q961-86 Structural Annotation GFF\n",
      "y4km-an75-98 Functional Annotation GFF\n",
      "fytr-5eb4-04 Annotation Amino Acid FASTA\n",
      "8f0h-0r37-97 Annotation Enzyme Commission\n",
      "9yew-qqae-18 Annotation KEGG Orthology\n",
      "2tk7-fhj6-96 Assembly Coverage BAM\n",
      "0hna-73pd-79 Assembly AGP\n",
      "pmg5-4gds-98 Assembly Scaffolds\n",
      "em2g-mcwt-09 Assembly Contigs\n",
      "1f4g-xb1f-62 Assembly Coverage Stats\n",
      "yhcj-ech0-19 Filtered Sequencing Reads\n",
      "dd2t-wtzs-17 QC Statistics\n"
     ]
    }
   ],
   "source": [
    "from pymongo import UpdateOne\n",
    "\n",
    "for doc in db.file_type_enum.find():\n",
    "    fte = FileTypeEnum(**doc)\n",
    "    print(fte.id, fte.name)\n",
    "    docs = fte_matches(fte)\n",
    "    if docs:\n",
    "        for doc in docs:\n",
    "            doc[\"data_object_type\"] = fte.id\n",
    "        mongo.add_docs({\"data_object_set\": docs})\n",
    "    else:\n",
    "        print(f\"no docs matching {fte.dict()}\")"
   ]
  },
  {
   "cell_type": "markdown",
   "id": "49e1a8b4",
   "metadata": {},
   "source": [
    "# Take bins.\\d.fa and change name to {gold ID (end of description)}.bins.\\d.fa"
   ]
  },
  {
   "cell_type": "code",
   "execution_count": 139,
   "id": "62d1aa25",
   "metadata": {},
   "outputs": [],
   "source": [
    "fte = FileTypeEnum(**db.file_type_enum.find_one({\"name\": \"Metagenome Bins\"}))\n",
    "\n",
    "docs = [dissoc(d, \"_id\") for d in db.data_object_set.find(json.loads(fte.filter))]"
   ]
  },
  {
   "cell_type": "code",
   "execution_count": 140,
   "id": "52d8516b",
   "metadata": {},
   "outputs": [
    {
     "data": {
      "text/plain": [
       "{'id': 'nmdc:e0b7421514f976cb7ad8c343cf3077a9',\n",
       " 'name': 'gold:Gp0115663.bins.3.fa',\n",
       " 'description': 'metabat2 binned contig file for gold:Gp0115663',\n",
       " 'file_size_bytes': 288873,\n",
       " 'url': 'https://data.microbiomedata.org/data/1781_86101/img_MAGs/metabat-bins/bins.3.fa',\n",
       " 'type': 'nmdc:DataObject',\n",
       " 'data_object_type': 'bm1x-vd6b-06'}"
      ]
     },
     "execution_count": 140,
     "metadata": {},
     "output_type": "execute_result"
    }
   ],
   "source": [
    "from pathlib import Path\n",
    "\n",
    "for d in docs:\n",
    "    _, _, gold_id = d[\"description\"].rpartition(\" \")\n",
    "    name = Path(d[\"url\"]).name\n",
    "    d[\"name\"] = f\"{gold_id}.{name}\"\n",
    "\n",
    "_ = mongo.add_docs({\"data_object_set\": docs})\n",
    "docs[0]"
   ]
  },
  {
   "cell_type": "markdown",
   "id": "73e039c1",
   "metadata": {},
   "source": [
    "# add profile images\n",
    "https://portal.nersc.gov/project/m3408/profile_images/"
   ]
  },
  {
   "cell_type": "code",
   "execution_count": 141,
   "id": "18cb950b",
   "metadata": {},
   "outputs": [],
   "source": [
    "# study -> principal_investigator -> profile_image_url"
   ]
  },
  {
   "cell_type": "code",
   "execution_count": 142,
   "id": "6ed50bfc",
   "metadata": {},
   "outputs": [
    {
     "name": "stdout",
     "output_type": "stream",
     "text": [
      "Dale Pelletier pelletier_dale.jpg 404\n",
      "Erik Lilleskov lilleskov_erik.jpg 404\n"
     ]
    }
   ],
   "source": [
    "import requests\n",
    "from toolz import dissoc\n",
    "\n",
    "base_url = \"https://portal.nersc.gov/project/m3408/profile_images/\"\n",
    "\n",
    "docs = [dissoc(d, \"_id\") for d in db.study_set.find()]\n",
    "for doc in docs:\n",
    "    pi = doc[\"principal_investigator\"]\n",
    "    pi_name = pi[\"has_raw_value\"]\n",
    "    image_name = \"_\".join(reversed(pi_name.lower().split(\" \"))) + '.jpg'\n",
    "    url = base_url + image_name\n",
    "    if requests.head(url).status_code == 200:\n",
    "        doc[\"principal_investigator\"][\"profile_image_url\"] = url\n",
    "    else:\n",
    "        print(pi_name, image_name, requests.head(base_url + image_name).status_code)"
   ]
  },
  {
   "cell_type": "code",
   "execution_count": 143,
   "id": "7d30bba2",
   "metadata": {},
   "outputs": [],
   "source": [
    "ok = nmdc_jsonschema_validate({\"study_set\": docs})"
   ]
  },
  {
   "cell_type": "code",
   "execution_count": 144,
   "id": "809f467f",
   "metadata": {},
   "outputs": [],
   "source": [
    "rv = mongo.add_docs({\"study_set\": docs})"
   ]
  },
  {
   "cell_type": "code",
   "execution_count": 145,
   "id": "ee4a2c5b",
   "metadata": {},
   "outputs": [
    {
     "data": {
      "text/plain": [
       "6"
      ]
     },
     "execution_count": 145,
     "metadata": {},
     "output_type": "execute_result"
    }
   ],
   "source": [
    "db.study_set.count_documents({\"principal_investigator.profile_image_url\": {\"$exists\": True}})"
   ]
  },
  {
   "cell_type": "markdown",
   "id": "cfcc2597",
   "metadata": {},
   "source": [
    "# Correct data_object_set.file_size_bytes"
   ]
  },
  {
   "cell_type": "code",
   "execution_count": 146,
   "id": "60ff0367",
   "metadata": {},
   "outputs": [],
   "source": [
    "from toolz import dissoc\n",
    "\n",
    "docs = [dissoc(d, \"_id\") for d in db.data_object_set.find({\"url\": {\"$exists\": True}})]"
   ]
  },
  {
   "cell_type": "code",
   "execution_count": 147,
   "id": "ab8ff007",
   "metadata": {},
   "outputs": [],
   "source": [
    "# do_ids = []\n",
    "\n",
    "# with open(\"/Users/dwinston/Downloads/nmdc-data-objects-wrong-size.txt\") as f:\n",
    "#     for line in f:\n",
    "#         do_id, url = line.strip().split(\",\")\n",
    "#         do_ids.append(do_id)\n",
    "        \n",
    "# print(f\"{len(docs)} listed\")\n",
    "\n",
    "# docs = [dissoc(d, \"_id\") for d in db.data_object_set.find({\"id\": {\"$in\": do_ids}})]\n",
    "# print(f\"{len(docs)} found\")"
   ]
  },
  {
   "cell_type": "code",
   "execution_count": 148,
   "id": "be29e1ff",
   "metadata": {},
   "outputs": [],
   "source": [
    "import urllib3\n",
    "\n",
    "import requests\n",
    "from toolz import assoc\n",
    "\n",
    "urllib3.disable_warnings(urllib3.exceptions.InsecureRequestWarning)\n",
    "\n",
    "def get_file_size_bytes(d, header_ok=True):\n",
    "    url = d[\"url\"].replace(\"https://\", \"http://\")\n",
    "    try:\n",
    "        rv = requests.head(\n",
    "            url, allow_redirects=True, verify=False, timeout=5, headers={\"Accept-Encoding\": \"gzip;q=0\"}\n",
    "        )\n",
    "        if not rv.status_code == 200:\n",
    "            return {\"no_ok_response\": [d[\"id\"]]}\n",
    "\n",
    "        if header_ok:\n",
    "            try:\n",
    "                return {\"data\": [assoc(d, 'file_size_bytes', int(rv.headers['Content-Length']))]}\n",
    "            except KeyError:\n",
    "                pass\n",
    "        \n",
    "        #rv = requests.get(url, allow_redirects=True, verify=False, timeout=0.5)\n",
    "        #return {\"data\": [assoc(d, 'file_size_bytes', len(rv.content))]}\n",
    "        return {\"no_header_content_length\": [d[\"id\"]]}\n",
    "    except Exception as e:\n",
    "        return {\"error\": [(d, str(e))]}"
   ]
  },
  {
   "cell_type": "code",
   "execution_count": 149,
   "id": "1cf18d3c",
   "metadata": {},
   "outputs": [],
   "source": [
    "# docs = [d[\"error\"][0][0] for d in db[\"_tmp__get_file_size_bytes\"].find({\"error\": {\"$exists\": True}})]\n",
    "# len(docs)"
   ]
  },
  {
   "cell_type": "code",
   "execution_count": 152,
   "id": "68fa8c34",
   "metadata": {},
   "outputs": [
    {
     "data": {
      "application/vnd.jupyter.widget-view+json": {
       "model_id": "2f97c1de731a4fe4b4c8252e96f82400",
       "version_major": 2,
       "version_minor": 0
      },
      "text/plain": [
       "  0%|          | 0/9668 [00:00<?, ?it/s]"
      ]
     },
     "metadata": {},
     "output_type": "display_data"
    },
    {
     "name": "stdout",
     "output_type": "stream",
     "text": [
      "created futures...\n"
     ]
    }
   ],
   "source": [
    "import concurrent.futures\n",
    "\n",
    "from toolz import concat, merge_with\n",
    "from tqdm.notebook import tqdm\n",
    "\n",
    "db.drop_collection(\"_tmp__get_file_size_bytes\")\n",
    "error_docs = []\n",
    "\n",
    "pbar = tqdm(total=len(docs))\n",
    "\n",
    "with concurrent.futures.ThreadPoolExecutor() as executor:\n",
    "    future_to_doc = {\n",
    "        executor.submit(\n",
    "            get_file_size_bytes, doc\n",
    "        ): doc\n",
    "        for doc in docs\n",
    "    }\n",
    "    print(\"created futures...\")\n",
    "    for future in concurrent.futures.as_completed(future_to_doc):\n",
    "        pbar.update(1)\n",
    "        doc = future_to_doc[future]\n",
    "        try:\n",
    "            payload = future.result()\n",
    "        except Exception as e:\n",
    "            error_docs.append(doc, str(e))\n",
    "        else:\n",
    "            db[\"_tmp__get_file_size_bytes\"].insert_one(payload)\n",
    "\n",
    "pbar.close()"
   ]
  },
  {
   "cell_type": "code",
   "execution_count": 153,
   "id": "e05b08e6",
   "metadata": {},
   "outputs": [],
   "source": [
    "results = [dissoc(d, \"_id\") for d in db[\"_tmp__get_file_size_bytes\"].find()]\n",
    "results = merge_with(lambda v: list(concat(v)), *results)"
   ]
  },
  {
   "cell_type": "code",
   "execution_count": 154,
   "id": "65745e6a",
   "metadata": {},
   "outputs": [],
   "source": [
    "rv = mongo.add_docs({\"data_object_set\": results[\"data\"]})"
   ]
  },
  {
   "cell_type": "code",
   "execution_count": 155,
   "id": "e2a5e550",
   "metadata": {},
   "outputs": [
    {
     "data": {
      "text/plain": [
       "0"
      ]
     },
     "execution_count": 155,
     "metadata": {},
     "output_type": "execute_result"
    }
   ],
   "source": [
    "len(error_docs)"
   ]
  },
  {
   "cell_type": "markdown",
   "id": "e1fe62bb",
   "metadata": {},
   "source": [
    "# load genome_feature_set"
   ]
  },
  {
   "cell_type": "markdown",
   "id": "eefc40e8",
   "metadata": {},
   "source": [
    "MetaG features (`/global/project/projectdirs/m3408/www/meta/anno2/*_features.json`) are 155 JSON files totalling  ~26GB. To load them into MongoDB, I\n",
    "1. Set up a Globus transfer from NERSC DTN to a Globus Connect Personal endpoint on my laptop. I could e.g.\n",
    "```\n",
    "$ scp dtn01.nersc.gov:/global/project/projectdirs/m3408/www/meta/anno2/*_features.json .\n",
    "```\n",
    "but I chose to use Globus, and it works well.\n",
    "2. I have a bash script that uses GNU sed to transform each JSON file to a simple JSON Lines file, as expected by `mongoimport`:\n",
    "\n",
    "```bash\n",
    "# trim.sh\n",
    "\n",
    "task(){\n",
    "    echo $datafile\n",
    "    # Delete n lines from end *in addition to* last line.\n",
    "    # Example: n=1 deletes the last line as well as 1 line prior.\n",
    "    n=1\n",
    "    gsed -e '1,2d' -e \"$(( $(wc -l < $datafile)-n+1 )),$ d\" -e 's/\\}\\,/\\}/' $datafile > $(basename $datafile).jsonl\n",
    "}\n",
    "\n",
    "for datafile in ~/globus-nersc/nmdc/m3408/www/meta/anno2/features/*_features.json; do\n",
    "    task $datafile &\n",
    "done\n",
    "```\n",
    "I use `ps aux | grep \"gsed \" | wc -l` to monitor the progress of the parallel sed tasks. I found that trying to do this head/tail file trimming by `json.load`ing the files in Python and resaving was quite slow because the JSON files are individually quite large.\n",
    "\n",
    "\n",
    "2. I have a bash script that `mongoimport`s each filtered json lines file to the database\n",
    "\n",
    "```bash\n",
    "# mongoimport.sh\n",
    "# Note: be sure to remove any remote collection indexes first, to speed up import. Then, re-create indexes.\n",
    "\n",
    "n=$(ls *features*.jsonl | wc -l | xargs) # `| xargs` to trim whitespace\n",
    "i=1\n",
    "for datafile in *features*.jsonl; do\n",
    "    echo \"($i of $n): $datafile\"\n",
    "    mongoimport -h mongo-ext.nmdc-runtime-dev.polyneme.xyz \\\n",
    "        -u donny -p \"_4tEk6z2YrRYTr@\" --authenticationDatabase admin \\\n",
    "        -d nmdc -c genome_feature_set \\\n",
    "        --numInsertionWorkers 8 \\\n",
    "        $datafile\n",
    "    i=$((i+1))\n",
    "done\n",
    "```\n",
    "\n",
    "specifying multiple (8 in this case) insertion workers per import."
   ]
  },
  {
   "cell_type": "markdown",
   "id": "df50b659",
   "metadata": {},
   "source": [
    "# individual study doc updates (via spreadsheet spec)\n",
    "\n",
    "\"June Sprint post-ETL updates\" sheet in NMDC Google Drive\n",
    "\n",
    "- many of the study pages are missing information that doesn't yet exist in the mongo database."
   ]
  },
  {
   "cell_type": "code",
   "execution_count": 156,
   "id": "c1d86226",
   "metadata": {},
   "outputs": [],
   "source": [
    "stegen_study_id = \"gold:Gs0114663\"\n",
    "wrighton_study_id = \"gold:Gs0114675\"\n",
    "brodie_study_id = \"gold:Gs0135149\"\n",
    "bioscales_study_id = \"gold:Gs0154044\"\n",
    "microbes_persist_sfa_study_id = \"gold:Gs0128850\"\n",
    "plant_microbe_interfaces_sfa_study_id = \"gold:Gs0103573\"\n",
    "spruce_study_id = \"gold:Gs0110138\"\n",
    "watershed_sfa_study_id = \"gold:Gs0149986\""
   ]
  },
  {
   "cell_type": "code",
   "execution_count": 157,
   "id": "1b333c4e",
   "metadata": {},
   "outputs": [],
   "source": [
    "from pprint import pprint\n",
    "\n",
    "from nmdc_runtime.api.core.util import pick\n",
    "\n",
    "def study_summary(doc):\n",
    "    return pick([\"id\", \"principal_investigator\", \"name\", \"publications\", \"websites\"], doc)"
   ]
  },
  {
   "cell_type": "code",
   "execution_count": 158,
   "id": "f01e239c",
   "metadata": {},
   "outputs": [
    {
     "name": "stdout",
     "output_type": "stream",
     "text": [
      "{'id': 'gold:Gs0149986',\n",
      " 'name': 'Soil microbial communities from watershed of Upper East River, '\n",
      "         'Colorado, USA',\n",
      " 'principal_investigator': {'has_raw_value': 'Eoin Brodie',\n",
      "                            'profile_image_url': 'https://portal.nersc.gov/project/m3408/profile_images/brodie_eoin.jpg'}}\n"
     ]
    }
   ],
   "source": [
    "doc = db.study_set.find_one({\"id\": watershed_sfa_study_id})\n",
    "pprint(study_summary(doc))"
   ]
  },
  {
   "cell_type": "code",
   "execution_count": 159,
   "id": "2bfc1325",
   "metadata": {},
   "outputs": [],
   "source": [
    "commands = [{\n",
    "    # row 6\n",
    "    \"update\": \"study_set\",\n",
    "    \"updates\": [{\n",
    "        \"q\": {\n",
    "            \"id\": stegen_study_id\n",
    "        },\n",
    "        \"u\": {\n",
    "            \"$addToSet\": {\n",
    "                \"publications\": \"https://doi.org/10.1371/journal.pone.0228165\"\n",
    "            }\n",
    "        },\n",
    "    }],\n",
    "    \"comment\": \"add to studies/stegen/publications\"    \n",
    "}, {\n",
    "    # row 7\n",
    "    \"update\": \"study_set\",\n",
    "    \"updates\": [{\n",
    "        \"q\": {\n",
    "            \"id\": stegen_study_id\n",
    "        },\n",
    "        \"u\": {\n",
    "            \"$set\": {\n",
    "                \"description\": \"\"\"\\\n",
    "This research project, led by James Stegen at PNNL, aimed to understand how molecular-scale processes govern the biogeochemical function of subsurface groundwater-surface water mixing zones (i.e., the hyporheic zone). This project was conducted along the Columbia River in Eastern Washington State, which exhibits variation in microbiome composition, biogeochemical activity, and substrate biogeochemistry, making it an ideal environment for studying biogeochemical hotspots. To capture a range of biogeochemical activities, samples were collected from areas with dense vegetation and virtually no vegetation.\n",
    "\n",
    "This project’s long-term goal is to develop models that can simulate impacts of disturbance on river corridor hydro-biogeochemistry by understanding fundamental molecular processes that lead to emergent function. This project is part of PNNL’s River Corridor Hydrobiogeochemistry Science Focus Area (https://www.pnnl.gov/projects/river-corridor-hydrobiogeochemistry-science-focus-area).\n",
    "\"\"\"\n",
    "            }\n",
    "        },\n",
    "    }],\n",
    "    \"comment\": \"replace studies/stegen/description\"\n",
    "}, {\n",
    "    # row 8\n",
    "    \"update\": \"study_set\",\n",
    "    \"updates\": [{\n",
    "        \"q\": {\n",
    "            \"id\": wrighton_study_id\n",
    "        },\n",
    "        \"u\": {\n",
    "            \"$set\": {\n",
    "                \"description\": \"\"\"\\\n",
    "This project aims to improve the understanding of microbial diversity and metabolism in deep shale, with implications for novel enzyme discovery and energy development. This project was conducted along two Appalachian basin shales, the Marcellus and Utica/Point Pleasant formations in Pennsylvania and Ohio, respectively. Samples were collected from input and produced fluids up to a year after hydraulic fracturing at varying depths and locations (4 wells, 2 basin shales).\n",
    "\"\"\"\n",
    "            }\n",
    "        },\n",
    "    }],\n",
    "    \"comment\": \"replace studies/wrighton/description\"\n",
    "}, {\n",
    "    # row 9\n",
    "    \"update\": \"study_set\",\n",
    "    \"updates\": [{\n",
    "        \"q\": {\n",
    "            \"id\": brodie_study_id\n",
    "        },\n",
    "        \"u\": {\n",
    "            \"$addToSet\": {\n",
    "                \"publications\": \"https://doi.org/10.21952/WTR/1573029\"\n",
    "            }\n",
    "        },\n",
    "    }],\n",
    "    \"comment\": \"add to studies/brodie/publications\"\n",
    "}, {\n",
    "    # row 10\n",
    "    \"update\": \"study_set\",\n",
    "    \"updates\": [{\n",
    "        \"q\": {\n",
    "            \"id\": brodie_study_id\n",
    "        },\n",
    "        \"u\": {\n",
    "            \"$set\": {\n",
    "                \"description\": \"\"\"\\\n",
    "This research project aimed to understand how snow accumulation and snowmelt influences the mobilization of nitrogen through the soil microbiome in a mountainous catchment at the East River Watershed in Colorado. This project sought to identify bacteria, archaea, and fungi that were associated with the microbial biomass bloom that occurs during winter and the biomass crash following snowmelt. This project also sought to understand whether the traits that govern microbial community assembly during and after snowmelt were phylogenetically conserved. Samples were collected during winter, the snowmelt period, and after snowmelt in spring, from an area that transitioned from an upland hillslope to a riparian floodplain.\n",
    "\n",
    "This project is part of the Watershed Function Science Focus Area: https://watershed.lbl.gov/.\n",
    "\"\"\"\n",
    "            }\n",
    "        },\n",
    "    }],\n",
    "    \"comment\": \"replace studies/brodie/description\"\n",
    "}, {\n",
    "    # row 11\n",
    "    \"update\": \"study_set\",\n",
    "    \"updates\": [{\n",
    "        \"q\": {\n",
    "            \"id\": bioscales_study_id\n",
    "        },\n",
    "        \"u\": {\n",
    "            \"$set\": {\n",
    "                \"description\": \"\"\"\\\n",
    "The goal of this Bio-Scales Pilot Project study is to understand how plant traits modify the microbiome and in particular how the coupled plant-soil-microbial system influences nitrogen transformation patterns and fluxes.\n",
    "\"\"\"\n",
    "            }\n",
    "        },\n",
    "    }],\n",
    "    \"comment\": \"replace studies/bioscales/description\"\n",
    "}, {\n",
    "    # row 12\n",
    "    \"update\": \"study_set\",\n",
    "    \"updates\": [{\n",
    "        \"q\": {\n",
    "            \"id\": bioscales_study_id\n",
    "        },\n",
    "        \"u\": {\n",
    "            \"$addToSet\": {\n",
    "                \"websites\": {\n",
    "                    \"$each\": [\n",
    "                        \"https://www.ornl.gov/staff-profile/mitchel-j-doktycz\",\n",
    "                        \"https://www.ornl.gov/section/bioimaging-and-analytics\",\n",
    "                        \"https://pmiweb.ornl.gov/\",\n",
    "                        \"https://www.ornl.gov/project/bio-scales\",\n",
    "                    ]\n",
    "                }\n",
    "            }\n",
    "        },\n",
    "    }],\n",
    "    \"comment\": \"add to studies/bioscales/websites\"\n",
    "}, {\n",
    "    # row 14 (row 13 done elsewhere)\n",
    "    \"update\": \"study_set\",\n",
    "    \"updates\": [{\n",
    "        \"q\": {\n",
    "            \"id\": bioscales_study_id\n",
    "        },\n",
    "        \"u\": {\n",
    "            \"$set\": {\n",
    "                \"principal_investigator.has_raw_value\": \"Mitchel J. Doktycz\"\n",
    "            }\n",
    "        },\n",
    "    }],\n",
    "    \"comment\": \"replace studies/bioscales/principal_investigator name\"\n",
    "}, {\n",
    "    # row 15\n",
    "    \"update\": \"study_set\",\n",
    "    \"updates\": [{\n",
    "        \"q\": {\n",
    "            \"id\": microbes_persist_sfa_study_id\n",
    "        },\n",
    "        \"u\": {\n",
    "            \"$addToSet\": {\n",
    "                \"websites\": \"https://sc-programs.llnl.gov/biological-and-environmental-research-at-llnl/soil-microbiome\"\n",
    "            }\n",
    "        },\n",
    "    }],\n",
    "    \"comment\": \"add to studies/microbes_persist_sfa/websites\"\n",
    "}, {\n",
    "    # row 16\n",
    "    \"update\": \"study_set\",\n",
    "    \"updates\": [{\n",
    "        \"q\": {\n",
    "            \"id\": microbes_persist_sfa_study_id\n",
    "        },\n",
    "        \"u\": {\n",
    "            \"$set\": {\n",
    "                \"description\": \"\"\"\\\n",
    "The Microbes Persist: Systems Biology of the Soil Microbiome SFA seeks to understand how microbial ecophysiology, population dynamics, and microbe–mineral–organic matter interactions regulate the persistence of microbial residues in soil under changing moisture regimes.\n",
    "\"\"\"\n",
    "            }\n",
    "        },\n",
    "    }],\n",
    "    \"comment\": \"replace studies/microbes_persist_sfa/description\"\n",
    "}, {\n",
    "    # row 19 (rows 17 and 18 done elsewhere)\n",
    "    \"update\": \"study_set\",\n",
    "    \"updates\": [{\n",
    "        \"q\": {\n",
    "            \"id\": plant_microbe_interfaces_sfa_study_id\n",
    "        },\n",
    "        \"u\": {\n",
    "            \"$addToSet\": {\n",
    "                \"websites\": \"https://pmiweb.ornl.gov/pmi-project-aims/\"\n",
    "            }\n",
    "        },\n",
    "    }],\n",
    "    \"comment\": \"add to studies/plant_microbe_interfaces_sfa/websites\"\n",
    "}, {\n",
    "    # row 20\n",
    "    \"update\": \"study_set\",\n",
    "    \"updates\": [{\n",
    "        \"q\": {\n",
    "            \"id\": plant_microbe_interfaces_sfa_study_id\n",
    "        },\n",
    "        \"u\": {\n",
    "            \"$set\": {\n",
    "                \"description\": \"\"\"\\\n",
    "The goal of the Plant-Microbe Interfaces SFA is to gain a deeper understanding of the diversity and functioning of mutually beneficial interactions between plants and microbes in the rhizosphere.\n",
    "\"\"\"\n",
    "            }\n",
    "        },\n",
    "    }],\n",
    "    \"comment\": \"set studies/plant_microbe_interfaces_sfa/description\"\n",
    "}, {\n",
    "    # row 21\n",
    "    \"update\": \"study_set\",\n",
    "    \"updates\": [{\n",
    "        \"q\": {\n",
    "            \"id\": spruce_study_id\n",
    "        },\n",
    "        \"u\": {\n",
    "            \"$addToSet\": {\n",
    "                \"websites\": \"https://mnspruce.ornl.gov/project/overview\"\n",
    "            }\n",
    "        },\n",
    "    }],\n",
    "    \"comment\": \"add to studies/spruce/webites\"\n",
    "}, {\n",
    "    # row 22\n",
    "    \"update\": \"study_set\",\n",
    "    \"updates\": [{\n",
    "        \"q\": {\n",
    "            \"id\": spruce_study_id\n",
    "        },\n",
    "        \"u\": {\n",
    "            \"$set\": {\n",
    "                \"description\": \"\"\"\\\n",
    "The Spruce and Peatland Responses Under Changing Environments (SPRUCE) experiment is the primary component of the Terrestrial Ecosystem Science Scientific Focus Area of ORNL's Climate Change Program, focused on terrestrial ecosystems and the mechanisms that underlie their responses to climatic change. This project seeks to assess the response of northern peatland ecosystems to increases in temperature and exposures to elevated atmospheric CO2 concentrations.\n",
    "\"\"\"\n",
    "            }\n",
    "        },\n",
    "    }],\n",
    "    \"comment\": \"set studies/spruce/description\"\n",
    "}, {\n",
    "    # row 23\n",
    "    \"update\": \"study_set\",\n",
    "    \"updates\": [{\n",
    "        \"q\": {\n",
    "            \"id\": watershed_sfa_study_id\n",
    "        },\n",
    "        \"u\": {\n",
    "            \"$addToSet\": {\n",
    "                \"websites\": \"https://watershed.lbl.gov/about/\"\n",
    "            }\n",
    "        },\n",
    "    }],\n",
    "    \"comment\": \"add to studies/watershed_sfa/webites\"\n",
    "}, {\n",
    "    # row 24\n",
    "    \"update\": \"study_set\",\n",
    "    \"updates\": [{\n",
    "        \"q\": {\n",
    "            \"id\": watershed_sfa_study_id\n",
    "        },\n",
    "        \"u\": {\n",
    "            \"$set\": {\n",
    "                \"description\": \"\"\"\\\n",
    "The Watershed Function Scientific SFA is developing a predictive understanding of how mountainous watersheds retain and release water, nutrients, carbon, and metals. In particular, the SFA is developing understanding and tools to measure and predict how droughts, early snowmelt, and other perturbations impact downstream water availability and biogeochemical cycling at episodic to decadal timescales.\n",
    "\"\"\"\n",
    "            }\n",
    "        },\n",
    "    }],\n",
    "    \"comment\": \"set studies/watershed_sfa/description\"\n",
    "}]"
   ]
  },
  {
   "cell_type": "code",
   "execution_count": 160,
   "id": "d106be42",
   "metadata": {},
   "outputs": [],
   "source": [
    "docs = [dissoc(d, \"_id\") for d in db.study_set.find()]"
   ]
  },
  {
   "cell_type": "code",
   "execution_count": 161,
   "id": "8bd9b339",
   "metadata": {},
   "outputs": [
    {
     "data": {
      "text/plain": [
       "'id_1'"
      ]
     },
     "execution_count": 161,
     "metadata": {},
     "output_type": "execute_result"
    }
   ],
   "source": [
    "tmp_coll = \"_tmp_study_set\"\n",
    "db.drop_collection(tmp_coll)\n",
    "db[tmp_coll].insert_many(docs)\n",
    "db[tmp_coll].create_index(\"id\", unique=True)"
   ]
  },
  {
   "cell_type": "code",
   "execution_count": 162,
   "id": "965410df",
   "metadata": {},
   "outputs": [],
   "source": [
    "from toolz import assoc\n",
    "\n",
    "_tmp_commands = [assoc(c, 'update', tmp_coll) for c in commands]"
   ]
  },
  {
   "cell_type": "code",
   "execution_count": 163,
   "id": "533256d9",
   "metadata": {},
   "outputs": [
    {
     "data": {
      "text/plain": [
       "[{'n': 1, 'nModified': 1, 'ok': 1.0},\n",
       " {'n': 1, 'nModified': 1, 'ok': 1.0},\n",
       " {'n': 1, 'nModified': 1, 'ok': 1.0},\n",
       " {'n': 1, 'nModified': 1, 'ok': 1.0},\n",
       " {'n': 1, 'nModified': 1, 'ok': 1.0},\n",
       " {'n': 1, 'nModified': 1, 'ok': 1.0},\n",
       " {'n': 1, 'nModified': 1, 'ok': 1.0},\n",
       " {'n': 1, 'nModified': 1, 'ok': 1.0},\n",
       " {'n': 1, 'nModified': 1, 'ok': 1.0},\n",
       " {'n': 1, 'nModified': 1, 'ok': 1.0},\n",
       " {'n': 1, 'nModified': 1, 'ok': 1.0},\n",
       " {'n': 1, 'nModified': 1, 'ok': 1.0},\n",
       " {'n': 1, 'nModified': 1, 'ok': 1.0},\n",
       " {'n': 1, 'nModified': 1, 'ok': 1.0},\n",
       " {'n': 1, 'nModified': 1, 'ok': 1.0},\n",
       " {'n': 1, 'nModified': 1, 'ok': 1.0}]"
      ]
     },
     "execution_count": 163,
     "metadata": {},
     "output_type": "execute_result"
    }
   ],
   "source": [
    "rvs = []\n",
    "for c in _tmp_commands:\n",
    "    rvs.append(db.command(c))\n",
    "rvs"
   ]
  },
  {
   "cell_type": "code",
   "execution_count": 164,
   "id": "7ee41b59",
   "metadata": {},
   "outputs": [],
   "source": [
    "docs_to_validate = [dissoc(d, \"_id\") for d in db[tmp_coll].find()]"
   ]
  },
  {
   "cell_type": "code",
   "execution_count": 165,
   "id": "acf082eb",
   "metadata": {},
   "outputs": [],
   "source": [
    "ok = nmdc_jsonschema_validate({\"study_set\": docs_to_validate})"
   ]
  },
  {
   "cell_type": "code",
   "execution_count": 166,
   "id": "98d64fbb",
   "metadata": {},
   "outputs": [],
   "source": [
    "rv = mongo.add_docs({\"study_set\": docs_to_validate})"
   ]
  },
  {
   "cell_type": "code",
   "execution_count": 167,
   "id": "7a7240ad",
   "metadata": {},
   "outputs": [
    {
     "data": {
      "text/plain": [
       "8"
      ]
     },
     "execution_count": 167,
     "metadata": {},
     "output_type": "execute_result"
    }
   ],
   "source": [
    "rv[\"study_set\"].modified_count"
   ]
  },
  {
   "cell_type": "code",
   "execution_count": 168,
   "id": "d5bae1c6",
   "metadata": {},
   "outputs": [
    {
     "data": {
      "text/plain": [
       "{'nIndexesWas': 2, 'ns': 'nmdc._tmp_study_set', 'ok': 1.0}"
      ]
     },
     "execution_count": 168,
     "metadata": {},
     "output_type": "execute_result"
    }
   ],
   "source": [
    "db.drop_collection(tmp_coll)"
   ]
  },
  {
   "cell_type": "markdown",
   "id": "44f7277c",
   "metadata": {},
   "source": [
    "# study metadata updates redux"
   ]
  },
  {
   "cell_type": "code",
   "execution_count": 169,
   "id": "3a887d91",
   "metadata": {},
   "outputs": [],
   "source": [
    "import csv\n",
    "\n",
    "rows = []\n",
    "with open(\"../src/data/2021-07-02-study-changes.csv\") as f:\n",
    "    reader = csv.DictReader(f)\n",
    "    include = False\n",
    "    for row in reader:\n",
    "        if row['Term'] == 'study title':\n",
    "            include = True\n",
    "        if include:\n",
    "            rows.append({\n",
    "                'name': row[\"Study\"].lower().replace(' ','_').replace('-','_'),\n",
    "                'id': f'gold:{row[\"GOLD Study ID\"]}',\n",
    "                'field': re.findall(r\"\\w+\", row[\"Term\"])[-1].lower(),\n",
    "                'value': row['Value'].strip(),\n",
    "            })"
   ]
  },
  {
   "cell_type": "code",
   "execution_count": 170,
   "id": "6116cf5b",
   "metadata": {},
   "outputs": [
    {
     "data": {
      "text/plain": [
       "{'citation', 'description', 'publication', 'title'}"
      ]
     },
     "execution_count": 170,
     "metadata": {},
     "output_type": "execute_result"
    }
   ],
   "source": [
    "{r['field'] for r in rows}"
   ]
  },
  {
   "cell_type": "code",
   "execution_count": 171,
   "id": "c967bdd9",
   "metadata": {},
   "outputs": [],
   "source": [
    "def urlify(doi):\n",
    "    if not doi.startswith(\"http\"):\n",
    "        suffix = doi.split(\":\", maxsplit=1)[-1]\n",
    "        return f\"https://doi.org/{suffix}\"\n",
    "    return doi"
   ]
  },
  {
   "cell_type": "code",
   "execution_count": 172,
   "id": "faa289c0",
   "metadata": {},
   "outputs": [],
   "source": [
    "commands = []\n",
    "\n",
    "for row in rows:\n",
    "    c = {\n",
    "        \"update\": \"study_set\",\n",
    "        \"updates\": [{\n",
    "            \"q\": {\"id\": row[\"id\"]},\n",
    "            \"u\": {}\n",
    "        }],\n",
    "    }\n",
    "    if row[\"field\"] in {\"title\", \"description\"}:\n",
    "        c[\"updates\"][0][\"u\"] = {\"$set\": {row[\"field\"]: row[\"value\"]}}\n",
    "        c[\"comment\"] = f'set studies/{row[\"name\"]}/{row[\"field\"]}'\n",
    "    elif row[\"field\"] == \"citation\":\n",
    "        c[\"updates\"][0][\"u\"] = {\"$set\": {\"doi\": {\"has_raw_value\": urlify(row[\"value\"])}}}\n",
    "        c[\"comment\"] = f'set studies/{row[\"name\"]}/doi'\n",
    "    elif row[\"field\"] == \"publication\":\n",
    "        c[\"updates\"][0][\"u\"] = {\"$addToSet\": {\"publications\": urlify(row[\"value\"])}}\n",
    "        c[\"comment\"] = f'add studies/{row[\"name\"]}/{row[\"field\"]}'\n",
    "    else:\n",
    "        print(\"Unknown field\", row[\"field\"])\n",
    "    commands.append(c)"
   ]
  },
  {
   "cell_type": "code",
   "execution_count": 173,
   "id": "2e227394",
   "metadata": {},
   "outputs": [
    {
     "data": {
      "text/plain": [
       "[{'n': 1, 'nModified': 1, 'ok': 1.0},\n",
       " {'n': 1, 'nModified': 1, 'ok': 1.0},\n",
       " {'n': 1, 'nModified': 1, 'ok': 1.0},\n",
       " {'n': 1, 'nModified': 1, 'ok': 1.0},\n",
       " {'n': 1, 'nModified': 1, 'ok': 1.0},\n",
       " {'n': 1, 'nModified': 1, 'ok': 1.0},\n",
       " {'n': 1, 'nModified': 1, 'ok': 1.0},\n",
       " {'n': 1, 'nModified': 1, 'ok': 1.0},\n",
       " {'n': 1, 'nModified': 1, 'ok': 1.0},\n",
       " {'n': 1, 'nModified': 1, 'ok': 1.0},\n",
       " {'n': 1, 'nModified': 1, 'ok': 1.0},\n",
       " {'n': 1, 'nModified': 1, 'ok': 1.0},\n",
       " {'n': 1, 'nModified': 1, 'ok': 1.0},\n",
       " {'n': 1, 'nModified': 1, 'ok': 1.0},\n",
       " {'n': 1, 'nModified': 1, 'ok': 1.0}]"
      ]
     },
     "execution_count": 173,
     "metadata": {},
     "output_type": "execute_result"
    }
   ],
   "source": [
    "from toolz import assoc, dissoc\n",
    "\n",
    "docs = [dissoc(d, \"_id\") for d in db.study_set.find()]\n",
    "tmp_coll = \"_tmp_study_set\"\n",
    "db.drop_collection(tmp_coll)\n",
    "db[tmp_coll].insert_many(docs)\n",
    "db[tmp_coll].create_index(\"id\", unique=True)\n",
    "_tmp_commands = [assoc(c, 'update', tmp_coll) for c in commands]\n",
    "rvs = []\n",
    "for c in _tmp_commands:\n",
    "    rvs.append(db.command(c))\n",
    "rvs"
   ]
  },
  {
   "cell_type": "code",
   "execution_count": 174,
   "id": "0d83b043",
   "metadata": {},
   "outputs": [
    {
     "name": "stdout",
     "output_type": "stream",
     "text": [
      "8\n"
     ]
    },
    {
     "data": {
      "text/plain": [
       "{'nIndexesWas': 2, 'ns': 'nmdc._tmp_study_set', 'ok': 1.0}"
      ]
     },
     "execution_count": 174,
     "metadata": {},
     "output_type": "execute_result"
    }
   ],
   "source": [
    "docs_to_validate = [dissoc(d, \"_id\") for d in db[tmp_coll].find()]\n",
    "ok = nmdc_jsonschema_validate({\"study_set\": docs_to_validate})\n",
    "rv = mongo.add_docs({\"study_set\": docs_to_validate})\n",
    "print(rv[\"study_set\"].modified_count)\n",
    "db.drop_collection(tmp_coll)"
   ]
  },
  {
   "cell_type": "code",
   "execution_count": 175,
   "id": "f7f8f6d6",
   "metadata": {},
   "outputs": [],
   "source": [
    "# TODO get local files to api. Untested\n",
    "\n",
    "from dagster import build_solid_context\n",
    "from nmdc_runtime.solids.core import local_file_to_api_object as lftao\n",
    "\n",
    "context = build_solid_context(\n",
    "    resources={\"mongo\": mongo, \"runtime_api_site_client\": client}\n",
    ")\n",
    "\n",
    "storage_path = \"../src/data/2021-07-02-study-changes.csv\"\n",
    "\n",
    "\n",
    "def local_file_to_api_object(file_info):\n",
    "    return lftao(context, file_info)\n",
    "\n",
    "#obj = local_file_to_api_object({\"storage_path\": storage_path, \"mime_type\": 'text/csv'})\n",
    "\n",
    "#doc = db.objects.find_one({\"id\": obj[\"id\"]})\n",
    "#assert doc[\"name\"] == Path(storage_path).name"
   ]
  },
  {
   "cell_type": "markdown",
   "id": "030458e1",
   "metadata": {},
   "source": [
    "# ensure all study_set.doi values are HTTPS URIs"
   ]
  },
  {
   "cell_type": "code",
   "execution_count": 176,
   "id": "2d808238",
   "metadata": {},
   "outputs": [],
   "source": [
    "from toolz import assoc_in, dissoc\n",
    "\n",
    "docs = [dissoc(d, \"_id\") for d in db.study_set.find()]"
   ]
  },
  {
   "cell_type": "code",
   "execution_count": 177,
   "id": "2017d580",
   "metadata": {},
   "outputs": [],
   "source": [
    "docs = [assoc_in(d, [\"doi\", \"has_raw_value\"], urlify(d[\"doi\"][\"has_raw_value\"])) for d in docs]"
   ]
  },
  {
   "cell_type": "code",
   "execution_count": 178,
   "id": "35048d8b",
   "metadata": {},
   "outputs": [],
   "source": [
    "ok = nmdc_jsonschema_validate({\"study_set\": docs})"
   ]
  },
  {
   "cell_type": "code",
   "execution_count": 179,
   "id": "ad5cbaa2",
   "metadata": {},
   "outputs": [
    {
     "data": {
      "text/plain": [
       "{'study_set': <pymongo.results.BulkWriteResult at 0x7f89e0c53680>}"
      ]
     },
     "execution_count": 179,
     "metadata": {},
     "output_type": "execute_result"
    }
   ],
   "source": [
    "mongo.add_docs({\"study_set\": docs})"
   ]
  },
  {
   "cell_type": "code",
   "execution_count": null,
   "id": "25e6449a",
   "metadata": {},
   "outputs": [],
   "source": []
  },
  {
   "cell_type": "markdown",
   "id": "afdb1c7d",
   "metadata": {},
   "source": [
    "# verify study sample counts\n",
    "From GOLD db"
   ]
  },
  {
   "cell_type": "code",
   "execution_count": 181,
   "id": "48ff9140",
   "metadata": {},
   "outputs": [],
   "source": [
    "assert db.biosample_set.count_documents({\"part_of\": \"gold:Gs0154044\"}) == 217"
   ]
  },
  {
   "cell_type": "markdown",
   "id": "a489c66d",
   "metadata": {},
   "source": [
    "# embargo studies\n",
    "Embargo study `gold:Gs0149986`"
   ]
  },
  {
   "cell_type": "code",
   "execution_count": 260,
   "id": "886e4ed6",
   "metadata": {},
   "outputs": [],
   "source": [
    "study_id = \"gold:Gs0149986\""
   ]
  },
  {
   "cell_type": "code",
   "execution_count": 261,
   "id": "9c66cb6e",
   "metadata": {},
   "outputs": [],
   "source": [
    "ids_biosamples = [d[\"id\"]for d in db.biosample_set.find({\"part_of\": study_id})]"
   ]
  },
  {
   "cell_type": "code",
   "execution_count": 262,
   "id": "80dfb671",
   "metadata": {},
   "outputs": [
    {
     "data": {
      "text/plain": [
       "246"
      ]
     },
     "execution_count": 262,
     "metadata": {},
     "output_type": "execute_result"
    }
   ],
   "source": [
    "len(ids_biosamples)"
   ]
  },
  {
   "cell_type": "code",
   "execution_count": 263,
   "id": "89d6ac88",
   "metadata": {},
   "outputs": [],
   "source": [
    "ids_omics_processings_via_study = [d[\"id\"] for d in db.omics_processing_set.find({\"part_of\": study_id})]"
   ]
  },
  {
   "cell_type": "code",
   "execution_count": 264,
   "id": "4446aae1",
   "metadata": {},
   "outputs": [
    {
     "data": {
      "text/plain": [
       "0"
      ]
     },
     "execution_count": 264,
     "metadata": {},
     "output_type": "execute_result"
    }
   ],
   "source": [
    "len(ids_omics_processings_via_study)"
   ]
  },
  {
   "cell_type": "code",
   "execution_count": 265,
   "id": "1c2b0671",
   "metadata": {},
   "outputs": [],
   "source": [
    "ids_omics_processings_via_biosamples = [\n",
    "    d[\"id\"] for d in db.omics_processing_set.find({\"has_input\": {\"$in\": ids_biosamples}})\n",
    "]"
   ]
  },
  {
   "cell_type": "code",
   "execution_count": 266,
   "id": "54a5b776",
   "metadata": {},
   "outputs": [
    {
     "data": {
      "text/plain": [
       "0"
      ]
     },
     "execution_count": 266,
     "metadata": {},
     "output_type": "execute_result"
    }
   ],
   "source": [
    "len(ids_omics_processings_via_biosamples)"
   ]
  },
  {
   "cell_type": "code",
   "execution_count": 267,
   "id": "7e1028c1",
   "metadata": {},
   "outputs": [],
   "source": [
    "ids_omics_processings = list(set(ids_omics_processings_via_study) | set(ids_omics_processings_via_biosamples))"
   ]
  },
  {
   "cell_type": "code",
   "execution_count": 268,
   "id": "7a715ac2",
   "metadata": {},
   "outputs": [
    {
     "data": {
      "text/plain": [
       "0"
      ]
     },
     "execution_count": 268,
     "metadata": {},
     "output_type": "execute_result"
    }
   ],
   "source": [
    "len(ids_omics_processings)"
   ]
  },
  {
   "cell_type": "code",
   "execution_count": 269,
   "id": "ab16cf8d",
   "metadata": {},
   "outputs": [],
   "source": [
    "from toolz import concat\n",
    "\n",
    "ids_data_objects_from_omics_processings = list(concat([\n",
    "    d[\"has_output\"] for d in db.omics_processing_set.find({\n",
    "        \"id\": {\n",
    "            \"$in\": ids_omics_processings\n",
    "        }\n",
    "    }, [\"has_output\"])\n",
    "]))"
   ]
  },
  {
   "cell_type": "code",
   "execution_count": 270,
   "id": "02fd6370",
   "metadata": {},
   "outputs": [
    {
     "data": {
      "text/plain": [
       "0"
      ]
     },
     "execution_count": 270,
     "metadata": {},
     "output_type": "execute_result"
    }
   ],
   "source": [
    "len(ids_data_objects_from_omics_processings)"
   ]
  },
  {
   "cell_type": "code",
   "execution_count": 271,
   "id": "2899106d",
   "metadata": {},
   "outputs": [
    {
     "data": {
      "application/vnd.jupyter.widget-view+json": {
       "model_id": "f4a08e700cbb4e868ec7c35eaa0ff3b0",
       "version_major": 2,
       "version_minor": 0
      },
      "text/plain": [
       "  0%|          | 0/31 [00:00<?, ?it/s]"
      ]
     },
     "metadata": {},
     "output_type": "display_data"
    },
    {
     "name": "stdout",
     "output_type": "stream",
     "text": [
      "metaproteomics_analysis_activity_set\n",
      "read_QC_analysis_activity_set\n",
      "mags_activity_set\n",
      "metagenome_assembly_set\n",
      "metatranscriptome_activity_set\n",
      "nom_analysis_activity_set\n",
      "metagenome_annotation_activity_set\n",
      "read_based_analysis_activity_set\n",
      "activity_set\n",
      "metabolomics_analysis_activity_set\n"
     ]
    }
   ],
   "source": [
    "from tqdm.notebook import tqdm\n",
    "\n",
    "ids_analyses = {}\n",
    "\n",
    "for coll_name in tqdm(db.list_collection_names()):\n",
    "    if coll_name.endswith(\"activity_set\") or coll_name.endswith(\"assembly_set\"):\n",
    "        print(coll_name)\n",
    "        db[coll_name].create_index(\"was_informed_by\")\n",
    "        ids_analyses[coll_name] = [\n",
    "            d[\"id\"] for d in\n",
    "            db[coll_name].find({\"was_informed_by\": {\"$in\": ids_omics_processings}})\n",
    "        ]"
   ]
  },
  {
   "cell_type": "code",
   "execution_count": 272,
   "id": "2a51a199",
   "metadata": {},
   "outputs": [],
   "source": [
    "from toolz import concat\n",
    "\n",
    "ids_data_objects_from_analyses = []\n",
    "\n",
    "for coll_name, ids_analysis_set in ids_analyses.items():\n",
    "    ids_data_objects_from_analyses.extend(list(concat([\n",
    "        d[\"has_output\"] for d in db[coll_name].find({\n",
    "            \"id\": {\n",
    "                \"$in\": ids_analysis_set\n",
    "            }\n",
    "        }, [\"has_output\"])\n",
    "    ])))"
   ]
  },
  {
   "cell_type": "code",
   "execution_count": 273,
   "id": "673a1ab8",
   "metadata": {},
   "outputs": [
    {
     "data": {
      "text/plain": [
       "0"
      ]
     },
     "execution_count": 273,
     "metadata": {},
     "output_type": "execute_result"
    }
   ],
   "source": [
    "len(ids_data_objects_from_analyses)"
   ]
  },
  {
   "cell_type": "code",
   "execution_count": 274,
   "id": "252d53fc",
   "metadata": {},
   "outputs": [],
   "source": [
    "ids_data_objects = list(set(ids_data_objects_from_omics_processings) | set(ids_data_objects_from_analyses))"
   ]
  },
  {
   "cell_type": "code",
   "execution_count": 275,
   "id": "aa1f8cbb",
   "metadata": {},
   "outputs": [
    {
     "data": {
      "text/plain": [
       "(0, 0)"
      ]
     },
     "execution_count": 275,
     "metadata": {},
     "output_type": "execute_result"
    }
   ],
   "source": [
    "len(ids_data_objects), db.data_object_set.count_documents({\"id\": {\"$in\": ids_data_objects}})"
   ]
  },
  {
   "cell_type": "code",
   "execution_count": 276,
   "id": "4e825861",
   "metadata": {},
   "outputs": [],
   "source": [
    "assert len(ids_data_objects) == db.data_object_set.count_documents({\"id\": {\"$in\": ids_data_objects}})"
   ]
  },
  {
   "cell_type": "code",
   "execution_count": 183,
   "id": "22f3e1e0",
   "metadata": {},
   "outputs": [],
   "source": [
    "def db_object_for_study(db, study_id):\n",
    "    pass"
   ]
  },
  {
   "cell_type": "code",
   "execution_count": 278,
   "id": "d7435796",
   "metadata": {},
   "outputs": [],
   "source": [
    "db_embargo = mongo.db.client[\"nmdc_embargo\"]"
   ]
  },
  {
   "cell_type": "code",
   "execution_count": null,
   "id": "dfb3f15c",
   "metadata": {},
   "outputs": [],
   "source": []
  },
  {
   "cell_type": "code",
   "execution_count": 284,
   "id": "68379ee4",
   "metadata": {},
   "outputs": [],
   "source": [
    "studies = [dissoc(d, \"_id\") for d in db.study_set.find({\"id\": study_id})]\n",
    "biosamples = [dissoc(d, \"_id\") for d in db.biosample_set.find({\"id\": {\"$in\": ids_biosamples}})]"
   ]
  },
  {
   "cell_type": "code",
   "execution_count": 285,
   "id": "32e54115",
   "metadata": {},
   "outputs": [],
   "source": [
    "rv = db_embargo.study_set.insert_many(studies)"
   ]
  },
  {
   "cell_type": "code",
   "execution_count": 287,
   "id": "e5e78fbc",
   "metadata": {},
   "outputs": [
    {
     "data": {
      "text/plain": [
       "1"
      ]
     },
     "execution_count": 287,
     "metadata": {},
     "output_type": "execute_result"
    }
   ],
   "source": [
    "len(rv.inserted_ids)"
   ]
  },
  {
   "cell_type": "code",
   "execution_count": 288,
   "id": "cbbaa4c4",
   "metadata": {},
   "outputs": [],
   "source": [
    "rv = db_embargo.biosample_set.insert_many(biosamples)"
   ]
  },
  {
   "cell_type": "code",
   "execution_count": 289,
   "id": "e44fd148",
   "metadata": {},
   "outputs": [
    {
     "data": {
      "text/plain": [
       "246"
      ]
     },
     "execution_count": 289,
     "metadata": {},
     "output_type": "execute_result"
    }
   ],
   "source": [
    "len(rv.inserted_ids)"
   ]
  },
  {
   "cell_type": "code",
   "execution_count": 290,
   "id": "588f2f57",
   "metadata": {},
   "outputs": [],
   "source": [
    "rv = db.study_set.delete_one({\"id\": study_id})"
   ]
  },
  {
   "cell_type": "code",
   "execution_count": 291,
   "id": "5738a22e",
   "metadata": {},
   "outputs": [
    {
     "data": {
      "text/plain": [
       "1"
      ]
     },
     "execution_count": 291,
     "metadata": {},
     "output_type": "execute_result"
    }
   ],
   "source": [
    "rv.deleted_count"
   ]
  },
  {
   "cell_type": "code",
   "execution_count": 294,
   "id": "31b34848",
   "metadata": {},
   "outputs": [],
   "source": [
    "rv = db.biosample_set.delete_many({\"id\": {\"$in\": ids_biosamples}})"
   ]
  },
  {
   "cell_type": "code",
   "execution_count": 295,
   "id": "d76861b7",
   "metadata": {},
   "outputs": [
    {
     "data": {
      "text/plain": [
       "246"
      ]
     },
     "execution_count": 295,
     "metadata": {},
     "output_type": "execute_result"
    }
   ],
   "source": [
    "rv.deleted_count"
   ]
  },
  {
   "cell_type": "code",
   "execution_count": null,
   "id": "a91225fc",
   "metadata": {},
   "outputs": [],
   "source": []
  }
 ],
 "metadata": {
  "kernelspec": {
   "display_name": "Python (nmdc-runtime)",
   "language": "python",
   "name": "nmdc-runtime"
  },
  "language_info": {
   "codemirror_mode": {
    "name": "ipython",
    "version": 3
   },
   "file_extension": ".py",
   "mimetype": "text/x-python",
   "name": "python",
   "nbconvert_exporter": "python",
   "pygments_lexer": "ipython3",
   "version": "3.8.8"
  }
 },
 "nbformat": 4,
 "nbformat_minor": 5
}
