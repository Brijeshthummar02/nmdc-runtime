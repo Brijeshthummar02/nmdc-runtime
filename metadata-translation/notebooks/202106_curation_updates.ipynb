{
 "cells": [
  {
   "cell_type": "code",
   "execution_count": 1,
   "id": "14532162",
   "metadata": {},
   "outputs": [],
   "source": [
    "%load_ext autoreload\n",
    "%autoreload 2"
   ]
  },
  {
   "cell_type": "code",
   "execution_count": 2,
   "id": "a557b5a2",
   "metadata": {},
   "outputs": [],
   "source": [
    "# import os\n",
    "# from dotenv import load_dotenv\n",
    "\n",
    "# load_dotenv(os.path.expanduser(\"~/.nmdc_mongo.env\"))"
   ]
  },
  {
   "cell_type": "code",
   "execution_count": 3,
   "id": "f239fd89",
   "metadata": {},
   "outputs": [
    {
     "data": {
      "text/plain": [
       "True"
      ]
     },
     "execution_count": 3,
     "metadata": {},
     "output_type": "execute_result"
    }
   ],
   "source": [
    "from dotenv import load_dotenv\n",
    "\n",
    "load_dotenv(\"../../.env.localhost\")"
   ]
  },
  {
   "cell_type": "markdown",
   "id": "c654271a",
   "metadata": {},
   "source": [
    "TODO\n",
    "\n",
    "- data object `data_object_type` field with [enum](https://docs.google.com/document/d/1uq6J__NbCUezsD16VTVJa-3_HJn5DacASBmFw3xQ3Bc/edit) codes"
   ]
  },
  {
   "cell_type": "code",
   "execution_count": 4,
   "id": "780f730e",
   "metadata": {},
   "outputs": [],
   "source": [
    "from nmdc_runtime.pipelines.core import preset_normal_env\n",
    "from nmdc_runtime.resources.mongo import get_mongo\n",
    "\n",
    "\n",
    "mongo = get_mongo(preset_normal_env.run_config)\n",
    "db = mongo.db"
   ]
  },
  {
   "cell_type": "code",
   "execution_count": 5,
   "id": "acdad476",
   "metadata": {},
   "outputs": [
    {
     "data": {
      "text/plain": [
       "['biosample_set',\n",
       " 'metaproteomics_analysis_activity_set',\n",
       " 'data_object_set',\n",
       " 'objects',\n",
       " 'capabilities',\n",
       " 'operations',\n",
       " 'omics_processing_set',\n",
       " 'date_created',\n",
       " 'etl_software_version',\n",
       " 'triggers',\n",
       " 'nom_analysis_activity_set',\n",
       " 'activity_set',\n",
       " 'notes',\n",
       " 'read_based_analysis_activity_set',\n",
       " 'metabolomics_analysis_activity_set',\n",
       " 'metagenome_assembly_set',\n",
       " 'study_set',\n",
       " 'ids',\n",
       " 'mags_activity_set',\n",
       " 'metagenome_annotation_activity_set',\n",
       " 'nmdc_schema_version',\n",
       " 'users',\n",
       " 'read_QC_analysis_activity_set',\n",
       " 'genome_feature_set',\n",
       " 'sites',\n",
       " 'raw.functional_annotation_set',\n",
       " 'object_types',\n",
       " 'functional_annotation_set',\n",
       " 'workflows']"
      ]
     },
     "execution_count": 5,
     "metadata": {},
     "output_type": "execute_result"
    }
   ],
   "source": [
    "db.list_collection_names()"
   ]
  },
  {
   "cell_type": "code",
   "execution_count": 6,
   "id": "c9329bc1",
   "metadata": {},
   "outputs": [],
   "source": [
    "from nmdc_runtime.pipelines.core import preset_normal_env\n",
    "from nmdc_runtime.resources.core import get_runtime_api_site_client\n",
    "\n",
    "\n",
    "client = get_runtime_api_site_client(preset_normal_env.run_config)"
   ]
  },
  {
   "cell_type": "code",
   "execution_count": 7,
   "id": "21c3ebc1",
   "metadata": {},
   "outputs": [
    {
     "name": "stdout",
     "output_type": "stream",
     "text": [
      "ajrh-6sff-63\n"
     ]
    }
   ],
   "source": [
    "gold_etl_latest = db.objects.find_one({\"name\": \"nmdc_database.json.zip\"}, sort=[(\"created_time\", -1)])"
   ]
  },
  {
   "cell_type": "code",
   "execution_count": 8,
   "id": "99e87c7f",
   "metadata": {},
   "outputs": [],
   "source": [
    "rv = client.get_object_bytes(gold_etl_latest[\"id\"])"
   ]
  },
  {
   "cell_type": "code",
   "execution_count": 9,
   "id": "38bceb61",
   "metadata": {},
   "outputs": [],
   "source": [
    "from io import BytesIO\n",
    "import json\n",
    "from zipfile import ZipFile\n",
    "\n",
    "with ZipFile(BytesIO(rv.content)) as myzip:\n",
    "    # may be e.g. 'metadata-translation/src/bin/output/nmdc_database.json' rather than 'nmdc_database.json'\n",
    "    name = next(n for n in myzip.namelist() if n.endswith(\"nmdc_database.json\"))\n",
    "    with myzip.open(name) as f:\n",
    "        nmdc_database = json.load(f)"
   ]
  },
  {
   "cell_type": "code",
   "execution_count": 10,
   "id": "07970e8e",
   "metadata": {},
   "outputs": [],
   "source": [
    "from nmdc_runtime.util import nmdc_jsonschema, nmdc_jsonschema_validate"
   ]
  },
  {
   "cell_type": "code",
   "execution_count": 12,
   "id": "463c7328",
   "metadata": {},
   "outputs": [],
   "source": [
    "nmdc_db_collection_names = set(nmdc_jsonschema[\"definitions\"][\"Database\"][\"properties\"])\n",
    "def reset_database(db):\n",
    "    for coll_name in nmdc_db_collection_names:\n",
    "        db.drop_collection(coll_name)\n",
    "        db[coll_name].create_index(\"id\", unique=True)\n",
    "        \n",
    "reset_database(db)"
   ]
  },
  {
   "cell_type": "markdown",
   "id": "108f7547",
   "metadata": {},
   "source": [
    "# fix biosample.part_of and add docs"
   ]
  },
  {
   "cell_type": "code",
   "execution_count": 13,
   "id": "a058862a",
   "metadata": {},
   "outputs": [],
   "source": [
    "from pprint import pprint\n",
    "\n",
    "from toolz import assoc_in, dissoc, get_in\n",
    "\n",
    "from nmdc_runtime.api.core.util import pick\n",
    "\n",
    "new_docs = []\n",
    "for doc in nmdc_database[\"biosample_set\"]:\n",
    "    if \"part of\" in doc:\n",
    "        doc = assoc_in(doc, [\"part_of\"], get_in([\"part of\"], doc))\n",
    "        doc = dissoc(doc, \"part of\")\n",
    "    new_docs.append(doc)\n",
    "\n",
    "nmdc_database[\"biosample_set\"] = new_docs"
   ]
  },
  {
   "cell_type": "code",
   "execution_count": 14,
   "id": "6e932f94",
   "metadata": {},
   "outputs": [],
   "source": [
    "ok = nmdc_jsonschema_validate(nmdc_database)"
   ]
  },
  {
   "cell_type": "code",
   "execution_count": 15,
   "id": "ad84eb96",
   "metadata": {},
   "outputs": [],
   "source": [
    "mongo.add_docs(nmdc_database)"
   ]
  },
  {
   "cell_type": "markdown",
   "id": "65bb596e",
   "metadata": {},
   "source": [
    "@dehays:\n",
    "> FYI - the problem I introduced was to make has_input required on omics_processing - that lead to all the EMSL omics_processing getting dropped because the association with samples doesn’t happen there until after ETL"
   ]
  },
  {
   "cell_type": "markdown",
   "id": "936e3c36",
   "metadata": {},
   "source": [
    "# GOLD IDs to IGSNs"
   ]
  },
  {
   "cell_type": "code",
   "execution_count": 34,
   "id": "56732f1c",
   "metadata": {},
   "outputs": [
    {
     "name": "stderr",
     "output_type": "stream",
     "text": [
      "<ipython-input-34-d41a4b73840e>:5: ExperimentalWarning: \"build_solid_context\" is an experimental function. It may break in future versions, even between dot releases. To mute warnings for experimental functionality, invoke warnings.filterwarnings(\"ignore\", category=dagster.ExperimentalWarning) or use one of the other methods described at https://docs.python.org/3/library/warnings.html#describing-warning-filters.\n",
      "  context = build_solid_context(resources={\"mongo\": mongo, \"runtime_api_site_client\": client})\n"
     ]
    }
   ],
   "source": [
    "from dagster import build_solid_context\n",
    "\n",
    "from nmdc_runtime.solids.core import local_file_to_api_object as lftao\n",
    "\n",
    "context = build_solid_context(resources={\"mongo\": mongo, \"runtime_api_site_client\": client})\n",
    "\n",
    "\n",
    "def local_file_to_api_object(file_info):\n",
    "    return lftao(context, file_info)\n",
    "\n",
    "#obj = local_file_to_api_object({\"storage_path\": storage_path, \"mime_type\": 'text/csv'})"
   ]
  },
  {
   "cell_type": "code",
   "execution_count": 16,
   "id": "f7369e72",
   "metadata": {},
   "outputs": [],
   "source": [
    "oid__gold_ids_to_igns = \"c6hs-4rzh-31\"\n",
    "doc = db.objects.find_one({\"id\": oid__gold_ids_to_igns})\n",
    "assert doc[\"name\"] == \"2020-23-12-brodie-Gs0135149-soil-metadata.csv\""
   ]
  },
  {
   "cell_type": "code",
   "execution_count": 17,
   "id": "6e1d136d",
   "metadata": {},
   "outputs": [],
   "source": [
    "from collections import defaultdict\n",
    "import csv\n",
    "from io import StringIO\n",
    "import re\n",
    "\n",
    "GOLD_ID_IDX = 5\n",
    "IGSN_IDX = 2\n",
    "\n",
    "igsn_golds = defaultdict(list)\n",
    "\n",
    "gold_id_pattern = re.compile(r\"Gb\\d+\")\n",
    "\n",
    "f = StringIO(client.get_object_bytes(oid__gold_ids_to_igns).text)\n",
    "reader = csv.reader(f)\n",
    "for row in reader:\n",
    "    gold_id = row[GOLD_ID_IDX]\n",
    "    igsn = row[IGSN_IDX]\n",
    "    if gold_id_pattern.fullmatch(gold_id):\n",
    "        igsn_golds[igsn].append(gold_id)"
   ]
  },
  {
   "cell_type": "code",
   "execution_count": 18,
   "id": "31207f9c",
   "metadata": {},
   "outputs": [],
   "source": [
    "from pprint import pprint\n",
    "\n",
    "from toolz import get_in\n",
    "\n",
    "new_biosample_docs = []\n",
    "\n",
    "for igsn, golds in igsn_golds.items():\n",
    "    igsn_curie = \"igsn:\"+igsn\n",
    "    doc = db.biosample_set.find_one({\"id\": {\"$in\": [f\"gold:{g}\" for g in golds]}})\n",
    "    doc = assoc_in(doc, [\"id\"], igsn_curie)\n",
    "    doc = dissoc(doc, \"_id\")\n",
    "    new_biosample_docs.append(doc)\n",
    "\n",
    "assert len(new_biosample_docs) == len(igsn_golds)"
   ]
  },
  {
   "cell_type": "code",
   "execution_count": 19,
   "id": "490595cf",
   "metadata": {},
   "outputs": [],
   "source": [
    "mongo.add_docs({\"biosample_set\": new_biosample_docs})"
   ]
  },
  {
   "cell_type": "code",
   "execution_count": 20,
   "id": "df9a666e",
   "metadata": {},
   "outputs": [
    {
     "data": {
      "text/plain": [
       "48"
      ]
     },
     "execution_count": 20,
     "metadata": {},
     "output_type": "execute_result"
    }
   ],
   "source": [
    "from pymongo import DeleteMany\n",
    "from toolz import concat\n",
    "\n",
    "requests = [DeleteMany({\"id\": {\"$in\": [\"gold:\"+g for g in concat(igsn_golds.values())]}})]\n",
    "rv = mongo.db.biosample_set.bulk_write(requests)\n",
    "rv.deleted_count"
   ]
  },
  {
   "cell_type": "markdown",
   "id": "2c7129ff",
   "metadata": {},
   "source": [
    "# Update omics_processing_set references to biosample_set ids"
   ]
  },
  {
   "cell_type": "code",
   "execution_count": 21,
   "id": "749de37a",
   "metadata": {},
   "outputs": [],
   "source": [
    "goldid_igsn = {}\n",
    "for igsn, gids in igsn_golds.items():\n",
    "    for gid in gids:\n",
    "        goldid_igsn[gid] = igsn"
   ]
  },
  {
   "cell_type": "code",
   "execution_count": 22,
   "id": "ca0ebce8",
   "metadata": {},
   "outputs": [],
   "source": [
    "requests = []\n",
    "to_replace = {\"gold:\"+k: \"igsn:\"+v for k, v in goldid_igsn.items()}\n",
    "\n",
    "for doc in db.omics_processing_set.find({\"has_input\": {\"$in\": list(to_replace)}}):\n",
    "    operations = {\"$set\": {\n",
    "        \"has_input\": [to_replace.get(i, i) for i in doc[\"has_input\"]],\n",
    "    }}\n",
    "    requests.append({\"filter\": {\"_id\": doc[\"_id\"]}, \"update\": operations})"
   ]
  },
  {
   "cell_type": "code",
   "execution_count": 23,
   "id": "e8ed078a",
   "metadata": {},
   "outputs": [],
   "source": [
    "from pymongo import UpdateOne\n",
    "\n",
    "rv = db.omics_processing_set.bulk_write([UpdateOne(**r) for r in requests])"
   ]
  },
  {
   "cell_type": "code",
   "execution_count": 24,
   "id": "320e4649",
   "metadata": {},
   "outputs": [
    {
     "data": {
      "text/plain": [
       "93"
      ]
     },
     "execution_count": 24,
     "metadata": {},
     "output_type": "execute_result"
    }
   ],
   "source": [
    "rv.modified_count"
   ]
  },
  {
   "cell_type": "code",
   "execution_count": 25,
   "id": "797639d4",
   "metadata": {},
   "outputs": [],
   "source": [
    "docs = [dissoc(doc, \"_id\") for doc in db.omics_processing_set.find()]"
   ]
  },
  {
   "cell_type": "code",
   "execution_count": 26,
   "id": "b7b18e3b",
   "metadata": {},
   "outputs": [],
   "source": [
    "ok = nmdc_jsonschema_validate({\"omics_processing_set\": docs})"
   ]
  },
  {
   "cell_type": "markdown",
   "id": "48e8ab2e",
   "metadata": {},
   "source": [
    "# Update omics_processing_set references from EMSL ids to IGSNs\n",
    "\n",
    "Skip this -- it updates zero documents!"
   ]
  },
  {
   "cell_type": "code",
   "execution_count": 27,
   "id": "83debad0",
   "metadata": {},
   "outputs": [],
   "source": [
    "EMSL_IDS_IDX = 7\n",
    "IGSN_IDX = 2\n",
    "\n",
    "igsn_emsls = {}\n",
    "\n",
    "emsl_ids_pattern = re.compile(r\"\\d+\")\n",
    "\n",
    "f = StringIO(client.get_object_bytes(oid__gold_ids_to_igns).text)\n",
    "reader = csv.reader(f)\n",
    "for row in reader:\n",
    "    emsl_ids = row[EMSL_IDS_IDX]\n",
    "    igsn = row[IGSN_IDX]\n",
    "    ids = emsl_ids_pattern.findall(emsl_ids)\n",
    "    # XXX some rows have emsl ids but no IGSN, so igsn.strip() check here\n",
    "    if igsn.strip() and ids:\n",
    "        igsn_emsls[igsn] = ids"
   ]
  },
  {
   "cell_type": "code",
   "execution_count": 28,
   "id": "7f6a4907",
   "metadata": {},
   "outputs": [],
   "source": [
    "emslid_igsn = {}\n",
    "for igsn, eids in igsn_emsls.items():\n",
    "    for eid in eids:\n",
    "        emslid_igsn[eid] = igsn"
   ]
  },
  {
   "cell_type": "code",
   "execution_count": 29,
   "id": "eb2f19e1",
   "metadata": {},
   "outputs": [],
   "source": [
    "n_with_emsl_id = db.omics_processing_set.count_documents(\n",
    "    {\"id\": {\"$in\": [\"emsl:\"+i for i in emslid_igsn]}})"
   ]
  },
  {
   "cell_type": "code",
   "execution_count": 30,
   "id": "f4e81c98",
   "metadata": {},
   "outputs": [],
   "source": [
    "requests = []\n",
    "to_replace = {\"emsl:\"+k: \"igsn:\"+v for k, v in emslid_igsn.items()}\n",
    "to_replace.update({\"emsl:output_\"+k: \"igsn:\"+v for k, v in emslid_igsn.items()})\n",
    "\n",
    "def omit(blacklist, d):\n",
    "    return keyfilter(lambda k: k not in blacklist, d)\n",
    "\n",
    "def sans_mongo_id(d):\n",
    "    return omit([\"_id\"], d)\n",
    "\n",
    "\n",
    "for doc in db.omics_processing_set.find({\"has_input\": {\"$in\": list(to_replace)}}):\n",
    "    operations = {\"$set\": {\n",
    "        \"has_input\": [to_replace.get(i, i) for i in doc[\"has_input\"]],\n",
    "    }}\n",
    "    requests.append({\"filter\": {\"_id\": doc[\"_id\"]}, \"update\": operations})"
   ]
  },
  {
   "cell_type": "code",
   "execution_count": 31,
   "id": "644a638f",
   "metadata": {},
   "outputs": [],
   "source": [
    "if requests:\n",
    "    rv = db.omics_processing_set.bulk_write([UpdateOne(**r) for r in requests])\n",
    "    print(rv.modified_count)"
   ]
  },
  {
   "cell_type": "markdown",
   "id": "8dfdbf5a",
   "metadata": {},
   "source": [
    "# metaP_stegen.ipynb"
   ]
  },
  {
   "cell_type": "code",
   "execution_count": 82,
   "id": "aa9d2804",
   "metadata": {},
   "outputs": [],
   "source": [
    "to_fetch = [{\n",
    "    # >200MB\n",
    "    \"url\": \"https://portal.nersc.gov/cfs/m3408/meta/stegen_MetaProteomicAnalysis_activity.json\",\n",
    "    \"type\": \"metaproteomics_analysis_activity_set\",\n",
    "}, {\n",
    "    # ~50KB\n",
    "    \"url\": \"https://portal.nersc.gov/cfs/m3408/meta/stegen_emsl_analysis_data_objects.json\",\n",
    "    \"type\": \"data_object_set\"\n",
    "}]"
   ]
  },
  {
   "cell_type": "code",
   "execution_count": 67,
   "id": "97309b51",
   "metadata": {},
   "outputs": [],
   "source": [
    "from pathlib import Path\n",
    "\n",
    "import requests\n",
    "\n",
    "def download_them_all(to_fetch):\n",
    "    for i, spec in enumerate(to_fetch):\n",
    "        path = spec[\"url\"]\n",
    "        name = Path(path).name\n",
    "        print(f\"{i+1}/{len(to_fetch)}: fetching {name}\")\n",
    "        rv = requests.get(path)\n",
    "        with open(f'/Users/dwinston/Downloads/{name}', 'w') as f:\n",
    "            json.dump(rv.json(), f)"
   ]
  },
  {
   "cell_type": "code",
   "execution_count": 68,
   "id": "0dc8a7e6",
   "metadata": {},
   "outputs": [
    {
     "name": "stdout",
     "output_type": "stream",
     "text": [
      "1/2: fetching stegen_MetaProteomicAnalysis_activity.json\n",
      "2/2: fetching stegen_emsl_analysis_data_objects.json\n"
     ]
    }
   ],
   "source": [
    "download_them_all(to_fetch)"
   ]
  },
  {
   "cell_type": "code",
   "execution_count": 69,
   "id": "a7ec20a4",
   "metadata": {},
   "outputs": [],
   "source": [
    "from toolz import identity, dissoc, assoc_in\n",
    "\n",
    "metaP_field_map = {\n",
    "    \"PeptideSequence\": (\"peptide_sequence\", identity),\n",
    "    \"sum(MASICAbundance)\": (\"peptide_sum_masic_abundance\", int),\n",
    "    \"SpectralCount\": (\"peptide_spectral_count\", int),\n",
    "    \"BestProtein\": (\"best_protein\", identity),\n",
    "    \"min(QValue)\": (\"min_q_value\", float),\n",
    "    \n",
    "    \"peptide_sequence\": (\"peptide_sequence\", identity),\n",
    "    \"peptide_sum_masic_abundance\": (\"peptide_sum_masic_abundance\", int),\n",
    "    \"peptide_spectral_count\": (\"peptide_spectral_count\", int),\n",
    "    \"best_protein\": (\"best_protein\", identity),\n",
    "    \"min_q_value\": (\"min_q_value\", float),\n",
    "}\n",
    "\n",
    "\n",
    "def map_fields(doc, field_map=None):\n",
    "    for k_old, todo in field_map.items():\n",
    "        if k_old in doc:\n",
    "            k_new, fn = todo\n",
    "            v_new = fn(doc[k_old])\n",
    "            doc = dissoc(doc, k_old)\n",
    "            doc = assoc_in(doc, [k_new], v_new)\n",
    "    return doc\n",
    "\n",
    "\n",
    "def correct_metaP_doc(doc):\n",
    "    if not \"has_peptide_quantifications\" in doc:\n",
    "        return doc\n",
    "    new_items = [\n",
    "        map_fields(item, metaP_field_map) for item in doc[\"has_peptide_quantifications\"]\n",
    "    ]\n",
    "    doc = assoc_in(\n",
    "        doc,\n",
    "        [\"has_peptide_quantifications\"],\n",
    "        new_items,\n",
    "    )\n",
    "    return doc"
   ]
  },
  {
   "cell_type": "code",
   "execution_count": 70,
   "id": "e1b2539b",
   "metadata": {},
   "outputs": [],
   "source": [
    "def fetch_downloaded_json(name):\n",
    "    with open(f'/Users/dwinston/Downloads/{name}') as f:\n",
    "        return json.load(f)"
   ]
  },
  {
   "cell_type": "code",
   "execution_count": 85,
   "id": "eb10e538",
   "metadata": {},
   "outputs": [],
   "source": [
    "from collections import defaultdict\n",
    "\n",
    "def fetch_validate_and_add(to_fetch):\n",
    "    to_add = defaultdict(list)\n",
    "    for i, spec in enumerate(to_fetch):\n",
    "        url = spec[\"url\"]\n",
    "        name = Path(url).name\n",
    "        collection_name = spec[\"type\"]\n",
    "        print(f\"{i+1}/{len(to_fetch)}: fetching {name} ({collection_name})\")\n",
    "        docs = fetch_downloaded_json(name)\n",
    "        if not isinstance(docs, list):\n",
    "            docs = [docs]\n",
    "        docs = [correct_metaP_doc(d) for d in docs]\n",
    "        to_add[collection_name].extend(docs)\n",
    "    print(\"validating\")\n",
    "    nmdc_jsonschema_validate(to_add)\n",
    "    print(\"adding\")\n",
    "    mongo.add_docs(to_add, validate=False)"
   ]
  },
  {
   "cell_type": "code",
   "execution_count": 84,
   "id": "6dfb2243",
   "metadata": {},
   "outputs": [
    {
     "name": "stdout",
     "output_type": "stream",
     "text": [
      "1/2: fetching stegen_MetaProteomicAnalysis_activity.json (metaproteomics_analysis_activity_set)\n",
      "2/2: fetching stegen_emsl_analysis_data_objects.json (data_object_set)\n"
     ]
    }
   ],
   "source": [
    "fetch_validate_and_add(to_fetch)"
   ]
  },
  {
   "cell_type": "code",
   "execution_count": 86,
   "id": "b88de27b",
   "metadata": {},
   "outputs": [],
   "source": [
    "to_fetch = [{\n",
    "    \"url\": \"https://portal.nersc.gov/project/m3408/meta/501128_1781_100340_stegen_MetaProteomicAnalysis_activity.json\",\n",
    "    \"type\": \"metaproteomics_analysis_activity_set\",\n",
    "}, {\n",
    "    \"url\": \"https://portal.nersc.gov/project/m3408/meta/501128_1781_100340_stegen_emsl_analysis_data_objects.json\",\n",
    "    \"type\": \"data_object_set\"\n",
    "}]"
   ]
  },
  {
   "cell_type": "code",
   "execution_count": 87,
   "id": "c2fab00e",
   "metadata": {},
   "outputs": [
    {
     "name": "stdout",
     "output_type": "stream",
     "text": [
      "1/2: fetching 501128_1781_100340_stegen_MetaProteomicAnalysis_activity.json\n",
      "2/2: fetching 501128_1781_100340_stegen_emsl_analysis_data_objects.json\n"
     ]
    }
   ],
   "source": [
    "download_them_all(to_fetch)"
   ]
  },
  {
   "cell_type": "code",
   "execution_count": 88,
   "id": "99d5d714",
   "metadata": {},
   "outputs": [
    {
     "name": "stdout",
     "output_type": "stream",
     "text": [
      "1/2: fetching 501128_1781_100340_stegen_MetaProteomicAnalysis_activity.json (metaproteomics_analysis_activity_set)\n",
      "2/2: fetching 501128_1781_100340_stegen_emsl_analysis_data_objects.json (data_object_set)\n",
      "validating\n",
      "adding\n"
     ]
    }
   ],
   "source": [
    "fetch_validate_and_add(to_fetch)"
   ]
  },
  {
   "cell_type": "markdown",
   "id": "fec25e71",
   "metadata": {},
   "source": [
    "# mongo_etl_demo.ipynb"
   ]
  },
  {
   "cell_type": "markdown",
   "id": "817aa2ee",
   "metadata": {},
   "source": [
    "# ghissue_252_253_linked_samples.ipynb"
   ]
  },
  {
   "cell_type": "markdown",
   "id": "0e46319b",
   "metadata": {},
   "source": [
    "# ghissue_255.ipynb"
   ]
  },
  {
   "cell_type": "markdown",
   "id": "c28f1716",
   "metadata": {},
   "source": [
    "# ghissue_272.ipynb"
   ]
  },
  {
   "cell_type": "markdown",
   "id": "78306cde",
   "metadata": {},
   "source": [
    "# ensure_biosample_set_study_id.ipynb"
   ]
  },
  {
   "cell_type": "markdown",
   "id": "fb4f085a",
   "metadata": {},
   "source": [
    "# Biosample linking update"
   ]
  },
  {
   "cell_type": "code",
   "execution_count": null,
   "id": "ca768979",
   "metadata": {},
   "outputs": [],
   "source": [
    "rows = []\n",
    "with open(\"../src/data/2021-02-03-stegen_biosample_linking_update.csv\") as f:\n",
    "    next(f) # skip header row\n",
    "    for row in f:\n",
    "        line = row.strip()\n",
    "        tokens = line.split(\",\")\n",
    "        if tokens[-1] == '':\n",
    "            rows.append(tokens[:-1])\n",
    "        else:\n",
    "            rows.append(tokens)"
   ]
  },
  {
   "cell_type": "code",
   "execution_count": null,
   "id": "c5726c31",
   "metadata": {},
   "outputs": [],
   "source": [
    "import json\n",
    "from pprint import pprint\n",
    "\n",
    "\n",
    "with open(\"../src/data/2021-02-04-stegen_biosample_template.json\") as f:\n",
    "    s = f.read()\n",
    "\n",
    "try:\n",
    "    stegen_sample_template = json.loads(s)\n",
    "except json.JSONDecodeError:\n",
    "    stegen_sample_template = json.loads(\n",
    "        s.replace('\\n', '')\\\n",
    "        .replace(\"$BIOSAMPLE_ID\", '\"$BIOSAMPLE_ID\"')\\\n",
    "        .replace(\"“\", '\"')\n",
    "    )"
   ]
  },
  {
   "cell_type": "code",
   "execution_count": null,
   "id": "5cc622f3",
   "metadata": {},
   "outputs": [],
   "source": [
    "import re\n",
    "\n",
    "gold_pattern = re.compile(r\"Gb\\d+\")\n",
    "\n",
    "def prefix_sample_id(s):\n",
    "    if \":\" in s:\n",
    "        return s\n",
    "    elif re.fullmatch(gold_pattern, s):\n",
    "        return \"gold:\" + s\n",
    "    else:\n",
    "        return \"emsl:\" + s"
   ]
  },
  {
   "cell_type": "code",
   "execution_count": null,
   "id": "5382dbc2",
   "metadata": {},
   "outputs": [],
   "source": [
    "omics = []\n",
    "for i, row in enumerate(rows):\n",
    "    omics.append({\n",
    "        \"omics_id\": row[0],\n",
    "        \"omics_type\": row[1],\n",
    "        \"sample_name\": row[2],\n",
    "        \"sample_id\": prefix_sample_id(row[3]),\n",
    "        \"new\": len(row) > 4 and row[4] == \"TRUE\"\n",
    "    })"
   ]
  },
  {
   "cell_type": "code",
   "execution_count": null,
   "id": "3ed3a19f",
   "metadata": {},
   "outputs": [],
   "source": [
    "existing_ids = [\n",
    "    d[\"id\"] for d in\n",
    "    db.biosample_set.find({\"id\": {\"$in\": [o[\"sample_id\"] for o in omics]}}, [\"id\"])\n",
    "]"
   ]
  },
  {
   "cell_type": "code",
   "execution_count": null,
   "id": "4d9299f5",
   "metadata": {},
   "outputs": [],
   "source": [
    "from toolz import assoc_in, get_in\n",
    "\n",
    "def transform_in(doc, keys, fn):\n",
    "    initial = get_in(keys, doc)\n",
    "    transformed = fn(initial)\n",
    "    return assoc_in(doc, keys, transformed)"
   ]
  },
  {
   "cell_type": "code",
   "execution_count": null,
   "id": "5ae166f3",
   "metadata": {},
   "outputs": [],
   "source": [
    "def fill_template(template, sample_id, sample_name):\n",
    "    doc = assoc_in(template, [\"id\"], sample_id)\n",
    "    doc = transform_in(\n",
    "        doc, [\"identifier\", \"has_raw_value\"],\n",
    "        lambda s: s.replace(\"$BIOSAMPLE_NAME\", sample_name)\n",
    "    )\n",
    "    doc = transform_in(\n",
    "        doc, [\"name\"],\n",
    "        lambda s: s.replace(\"$BIOSAMPLE_NAME\", sample_name)\n",
    "    )\n",
    "    return doc"
   ]
  },
  {
   "cell_type": "code",
   "execution_count": null,
   "id": "08ece649",
   "metadata": {},
   "outputs": [],
   "source": [
    "def term_subdocs_to_id_strings(doc):\n",
    "    keys_with_term_ids = [\n",
    "        k for k in doc\n",
    "        if isinstance(doc[k], dict)\n",
    "        and \"term\" in doc[k]\n",
    "        and \"id\" in doc[k][\"term\"]\n",
    "    ]\n",
    "    for k in keys_with_term_ids:\n",
    "        doc = assoc_in(doc, [k, \"term\"], doc[k][\"term\"][\"id\"])\n",
    "    return doc"
   ]
  },
  {
   "cell_type": "code",
   "execution_count": null,
   "id": "56eb61f7",
   "metadata": {},
   "outputs": [],
   "source": [
    "new_samples = {}\n",
    "for o in omics:\n",
    "    if o[\"new\"]:\n",
    "        new_samples[o[\"sample_id\"]] = o[\"sample_name\"]\n",
    "\n",
    "docs = []\n",
    "\n",
    "for sample_id, sample_name in new_samples.items():\n",
    "    doc = fill_template(stegen_sample_template, sample_id, sample_name)\n",
    "    doc = term_subdocs_to_id_strings(doc)\n",
    "    docs.append(doc)"
   ]
  },
  {
   "cell_type": "code",
   "execution_count": null,
   "id": "e0613853",
   "metadata": {},
   "outputs": [],
   "source": [
    "from toolz import get_in, assoc_in\n",
    "\n",
    "def un_raw_value(doc, key):\n",
    "    value = get_in([key, \"has_raw_value\"], doc)\n",
    "    if value is not None:\n",
    "        return assoc_in(doc, [key], value)\n",
    "    else:\n",
    "        return doc\n",
    "\n",
    "raws = [\n",
    "    \"ecosystem\",\n",
    "    \"collection_date\",\n",
    "    \"community\",\n",
    "    \"ecosystem_category\",\n",
    "    \"ecosystem_subtype\",\n",
    "    \"ecosystem_type\",\n",
    "    \"geo_loc_name\",\n",
    "    \"habitat\",\n",
    "    \"identifier\",\n",
    "    \"location\",\n",
    "    \"ncbi_taxonomy_name\",\n",
    "    \"sample_collection_site\",\n",
    "    \"specific_ecosystem\",\n",
    "]\n",
    "for key in raws:\n",
    "    docs = [un_raw_value(d, key) for d in docs]"
   ]
  },
  {
   "cell_type": "code",
   "execution_count": null,
   "id": "6221cee5",
   "metadata": {},
   "outputs": [],
   "source": [
    "docs"
   ]
  },
  {
   "cell_type": "code",
   "execution_count": null,
   "id": "ab71814f",
   "metadata": {},
   "outputs": [],
   "source": [
    "from pymongo import ReplaceOne\n",
    "\n",
    "rv = db.biosample_set.bulk_write([ReplaceOne({\"id\": doc[\"id\"]}, doc, upsert=True) for doc in docs])"
   ]
  },
  {
   "cell_type": "code",
   "execution_count": null,
   "id": "b6ab73a4",
   "metadata": {},
   "outputs": [],
   "source": [
    "rv.upserted_count"
   ]
  },
  {
   "cell_type": "code",
   "execution_count": null,
   "id": "34cdb376",
   "metadata": {},
   "outputs": [],
   "source": [
    "omics = [\n",
    "    transform_in(o, [\"omics_id\"], lambda s: \"emsl:\"+s if \":\" not in s else s)\n",
    "    for o in omics\n",
    "]"
   ]
  },
  {
   "cell_type": "code",
   "execution_count": null,
   "id": "8939c84d",
   "metadata": {},
   "outputs": [],
   "source": [
    "omics_ids = [o[\"omics_id\"] for o in omics]\n",
    "\n",
    "found_omics_ids = [\n",
    "    d[\"id\"] for d in\n",
    "    db.omics_processing_set.find({\"id\": {\"$in\": omics_ids}},[\"id\"])\n",
    "]"
   ]
  },
  {
   "cell_type": "code",
   "execution_count": null,
   "id": "122da255",
   "metadata": {},
   "outputs": [],
   "source": [
    "assert set(omics_ids) == set(found_omics_ids)"
   ]
  },
  {
   "cell_type": "code",
   "execution_count": null,
   "id": "03511070",
   "metadata": {},
   "outputs": [],
   "source": [
    "omics_updates = {}\n",
    "for o in omics:\n",
    "    omics_updates[o[\"omics_id\"]] = o"
   ]
  },
  {
   "cell_type": "code",
   "execution_count": null,
   "id": "cb92c33d",
   "metadata": {},
   "outputs": [],
   "source": [
    "from toolz import dissoc\n",
    "\n",
    "replacing_omics_type = {}\n",
    "\n",
    "requests = []\n",
    "\n",
    "for doc in db.omics_processing_set.find({\"id\": {\"$in\": omics_ids}}):\n",
    "    omics_type = get_in([\"omics_type\"], doc)\n",
    "    updates = omics_updates[doc[\"id\"]]\n",
    "    if omics_type != updates[\"omics_type\"]:\n",
    "        replacing_omics_type[doc[\"id\"]] = {\"from\": omics_type, \"to\": updates[\"omics_type\"]}\n",
    "    doc = assoc_in(doc, [\"omics_type\"], updates[\"omics_type\"])\n",
    "    doc = assoc_in(doc, [\"has_input\"], [updates[\"sample_id\"]])\n",
    "    requests.append(ReplaceOne({\"id\": doc[\"id\"]}, dissoc(doc, \"_id\")))"
   ]
  },
  {
   "cell_type": "code",
   "execution_count": null,
   "id": "2f60ea81",
   "metadata": {},
   "outputs": [],
   "source": [
    "replacing_omics_type"
   ]
  },
  {
   "cell_type": "code",
   "execution_count": null,
   "id": "54c4dc8e",
   "metadata": {},
   "outputs": [],
   "source": [
    "len(requests)"
   ]
  },
  {
   "cell_type": "code",
   "execution_count": null,
   "id": "6862c377",
   "metadata": {},
   "outputs": [],
   "source": [
    "rv = db.omics_processing_set.bulk_write(requests)"
   ]
  },
  {
   "cell_type": "code",
   "execution_count": null,
   "id": "1170c3e3",
   "metadata": {},
   "outputs": [],
   "source": [
    "rv.modified_count"
   ]
  },
  {
   "cell_type": "code",
   "execution_count": null,
   "id": "62d34817",
   "metadata": {},
   "outputs": [],
   "source": [
    "rows = []\n",
    "with open(\"../src/data/2021-02-04-Brodie_biosample_linking_update - Sheet1.csv\") as f:\n",
    "    next(f) # skip header row\n",
    "    for row in f:\n",
    "        line = row.strip()\n",
    "        tokens = line.split(\",\")\n",
    "        if tokens[-1] == '':\n",
    "            rows.append(tokens[:-1])\n",
    "        else:\n",
    "            rows.append(tokens)"
   ]
  },
  {
   "cell_type": "code",
   "execution_count": null,
   "id": "3fc3e75f",
   "metadata": {},
   "outputs": [],
   "source": [
    "omics = []\n",
    "for i, row in enumerate(rows):\n",
    "    omics.append({\n",
    "        \"omics_id\": \"emsl:\" + row[0].strip(),\n",
    "        \"omics_type\": row[1].strip(),\n",
    "        \"sample_name\": row[2].strip(),\n",
    "        \"sample_id\": \"igsn:\" + row[3].strip(),\n",
    "    })"
   ]
  },
  {
   "cell_type": "code",
   "execution_count": null,
   "id": "e678f7fa",
   "metadata": {},
   "outputs": [],
   "source": [
    "omics_ids = [o[\"omics_id\"] for o in omics]\n",
    "\n",
    "found_omics_ids = [\n",
    "    d[\"id\"] for d in\n",
    "    db.omics_processing_set.find({\"id\": {\"$in\": omics_ids}},[\"id\"])\n",
    "]"
   ]
  },
  {
   "cell_type": "code",
   "execution_count": null,
   "id": "ac85df28",
   "metadata": {},
   "outputs": [],
   "source": [
    "assert set(omics_ids) == set(found_omics_ids)"
   ]
  },
  {
   "cell_type": "code",
   "execution_count": null,
   "id": "4105a92b",
   "metadata": {},
   "outputs": [],
   "source": [
    "omics_updates = {}\n",
    "for o in omics:\n",
    "    omics_updates[o[\"omics_id\"]] = o"
   ]
  },
  {
   "cell_type": "code",
   "execution_count": null,
   "id": "a7e22430",
   "metadata": {},
   "outputs": [],
   "source": [
    "replacing_omics_type = {}\n",
    "\n",
    "requests = []\n",
    "\n",
    "for doc in db.omics_processing_set.find({\"id\": {\"$in\": omics_ids}}):\n",
    "    omics_type = get_in([\"omics_type\"], doc)\n",
    "    updates = omics_updates[doc[\"id\"]]\n",
    "    if omics_type != updates[\"omics_type\"]:\n",
    "        replacing_omics_type[doc[\"id\"]] = {\"from\": omics_type, \"to\": updates[\"omics_type\"]}\n",
    "    doc = assoc_in(doc, [\"omics_type\"], updates[\"omics_type\"])\n",
    "    doc = assoc_in(doc, [\"has_input\"], [updates[\"sample_id\"]])\n",
    "    requests.append(ReplaceOne({\"id\": doc[\"id\"]}, dissoc(doc, \"_id\")))"
   ]
  },
  {
   "cell_type": "code",
   "execution_count": null,
   "id": "26d74af2",
   "metadata": {},
   "outputs": [],
   "source": [
    "replacing_omics_type"
   ]
  },
  {
   "cell_type": "code",
   "execution_count": null,
   "id": "8047ffa5",
   "metadata": {},
   "outputs": [],
   "source": [
    "len(requests)"
   ]
  },
  {
   "cell_type": "code",
   "execution_count": null,
   "id": "1142fb6a",
   "metadata": {},
   "outputs": [],
   "source": [
    "rv = db.omics_processing_set.bulk_write(requests)"
   ]
  },
  {
   "cell_type": "code",
   "execution_count": null,
   "id": "16095755",
   "metadata": {},
   "outputs": [],
   "source": [
    "rv.modified_count"
   ]
  },
  {
   "cell_type": "markdown",
   "id": "8a7eee60",
   "metadata": {},
   "source": [
    "Remove the 40 Wrighton EMSL omics_processing and data object documents that relate to isolates"
   ]
  },
  {
   "cell_type": "code",
   "execution_count": null,
   "id": "13b67561",
   "metadata": {},
   "outputs": [],
   "source": [
    "mfilter = {\n",
    "    \"part_of\": [\"gold:Gs0114675\"],\n",
    "    \"processing_institution\": \"Environmental Molecular Sciences Lab\"\n",
    "}\n",
    "\n",
    "db.omics_processing_set.count_documents(filter=mfilter)"
   ]
  },
  {
   "cell_type": "code",
   "execution_count": null,
   "id": "a9c1fabb",
   "metadata": {},
   "outputs": [],
   "source": [
    "from pymongo import DeleteMany\n",
    "from toolz import concat\n",
    "\n",
    "requests = []\n",
    "\n",
    "\n",
    "docs = list(db.omics_processing_set.find(mfilter, [\"id\", \"has_output\"]))\n",
    "omics_processing_ids = [d[\"id\"] for d in docs]\n",
    "data_object_ids = list(concat(d[\"has_output\"] for d in docs))\n",
    "\n",
    "assert len(omics_processing_ids) == db.data_object_set.count_documents({\"id\": {\"$in\": data_object_ids}})"
   ]
  },
  {
   "cell_type": "code",
   "execution_count": null,
   "id": "3a2dd214",
   "metadata": {},
   "outputs": [],
   "source": [
    "rv1 = db.omics_processing_set.delete_many({\"id\": {\"$in\": omics_processing_ids}})\n",
    "rv2 = db.data_object_set.delete_many({\"id\": {\"$in\": data_object_ids}})"
   ]
  },
  {
   "cell_type": "code",
   "execution_count": null,
   "id": "34c0c1ba",
   "metadata": {},
   "outputs": [],
   "source": [
    "rv1.deleted_count, rv2.deleted_count"
   ]
  },
  {
   "cell_type": "markdown",
   "id": "4c202252",
   "metadata": {},
   "source": [
    "add 5 Brodie samples used at EMSL but not JGI"
   ]
  },
  {
   "cell_type": "code",
   "execution_count": null,
   "id": "66f1d4a4",
   "metadata": {},
   "outputs": [],
   "source": [
    "biosamples = [\n",
    "   {\n",
    "      \"name\":\"Soil microbial communities from the East River watershed near Crested Butte, Colorado, United States - \",\n",
    "      \"description\":\"Soil microbial communities from the East River watershed near Crested Butte, Colorado, United States\",\n",
    "      \"lat_lon\":{\n",
    "         \"has_raw_value\":\"38.9206 -106.9489\",\n",
    "         \"latitude\":38.9206,\n",
    "         \"longitude\":-106.9489\n",
    "      },\n",
    "      \"geo_loc_name\":\"USA: Colorado\",\n",
    "      \"collection_date\":\"2017-05-09\",\n",
    "      \"env_broad_scale\":{\n",
    "         \"has_raw_value\":\"ENVO_00000446\",\n",
    "         \"type\":\"ControlledTermValue\"\n",
    "      },\n",
    "      \"env_local_scale\":{\n",
    "         \"has_raw_value\":\"ENVO_00000292\",\n",
    "         \"type\":\"ControlledTermValue\"\n",
    "      },\n",
    "      \"env_medium\":{\n",
    "         \"has_raw_value\":\"ENVO_00001998\",\n",
    "         \"type\":\"ControlledTermValue\"\n",
    "      },\n",
    "      \"ecosystem\":\"Environmental\",\n",
    "      \"ecosystem_category\":\"Terrestrial\",\n",
    "      \"ecosystem_type\":\"Soil\",\n",
    "      \"ecosystem_subtype\":\"Unclassified\",\n",
    "      \"specific_ecosystem\":\"Unclassified\",\n",
    "      \"depth\":15,\n",
    "      \"ncbi_taxonomy_name\":\"soil metagenome\",\n",
    "      \"community\":\"microbial communities\",\n",
    "      \"location\":\"The East River watershed near Crested Butte, Colorado, USA\",\n",
    "      \"habitat\":\"soil\",\n",
    "      \"sample_collection_site\":\"soil\",\n",
    "      \"add_date\":\"22-Jun-18 04.28.47.015000 PM\",\n",
    "      \"mod_date\":\"01-Oct-19 09.41.01.459000 AM\",\n",
    "      \"id\":\"igsn:IEWFS000I\",\n",
    "      \"identifier\":\"igsn:IEWFS000I\"\n",
    "   },\n",
    "   {\n",
    "      \"name\":\"Soil microbial communities from the East River watershed near Crested Butte, Colorado, United States - \",\n",
    "      \"description\":\"Soil microbial communities from the East River watershed near Crested Butte, Colorado, United States\",\n",
    "      \"lat_lon\":{\n",
    "         \"has_raw_value\":\"38.9206 -106.9489\",\n",
    "         \"latitude\":38.9206,\n",
    "         \"longitude\":-106.9489\n",
    "      },\n",
    "      \"geo_loc_name\":\"USA: Colorado\",\n",
    "      \"collection_date\":\"2017-05-09\",\n",
    "      \"env_broad_scale\":{\n",
    "         \"has_raw_value\":\"ENVO_00000446\",\n",
    "         \"type\":\"ControlledTermValue\"\n",
    "      },\n",
    "      \"env_local_scale\":{\n",
    "         \"has_raw_value\":\"ENVO_00000292\",\n",
    "         \"type\":\"ControlledTermValue\"\n",
    "      },\n",
    "      \"env_medium\":{\n",
    "         \"has_raw_value\":\"ENVO_00001998\",\n",
    "         \"type\":\"ControlledTermValue\"\n",
    "      },\n",
    "      \"ecosystem\":\"Environmental\",\n",
    "      \"ecosystem_category\":\"Terrestrial\",\n",
    "      \"ecosystem_type\":\"Soil\",\n",
    "      \"ecosystem_subtype\":\"Unclassified\",\n",
    "      \"specific_ecosystem\":\"Unclassified\",\n",
    "      \"depth\":15,\n",
    "      \"ncbi_taxonomy_name\":\"soil metagenome\",\n",
    "      \"community\":\"microbial communities\",\n",
    "      \"location\":\"The East River watershed near Crested Butte, Colorado, USA\",\n",
    "      \"habitat\":\"soil\",\n",
    "      \"sample_collection_site\":\"soil\",\n",
    "      \"add_date\":\"22-Jun-18 04.28.47.015000 PM\",\n",
    "      \"mod_date\":\"01-Oct-19 09.41.01.459000 AM\",\n",
    "      \"id\":\"igsn:IEWFS000K\",\n",
    "      \"identifier\":\"igsn:IEWFS000K\"\n",
    "   },\n",
    "   {\n",
    "      \"name\":\"Soil microbial communities from the East River watershed near Crested Butte, Colorado, United States - \",\n",
    "      \"description\":\"Soil microbial communities from the East River watershed near Crested Butte, Colorado, United States\",\n",
    "      \"lat_lon\":{\n",
    "         \"has_raw_value\":\"38.9206 -106.9489\",\n",
    "         \"latitude\":38.9206,\n",
    "         \"longitude\":-106.9489\n",
    "      },\n",
    "      \"geo_loc_name\":\"USA: Colorado\",\n",
    "      \"collection_date\":\"2017-05-09\",\n",
    "      \"env_broad_scale\":{\n",
    "         \"has_raw_value\":\"ENVO_00000446\",\n",
    "         \"type\":\"ControlledTermValue\"\n",
    "      },\n",
    "      \"env_local_scale\":{\n",
    "         \"has_raw_value\":\"ENVO_00000292\",\n",
    "         \"type\":\"ControlledTermValue\"\n",
    "      },\n",
    "      \"env_medium\":{\n",
    "         \"has_raw_value\":\"ENVO_00001998\",\n",
    "         \"type\":\"ControlledTermValue\"\n",
    "      },\n",
    "      \"ecosystem\":\"Environmental\",\n",
    "      \"ecosystem_category\":\"Terrestrial\",\n",
    "      \"ecosystem_type\":\"Soil\",\n",
    "      \"ecosystem_subtype\":\"Unclassified\",\n",
    "      \"specific_ecosystem\":\"Unclassified\",\n",
    "      \"depth\":15,\n",
    "      \"ncbi_taxonomy_name\":\"soil metagenome\",\n",
    "      \"community\":\"microbial communities\",\n",
    "      \"location\":\"The East River watershed near Crested Butte, Colorado, USA\",\n",
    "      \"habitat\":\"soil\",\n",
    "      \"sample_collection_site\":\"soil\",\n",
    "      \"add_date\":\"22-Jun-18 04.28.47.015000 PM\",\n",
    "      \"mod_date\":\"01-Oct-19 09.41.01.459000 AM\",\n",
    "      \"id\":\"igsn:IEWFS000B\",\n",
    "      \"identifier\":\"igsn:IEWFS000B\"\n",
    "   },\n",
    "   {\n",
    "      \"name\":\"Soil microbial communities from the East River watershed near Crested Butte, Colorado, United States - \",\n",
    "      \"description\":\"Soil microbial communities from the East River watershed near Crested Butte, Colorado, United States\",\n",
    "      \"lat_lon\":{\n",
    "         \"has_raw_value\":\"38.9206 -106.9489\",\n",
    "         \"latitude\":38.9206,\n",
    "         \"longitude\":-106.9489\n",
    "      },\n",
    "      \"geo_loc_name\":\"USA: Colorado\",\n",
    "      \"collection_date\":\"2017-05-09\",\n",
    "      \"env_broad_scale\":{\n",
    "         \"has_raw_value\":\"ENVO_00000446\",\n",
    "         \"type\":\"ControlledTermValue\"\n",
    "      },\n",
    "      \"env_local_scale\":{\n",
    "         \"has_raw_value\":\"ENVO_00000292\",\n",
    "         \"type\":\"ControlledTermValue\"\n",
    "      },\n",
    "      \"env_medium\":{\n",
    "         \"has_raw_value\":\"ENVO_00001998\",\n",
    "         \"type\":\"ControlledTermValue\"\n",
    "      },\n",
    "      \"ecosystem\":\"Environmental\",\n",
    "      \"ecosystem_category\":\"Terrestrial\",\n",
    "      \"ecosystem_type\":\"Soil\",\n",
    "      \"ecosystem_subtype\":\"Unclassified\",\n",
    "      \"specific_ecosystem\":\"Unclassified\",\n",
    "      \"depth\":15,\n",
    "      \"ncbi_taxonomy_name\":\"soil metagenome\",\n",
    "      \"community\":\"microbial communities\",\n",
    "      \"location\":\"The East River watershed near Crested Butte, Colorado, USA\",\n",
    "      \"habitat\":\"soil\",\n",
    "      \"sample_collection_site\":\"soil\",\n",
    "      \"add_date\":\"22-Jun-18 04.28.47.015000 PM\",\n",
    "      \"mod_date\":\"01-Oct-19 09.41.01.459000 AM\",\n",
    "      \"id\":\"igsn:IEWFS000A\",\n",
    "      \"identifier\":\"igsn:IEWFS000A\"\n",
    "   },\n",
    "   {\n",
    "      \"name\":\"Soil microbial communities from the East River watershed near Crested Butte, Colorado, United States - \",\n",
    "      \"description\":\"Soil microbial communities from the East River watershed near Crested Butte, Colorado, United States\",\n",
    "      \"lat_lon\":{\n",
    "         \"has_raw_value\":\"38.9206 -106.9489\",\n",
    "         \"latitude\":38.9206,\n",
    "         \"longitude\":-106.9489\n",
    "      },\n",
    "      \"geo_loc_name\":\"USA: Colorado\",\n",
    "      \"collection_date\":\"2017-05-09\",\n",
    "      \"env_broad_scale\":{\n",
    "         \"has_raw_value\":\"ENVO_00000446\",\n",
    "         \"type\":\"ControlledTermValue\"\n",
    "      },\n",
    "      \"env_local_scale\":{\n",
    "         \"has_raw_value\":\"ENVO_00000292\",\n",
    "         \"type\":\"ControlledTermValue\"\n",
    "      },\n",
    "      \"env_medium\":{\n",
    "         \"has_raw_value\":\"ENVO_00001998\",\n",
    "         \"type\":\"ControlledTermValue\"\n",
    "      },\n",
    "      \"ecosystem\":\"Environmental\",\n",
    "      \"ecosystem_category\":\"Terrestrial\",\n",
    "      \"ecosystem_type\":\"Soil\",\n",
    "      \"ecosystem_subtype\":\"Unclassified\",\n",
    "      \"specific_ecosystem\":\"Unclassified\",\n",
    "      \"depth\":15,\n",
    "      \"ncbi_taxonomy_name\":\"soil metagenome\",\n",
    "      \"community\":\"microbial communities\",\n",
    "      \"location\":\"The East River watershed near Crested Butte, Colorado, USA\",\n",
    "      \"habitat\":\"soil\",\n",
    "      \"sample_collection_site\":\"soil\",\n",
    "      \"add_date\":\"22-Jun-18 04.28.47.015000 PM\",\n",
    "      \"mod_date\":\"01-Oct-19 09.41.01.459000 AM\",\n",
    "      \"id\":\"igsn:IEWFS000J\",\n",
    "      \"identifier\":\"igsn:IEWFS000J\"\n",
    "   }\n",
    "]"
   ]
  },
  {
   "cell_type": "code",
   "execution_count": null,
   "id": "79459a51",
   "metadata": {},
   "outputs": [],
   "source": [
    "add_to_db(biosamples, db, collection_name=\"biosample_set\")"
   ]
  },
  {
   "cell_type": "code",
   "execution_count": null,
   "id": "fb862a47",
   "metadata": {},
   "outputs": [],
   "source": [
    "assert db.biosample_set.count_documents({\"id\": {\"$in\": [d[\"id\"] for d in biosamples]}}) == len(biosamples)"
   ]
  },
  {
   "cell_type": "code",
   "execution_count": null,
   "id": "678c8a7d",
   "metadata": {},
   "outputs": [],
   "source": []
  }
 ],
 "metadata": {
  "kernelspec": {
   "display_name": "Python (nmdc-runtime)",
   "language": "python",
   "name": "nmdc-runtime"
  },
  "language_info": {
   "codemirror_mode": {
    "name": "ipython",
    "version": 3
   },
   "file_extension": ".py",
   "mimetype": "text/x-python",
   "name": "python",
   "nbconvert_exporter": "python",
   "pygments_lexer": "ipython3",
   "version": "3.8.8"
  }
 },
 "nbformat": 4,
 "nbformat_minor": 5
}
