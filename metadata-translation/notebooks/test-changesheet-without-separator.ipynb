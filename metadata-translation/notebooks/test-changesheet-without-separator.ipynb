{
 "cells": [
  {
   "cell_type": "code",
   "execution_count": 1,
   "id": "5415bb54-0bac-4d64-a4b4-be2fa4b94824",
   "metadata": {},
   "outputs": [],
   "source": [
    "# append path info to access api\n",
    "import os, sys\n",
    "from git_root import git_root\n",
    "sys.path.append(os.path.abspath(git_root(\"nmdc_runtime/api/core\")))\n",
    "sys.path.append(os.path.abspath(git_root(\"nmdc_runtime/site\")))"
   ]
  },
  {
   "cell_type": "code",
   "execution_count": 2,
   "id": "a04dfc56-7eec-49fb-a593-571d78bcbb13",
   "metadata": {},
   "outputs": [],
   "source": [
    "import json\n",
    "import copy\n",
    "import pandas as pds\n",
    "from toolz.dicttoolz import assoc_in, merge\n",
    "from pprint import pprint\n",
    "from collections import namedtuple\n",
    "\n",
    "# from resources import MongoDB\n",
    "from pymongo import MongoClient\n",
    "from metadata import load_changesheet, update_mongo_db\n",
    "from linkml_runtime.utils.schemaview import SchemaView"
   ]
  },
  {
   "cell_type": "markdown",
   "id": "f8e21247-e412-441d-b608-3704b91e3a58",
   "metadata": {},
   "source": [
    "### load change sheet"
   ]
  },
  {
   "cell_type": "code",
   "execution_count": 3,
   "id": "1c15519c-81c2-4672-820b-f08bf6884a6f",
   "metadata": {},
   "outputs": [],
   "source": [
    "pds.set_option(\"display.max_columns\", None)\n",
    "pds.set_option('display.width', 1000)"
   ]
  },
  {
   "cell_type": "code",
   "execution_count": 4,
   "id": "7ed229bc-4d72-4101-af9d-d001b1af6329",
   "metadata": {
    "tags": []
   },
   "outputs": [
    {
     "data": {
      "text/html": [
       "<div>\n",
       "<style scoped>\n",
       "    .dataframe tbody tr th:only-of-type {\n",
       "        vertical-align: middle;\n",
       "    }\n",
       "\n",
       "    .dataframe tbody tr th {\n",
       "        vertical-align: top;\n",
       "    }\n",
       "\n",
       "    .dataframe thead th {\n",
       "        text-align: right;\n",
       "    }\n",
       "</style>\n",
       "<table border=\"1\" class=\"dataframe\">\n",
       "  <thead>\n",
       "    <tr style=\"text-align: right;\">\n",
       "      <th></th>\n",
       "      <th>id</th>\n",
       "      <th>action</th>\n",
       "      <th>attribute</th>\n",
       "      <th>value</th>\n",
       "      <th>group_id</th>\n",
       "      <th>group_var</th>\n",
       "      <th>path</th>\n",
       "    </tr>\n",
       "  </thead>\n",
       "  <tbody>\n",
       "    <tr>\n",
       "      <th>0</th>\n",
       "      <td>gold:Gs0110138</td>\n",
       "      <td>update</td>\n",
       "      <td>name</td>\n",
       "      <td>soil study</td>\n",
       "      <td>gold:Gs0110138</td>\n",
       "      <td></td>\n",
       "      <td>name</td>\n",
       "    </tr>\n",
       "    <tr>\n",
       "      <th>1</th>\n",
       "      <td></td>\n",
       "      <td>update</td>\n",
       "      <td>ecosystem</td>\n",
       "      <td>soil</td>\n",
       "      <td>gold:Gs0110138</td>\n",
       "      <td></td>\n",
       "      <td>ecosystem</td>\n",
       "    </tr>\n",
       "    <tr>\n",
       "      <th>2</th>\n",
       "      <td></td>\n",
       "      <td>update</td>\n",
       "      <td>doi</td>\n",
       "      <td>v1</td>\n",
       "      <td>gold:Gs0110138</td>\n",
       "      <td></td>\n",
       "      <td></td>\n",
       "    </tr>\n",
       "    <tr>\n",
       "      <th>3</th>\n",
       "      <td>v1</td>\n",
       "      <td>update</td>\n",
       "      <td>has_raw_value</td>\n",
       "      <td>10.9999/8888</td>\n",
       "      <td>gold:Gs0110138</td>\n",
       "      <td>v1</td>\n",
       "      <td>doi/has_raw_value</td>\n",
       "    </tr>\n",
       "    <tr>\n",
       "      <th>4</th>\n",
       "      <td></td>\n",
       "      <td>update</td>\n",
       "      <td>principal_investigator</td>\n",
       "      <td>v2</td>\n",
       "      <td>gold:Gs0110138</td>\n",
       "      <td></td>\n",
       "      <td></td>\n",
       "    </tr>\n",
       "    <tr>\n",
       "      <th>5</th>\n",
       "      <td>v2</td>\n",
       "      <td>update</td>\n",
       "      <td>name</td>\n",
       "      <td>v3</td>\n",
       "      <td>gold:Gs0110138</td>\n",
       "      <td>v2</td>\n",
       "      <td></td>\n",
       "    </tr>\n",
       "    <tr>\n",
       "      <th>6</th>\n",
       "      <td>v3</td>\n",
       "      <td>update</td>\n",
       "      <td>first</td>\n",
       "      <td>foo</td>\n",
       "      <td>gold:Gs0110138</td>\n",
       "      <td>v3</td>\n",
       "      <td>principal_investigator/name/first</td>\n",
       "    </tr>\n",
       "    <tr>\n",
       "      <th>7</th>\n",
       "      <td>v3</td>\n",
       "      <td>update</td>\n",
       "      <td>last</td>\n",
       "      <td>bar</td>\n",
       "      <td>gold:Gs0110138</td>\n",
       "      <td>v3</td>\n",
       "      <td>principal_investigator/name/last</td>\n",
       "    </tr>\n",
       "    <tr>\n",
       "      <th>8</th>\n",
       "      <td>v2</td>\n",
       "      <td>update</td>\n",
       "      <td>has_raw_value</td>\n",
       "      <td>foo bar</td>\n",
       "      <td>gold:Gs0110138</td>\n",
       "      <td>v2</td>\n",
       "      <td>principal_investigator/has_raw_value</td>\n",
       "    </tr>\n",
       "    <tr>\n",
       "      <th>9</th>\n",
       "      <td></td>\n",
       "      <td>update</td>\n",
       "      <td>description</td>\n",
       "      <td>short description</td>\n",
       "      <td>gold:Gs0110138</td>\n",
       "      <td></td>\n",
       "      <td>description</td>\n",
       "    </tr>\n",
       "  </tbody>\n",
       "</table>\n",
       "</div>"
      ],
      "text/plain": [
       "               id  action               attribute              value        group_id group_var                                  path\n",
       "0  gold:Gs0110138  update                    name         soil study  gold:Gs0110138                                            name\n",
       "1                  update               ecosystem               soil  gold:Gs0110138                                       ecosystem\n",
       "2                  update                     doi                 v1  gold:Gs0110138                                                \n",
       "3              v1  update           has_raw_value       10.9999/8888  gold:Gs0110138        v1                     doi/has_raw_value\n",
       "4                  update  principal_investigator                 v2  gold:Gs0110138                                                \n",
       "5              v2  update                    name                 v3  gold:Gs0110138        v2                                      \n",
       "6              v3  update                   first                foo  gold:Gs0110138        v3     principal_investigator/name/first\n",
       "7              v3  update                    last                bar  gold:Gs0110138        v3      principal_investigator/name/last\n",
       "8              v2  update           has_raw_value            foo bar  gold:Gs0110138        v2  principal_investigator/has_raw_value\n",
       "9                  update             description  short description  gold:Gs0110138                                     description"
      ]
     },
     "execution_count": 4,
     "metadata": {},
     "output_type": "execute_result"
    }
   ],
   "source": [
    "sheetDf = load_changesheet('data/changesheet-without-separator3.tsv')\n",
    "sheetDf"
   ]
  },
  {
   "cell_type": "markdown",
   "id": "30ebc70b-4772-4446-a6d9-dfe8d3be16ef",
   "metadata": {},
   "source": [
    "### update mongodb using change sheet"
   ]
  },
  {
   "cell_type": "code",
   "execution_count": 6,
   "id": "9776660e-6627-4967-b46e-1a5c8c4133d6",
   "metadata": {
    "tags": []
   },
   "outputs": [
    {
     "name": "stdout",
     "output_type": "stream",
     "text": [
      "{'_id': ObjectId('61258954a53f2364ac7723ef'), 'id': 'gold:Gs0110138', 'name': 'soil study', 'description': 'short description', 'ecosystem': 'soil', 'ecosystem_category': 'Aquatic', 'ecosystem_type': 'Freshwater', 'ecosystem_subtype': 'Wetlands', 'specific_ecosystem': 'Unclassified', 'principal_investigator': {'name': {'last': 'bar', 'first': 'foo'}, 'has_raw_value': 'foo bar'}, 'type': 'nmdc:Study', 'doi': {'has_raw_value': '10.9999/8888'}}\n"
     ]
    },
    {
     "data": {
      "text/plain": [
       "{'n': 7, 'nModified': 0, 'ok': 1.0}"
      ]
     },
     "execution_count": 6,
     "metadata": {},
     "output_type": "execute_result"
    }
   ],
   "source": [
    "update_mongo_db(sheetDf, print_update=True, print_data=False, print_query=False)"
   ]
  },
  {
   "cell_type": "code",
   "execution_count": null,
   "id": "e3d347e6-e756-4489-8f94-0dae7415e982",
   "metadata": {},
   "outputs": [],
   "source": []
  }
 ],
 "metadata": {
  "kernelspec": {
   "display_name": "Python 3 (ipykernel)",
   "language": "python",
   "name": "python3"
  },
  "language_info": {
   "codemirror_mode": {
    "name": "ipython",
    "version": 3
   },
   "file_extension": ".py",
   "mimetype": "text/x-python",
   "name": "python",
   "nbconvert_exporter": "python",
   "pygments_lexer": "ipython3",
   "version": "3.9.7"
  }
 },
 "nbformat": 4,
 "nbformat_minor": 5
}
