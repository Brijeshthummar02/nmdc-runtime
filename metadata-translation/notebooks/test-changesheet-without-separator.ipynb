{
 "cells": [
  {
   "cell_type": "code",
   "execution_count": 2,
   "id": "f6adce82",
   "metadata": {},
   "outputs": [],
   "source": [
    "# autoreload modules\n",
    "%load_ext autoreload\n",
    "%autoreload 2"
   ]
  },
  {
   "cell_type": "code",
   "execution_count": 73,
   "id": "a04dfc56-7eec-49fb-a593-571d78bcbb13",
   "metadata": {},
   "outputs": [],
   "source": [
    "import json\n",
    "import copy\n",
    "import pandas as pd\n",
    "from toolz.dicttoolz import assoc_in, merge, dissoc\n",
    "from dotenv import dotenv_values\n",
    "from pymongo import MongoClient\n",
    "from pymongo.database import Database as MongoDatabase\n",
    "from nmdc_runtime.api.core.metadata import load_changesheet, update_mongo_db"
   ]
  },
  {
   "cell_type": "markdown",
   "id": "30be0a13",
   "metadata": {},
   "source": [
    "### load mongodb via env info"
   ]
  },
  {
   "cell_type": "code",
   "execution_count": 17,
   "id": "c4208227",
   "metadata": {},
   "outputs": [
    {
     "data": {
      "text/plain": [
       "'mongodb://localhost:27018'"
      ]
     },
     "execution_count": 17,
     "metadata": {},
     "output_type": "execute_result"
    }
   ],
   "source": [
    "config = dotenv_values(\"../../.env.localhost\")\n",
    "config[\"MONGO_HOST\"]"
   ]
  },
  {
   "cell_type": "code",
   "execution_count": 18,
   "id": "ae247da1-ec7e-4fe2-b713-d0a4e97e6a45",
   "metadata": {},
   "outputs": [],
   "source": [
    "client = MongoClient(host=config[\"MONGO_HOST\"], username=config[\"MONGO_USERNAME\"], password=config[\"MONGO_PASSWORD\"])\n",
    "mongodb = client[\"nmdc_etl_staging\"]"
   ]
  },
  {
   "cell_type": "markdown",
   "id": "c97d66c0-1aff-4fe3-abd8-5161787ea682",
   "metadata": {},
   "source": [
    "### creat temp database and temp_set collection for testing"
   ]
  },
  {
   "cell_type": "code",
   "execution_count": 125,
   "id": "91c95437-00fe-40a2-94a8-2210a27a1741",
   "metadata": {},
   "outputs": [
    {
     "data": {
      "text/plain": [
       "<pymongo.results.InsertOneResult at 0x129eccd40>"
      ]
     },
     "execution_count": 125,
     "metadata": {},
     "output_type": "execute_result"
    }
   ],
   "source": [
    "if \"temp_db\" in client.list_database_names():\n",
    "    client.drop_database(\"temp_db\")\n",
    "\n",
    "# create temp db with a dummy doc\n",
    "temp_db = client[\"temp_db\"]\n",
    "temp_set = tempdb[\"temp_set\"]\n",
    "temp_set.insert_one({\"id\": 1, \"value\": \"test\"})"
   ]
  },
  {
   "cell_type": "markdown",
   "id": "a91901ba-be06-4ad7-a7ef-ea614167a8d9",
   "metadata": {
    "tags": []
   },
   "source": [
    "### function to copy change documents to temp db"
   ]
  },
  {
   "cell_type": "code",
   "execution_count": 126,
   "id": "09f5b8d0-db92-4262-9687-fe52f7882a2d",
   "metadata": {},
   "outputs": [],
   "source": [
    "def copy_change_sheet_to_temp_db(changeDf: pd.DataFrame, mongodb: MongoDatabase, temp_db: MongoDatabase):\n",
    "    # remove dups\n",
    "    df = changeDf[[\"group_id\", \"collection_name\"]].drop_duplicates()\n",
    "    for ix, id_val, collection_name in df.itertuples():\n",
    "        # check if doc exists in temp db\n",
    "        check_doc = temp_db[collection_name].find_one({\"id\": id_val}), \"_id\"\n",
    "        if check_doc is not None:\n",
    "            doc = dissoc(mongodb[collection_name].find_one({\"id\": id_val}), \"_id\")\n",
    "            temp_db[collection_name].insert_one(doc)"
   ]
  },
  {
   "cell_type": "markdown",
   "id": "f8e21247-e412-441d-b608-3704b91e3a58",
   "metadata": {},
   "source": [
    "### load change sheet and copy data to temp db"
   ]
  },
  {
   "cell_type": "code",
   "execution_count": 127,
   "id": "1c15519c-81c2-4672-820b-f08bf6884a6f",
   "metadata": {},
   "outputs": [],
   "source": [
    "pd.set_option(\"display.max_columns\", None)\n",
    "pd.set_option('display.width', 1000)"
   ]
  },
  {
   "cell_type": "code",
   "execution_count": 128,
   "id": "33b2995a",
   "metadata": {
    "jupyter": {
     "source_hidden": true
    },
    "tags": []
   },
   "outputs": [],
   "source": [
    "# uncomment to see original change sheet\n",
    "# pd.read_csv(\"data/changesheet-without-separator3.tsv\", sep=\"\\t\", dtype=\"string\").fillna('')"
   ]
  },
  {
   "cell_type": "code",
   "execution_count": 129,
   "id": "7ed229bc-4d72-4101-af9d-d001b1af6329",
   "metadata": {
    "tags": []
   },
   "outputs": [
    {
     "data": {
      "text/html": [
       "<div>\n",
       "<style scoped>\n",
       "    .dataframe tbody tr th:only-of-type {\n",
       "        vertical-align: middle;\n",
       "    }\n",
       "\n",
       "    .dataframe tbody tr th {\n",
       "        vertical-align: top;\n",
       "    }\n",
       "\n",
       "    .dataframe thead th {\n",
       "        text-align: right;\n",
       "    }\n",
       "</style>\n",
       "<table border=\"1\" class=\"dataframe\">\n",
       "  <thead>\n",
       "    <tr style=\"text-align: right;\">\n",
       "      <th></th>\n",
       "      <th>id</th>\n",
       "      <th>action</th>\n",
       "      <th>attribute</th>\n",
       "      <th>value</th>\n",
       "      <th>group_id</th>\n",
       "      <th>group_var</th>\n",
       "      <th>path</th>\n",
       "      <th>collection_name</th>\n",
       "      <th>class_name</th>\n",
       "      <th>prop_depth</th>\n",
       "      <th>prop_range</th>\n",
       "      <th>item_type</th>\n",
       "    </tr>\n",
       "  </thead>\n",
       "  <tbody>\n",
       "    <tr>\n",
       "      <th>0</th>\n",
       "      <td>gold:Gs0110138</td>\n",
       "      <td>update</td>\n",
       "      <td>name</td>\n",
       "      <td>NEW STUDY NAME</td>\n",
       "      <td>gold:Gs0110138</td>\n",
       "      <td></td>\n",
       "      <td>name</td>\n",
       "      <td>test.study_set</td>\n",
       "      <td>Study</td>\n",
       "      <td>1</td>\n",
       "      <td>string</td>\n",
       "      <td></td>\n",
       "    </tr>\n",
       "    <tr>\n",
       "      <th>1</th>\n",
       "      <td></td>\n",
       "      <td>update</td>\n",
       "      <td>ecosystem</td>\n",
       "      <td>NEW ECOSYSTEM</td>\n",
       "      <td>gold:Gs0110138</td>\n",
       "      <td></td>\n",
       "      <td>ecosystem</td>\n",
       "      <td>test.study_set</td>\n",
       "      <td>Study</td>\n",
       "      <td>1</td>\n",
       "      <td>string</td>\n",
       "      <td></td>\n",
       "    </tr>\n",
       "    <tr>\n",
       "      <th>2</th>\n",
       "      <td></td>\n",
       "      <td>update</td>\n",
       "      <td>ecosystem_type</td>\n",
       "      <td>NEW ECOSYSTEM_TYPE</td>\n",
       "      <td>gold:Gs0110138</td>\n",
       "      <td></td>\n",
       "      <td>ecosystem_type</td>\n",
       "      <td>test.study_set</td>\n",
       "      <td>Study</td>\n",
       "      <td>1</td>\n",
       "      <td>string</td>\n",
       "      <td></td>\n",
       "    </tr>\n",
       "    <tr>\n",
       "      <th>3</th>\n",
       "      <td></td>\n",
       "      <td>update</td>\n",
       "      <td>ecosystem_subtype</td>\n",
       "      <td>NEW ECOSYSTEM_SUBTYPE</td>\n",
       "      <td>gold:Gs0110138</td>\n",
       "      <td></td>\n",
       "      <td>ecosystem_subtype</td>\n",
       "      <td>test.study_set</td>\n",
       "      <td>Study</td>\n",
       "      <td>1</td>\n",
       "      <td>string</td>\n",
       "      <td></td>\n",
       "    </tr>\n",
       "    <tr>\n",
       "      <th>4</th>\n",
       "      <td></td>\n",
       "      <td>update</td>\n",
       "      <td>doi</td>\n",
       "      <td>v1</td>\n",
       "      <td>gold:Gs0110138</td>\n",
       "      <td>v1</td>\n",
       "      <td></td>\n",
       "      <td>test.study_set</td>\n",
       "      <td>Study</td>\n",
       "      <td></td>\n",
       "      <td></td>\n",
       "      <td></td>\n",
       "    </tr>\n",
       "    <tr>\n",
       "      <th>5</th>\n",
       "      <td>v1</td>\n",
       "      <td>update</td>\n",
       "      <td>has_raw_value</td>\n",
       "      <td>NEW DOI</td>\n",
       "      <td>gold:Gs0110138</td>\n",
       "      <td>v1</td>\n",
       "      <td>doi.has_raw_value</td>\n",
       "      <td>test.study_set</td>\n",
       "      <td>Study</td>\n",
       "      <td>2</td>\n",
       "      <td>object:AttributeValue</td>\n",
       "      <td></td>\n",
       "    </tr>\n",
       "    <tr>\n",
       "      <th>6</th>\n",
       "      <td></td>\n",
       "      <td>update</td>\n",
       "      <td>principal_investigator</td>\n",
       "      <td>v2</td>\n",
       "      <td>gold:Gs0110138</td>\n",
       "      <td>v2</td>\n",
       "      <td></td>\n",
       "      <td>test.study_set</td>\n",
       "      <td>Study</td>\n",
       "      <td></td>\n",
       "      <td></td>\n",
       "      <td></td>\n",
       "    </tr>\n",
       "    <tr>\n",
       "      <th>7</th>\n",
       "      <td>v2</td>\n",
       "      <td>update</td>\n",
       "      <td>name</td>\n",
       "      <td>NEW PI NAME</td>\n",
       "      <td>gold:Gs0110138</td>\n",
       "      <td>v2</td>\n",
       "      <td>principal_investigator.name</td>\n",
       "      <td>test.study_set</td>\n",
       "      <td>Study</td>\n",
       "      <td>2</td>\n",
       "      <td>object:PersonValue</td>\n",
       "      <td></td>\n",
       "    </tr>\n",
       "    <tr>\n",
       "      <th>8</th>\n",
       "      <td>v2</td>\n",
       "      <td>update</td>\n",
       "      <td>has_raw_value</td>\n",
       "      <td>NEW RAW NAME</td>\n",
       "      <td>gold:Gs0110138</td>\n",
       "      <td>v2</td>\n",
       "      <td>principal_investigator.has_raw_value</td>\n",
       "      <td>test.study_set</td>\n",
       "      <td>Study</td>\n",
       "      <td>2</td>\n",
       "      <td>object:PersonValue</td>\n",
       "      <td></td>\n",
       "    </tr>\n",
       "    <tr>\n",
       "      <th>9</th>\n",
       "      <td></td>\n",
       "      <td>update</td>\n",
       "      <td>description</td>\n",
       "      <td>NEW DESCRIPTION</td>\n",
       "      <td>gold:Gs0110138</td>\n",
       "      <td></td>\n",
       "      <td>description</td>\n",
       "      <td>test.study_set</td>\n",
       "      <td>Study</td>\n",
       "      <td>1</td>\n",
       "      <td>string</td>\n",
       "      <td></td>\n",
       "    </tr>\n",
       "    <tr>\n",
       "      <th>10</th>\n",
       "      <td></td>\n",
       "      <td>update</td>\n",
       "      <td>websites</td>\n",
       "      <td>HTTP://TEST1.EXAMPLE.COM</td>\n",
       "      <td>gold:Gs0110138</td>\n",
       "      <td></td>\n",
       "      <td>websites</td>\n",
       "      <td>test.study_set</td>\n",
       "      <td>Study</td>\n",
       "      <td>1</td>\n",
       "      <td>array</td>\n",
       "      <td>string</td>\n",
       "    </tr>\n",
       "    <tr>\n",
       "      <th>11</th>\n",
       "      <td></td>\n",
       "      <td>update</td>\n",
       "      <td>websites</td>\n",
       "      <td>HTTP://TEST2.EXAMPLE.COM</td>\n",
       "      <td>gold:Gs0110138</td>\n",
       "      <td></td>\n",
       "      <td>websites</td>\n",
       "      <td>test.study_set</td>\n",
       "      <td>Study</td>\n",
       "      <td>1</td>\n",
       "      <td>array</td>\n",
       "      <td>string</td>\n",
       "    </tr>\n",
       "    <tr>\n",
       "      <th>12</th>\n",
       "      <td></td>\n",
       "      <td>update</td>\n",
       "      <td>has_credit_associations</td>\n",
       "      <td>v3</td>\n",
       "      <td>gold:Gs0110138</td>\n",
       "      <td>v3</td>\n",
       "      <td></td>\n",
       "      <td>test.study_set</td>\n",
       "      <td>Study</td>\n",
       "      <td></td>\n",
       "      <td></td>\n",
       "      <td></td>\n",
       "    </tr>\n",
       "    <tr>\n",
       "      <th>13</th>\n",
       "      <td>v3</td>\n",
       "      <td>update</td>\n",
       "      <td>applied_role</td>\n",
       "      <td>NEW CO-INVESTIGATOR</td>\n",
       "      <td>gold:Gs0110138</td>\n",
       "      <td>v3</td>\n",
       "      <td>has_credit_associations.applied_role</td>\n",
       "      <td>test.study_set</td>\n",
       "      <td>Study</td>\n",
       "      <td>2</td>\n",
       "      <td>array</td>\n",
       "      <td>object:CreditAssociation</td>\n",
       "    </tr>\n",
       "    <tr>\n",
       "      <th>14</th>\n",
       "      <td>v3</td>\n",
       "      <td>update</td>\n",
       "      <td>applies_to_person.name</td>\n",
       "      <td>NEW CO-INVESTIGATOR NAME</td>\n",
       "      <td>gold:Gs0110138</td>\n",
       "      <td>v3</td>\n",
       "      <td>has_credit_associations.applies_to_person.name</td>\n",
       "      <td>test.study_set</td>\n",
       "      <td>Study</td>\n",
       "      <td>3</td>\n",
       "      <td>array</td>\n",
       "      <td>object:CreditAssociation</td>\n",
       "    </tr>\n",
       "    <tr>\n",
       "      <th>15</th>\n",
       "      <td></td>\n",
       "      <td>update</td>\n",
       "      <td>has_credit_associations</td>\n",
       "      <td>v4</td>\n",
       "      <td>gold:Gs0110138</td>\n",
       "      <td>v4</td>\n",
       "      <td></td>\n",
       "      <td>test.study_set</td>\n",
       "      <td>Study</td>\n",
       "      <td></td>\n",
       "      <td></td>\n",
       "      <td></td>\n",
       "    </tr>\n",
       "    <tr>\n",
       "      <th>16</th>\n",
       "      <td>v4</td>\n",
       "      <td>update</td>\n",
       "      <td>applied_role</td>\n",
       "      <td>NEW CURATOR</td>\n",
       "      <td>gold:Gs0110138</td>\n",
       "      <td>v4</td>\n",
       "      <td>has_credit_associations.applied_role</td>\n",
       "      <td>test.study_set</td>\n",
       "      <td>Study</td>\n",
       "      <td>2</td>\n",
       "      <td>array</td>\n",
       "      <td>object:CreditAssociation</td>\n",
       "    </tr>\n",
       "    <tr>\n",
       "      <th>17</th>\n",
       "      <td>v4</td>\n",
       "      <td>update</td>\n",
       "      <td>applies_to_person.name</td>\n",
       "      <td>NEW CURATOR NAME</td>\n",
       "      <td>gold:Gs0110138</td>\n",
       "      <td>v4</td>\n",
       "      <td>has_credit_associations.applies_to_person.name</td>\n",
       "      <td>test.study_set</td>\n",
       "      <td>Study</td>\n",
       "      <td>3</td>\n",
       "      <td>array</td>\n",
       "      <td>object:CreditAssociation</td>\n",
       "    </tr>\n",
       "  </tbody>\n",
       "</table>\n",
       "</div>"
      ],
      "text/plain": [
       "                id  action                attribute                     value        group_id group_var                                            path collection_name class_name prop_depth             prop_range                 item_type\n",
       "0   gold:Gs0110138  update                     name            NEW STUDY NAME  gold:Gs0110138                                                      name  test.study_set      Study          1                 string                          \n",
       "1                   update                ecosystem             NEW ECOSYSTEM  gold:Gs0110138                                                 ecosystem  test.study_set      Study          1                 string                          \n",
       "2                   update           ecosystem_type        NEW ECOSYSTEM_TYPE  gold:Gs0110138                                            ecosystem_type  test.study_set      Study          1                 string                          \n",
       "3                   update        ecosystem_subtype     NEW ECOSYSTEM_SUBTYPE  gold:Gs0110138                                         ecosystem_subtype  test.study_set      Study          1                 string                          \n",
       "4                   update                      doi                        v1  gold:Gs0110138        v1                                                  test.study_set      Study                                                            \n",
       "5               v1  update            has_raw_value                   NEW DOI  gold:Gs0110138        v1                               doi.has_raw_value  test.study_set      Study          2  object:AttributeValue                          \n",
       "6                   update   principal_investigator                        v2  gold:Gs0110138        v2                                                  test.study_set      Study                                                            \n",
       "7               v2  update                     name               NEW PI NAME  gold:Gs0110138        v2                     principal_investigator.name  test.study_set      Study          2     object:PersonValue                          \n",
       "8               v2  update            has_raw_value              NEW RAW NAME  gold:Gs0110138        v2            principal_investigator.has_raw_value  test.study_set      Study          2     object:PersonValue                          \n",
       "9                   update              description           NEW DESCRIPTION  gold:Gs0110138                                               description  test.study_set      Study          1                 string                          \n",
       "10                  update                 websites  HTTP://TEST1.EXAMPLE.COM  gold:Gs0110138                                                  websites  test.study_set      Study          1                  array                    string\n",
       "11                  update                 websites  HTTP://TEST2.EXAMPLE.COM  gold:Gs0110138                                                  websites  test.study_set      Study          1                  array                    string\n",
       "12                  update  has_credit_associations                        v3  gold:Gs0110138        v3                                                  test.study_set      Study                                                            \n",
       "13              v3  update             applied_role       NEW CO-INVESTIGATOR  gold:Gs0110138        v3            has_credit_associations.applied_role  test.study_set      Study          2                  array  object:CreditAssociation\n",
       "14              v3  update   applies_to_person.name  NEW CO-INVESTIGATOR NAME  gold:Gs0110138        v3  has_credit_associations.applies_to_person.name  test.study_set      Study          3                  array  object:CreditAssociation\n",
       "15                  update  has_credit_associations                        v4  gold:Gs0110138        v4                                                  test.study_set      Study                                                            \n",
       "16              v4  update             applied_role               NEW CURATOR  gold:Gs0110138        v4            has_credit_associations.applied_role  test.study_set      Study          2                  array  object:CreditAssociation\n",
       "17              v4  update   applies_to_person.name          NEW CURATOR NAME  gold:Gs0110138        v4  has_credit_associations.applies_to_person.name  test.study_set      Study          3                  array  object:CreditAssociation"
      ]
     },
     "execution_count": 129,
     "metadata": {},
     "output_type": "execute_result"
    }
   ],
   "source": [
    "sheetDf = load_changesheet('data/changesheet-without-separator3.tsv', mongodb)\n",
    "copy_change_sheet_to_temp_db(sheetDf, mongodb, temp_db)\n",
    "sheetDf"
   ]
  },
  {
   "cell_type": "markdown",
   "id": "c3757667",
   "metadata": {
    "tags": []
   },
   "source": [
    "### update mongodb using change sheet"
   ]
  },
  {
   "cell_type": "code",
   "execution_count": 130,
   "id": "a2f51193",
   "metadata": {
    "scrolled": true,
    "tags": []
   },
   "outputs": [
    {
     "data": {
      "text/plain": [
       "{'n': 12, 'nModified': 12, 'ok': 1.0}"
      ]
     },
     "execution_count": 130,
     "metadata": {},
     "output_type": "execute_result"
    }
   ],
   "source": [
    "update_mongo_db(sheetDf, temp_db, print_update=False, print_data=False, print_query=False)"
   ]
  },
  {
   "cell_type": "code",
   "execution_count": null,
   "id": "5608e19c-46f1-4aea-b3b5-1356b85ce6d7",
   "metadata": {},
   "outputs": [],
   "source": []
  }
 ],
 "metadata": {
  "kernelspec": {
   "display_name": "Python 3 (ipykernel)",
   "language": "python",
   "name": "python3"
  },
  "language_info": {
   "codemirror_mode": {
    "name": "ipython",
    "version": 3
   },
   "file_extension": ".py",
   "mimetype": "text/x-python",
   "name": "python",
   "nbconvert_exporter": "python",
   "pygments_lexer": "ipython3",
   "version": "3.9.7"
  }
 },
 "nbformat": 4,
 "nbformat_minor": 5
}
