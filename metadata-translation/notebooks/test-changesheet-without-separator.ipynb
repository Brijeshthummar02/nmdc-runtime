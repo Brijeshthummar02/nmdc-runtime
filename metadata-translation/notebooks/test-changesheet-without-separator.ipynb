{
 "cells": [
  {
   "cell_type": "code",
   "execution_count": null,
   "id": "5415bb54-0bac-4d64-a4b4-be2fa4b94824",
   "metadata": {},
   "outputs": [],
   "source": [
    "# append path info to access api\n",
    "import os, sys\n",
    "#from git_root import git_root\n",
    "#sys.path.append(os.path.abspath(git_root(\"nmdc_runtime/api/core\")))\n",
    "#sys.path.append(os.path.abspath(git_root(\"nmdc_runtime/site\")))"
   ]
  },
  {
   "cell_type": "code",
   "execution_count": null,
   "id": "f6adce82",
   "metadata": {},
   "outputs": [],
   "source": [
    "%load_ext autoreload\n",
    "%autoreload 2"
   ]
  },
  {
   "cell_type": "code",
   "execution_count": null,
   "id": "a04dfc56-7eec-49fb-a593-571d78bcbb13",
   "metadata": {},
   "outputs": [],
   "source": [
    "import json\n",
    "import copy\n",
    "import pandas as pd\n",
    "from toolz.dicttoolz import assoc_in, merge\n",
    "from pprint import pprint\n",
    "from collections import namedtuple\n",
    "\n",
    "# from resources import MongoDB\n",
    "from pymongo import MongoClient\n",
    "from nmdc_runtime.api.core.metadata import load_changesheet, update_mongo_db\n",
    "from linkml_runtime.utils.schemaview import SchemaView"
   ]
  },
  {
   "cell_type": "markdown",
   "id": "30be0a13",
   "metadata": {},
   "source": [
    "### load mongo via env"
   ]
  },
  {
   "cell_type": "code",
   "execution_count": null,
   "id": "c4208227",
   "metadata": {},
   "outputs": [],
   "source": [
    "from dotenv import load_dotenv\n",
    "\n",
    "load_dotenv(\"../../.env.localhost\")"
   ]
  },
  {
   "cell_type": "code",
   "execution_count": null,
   "id": "787d9625",
   "metadata": {},
   "outputs": [],
   "source": [
    "import warnings\n",
    "\n",
    "import dagster\n",
    "\n",
    "warnings.filterwarnings(\"ignore\", category=dagster.ExperimentalWarning)"
   ]
  },
  {
   "cell_type": "code",
   "execution_count": null,
   "id": "41f69dfc",
   "metadata": {},
   "outputs": [],
   "source": [
    "from nmdc_runtime.site.repository import run_config_frozen__normal_env\n",
    "from nmdc_runtime.site.resources import get_mongo\n",
    "\n",
    "\n",
    "mongo_via_env = get_mongo(run_config_frozen__normal_env)"
   ]
  },
  {
   "cell_type": "markdown",
   "id": "f8e21247-e412-441d-b608-3704b91e3a58",
   "metadata": {},
   "source": [
    "### load change sheet"
   ]
  },
  {
   "cell_type": "code",
   "execution_count": null,
   "id": "1c15519c-81c2-4672-820b-f08bf6884a6f",
   "metadata": {},
   "outputs": [],
   "source": [
    "pd.set_option(\"display.max_columns\", None)\n",
    "pd.set_option('display.width', 1000)"
   ]
  },
  {
   "cell_type": "code",
   "execution_count": null,
   "id": "33b2995a",
   "metadata": {},
   "outputs": [],
   "source": [
    "pd.read_csv(\"data/changesheet-without-separator3.tsv\", sep=\"\\t\")"
   ]
  },
  {
   "cell_type": "code",
   "execution_count": null,
   "id": "7ed229bc-4d72-4101-af9d-d001b1af6329",
   "metadata": {
    "tags": []
   },
   "outputs": [],
   "source": [
    "sheetDf = load_changesheet('data/changesheet-without-separator3.tsv')\n",
    "sheetDf"
   ]
  },
  {
   "cell_type": "markdown",
   "id": "0305e09f",
   "metadata": {},
   "source": [
    "### ensure indexes on mongodb collections"
   ]
  },
  {
   "cell_type": "code",
   "execution_count": null,
   "id": "5a68ee68",
   "metadata": {},
   "outputs": [],
   "source": [
    "from nmdc_runtime.util import nmdc_jsonschema, nmdc_jsonschema_validate\n",
    "\n",
    "collection_names = {\n",
    "    name for name, spec in nmdc_jsonschema[\"properties\"].items()\n",
    "    if name.endswith(\"_set\")\n",
    "}"
   ]
  },
  {
   "cell_type": "code",
   "execution_count": null,
   "id": "e3d347e6-e756-4489-8f94-0dae7415e982",
   "metadata": {},
   "outputs": [],
   "source": [
    "df_change = sheetDf\n",
    "\n",
    "\n",
    "client = MongoClient(\n",
    "    host=\"localhost\",\n",
    "    port=27018,\n",
    "    username=\"admin\",\n",
    "    password=\"root\",\n",
    ")\n",
    "mongodb = client[\"nmdc_etl_staging\"]\n",
    "\n",
    "for name in collection_names:\n",
    "    mongodb[name].create_index(\"id\", unique=True)\n",
    "\n",
    "def make_id_to_collection_dict(mongodb) -> dict:\n",
    "    collection_names = [\n",
    "        name for name in mongodb.list_collection_names() if name.endswith(\"_set\")\n",
    "    ]\n",
    "    id_dict = {\n",
    "        name: set(mongodb[name].distinct(\"id\"))\n",
    "        for name in collection_names\n",
    "        if \"id_1\" in mongodb[name].index_information()\n",
    "    }\n",
    "    return id_dict\n",
    "\n",
    "# create a dict between collections names and ids\n",
    "id_dict = make_id_to_collection_dict(mongodb)\n",
    "\n",
    "id_group = df_change.groupby(\"group_id\")\n",
    "\n",
    "def get_collection_for_id(id_val, id_map):\n",
    "    for collection_name in id_map:\n",
    "        if id_val in id_map[collection_name]:\n",
    "            return collection_name\n",
    "    return None\n",
    "\n",
    "updates = []  # list of dicts\n",
    "for ig in id_group:\n",
    "    # ig[0] -> id of the data\n",
    "    # ig[1] -> dataframe with rows with the id\n",
    "\n",
    "    #         schema = try_fetching_schema_for_id(ig[0])\n",
    "    collection_name = get_collection_for_id(ig[0], id_dict)"
   ]
  },
  {
   "cell_type": "code",
   "execution_count": null,
   "id": "33eba609",
   "metadata": {},
   "outputs": [],
   "source": [
    "from toolz import dissoc\n",
    "\n",
    "study_docs = [dissoc(d, \"_id\") for d in mongo_via_env.db.study_set.find()]\n",
    "\n",
    "_ = nmdc_jsonschema_validate({\"study_set\": study_docs})\n",
    "\n",
    "mongodb.study_set.drop()\n",
    "mongodb.study_set.insert_many(study_docs)\n",
    "\n",
    "for name in collection_names:\n",
    "    mongodb[name].create_index(\"id\", unique=True)"
   ]
  },
  {
   "cell_type": "markdown",
   "id": "c3757667",
   "metadata": {},
   "source": [
    "### update mongodb using change sheet"
   ]
  },
  {
   "cell_type": "code",
   "execution_count": null,
   "id": "a2f51193",
   "metadata": {
    "scrolled": true,
    "tags": []
   },
   "outputs": [],
   "source": [
    "update_mongo_db(sheetDf, print_update=True, print_data=True, print_query=True)"
   ]
  },
  {
   "cell_type": "code",
   "execution_count": null,
   "id": "d05a8227",
   "metadata": {},
   "outputs": [],
   "source": []
  }
 ],
 "metadata": {
  "kernelspec": {
   "display_name": "Python (nmdc-runtime)",
   "language": "python",
   "name": "nmdc-runtime"
  },
  "language_info": {
   "codemirror_mode": {
    "name": "ipython",
    "version": 3
   },
   "file_extension": ".py",
   "mimetype": "text/x-python",
   "name": "python",
   "nbconvert_exporter": "python",
   "pygments_lexer": "ipython3",
   "version": "3.8.8"
  }
 },
 "nbformat": 4,
 "nbformat_minor": 5
}
