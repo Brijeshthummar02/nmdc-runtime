{
 "cells": [
  {
   "cell_type": "code",
   "execution_count": 236,
   "id": "f6adce82",
   "metadata": {},
   "outputs": [],
   "source": [
    "# autoreload modules; useful for testing\n",
    "# %load_ext autoreload\n",
    "# %autoreload 2"
   ]
  },
  {
   "cell_type": "code",
   "execution_count": 134,
   "id": "a04dfc56-7eec-49fb-a593-571d78bcbb13",
   "metadata": {},
   "outputs": [],
   "source": [
    "import json\n",
    "import copy\n",
    "import pandas as pd\n",
    "from toolz.dicttoolz import assoc_in, merge, dissoc\n",
    "from dotenv import dotenv_values\n",
    "from pymongo import MongoClient\n",
    "from pymongo.database import Database as MongoDatabase\n",
    "from nmdc_runtime.api.core.metadata import load_changesheet, update_mongo_db, mongo_update_command_for, copy_docs_in_update_cmd"
   ]
  },
  {
   "cell_type": "markdown",
   "id": "30be0a13",
   "metadata": {},
   "source": [
    "### load mongodb via env info"
   ]
  },
  {
   "cell_type": "code",
   "execution_count": 135,
   "id": "c4208227",
   "metadata": {},
   "outputs": [
    {
     "data": {
      "text/plain": [
       "'mongodb://localhost:27018'"
      ]
     },
     "execution_count": 135,
     "metadata": {},
     "output_type": "execute_result"
    }
   ],
   "source": [
    "config = dotenv_values(\"../../.env.localhost\")\n",
    "config[\"MONGO_HOST\"]"
   ]
  },
  {
   "cell_type": "code",
   "execution_count": 198,
   "id": "ae247da1-ec7e-4fe2-b713-d0a4e97e6a45",
   "metadata": {},
   "outputs": [],
   "source": [
    "client = MongoClient(host=config[\"MONGO_HOST\"], username=config[\"MONGO_USERNAME\"], password=config[\"MONGO_PASSWORD\"])\n",
    "mongodb = client[\"nmdc_etl_staging\"]"
   ]
  },
  {
   "cell_type": "markdown",
   "id": "c97d66c0-1aff-4fe3-abd8-5161787ea682",
   "metadata": {},
   "source": [
    "### creat temp database and temp_set collection for testing"
   ]
  },
  {
   "cell_type": "code",
   "execution_count": 237,
   "id": "91c95437-00fe-40a2-94a8-2210a27a1741",
   "metadata": {},
   "outputs": [],
   "source": [
    "if \"temp_db\" in client.list_database_names():\n",
    "    client.drop_database(\"temp_db\")\n",
    "temp_db = client[\"temp_db\"]"
   ]
  },
  {
   "cell_type": "markdown",
   "id": "a91901ba-be06-4ad7-a7ef-ea614167a8d9",
   "metadata": {
    "tags": []
   },
   "source": [
    "### helper functons"
   ]
  },
  {
   "cell_type": "code",
   "execution_count": 232,
   "id": "f16aec90-b722-487d-982f-3780d8d052ec",
   "metadata": {},
   "outputs": [],
   "source": [
    "# wraps the mongo_update_command_for and update_mongo_db into\n",
    "# a single function to process the change sheet\n",
    "def process_changesheet(changeDf, mdb: MongoDatabase, temp_db: MongoDatabase):\n",
    "    update_cmd = mongo_update_command_for(changeDf)\n",
    "    copy_docs_in_update_cmd(update_cmd, mdb, temp_db)\n",
    "    return update_mongo_db(temp_db, update_cmd)"
   ]
  },
  {
   "cell_type": "code",
   "execution_count": 201,
   "id": "7973a575-dca9-4ed2-9bc8-1d169f6cc97d",
   "metadata": {},
   "outputs": [],
   "source": [
    "# puts the change sheet results in dataframe\n",
    "def print_results(results):\n",
    "    for i, result in enumerate(results):\n",
    "        print(f\"\\n============== {result['id']} ==============\")\n",
    "        print(\"------------------ BEFORE ------------------\")\n",
    "        print(json.dumps(result[\"doc_before\"], indent=2))\n",
    "        print(\"------------------ AFTER ------------------\")\n",
    "        print(json.dumps(result[\"doc_after\"], indent=2))\n",
    "        print(\"------------------ ERRORS ------------------\")\n",
    "        print(\"\\n\".join(result[\"validation_errors\"]))"
   ]
  },
  {
   "cell_type": "markdown",
   "id": "f8e21247-e412-441d-b608-3704b91e3a58",
   "metadata": {},
   "source": [
    "### set dataframe display options"
   ]
  },
  {
   "cell_type": "code",
   "execution_count": 202,
   "id": "1c15519c-81c2-4672-820b-f08bf6884a6f",
   "metadata": {},
   "outputs": [],
   "source": [
    "pd.set_option(\"display.max_columns\", None)\n",
    "pd.set_option('display.width', 1000)"
   ]
  },
  {
   "cell_type": "markdown",
   "id": "7eb81d97-df2a-411f-8f15-fa4b5fcbdbff",
   "metadata": {},
   "source": [
    "### process change sheet"
   ]
  },
  {
   "cell_type": "code",
   "execution_count": 239,
   "id": "33b2995a",
   "metadata": {
    "tags": []
   },
   "outputs": [
    {
     "data": {
      "text/html": [
       "<div>\n",
       "<style scoped>\n",
       "    .dataframe tbody tr th:only-of-type {\n",
       "        vertical-align: middle;\n",
       "    }\n",
       "\n",
       "    .dataframe tbody tr th {\n",
       "        vertical-align: top;\n",
       "    }\n",
       "\n",
       "    .dataframe thead th {\n",
       "        text-align: right;\n",
       "    }\n",
       "</style>\n",
       "<table border=\"1\" class=\"dataframe\">\n",
       "  <thead>\n",
       "    <tr style=\"text-align: right;\">\n",
       "      <th></th>\n",
       "      <th>id</th>\n",
       "      <th>action</th>\n",
       "      <th>attribute</th>\n",
       "      <th>value</th>\n",
       "    </tr>\n",
       "  </thead>\n",
       "  <tbody>\n",
       "    <tr>\n",
       "      <th>0</th>\n",
       "      <td>gold:Gs0114663</td>\n",
       "      <td>update</td>\n",
       "      <td>name</td>\n",
       "      <td>NEW STUDY NAME</td>\n",
       "    </tr>\n",
       "    <tr>\n",
       "      <th>1</th>\n",
       "      <td></td>\n",
       "      <td>update</td>\n",
       "      <td>ecosystem</td>\n",
       "      <td>NEW ECOSYSTEM</td>\n",
       "    </tr>\n",
       "    <tr>\n",
       "      <th>2</th>\n",
       "      <td></td>\n",
       "      <td>update</td>\n",
       "      <td>ecosystem_type</td>\n",
       "      <td>NEW ECOSYSTEM_TYPE</td>\n",
       "    </tr>\n",
       "    <tr>\n",
       "      <th>3</th>\n",
       "      <td></td>\n",
       "      <td>update</td>\n",
       "      <td>ecosystem_subtype</td>\n",
       "      <td>NEW ECOSYSTEM_SUBTYPE</td>\n",
       "    </tr>\n",
       "    <tr>\n",
       "      <th>4</th>\n",
       "      <td></td>\n",
       "      <td>update</td>\n",
       "      <td>doi</td>\n",
       "      <td>v1</td>\n",
       "    </tr>\n",
       "    <tr>\n",
       "      <th>5</th>\n",
       "      <td>v1</td>\n",
       "      <td>update</td>\n",
       "      <td>has_raw_value</td>\n",
       "      <td>NEW DOI</td>\n",
       "    </tr>\n",
       "    <tr>\n",
       "      <th>6</th>\n",
       "      <td></td>\n",
       "      <td>update</td>\n",
       "      <td>principal_investigator</td>\n",
       "      <td>v2</td>\n",
       "    </tr>\n",
       "    <tr>\n",
       "      <th>7</th>\n",
       "      <td>v2</td>\n",
       "      <td></td>\n",
       "      <td>name</td>\n",
       "      <td>NEW PI NAME</td>\n",
       "    </tr>\n",
       "    <tr>\n",
       "      <th>8</th>\n",
       "      <td>v2</td>\n",
       "      <td></td>\n",
       "      <td>has_raw_value</td>\n",
       "      <td>NEW RAW NAME</td>\n",
       "    </tr>\n",
       "    <tr>\n",
       "      <th>9</th>\n",
       "      <td></td>\n",
       "      <td>update</td>\n",
       "      <td>description</td>\n",
       "      <td>NEW DESCRIPTION</td>\n",
       "    </tr>\n",
       "    <tr>\n",
       "      <th>10</th>\n",
       "      <td></td>\n",
       "      <td>update</td>\n",
       "      <td>websites</td>\n",
       "      <td>HTTP://TEST1.EXAMPLE.COM</td>\n",
       "    </tr>\n",
       "    <tr>\n",
       "      <th>11</th>\n",
       "      <td></td>\n",
       "      <td>update</td>\n",
       "      <td>websites</td>\n",
       "      <td>HTTP://TEST2.EXAMPLE.COM</td>\n",
       "    </tr>\n",
       "    <tr>\n",
       "      <th>12</th>\n",
       "      <td></td>\n",
       "      <td>update</td>\n",
       "      <td>has_credit_associations</td>\n",
       "      <td>v3</td>\n",
       "    </tr>\n",
       "    <tr>\n",
       "      <th>13</th>\n",
       "      <td>v3</td>\n",
       "      <td></td>\n",
       "      <td>applied_role</td>\n",
       "      <td>NEW CO-INVESTIGATOR</td>\n",
       "    </tr>\n",
       "    <tr>\n",
       "      <th>14</th>\n",
       "      <td>v3</td>\n",
       "      <td></td>\n",
       "      <td>applies_to_person.name</td>\n",
       "      <td>NEW CO-INVESTIGATOR NAME</td>\n",
       "    </tr>\n",
       "    <tr>\n",
       "      <th>15</th>\n",
       "      <td></td>\n",
       "      <td>update</td>\n",
       "      <td>has_credit_associations</td>\n",
       "      <td>v4</td>\n",
       "    </tr>\n",
       "    <tr>\n",
       "      <th>16</th>\n",
       "      <td>v4</td>\n",
       "      <td></td>\n",
       "      <td>applied_role</td>\n",
       "      <td>NEW CURATOR</td>\n",
       "    </tr>\n",
       "    <tr>\n",
       "      <th>17</th>\n",
       "      <td>v4</td>\n",
       "      <td></td>\n",
       "      <td>applies_to_person.name</td>\n",
       "      <td>NEW CURATOR NAME</td>\n",
       "    </tr>\n",
       "  </tbody>\n",
       "</table>\n",
       "</div>"
      ],
      "text/plain": [
       "                id  action                attribute                     value\n",
       "0   gold:Gs0114663  update                     name            NEW STUDY NAME\n",
       "1                   update                ecosystem             NEW ECOSYSTEM\n",
       "2                   update           ecosystem_type        NEW ECOSYSTEM_TYPE\n",
       "3                   update        ecosystem_subtype     NEW ECOSYSTEM_SUBTYPE\n",
       "4                   update                      doi                        v1\n",
       "5               v1  update            has_raw_value                   NEW DOI\n",
       "6                   update   principal_investigator                        v2\n",
       "7               v2                             name               NEW PI NAME\n",
       "8               v2                    has_raw_value              NEW RAW NAME\n",
       "9                   update              description           NEW DESCRIPTION\n",
       "10                  update                 websites  HTTP://TEST1.EXAMPLE.COM\n",
       "11                  update                 websites  HTTP://TEST2.EXAMPLE.COM\n",
       "12                  update  has_credit_associations                        v3\n",
       "13              v3                     applied_role       NEW CO-INVESTIGATOR\n",
       "14              v3           applies_to_person.name  NEW CO-INVESTIGATOR NAME\n",
       "15                  update  has_credit_associations                        v4\n",
       "16              v4                     applied_role               NEW CURATOR\n",
       "17              v4           applies_to_person.name          NEW CURATOR NAME"
      ]
     },
     "execution_count": 239,
     "metadata": {},
     "output_type": "execute_result"
    }
   ],
   "source": [
    "pd.read_csv(\"data/changesheet-without-separator3.tsv\", sep=\"\\t\", dtype=\"string\").fillna('')"
   ]
  },
  {
   "cell_type": "code",
   "execution_count": 225,
   "id": "7ed229bc-4d72-4101-af9d-d001b1af6329",
   "metadata": {
    "tags": []
   },
   "outputs": [],
   "source": [
    "sheetDf = load_changesheet('data/changesheet-without-separator3.tsv', mongodb)\n",
    "# sheetDf"
   ]
  },
  {
   "cell_type": "markdown",
   "id": "c3757667",
   "metadata": {
    "tags": []
   },
   "source": [
    "### update mongodb using change sheet"
   ]
  },
  {
   "cell_type": "code",
   "execution_count": 238,
   "id": "c0ba01ce-e3ea-42a6-afd9-27d0b808b96d",
   "metadata": {},
   "outputs": [
    {
     "name": "stdout",
     "output_type": "stream",
     "text": [
      "\n",
      "============== gold:Gs0114663 ==============\n",
      "------------------ BEFORE ------------------\n",
      "{\n",
      "  \"id\": \"gold:Gs0114663\",\n",
      "  \"name\": \"Riverbed sediment microbial communities from the Columbia River, Washington, USA\",\n",
      "  \"description\": \"A metagenomic study to couple microbial communities to carbon and contaminant biogeochemistry in the groundwater-surface water interaction zone (hyporheic zone).\",\n",
      "  \"ecosystem\": \"Environmental\",\n",
      "  \"ecosystem_category\": \"Aquatic\",\n",
      "  \"ecosystem_type\": \"Freshwater\",\n",
      "  \"ecosystem_subtype\": \"River\",\n",
      "  \"specific_ecosystem\": \"Sediment\",\n",
      "  \"principal_investigator\": {\n",
      "    \"has_raw_value\": \"James Stegen\"\n",
      "  },\n",
      "  \"doi\": {\n",
      "    \"has_raw_value\": \"10.25585/1487765\"\n",
      "  },\n",
      "  \"type\": \"nmdc:Study\"\n",
      "}\n",
      "------------------ AFTER ------------------\n",
      "{\n",
      "  \"id\": \"gold:Gs0114663\",\n",
      "  \"name\": \"NEW STUDY NAME\",\n",
      "  \"description\": \"NEW DESCRIPTION\",\n",
      "  \"ecosystem\": \"NEW ECOSYSTEM\",\n",
      "  \"ecosystem_category\": \"Aquatic\",\n",
      "  \"ecosystem_type\": \"NEW ECOSYSTEM_TYPE\",\n",
      "  \"ecosystem_subtype\": \"NEW ECOSYSTEM_SUBTYPE\",\n",
      "  \"specific_ecosystem\": \"Sediment\",\n",
      "  \"principal_investigator\": {\n",
      "    \"has_raw_value\": \"NEW RAW NAME\",\n",
      "    \"name\": \"NEW PI NAME\"\n",
      "  },\n",
      "  \"doi\": {\n",
      "    \"has_raw_value\": \"NEW DOI\"\n",
      "  },\n",
      "  \"type\": \"nmdc:Study\",\n",
      "  \"websites\": [\n",
      "    \"HTTP://TEST1.EXAMPLE.COM\",\n",
      "    \"HTTP://TEST2.EXAMPLE.COM\"\n",
      "  ],\n",
      "  \"has_credit_associations\": [\n",
      "    {\n",
      "      \"applied_role\": \"NEW CO-INVESTIGATOR\",\n",
      "      \"applies_to_person\": {\n",
      "        \"name\": \"NEW CO-INVESTIGATOR NAME\"\n",
      "      }\n",
      "    },\n",
      "    {\n",
      "      \"applied_role\": \"NEW CURATOR\",\n",
      "      \"applies_to_person\": {\n",
      "        \"name\": \"NEW CURATOR NAME\"\n",
      "      }\n",
      "    }\n",
      "  ]\n",
      "}\n",
      "------------------ ERRORS ------------------\n",
      "Additional properties are not allowed ('test.study_set' was unexpected)\n"
     ]
    }
   ],
   "source": [
    "print_results(process_changesheet(sheetDf, mongodb, temp_db))"
   ]
  },
  {
   "cell_type": "code",
   "execution_count": null,
   "id": "ee16a51c-1aa2-49c5-a315-35c7354056ca",
   "metadata": {},
   "outputs": [],
   "source": []
  }
 ],
 "metadata": {
  "kernelspec": {
   "display_name": "Python 3 (ipykernel)",
   "language": "python",
   "name": "python3"
  },
  "language_info": {
   "codemirror_mode": {
    "name": "ipython",
    "version": 3
   },
   "file_extension": ".py",
   "mimetype": "text/x-python",
   "name": "python",
   "nbconvert_exporter": "python",
   "pygments_lexer": "ipython3",
   "version": "3.9.7"
  }
 },
 "nbformat": 4,
 "nbformat_minor": 5
}
