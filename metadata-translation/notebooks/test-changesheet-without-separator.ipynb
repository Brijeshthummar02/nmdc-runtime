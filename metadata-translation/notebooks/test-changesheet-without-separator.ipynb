{
 "cells": [
  {
   "cell_type": "code",
   "execution_count": 236,
   "id": "f6adce82",
   "metadata": {},
   "outputs": [],
   "source": [
    "# autoreload modules; useful for testing\n",
    "# %load_ext autoreload\n",
    "# %autoreload 2"
   ]
  },
  {
   "cell_type": "code",
   "execution_count": 134,
   "id": "a04dfc56-7eec-49fb-a593-571d78bcbb13",
   "metadata": {},
   "outputs": [],
   "source": [
    "import json\n",
    "import copy\n",
    "import pandas as pd\n",
    "from toolz.dicttoolz import assoc_in, merge, dissoc\n",
    "from dotenv import dotenv_values\n",
    "from pymongo import MongoClient\n",
    "from pymongo.database import Database as MongoDatabase\n",
    "from nmdc_runtime.api.core.metadata import load_changesheet, update_mongo_db, mongo_update_command_for, copy_docs_in_update_cmd"
   ]
  },
  {
   "cell_type": "markdown",
   "id": "30be0a13",
   "metadata": {},
   "source": [
    "### load mongodb via env info"
   ]
  },
  {
   "cell_type": "code",
   "execution_count": 135,
   "id": "c4208227",
   "metadata": {},
   "outputs": [
    {
     "data": {
      "text/plain": [
       "'mongodb://localhost:27018'"
      ]
     },
     "execution_count": 135,
     "metadata": {},
     "output_type": "execute_result"
    }
   ],
   "source": [
    "config = dotenv_values(\"../../.env.localhost\")\n",
    "config[\"MONGO_HOST\"]"
   ]
  },
  {
   "cell_type": "code",
   "execution_count": 198,
   "id": "ae247da1-ec7e-4fe2-b713-d0a4e97e6a45",
   "metadata": {},
   "outputs": [],
   "source": [
    "client = MongoClient(host=config[\"MONGO_HOST\"], username=config[\"MONGO_USERNAME\"], password=config[\"MONGO_PASSWORD\"])\n",
    "mongodb = client[\"nmdc_etl_staging\"]"
   ]
  },
  {
   "cell_type": "markdown",
   "id": "c97d66c0-1aff-4fe3-abd8-5161787ea682",
   "metadata": {},
   "source": [
    "### creat temp database and temp_set collection for testing"
   ]
  },
  {
   "cell_type": "code",
   "execution_count": 219,
   "id": "91c95437-00fe-40a2-94a8-2210a27a1741",
   "metadata": {},
   "outputs": [],
   "source": [
    "if \"temp_db\" in client.list_database_names():\n",
    "    client.drop_database(\"temp_db\")\n",
    "\n",
    "# create temp db with a dummy doc\n",
    "temp_db = client[\"temp_db\"]\n",
    "# temp_set = temp_db[\"temp_set\"]\n",
    "# temp_set.insert_one({\"id\": 1, \"value\": \"test\"})"
   ]
  },
  {
   "cell_type": "markdown",
   "id": "a91901ba-be06-4ad7-a7ef-ea614167a8d9",
   "metadata": {
    "tags": []
   },
   "source": [
    "### helper functons"
   ]
  },
  {
   "cell_type": "code",
   "execution_count": 232,
   "id": "f16aec90-b722-487d-982f-3780d8d052ec",
   "metadata": {},
   "outputs": [],
   "source": [
    "# wraps the mongo_update_command_for and update_mongo_db into\n",
    "# a single function to process the change sheet\n",
    "def process_changesheet(changeDf, mdb: MongoDatabase, temp_db: MongoDatabase):\n",
    "    update_cmd = mongo_update_command_for(changeDf)\n",
    "    copy_docs_in_update_cmd(update_cmd, mdb, temp_db)\n",
    "    return update_mongo_db(temp_db, update_cmd)"
   ]
  },
  {
   "cell_type": "code",
   "execution_count": 201,
   "id": "7973a575-dca9-4ed2-9bc8-1d169f6cc97d",
   "metadata": {},
   "outputs": [],
   "source": [
    "# puts the change sheet results in dataframe\n",
    "def print_results(results):\n",
    "    for i, result in enumerate(results):\n",
    "        print(f\"\\n============== {result['id']} ==============\")\n",
    "        print(\"------------------ BEFORE ------------------\")\n",
    "        print(json.dumps(result[\"doc_before\"], indent=2))\n",
    "        print(\"------------------ AFTER ------------------\")\n",
    "        print(json.dumps(result[\"doc_after\"], indent=2))\n",
    "        print(\"------------------ ERRORS ------------------\")\n",
    "        print(\"\\n\".join(result[\"validation_errors\"]))"
   ]
  },
  {
   "cell_type": "markdown",
   "id": "f8e21247-e412-441d-b608-3704b91e3a58",
   "metadata": {},
   "source": [
    "### set dataframe display options"
   ]
  },
  {
   "cell_type": "code",
   "execution_count": 202,
   "id": "1c15519c-81c2-4672-820b-f08bf6884a6f",
   "metadata": {},
   "outputs": [],
   "source": [
    "pd.set_option(\"display.max_columns\", None)\n",
    "pd.set_option('display.width', 1000)"
   ]
  },
  {
   "cell_type": "markdown",
   "id": "7eb81d97-df2a-411f-8f15-fa4b5fcbdbff",
   "metadata": {},
   "source": [
    "### process change sheet"
   ]
  },
  {
   "cell_type": "code",
   "execution_count": 234,
   "id": "33b2995a",
   "metadata": {
    "tags": []
   },
   "outputs": [],
   "source": [
    "# pd.read_csv(\"data/changesheet-without-separator3.tsv\", sep=\"\\t\", dtype=\"string\").fillna('')"
   ]
  },
  {
   "cell_type": "code",
   "execution_count": 225,
   "id": "7ed229bc-4d72-4101-af9d-d001b1af6329",
   "metadata": {
    "tags": []
   },
   "outputs": [],
   "source": [
    "sheetDf = load_changesheet('data/changesheet-without-separator3.tsv', mongodb)\n",
    "# sheetDf"
   ]
  },
  {
   "cell_type": "markdown",
   "id": "c3757667",
   "metadata": {
    "tags": []
   },
   "source": [
    "### update mongodb using change sheet"
   ]
  },
  {
   "cell_type": "code",
   "execution_count": 235,
   "id": "c0ba01ce-e3ea-42a6-afd9-27d0b808b96d",
   "metadata": {},
   "outputs": [
    {
     "name": "stdout",
     "output_type": "stream",
     "text": [
      "\n",
      "============== gold:Gs0114663 ==============\n",
      "------------------ BEFORE ------------------\n",
      "{\n",
      "  \"id\": \"gold:Gs0114663\",\n",
      "  \"name\": \"Riverbed sediment microbial communities from the Columbia River, Washington, USA\",\n",
      "  \"description\": \"A metagenomic study to couple microbial communities to carbon and contaminant biogeochemistry in the groundwater-surface water interaction zone (hyporheic zone).\",\n",
      "  \"ecosystem\": \"Environmental\",\n",
      "  \"ecosystem_category\": \"Aquatic\",\n",
      "  \"ecosystem_type\": \"Freshwater\",\n",
      "  \"ecosystem_subtype\": \"River\",\n",
      "  \"specific_ecosystem\": \"Sediment\",\n",
      "  \"principal_investigator\": {\n",
      "    \"has_raw_value\": \"James Stegen\"\n",
      "  },\n",
      "  \"doi\": {\n",
      "    \"has_raw_value\": \"10.25585/1487765\"\n",
      "  },\n",
      "  \"type\": \"nmdc:Study\"\n",
      "}\n",
      "------------------ AFTER ------------------\n",
      "{\n",
      "  \"id\": \"gold:Gs0114663\",\n",
      "  \"name\": \"NEW STUDY NAME\",\n",
      "  \"description\": \"NEW DESCRIPTION\",\n",
      "  \"ecosystem\": \"NEW ECOSYSTEM\",\n",
      "  \"ecosystem_category\": \"Aquatic\",\n",
      "  \"ecosystem_type\": \"NEW ECOSYSTEM_TYPE\",\n",
      "  \"ecosystem_subtype\": \"NEW ECOSYSTEM_SUBTYPE\",\n",
      "  \"specific_ecosystem\": \"Sediment\",\n",
      "  \"principal_investigator\": {\n",
      "    \"has_raw_value\": \"NEW RAW NAME\",\n",
      "    \"name\": \"NEW PI NAME\"\n",
      "  },\n",
      "  \"doi\": {\n",
      "    \"has_raw_value\": \"NEW DOI\"\n",
      "  },\n",
      "  \"type\": \"nmdc:Study\",\n",
      "  \"websites\": [\n",
      "    \"HTTP://TEST1.EXAMPLE.COM\",\n",
      "    \"HTTP://TEST2.EXAMPLE.COM\"\n",
      "  ],\n",
      "  \"has_credit_associations\": [\n",
      "    {\n",
      "      \"applied_role\": \"NEW CO-INVESTIGATOR\",\n",
      "      \"applies_to_person\": {\n",
      "        \"name\": \"NEW CO-INVESTIGATOR NAME\"\n",
      "      }\n",
      "    },\n",
      "    {\n",
      "      \"applied_role\": \"NEW CURATOR\",\n",
      "      \"applies_to_person\": {\n",
      "        \"name\": \"NEW CURATOR NAME\"\n",
      "      }\n",
      "    }\n",
      "  ]\n",
      "}\n",
      "------------------ ERRORS ------------------\n",
      "Additional properties are not allowed ('test.study_set' was unexpected)\n"
     ]
    }
   ],
   "source": [
    "print_results(process_changesheet(sheetDf, mongodb, temp_db))"
   ]
  },
  {
   "cell_type": "code",
   "execution_count": null,
   "id": "ee16a51c-1aa2-49c5-a315-35c7354056ca",
   "metadata": {},
   "outputs": [],
   "source": []
  }
 ],
 "metadata": {
  "kernelspec": {
   "display_name": "Python 3 (ipykernel)",
   "language": "python",
   "name": "python3"
  },
  "language_info": {
   "codemirror_mode": {
    "name": "ipython",
    "version": 3
   },
   "file_extension": ".py",
   "mimetype": "text/x-python",
   "name": "python",
   "nbconvert_exporter": "python",
   "pygments_lexer": "ipython3",
   "version": "3.9.7"
  }
 },
 "nbformat": 4,
 "nbformat_minor": 5
}
