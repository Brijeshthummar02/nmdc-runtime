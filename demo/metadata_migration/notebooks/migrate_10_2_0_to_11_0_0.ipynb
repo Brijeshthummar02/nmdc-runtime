{
 "cells": [
  {
   "cell_type": "markdown",
   "id": "initial_id",
   "metadata": {
    "collapsed": true
   },
   "source": [
    "# Migrate MongoDB database from `nmdc-schema` `v10.5.6` to `v11.0.0`"
   ]
  },
  {
   "cell_type": "markdown",
   "id": "3c31d85d",
   "metadata": {},
   "source": [
    "## Introduction\n",
    "\n",
    "This notebook will be used to migrate the database from `nmdc-schema` `v10.5.6` ([released](https://github.com/microbiomedata/nmdc-schema/releases/tag/v10.5.6) June 25, 2024) to `v11.0.0` (i.e. the initial version of the Berkeley schema).\n",
    "\n",
    "Unlike previous migrators, this one does not pick and choose which collections it will dump. There are two reasons for this: (1) migrators no longer have a dedicated `self.agenda` dictionary that indicates all the collections involved in the migration; and (2) this migration is the first one that involves creating, renaming, and dropping any collections; none of which were things that the old `self.agenda`-based system were designed to handle. So, instead of picking and choosing collections, this migrator **dumps them all.**"
   ]
  },
  {
   "cell_type": "markdown",
   "id": "f65ad4ab",
   "metadata": {},
   "source": [
    "## Prerequisites"
   ]
  },
  {
   "cell_type": "markdown",
   "id": "17f351e8",
   "metadata": {},
   "source": [
    "### 1. Coordinate with stakeholders.\n",
    "\n",
    "We will be enacting full Runtime and Database downtime for this migration. Ensure stakeholders are aware of that."
   ]
  },
  {
   "cell_type": "markdown",
   "id": "233a35c3",
   "metadata": {},
   "source": [
    "### 2. Set up environment.\n",
    "\n",
    "Here, you'll prepare an environment for running this notebook.\n",
    "\n",
    "1. Start a **MongoDB server** on your local machine (and ensure it does **not** already contain a database named `nmdc`).\n",
    "    1. You can start a [Docker](https://hub.docker.com/_/mongo)-based MongoDB server at `localhost:27055` by running this command (this MongoDB server will be accessible without a username or password).\n"
   ]
  },
  {
   "cell_type": "code",
   "execution_count": null,
   "id": "8aee55e3",
   "metadata": {},
   "outputs": [],
   "source": [
    "!docker run --rm --detach --name mongo-migration-transformer -p 27055:27017 mongo:6.0.4"
   ]
  },
  {
   "cell_type": "markdown",
   "id": "22f5c78f",
   "metadata": {},
   "source": [
    "2. Delete **obsolete dumps** from previous notebooks runs.\n",
    "    1. This is so the dumps you generate below will not be mixed in with any unrelated ones."
   ]
  },
  {
   "cell_type": "code",
   "execution_count": null,
   "id": "c70b6715",
   "metadata": {},
   "outputs": [],
   "source": [
    "!rm -rf {cfg.origin_dump_folder_path}\n",
    "!rm -rf {cfg.transformer_dump_folder_path}"
   ]
  },
  {
   "cell_type": "markdown",
   "id": "6cd05ccb",
   "metadata": {},
   "source": [
    "3. Create and populate a **notebook configuration file** named `.notebook.env`.\n",
    "    1. You can use `.notebook.env.example` as a template.\n",
    "4. Create and populate the two **MongoDB configuration files**—`.mongo.origin.yaml` and `.mongo.transformer.yaml`—that this notebook will use to connect to the \"origin\" and \"transformer\" MongoDB servers, respectively. The \"origin\" MongoDB server is the one that contains the database you want to migrate; and the \"transformer\" MongoDB server is the one you want to use to perform the data transformations. In practice, the \"origin\" MongoDB server is typically a remote server, and the \"transformer\" MongoDB server is typically a local server.\n",
    "    1. You can use `.mongo.yaml.example` as a template.\n",
    "\n",
    "- TODO: Consolidate config files!"
   ]
  },
  {
   "cell_type": "markdown",
   "id": "69937b18",
   "metadata": {},
   "source": [
    "## Procedure"
   ]
  },
  {
   "cell_type": "markdown",
   "id": "fe81196a",
   "metadata": {},
   "source": [
    "### Install Python dependencies\n",
    "\n",
    "In this step, you'll [install](https://saturncloud.io/blog/what-is-the-difference-between-and-in-jupyter-notebooks/) the Python packages upon which this notebook depends.\n",
    "\n",
    "> Note: If the output of this cell says \"Note: you may need to restart the kernel to use updated packages\", restart the kernel (not the notebook cells) now.\n",
    "\n",
    "References: \n",
    "- Berkeley Schema PyPI package (it's version 11+ of the `nmdc-schema` package): https://pypi.org/project/nmdc-schema/\n",
    "- Berkeley Schema GitHub repo: https://github.com/microbiomedata/berkeley-schema-fy24\n",
    "- How to `pip install` a Git branch: https://stackoverflow.com/a/20101940"
   ]
  },
  {
   "cell_type": "code",
   "execution_count": null,
   "id": "e25a0af308c3185b",
   "metadata": {
    "collapsed": false
   },
   "outputs": [],
   "source": [
    "%pip install --upgrade pip\n",
    "%pip install -r requirements.txt\n",
    "%pip install nmdc-schema==11.0.0rc16"
   ]
  },
  {
   "cell_type": "markdown",
   "id": "a407c354",
   "metadata": {},
   "source": [
    "### Import Python dependencies\n",
    "\n",
    "Import the Python objects upon which this notebook depends."
   ]
  },
  {
   "cell_type": "code",
   "execution_count": null,
   "id": "dbecd561",
   "metadata": {},
   "outputs": [],
   "source": [
    "# Standard library packages:\n",
    "import subprocess\n",
    "import logging\n",
    "from typing import List\n",
    "\n",
    "# Third-party packages:\n",
    "import pymongo\n",
    "from jsonschema import Draft7Validator\n",
    "from nmdc_schema.nmdc_data import get_nmdc_jsonschema_dict, SchemaVariantIdentifier\n",
    "from nmdc_schema.migrators.adapters.mongo_adapter import MongoAdapter\n",
    "from nmdc_schema.migrators.migrator_from_10_2_0_to_11_0_0 import Migrator\n",
    "\n",
    "# First-party packages:\n",
    "from helpers import Config\n",
    "from bookkeeper import Bookkeeper, MigrationEvent"
   ]
  },
  {
   "cell_type": "markdown",
   "id": "99b20ff4",
   "metadata": {},
   "source": [
    "### Parse configuration files\n",
    "\n",
    "Parse the notebook and Mongo configuration files."
   ]
  },
  {
   "cell_type": "code",
   "execution_count": null,
   "id": "1eac645a",
   "metadata": {},
   "outputs": [],
   "source": [
    "cfg = Config()\n",
    "\n",
    "# Define some aliases we can use to make the shell commands in this notebook easier to read.\n",
    "mongodump    = cfg.mongodump_path\n",
    "mongorestore = cfg.mongorestore_path\n",
    "mongosh      = cfg.mongosh_path\n",
    "\n",
    "# Perform a sanity test of the application paths.\n",
    "!{mongodump}    --version\n",
    "!{mongorestore} --version\n",
    "!{mongosh}      --version"
   ]
  },
  {
   "cell_type": "markdown",
   "id": "68245d2b",
   "metadata": {},
   "source": [
    "### Create MongoDB clients\n",
    "\n",
    "Create MongoDB clients you can use to access the \"origin\" and \"transformer\" MongoDB servers."
   ]
  },
  {
   "cell_type": "code",
   "execution_count": null,
   "id": "8e95f559",
   "metadata": {},
   "outputs": [],
   "source": [
    "# Mongo client for \"origin\" MongoDB server.\n",
    "origin_mongo_client = pymongo.MongoClient(host=cfg.origin_mongo_server_uri, directConnection=True)\n",
    "\n",
    "# Mongo client for \"transformer\" MongoDB server.\n",
    "transformer_mongo_client = pymongo.MongoClient(host=cfg.transformer_mongo_server_uri)\n",
    "\n",
    "# Perform sanity tests of those MongoDB clients' abilities to access their respective MongoDB servers.\n",
    "with pymongo.timeout(3):\n",
    "    # Display the MongoDB server version (running on the \"origin\" Mongo server).\n",
    "    print(\"Origin Mongo server version:      \" + origin_mongo_client.server_info()[\"version\"])\n",
    "\n",
    "    # Sanity test: Ensure the origin database exists.\n",
    "    assert \"nmdc\" in origin_mongo_client.list_database_names(), \"Origin database does not exist.\"\n",
    "\n",
    "    # Display the MongoDB server version (running on the \"transformer\" Mongo server).\n",
    "    print(\"Transformer Mongo server version: \" + transformer_mongo_client.server_info()[\"version\"])\n",
    "\n",
    "    # Sanity test: Ensure the transformation database does not exist.\n",
    "    assert \"nmdc\" not in transformer_mongo_client.list_database_names(), \"Transformation database already exists.\""
   ]
  },
  {
   "cell_type": "markdown",
   "id": "bc387abc62686091",
   "metadata": {
    "collapsed": false
   },
   "source": [
    "### Create JSON Schema validator\n",
    "\n",
    "In this step, you'll create a JSON Schema validator for the NMDC Schema.\n",
    "\n",
    "- TODO: Consider whether the JSON Schema validator version is consistent with the JSON Schema version (e.g. draft 7 versus draft 2019)."
   ]
  },
  {
   "cell_type": "code",
   "execution_count": null,
   "id": "5c982eb0c04e606d",
   "metadata": {
    "collapsed": false
   },
   "outputs": [],
   "source": [
    "nmdc_jsonschema: dict = get_nmdc_jsonschema_dict(variant=SchemaVariantIdentifier.nmdc_materialized_patterns)\n",
    "nmdc_jsonschema_validator = Draft7Validator(nmdc_jsonschema)\n",
    "\n",
    "# Perform sanity tests of the NMDC Schema dictionary and the JSON Schema validator.\n",
    "# Reference: https://python-jsonschema.readthedocs.io/en/latest/api/jsonschema/protocols/#jsonschema.protocols.Validator.check_schema\n",
    "print(\"NMDC Schema title:   \" + nmdc_jsonschema[\"title\"])\n",
    "print(\"NMDC Schema version: \" + nmdc_jsonschema[\"version\"])\n",
    "\n",
    "nmdc_jsonschema_validator.check_schema(nmdc_jsonschema)  # raises exception if schema is invalid"
   ]
  },
  {
   "cell_type": "markdown",
   "id": "3975ac24",
   "metadata": {},
   "source": [
    "### Revoke access from the \"origin\" MongoDB server\n",
    "\n",
    "We revoke \"write\" access so people don't make changes to the original data while the migration is happening, given that the migration ends with an overwriting of the original data.\n",
    "\n",
    "We also revoke \"read\" access. The revocation of \"read\" access is technically optional, but (a) the JavaScript mongosh script will be easier for me to maintain if it revokes everything and (b) this prevents people from reading data during the restore step, during which the database may not be self-consistent.\n",
    "\n",
    "References:\n",
    "\n",
    "- https://docs.python.org/3/library/subprocess.html\n",
    "- https://www.mongodb.com/docs/mongodb-shell/reference/options/\n",
    "- https://www.mongodb.com/docs/mongodb-shell/write-scripts/"
   ]
  },
  {
   "cell_type": "code",
   "execution_count": null,
   "id": "f761caad",
   "metadata": {},
   "outputs": [],
   "source": [
    "# Note: I run this command via Python's `subprocess` module instead of via an IPython magic `!` command\n",
    "#       because one of the CLI options contains the Mongo password (since `mongosh` does not support the\n",
    "#       use of config files located anywhere except in the user's home directory) and my gut tells me\n",
    "#       this approach makes it less likely that the password appear in some shell history compared to\n",
    "#       if the command were run via a `!` command (since, to me, the latter more closely resembles\n",
    "#       regular shell usage).\n",
    "#\n",
    "#       TODO: Revisit this; and consider switching all the other `!` commands to use `subprocess`\n",
    "#             so that this notebook is closer to becoming a regular Python script.\n",
    "#\n",
    "shell_command = f\"\"\"\n",
    "  {cfg.mongosh_path} \\\n",
    "      --host='{cfg.origin_mongo_host}' \\\n",
    "      --port='{cfg.origin_mongo_port}' \\\n",
    "      --username='{cfg.origin_mongo_username}' \\\n",
    "      --password='{cfg.origin_mongo_password}' \\\n",
    "      --quiet \\\n",
    "      --file='mongosh-scripts/revoke-privileges.mongo.js'\n",
    "\"\"\"\n",
    "completed_process = subprocess.run(shell_command, shell=True)\n",
    "print(f\"\\nReturn code: {completed_process.returncode}\")"
   ]
  },
  {
   "cell_type": "markdown",
   "id": "fd4994a0",
   "metadata": {},
   "source": [
    "### Dump collections from the \"origin\" MongoDB server\n",
    "\n",
    "Use `mongodump` to dump all the collections **from** the \"origin\" MongoDB server **into** a local directory."
   ]
  },
  {
   "cell_type": "code",
   "execution_count": null,
   "id": "cf8fa1ca",
   "metadata": {},
   "outputs": [],
   "source": [
    "# Dump all collections from the \"origin\" database.\n",
    "!{mongodump} \\\n",
    "  --config=\"{cfg.origin_mongo_config_file_path}\" \\\n",
    "  --db=\"nmdc\" \\\n",
    "  --gzip \\\n",
    "  --out=\"{cfg.origin_dump_folder_path}\""
   ]
  },
  {
   "cell_type": "markdown",
   "id": "fd4994a0",
   "metadata": {},
   "source": [
    "### Load the dumped collections into the \"transformer\" MongoDB server\n",
    "\n",
    "Use `mongorestore` to load the dumped collections **from** the local directory **into** the \"transformer\" MongoDB server."
   ]
  },
  {
   "cell_type": "code",
   "execution_count": null,
   "id": "cf8fa1ca",
   "metadata": {},
   "outputs": [],
   "source": [
    "# Restore the dumped collections to the \"transformer\" MongoDB server.\n",
    "!{mongorestore} \\\n",
    "  --config=\"{cfg.transformer_mongo_config_file_path}\" \\\n",
    "  --gzip \\\n",
    "  --drop \\\n",
    "  --preserveUUID \\\n",
    "  --stopOnError \\\n",
    "  --dir=\"{cfg.origin_dump_folder_path}\""
   ]
  },
  {
   "cell_type": "markdown",
   "id": "c3e3c9c4",
   "metadata": {},
   "source": [
    "### Transform the collections within the \"transformer\" MongoDB server\n",
    "\n",
    "Use the migrator to transform the collections in the \"transformer\" database.\n",
    "\n",
    "> Reminder: The database transformation functions are defined in the `nmdc-schema` Python package installed earlier.\n",
    "\n",
    "> Reminder: The \"origin\" database is **not** affected by this step.\n",
    "\n",
    "- TODO: Consider deleting the existing log or appending a timestamp to the log filename."
   ]
  },
  {
   "cell_type": "code",
   "execution_count": null,
   "id": "df8ee3da",
   "metadata": {},
   "outputs": [],
   "source": [
    "# Setup a logger that writes to a file.\n",
    "# TODO: Move this logger stuff to `helpers.py`.`\n",
    "LOG_FILE_PATH = \"./tmp.log\"\n",
    "logger = logging.getLogger(name=\"migrator_logger\")\n",
    "logger.setLevel(logging.DEBUG)\n",
    "file_handler = logging.FileHandler(LOG_FILE_PATH)\n",
    "formatter = logging.Formatter(fmt=\"%(asctime)s\\t%(name)s\\t%(levelname)s\\t%(message)s\",\n",
    "                              datefmt=\"%Y-%m-%d %H:%M:%S\")\n",
    "file_handler.setFormatter(formatter)\n",
    "if logger.hasHandlers():\n",
    "    logger.handlers.clear()  # avoid duplicate log entries\n",
    "logger.addHandler(file_handler)"
   ]
  },
  {
   "cell_type": "code",
   "execution_count": null,
   "id": "05869340",
   "metadata": {},
   "outputs": [],
   "source": [
    "# Instantiate a MongoAdapter bound to the \"transformer\" database.\n",
    "adapter = MongoAdapter(\n",
    "    database=transformer_mongo_client[\"nmdc\"],\n",
    "    on_collection_created=lambda name: print(f'Created collection \"{name}\"'),\n",
    "    on_collection_renamed=lambda old_name, name: print(f'Renamed collection \"{old_name}\" to \"{name}\"'),\n",
    "    on_collection_deleted=lambda name: print(f'Deleted collection \"{name}\"'),\n",
    ")\n",
    "\n",
    "# Instantiate a Migrator bound to that adapter.\n",
    "migrator = Migrator(adapter=adapter, logger=logger)\n",
    "\n",
    "# Execute the Migrator's `upgrade` method to perform the migration.\n",
    "migrator.upgrade()"
   ]
  },
  {
   "cell_type": "markdown",
   "id": "4c090068",
   "metadata": {},
   "source": [
    "### Validate the transformed documents\n",
    "\n",
    "Now that we have transformed the database, validate each document in each collection in the \"transformer\" MongoDB server."
   ]
  },
  {
   "cell_type": "code",
   "execution_count": null,
   "id": "05869340",
   "metadata": {},
   "outputs": [],
   "source": [
    "# Make a list of all slots of the `Database` class in the schema.\n",
    "#\n",
    "# TODO: Use a SchemaView for this instead of directly accessing the JSON Schema dictionary.\n",
    "#\n",
    "database_slot_names: List[str] = nmdc_jsonschema[\"$defs\"][\"Database\"][\"properties\"]\n",
    "\n",
    "# Ensure that, if the (large) \"functional_annotation_agg\" collection is present in `database_slot_names`,\n",
    "# it goes at the end of the list we process. That way, we can find out about validation errors in\n",
    "# other collections without having to wait for that (large) collection to be validated before them.\n",
    "ordered_collection_names = sorted(database_slot_names.copy())\n",
    "large_collection_name = \"functional_annotation_agg\"\n",
    "if large_collection_name in ordered_collection_names:\n",
    "    ordered_collection_names = list(filter(lambda n: n != large_collection_name, ordered_collection_names))\n",
    "    ordered_collection_names.append(large_collection_name)\n",
    "\n",
    "for collection_name in ordered_collection_names:\n",
    "    collection = transformer_mongo_client[\"nmdc\"][collection_name]\n",
    "    num_documents_in_collection = collection.count_documents({})\n",
    "    print(f\"Validating collection {collection_name} ({num_documents_in_collection} documents)\")\n",
    "\n",
    "    for document in collection.find():\n",
    "        # Validate the transformed document.\n",
    "        #\n",
    "        # Reference: https://github.com/microbiomedata/nmdc-schema/blob/main/src/docs/schema-validation.md\n",
    "        #\n",
    "        # Note: Dictionaries originating as Mongo documents include a Mongo-generated key named `_id`. However,\n",
    "        #       the NMDC Schema does not describe that key and, indeed, data validators consider dictionaries\n",
    "        #       containing that key to be invalid with respect to the NMDC Schema. So, here, we validate a\n",
    "        #       copy (i.e. a shallow copy) of the document that lacks that specific key.\n",
    "        #\n",
    "        # Note: `root_to_validate` is a dictionary having the shape: { \"some_collection_name\": [ some_document ] }\n",
    "        #       Reference: https://docs.python.org/3/library/stdtypes.html#dict (see the \"type constructor\" section)\n",
    "        #\n",
    "        document_without_underscore_id_key = {key: value for key, value in document.items() if key != \"_id\"}\n",
    "        root_to_validate = dict([(collection_name, [document_without_underscore_id_key])])\n",
    "        nmdc_jsonschema_validator.validate(root_to_validate)  # raises exception if invalid"
   ]
  },
  {
   "cell_type": "markdown",
   "id": "3edf77c7",
   "metadata": {},
   "source": [
    "### Dump the collections from the \"transformer\" MongoDB server\n",
    "\n",
    "Now that the collections have been transformed and validated, dump them **from** the \"transformer\" MongoDB server **into** a local directory."
   ]
  },
  {
   "cell_type": "code",
   "execution_count": null,
   "id": "db6e432d",
   "metadata": {},
   "outputs": [],
   "source": [
    "# Dump the database from the \"transformer\" MongoDB server.\n",
    "!{mongodump} \\\n",
    "  --config=\"{cfg.transformer_mongo_config_file_path}\" \\\n",
    "  --db=\"nmdc\" \\\n",
    "  --gzip \\\n",
    "  --out=\"{cfg.transformer_dump_folder_path}\""
   ]
  },
  {
   "cell_type": "markdown",
   "id": "997fcb281d9d3222",
   "metadata": {
    "collapsed": false
   },
   "source": [
    "### Create a bookkeeper\n",
    "\n",
    "Create a `Bookkeeper` that can be used to document migration events in the \"origin\" server."
   ]
  },
  {
   "cell_type": "code",
   "execution_count": null,
   "id": "dbbe706d",
   "metadata": {},
   "outputs": [],
   "source": [
    "bookkeeper = Bookkeeper(mongo_client=origin_mongo_client)"
   ]
  },
  {
   "cell_type": "markdown",
   "id": "1e0c8891",
   "metadata": {},
   "source": [
    "### Indicate — on the \"origin\" server — that the migration is underway\n",
    "\n",
    "Add an entry to the migration log collection to indicate that this migration has started."
   ]
  },
  {
   "cell_type": "code",
   "execution_count": null,
   "id": "ca49f61a",
   "metadata": {},
   "outputs": [],
   "source": [
    "bookkeeper.record_migration_event(migrator=migrator, event=MigrationEvent.MIGRATION_STARTED)"
   ]
  },
  {
   "cell_type": "markdown",
   "id": "9c253e6f",
   "metadata": {},
   "source": [
    "### TODO: Drop the original collections from the \"origin\" MongoDB server\n",
    "\n",
    "This is necessary for situations where collections were renamed or deleted. The `--drop` option of `mongorestore` only drops collections that exist in the dump. We may need `mongosh` for this.\n",
    "\n",
    "- TODO: Now that the notebook does depend upon `mongosh`, revisit filling in this step."
   ]
  },
  {
   "cell_type": "markdown",
   "id": "d84bdc11",
   "metadata": {},
   "source": [
    "### Load the collections into the \"origin\" MongoDB server\n",
    "\n",
    "Load the transformed collections into the \"origin\" MongoDB server, **replacing** the collections there that have the same names.\n",
    "\n",
    "- TODO: If the migration involved renaming or deleting a collection, the collection having the original name will continue to exist in the \"origin\" database until someone deletes it manually."
   ]
  },
  {
   "cell_type": "code",
   "execution_count": null,
   "id": "1dfbcf0a",
   "metadata": {},
   "outputs": [],
   "source": [
    "# Load the transformed collections into the origin server, replacing any same-named ones that are there.\n",
    "!{mongorestore} \\\n",
    "  --config=\"{cfg.origin_mongo_config_file_path}\" \\\n",
    "  --gzip \\\n",
    "  --verbose \\\n",
    "  --dir=\"{cfg.transformer_dump_folder_path}\" \\\n",
    "  --drop --preserveUUID \\\n",
    "  --stopOnError"
   ]
  },
  {
   "cell_type": "markdown",
   "id": "ca5ee89a79148499",
   "metadata": {
    "collapsed": false
   },
   "source": [
    "### Indicate that the migration is complete\n",
    "\n",
    "Add an entry to the migration log collection to indicate that this migration is complete."
   ]
  },
  {
   "cell_type": "code",
   "execution_count": null,
   "id": "d1eaa6c92789c4f3",
   "metadata": {
    "collapsed": false
   },
   "outputs": [],
   "source": [
    "bookkeeper.record_migration_event(migrator=migrator, event=MigrationEvent.MIGRATION_COMPLETED)"
   ]
  },
  {
   "cell_type": "markdown",
   "id": "04c856a8",
   "metadata": {},
   "source": [
    "### Restore access to the \"origin\" MongoDB server\n",
    "\n",
    "This effectively un-does the access revocation that we did earlier."
   ]
  },
  {
   "cell_type": "code",
   "execution_count": null,
   "id": "9aab3c7e",
   "metadata": {},
   "outputs": [],
   "source": [
    "shell_command = f\"\"\"\n",
    "  {cfg.mongosh_path} \\\n",
    "      --host='{cfg.origin_mongo_host}' \\\n",
    "      --port='{cfg.origin_mongo_port}' \\\n",
    "      --username='{cfg.origin_mongo_username}' \\\n",
    "      --password='{cfg.origin_mongo_password}' \\\n",
    "      --quiet \\\n",
    "      --file='mongosh-scripts/restore-privileges.mongo.js'\n",
    "\"\"\"\n",
    "completed_process = subprocess.run(shell_command, shell=True)\n",
    "print(f\"\\nReturn code: {completed_process.returncode}\")"
   ]
  }
 ],
 "metadata": {
  "kernelspec": {
   "display_name": "Python 3",
   "language": "python",
   "name": "python3"
  },
  "language_info": {
   "codemirror_mode": {
    "name": "ipython",
    "version": 3
   },
   "file_extension": ".py",
   "mimetype": "text/x-python",
   "name": "python",
   "nbconvert_exporter": "python",
   "pygments_lexer": "ipython3",
   "version": "3.10.12"
  }
 },
 "nbformat": 4,
 "nbformat_minor": 5
}
