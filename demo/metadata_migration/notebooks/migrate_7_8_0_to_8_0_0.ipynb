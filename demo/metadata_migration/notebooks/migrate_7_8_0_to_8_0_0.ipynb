{
 "cells": [
  {
   "cell_type": "markdown",
   "metadata": {},
   "source": [
    "# Migrate from `v7.8.0` to `v8.0.0`\n",
    "\n",
    "## Prerequisites\n",
    "\n",
    "1. Start a MongoDB server on your local machine (or in a Docker container) and ensure it does **not** contain a database named `nmdc`.\n",
    "2. Create and populate a **notebook configuration file** named `.notebook.env`.\n",
    "    1. You can use the `.notebook.env.example` file as a template:\n",
    "       ```shell\n",
    "       $ cp .notebook.env.example .notebook.env\n",
    "       ```\n",
    "3. Create and populate **Mongo configuration files** for connecting to the origin and transformer Mongo servers.\n",
    "    1. You can use the `.mongo.yaml.example` file as a template:\n",
    "       ```shell\n",
    "       $ cp .mongo.yaml.example .mongo.origin.yaml\n",
    "       $ cp .mongo.yaml.example .mongo.transformer.yaml\n",
    "       ```\n",
    "       > When populating the file for the origin Mongo server, use root credentials since this notebook will be manipulating user roles on that server.\n",
    "4. Run the cells in this notebook in order."
   ]
  },
  {
   "cell_type": "markdown",
   "metadata": {},
   "source": [
    "## Procedure"
   ]
  },
  {
   "cell_type": "markdown",
   "metadata": {},
   "source": [
    "### Install dependencies\n",
    "\n",
    "Install the third-party Python packages upon which this notebook depends."
   ]
  },
  {
   "cell_type": "code",
   "execution_count": null,
   "metadata": {},
   "outputs": [],
   "source": [
    "!python -m pip install -r requirements.txt"
   ]
  },
  {
   "cell_type": "markdown",
   "metadata": {},
   "source": [
    "Import the Python objects upon which this notebook depends."
   ]
  },
  {
   "cell_type": "code",
   "execution_count": null,
   "metadata": {},
   "outputs": [],
   "source": [
    "# Standard library packages:\n",
    "from pathlib import Path\n",
    "from pprint import pformat\n",
    "from shutil import rmtree\n",
    "from tempfile import NamedTemporaryFile\n",
    "\n",
    "# Third-party packages:\n",
    "import pymongo\n",
    "\n",
    "# First-party packages:\n",
    "from helpers import Config"
   ]
  },
  {
   "cell_type": "markdown",
   "metadata": {},
   "source": [
    "### Parse configuration files\n",
    "\n",
    "Parse the notebook and Mongo configuration files."
   ]
  },
  {
   "cell_type": "code",
   "execution_count": null,
   "metadata": {},
   "outputs": [],
   "source": [
    "cfg = Config()"
   ]
  },
  {
   "cell_type": "markdown",
   "metadata": {},
   "source": [
    "### Create MongoDB clients\n",
    "\n",
    "Create MongoDB clients you can use to access the \"origin\" MongoDB server (i.e. the one containing the database you want to migrate) and the \"transformer\" MongoDB server (i.e. the one you want to use to perform the data transformations)."
   ]
  },
  {
   "cell_type": "code",
   "execution_count": null,
   "metadata": {},
   "outputs": [],
   "source": [
    "# MongoDB client for origin MongoDB server.\n",
    "origin_mongo_client = pymongo.MongoClient(host=cfg.origin_mongo_server_uri, directConnection=True)\n",
    "\n",
    "# MongoDB client for transformer MongoDB server.\n",
    "transformer_mongo_client = pymongo.MongoClient(host=cfg.transformer_mongo_server_uri)"
   ]
  },
  {
   "cell_type": "markdown",
   "metadata": {},
   "source": [
    "### Disable writing to the origin MongoDB database\n",
    "\n",
    "To disable writing to the database, I will eventually set all users' roles (except the admin user) to `read` (i.e. read-only) with respect to the database. Before I carry out that plan, though, I will store the original users for future reference (so I can restore their original roles later).\n",
    "\n",
    "Note: `pymongo` does not offer [`db.getUsers()`](https://www.mongodb.com/docs/manual/reference/method/db.getUsers/)."
   ]
  },
  {
   "cell_type": "code",
   "execution_count": null,
   "metadata": {},
   "outputs": [],
   "source": [
    "result: dict = origin_mongo_client[\"admin\"].command(\"usersInfo\")\n",
    "users_initial = result[\"users\"]\n",
    "\n",
    "# Create temporary file in the notebook's folder, containing the initial users.\n",
    "users_file = NamedTemporaryFile(delete=False, dir=str(Path.cwd()), prefix=\"tmp.origin_users_initial.\")\n",
    "users_file.write(bytes(pformat(users_initial), \"utf-8\"))\n",
    "users_file.close()"
   ]
  },
  {
   "cell_type": "markdown",
   "metadata": {},
   "source": [
    "Now that I've stored their original roles, I'll convert every `readWrite` role (with respect to the `nmdc` database) into just plain `read`."
   ]
  },
  {
   "cell_type": "code",
   "execution_count": null,
   "metadata": {},
   "outputs": [],
   "source": [
    "for user in users_initial:\n",
    "\n",
    "    break  # Abort! TODO: Remove me when I'm ready to run this notebook for real.\n",
    "\n",
    "    if any((role[\"db\"] == \"nmdc\") for role in user[\"roles\"]):\n",
    "        origin_mongo_client[\"admin\"].command(\"grantRolesToUser\", user[\"user\"], roles=[{ \"role\": \"read\", \"db\": \"nmdc\" }])\n",
    "        origin_mongo_client[\"admin\"].command(\"revokeRolesFromUser\", user[\"user\"], roles=[{ \"role\": \"readWrite\", \"db\": \"nmdc\" }])"
   ]
  },
  {
   "cell_type": "markdown",
   "metadata": {},
   "source": [
    "\n",
    "### Dump the necessary collections from the origin database\n",
    "\n",
    "In this case, I'll dump the `extraction_set` collection only.\n",
    "\n",
    "References:\n",
    "- https://www.mongodb.com/docs/database-tools/mongodump/\n",
    "- https://www.mongodb.com/docs/database-tools/mongodump/#std-option-mongodump.--config (`--config` option)"
   ]
  },
  {
   "cell_type": "code",
   "execution_count": null,
   "metadata": {},
   "outputs": [],
   "source": [
    "# Dump the database from the origin MongoDB server.\n",
    "!{mongodump} \\\n",
    "  --config=\"{cfg.origin_mongo_config_file_path}\" \\\n",
    "  --db=\"nmdc\" \\\n",
    "  --gzip \\\n",
    "  --collection=\"extraction_set\" \\\n",
    "  --out=\"{cfg.origin_dump_folder_path}\""
   ]
  },
  {
   "cell_type": "markdown",
   "metadata": {},
   "source": [
    "### Restore the database into the transformer MongoDB server\n",
    "\n",
    "References:\n",
    "- https://www.mongodb.com/docs/database-tools/mongorestore/\n",
    "- https://www.mongodb.com/docs/database-tools/mongorestore/#std-option-mongorestore.--config (`--config` option)\n",
    "- https://www.mongodb.com/docs/database-tools/mongorestore/#std-option-mongorestore.--drop (`--drop` to drop the existing collection)\n",
    "- https://www.mongodb.com/docs/database-tools/mongorestore/#std-option-mongorestore.--preserveUUID (`--preserveUUID` to use the existing UUIDs from the dump)"
   ]
  },
  {
   "cell_type": "code",
   "execution_count": null,
   "metadata": {},
   "outputs": [],
   "source": [
    "# Restore the database to the transformer MongoDB server.\n",
    "!{mongorestore} \\\n",
    "  --config=\"{cfg.transformer_mongo_config_file_path}\" \\\n",
    "  --gzip \\\n",
    "  --drop --preserveUUID \\\n",
    "  --dir=\"{cfg.origin_dump_folder_path}\""
   ]
  },
  {
   "cell_type": "markdown",
   "metadata": {},
   "source": [
    "### Transform the database\n",
    "\n",
    "Now that the transformer database contains a copy of the subject database, we can transform it there.\n",
    "\n",
    "Source: https://github.com/microbiomedata/nmdc-schema/blob/7802f295cfc80d056f9c73c79636802926be40ee/nmdc_schema/migration_recursion.py#L38\n",
    "- Note: source will need to be changed when the above link is merged into main.\n",
    "- Note: \"NEXT\" in the function's name will need to be changed to correct version number\n",
    "- removed logger calls\n",
    "- removed commented out line\n",
    "\n",
    "References:\n",
    "- https://pymongo.readthedocs.io/en/stable/api/pymongo/collection.html#pymongo.collection.Collection.replace_one"
   ]
  },
  {
   "cell_type": "code",
   "execution_count": null,
   "metadata": {},
   "outputs": [],
   "source": [
    "# <copy_pasted_snippet from=\"https://github.com/microbiomedata/nmdc-schema/blob/7802f295cfc80d056f9c73c79636802926be40ee/nmdc_schema/migration_recursion.py#L38\">\n",
    "\n",
    "def migrate_extractions_7_8_0_to_8_0_0(retrieved_extraction):\n",
    "\n",
    "    if \"sample_mass\" in retrieved_extraction:\n",
    "        retrieved_extraction['input_mass'] = retrieved_extraction.pop('sample_mass')\n",
    "        \n",
    "    return retrieved_extraction\n",
    "\n",
    "# </copy_pasted_snippet>"
   ]
  },
  {
   "cell_type": "code",
   "execution_count": null,
   "metadata": {},
   "outputs": [],
   "source": [
    "# Make a transformed version of each extraction in the transformer database.\n",
    "transformed_extractions = []\n",
    "for extraction in transformer_mongo_client[\"nmdc\"][\"extraction_set\"].find():\n",
    "    print(extraction)\n",
    "    transformed_extraction = migrate_extractions_7_8_0_to_8_0_0(extraction)\n",
    "    transformed_extractions.append(transformed_extraction)\n",
    "    print(transformed_extraction)\n",
    "\n",
    "# Replace the original versions with the transformed versions of themselves (in the transformer database).\n",
    "for transformed_extraction in transformed_extractions:\n",
    "    transformer_mongo_client[\"nmdc\"][\"extraction_set\"].replace_one({\"id\": {\"$eq\": transformed_extraction[\"id\"]}}, transformed_extraction)\n"
   ]
  },
  {
   "cell_type": "markdown",
   "metadata": {},
   "source": [
    "### Validate the transformed database"
   ]
  },
  {
   "cell_type": "code",
   "execution_count": null,
   "metadata": {},
   "outputs": [],
   "source": [
    "# TODO"
   ]
  },
  {
   "cell_type": "markdown",
   "metadata": {},
   "source": [
    "### Dump the transformed database"
   ]
  },
  {
   "cell_type": "code",
   "execution_count": null,
   "metadata": {},
   "outputs": [],
   "source": [
    "# Dump the database from the transformer MongoDB server.\n",
    "!{mongodump} \\\n",
    "  --config=\"{cfg.transformer_mongo_config_file_path}\" \\\n",
    "  --db=\"nmdc\" \\\n",
    "  --gzip \\\n",
    "  --out=\"{cfg.transformer_dump_folder_path}\""
   ]
  },
  {
   "cell_type": "markdown",
   "metadata": {},
   "source": [
    "### Put the transformed data into the origin MongoDB server\n",
    "\n",
    "In the case of this migration, given how focused the transformation was (i.e. only the `extraction_set` collection was affected), I will restore **only** the `extraction_set` collection to the origin server.\n",
    "\n",
    "References:\n",
    "- https://www.mongodb.com/docs/database-tools/mongorestore/#std-option-mongorestore.--nsInclude (`--nsInclude` to specify which collections to affect)\n",
    "- https://www.mongodb.com/docs/database-tools/mongorestore/#std-option-mongorestore.--dryRun (`--dryRun` can be used to preview the outcome)"
   ]
  },
  {
   "cell_type": "code",
   "execution_count": null,
   "metadata": {},
   "outputs": [],
   "source": [
    "# Drop the original `extraction_set` collection from the origin server,\n",
    "# and restore the transformed `extraction_set` collection into its place.\n",
    "!{mongorestore} \\\n",
    "  --config=\"{cfg.origin_mongo_config_file_path}\" \\\n",
    "  --gzip \\\n",
    "  --verbose \\\n",
    "  --dir=\"{cfg.transformer_dump_folder_path}\" \\\n",
    "  --nsInclude=\"nmdc.extraction_set\" \\\n",
    "  --drop --preserveUUID"
   ]
  },
  {
   "cell_type": "markdown",
   "metadata": {},
   "source": [
    "Now that I've restored the database, I'll restore the original user roles (with respect to the `nmdc` database)."
   ]
  },
  {
   "cell_type": "code",
   "execution_count": null,
   "metadata": {},
   "outputs": [],
   "source": [
    "for user in users_initial:\n",
    "\n",
    "    break  # Abort! TODO: Remove me when I'm ready to run this notebook for real.\n",
    "\n",
    "    if any((role[\"db\"] == \"nmdc\" and role[\"role\"] == \"readWrite\") for role in user[\"roles\"]):\n",
    "        origin_mongo_client[\"admin\"].command(\"grantRolesToUser\", user[\"user\"], roles=[{ \"role\": \"readWrite\", \"db\": \"nmdc\" }])\n",
    "        origin_mongo_client[\"admin\"].command(\"revokeRolesFromUser\", user[\"user\"], roles=[{ \"role\": \"read\", \"db\": \"nmdc\" }])"
   ]
  },
  {
   "cell_type": "markdown",
   "metadata": {},
   "source": [
    "## Clean up\n",
    "\n",
    "Delete the Mongo dumps created by this notebook.\n",
    "\n",
    "> Note: You can skip this step, in case you want to examine the folders and delete them manually."
   ]
  },
  {
   "cell_type": "code",
   "execution_count": null,
   "metadata": {},
   "outputs": [],
   "source": [
    "paths_to_folders_to_delete = [\n",
    "    cfg.origin_dump_folder_path,\n",
    "    cfg.transformer_dump_folder_path,\n",
    "]\n",
    "\n",
    "for path in paths_to_folders_to_delete:\n",
    "    try:\n",
    "        rmtree(path)\n",
    "        print(f\"Deleted: {path}\")\n",
    "    except:\n",
    "        print(f\"Failed to delete: {path}\")"
   ]
  }
 ],
 "metadata": {
  "kernelspec": {
   "display_name": "Python 3 (ipykernel)",
   "language": "python",
   "name": "python3"
  },
  "language_info": {
   "codemirror_mode": {
    "name": "ipython",
    "version": 3
   },
   "file_extension": ".py",
   "mimetype": "text/x-python",
   "name": "python",
   "nbconvert_exporter": "python",
   "pygments_lexer": "ipython3",
   "version": "3.10.12"
  }
 },
 "nbformat": 4,
 "nbformat_minor": 2
}
