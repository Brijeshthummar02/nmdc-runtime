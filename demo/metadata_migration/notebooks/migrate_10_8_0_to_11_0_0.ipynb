{
 "cells": [
  {
   "cell_type": "markdown",
   "id": "initial_id",
   "metadata": {
    "collapsed": true
   },
   "source": [
    "# Migrate MongoDB database from `nmdc-schema` `v10.8.0` to `v11.0.0`"
   ]
  },
  {
   "cell_type": "markdown",
   "id": "3c31d85d",
   "metadata": {},
   "source": [
    "## Introduction\n",
    "\n",
    "This notebook will be used to migrate the database from `nmdc-schema` `v10.8.0` ([released](https://github.com/microbiomedata/nmdc-schema/releases/tag/v10.8.0) August 21, 2024) to `v11.0.0` (i.e. the initial version of the so-called \"Berkeley schema\").\n",
    "\n",
    "Unlike previous migrators, this one does not pick and choose which collections it will dump. There are two reasons for this: (1) migrators no longer have a dedicated `self.agenda` dictionary that indicates all the collections involved in the migration; and (2) this migration is the first one that involves creating, renaming, and dropping any collections; none of which are things that the old `self.agenda`-based system was designed to handle. So, instead of picking and choosing collections, this migrator **dumps them all.**"
   ]
  },
  {
   "cell_type": "markdown",
   "id": "f65ad4ab",
   "metadata": {},
   "source": [
    "## Prerequisites"
   ]
  },
  {
   "cell_type": "markdown",
   "id": "17f351e8",
   "metadata": {},
   "source": [
    "### 1. Coordinate with stakeholders.\n",
    "\n",
    "We will be enacting full Runtime and Database downtime for this migration. Ensure stakeholders are aware of that."
   ]
  },
  {
   "cell_type": "markdown",
   "id": "233a35c3",
   "metadata": {},
   "source": [
    "### 2. Set up notebook environment.\n",
    "\n",
    "Here, you'll prepare an environment for running this notebook.\n",
    "\n",
    "1. Start a **MongoDB server** on your local machine (and ensure it does **not** already contain a database named `nmdc`).\n",
    "    1. You can start a [Docker](https://hub.docker.com/_/mongo)-based MongoDB server at `localhost:27055` by running this command. A MongoDB server started this way will be accessible without a username or password.\n"
   ]
  },
  {
   "cell_type": "code",
   "id": "8aee55e3",
   "metadata": {},
   "source": [
    "!docker run --rm --detach --name mongo-migration-transformer -p 27055:27017 mongo:6.0.4"
   ],
   "outputs": [],
   "execution_count": null
  },
  {
   "cell_type": "markdown",
   "id": "6cd05ccb",
   "metadata": {},
   "source": [
    "2. Create and populate a **notebook configuration file** named `.notebook.env`.\n",
    "    1. You can use `.notebook.env.example` as a template.\n",
    "    2. The \"origin\" MongoDB server is the one that contains the database you want to migrate.\n",
    "    3. The \"transformer\" MongoDB server is the one you want to use to perform the data transformations."
   ]
  },
  {
   "cell_type": "markdown",
   "id": "69937b18",
   "metadata": {},
   "source": [
    "## Procedure"
   ]
  },
  {
   "cell_type": "markdown",
   "id": "fe81196a",
   "metadata": {},
   "source": [
    "### Install Python packages\n",
    "\n",
    "In this step, you'll [install](https://saturncloud.io/blog/what-is-the-difference-between-and-in-jupyter-notebooks/) the Python packages upon which this notebook depends.\n",
    "\n",
    "> Note: If the output of this cell says \"Note: you may need to restart the kernel to use updated packages\", restart the kernel (not the notebook cells), then proceed to the next cell.\n",
    "\n",
    "##### References\n",
    "\n",
    "| Description                                                                     | Link                                                   |\n",
    "|---------------------------------------------------------------------------------|--------------------------------------------------------|\n",
    "| Berkeley Schema PyPI package<br>(it's version 11+ of the `nmdc-schema` package) | https://pypi.org/project/nmdc-schema                   |\n",
    "| Berkeley Schema GitHub repository                                               | https://github.com/microbiomedata/berkeley-schema-fy24 |\n",
    "| How to `pip install` from a Git branch<br>instead of PyPI                       | https://stackoverflow.com/a/20101940                   |"
   ]
  },
  {
   "cell_type": "code",
   "id": "e25a0af308c3185b",
   "metadata": {
    "collapsed": false,
    "ExecuteTime": {
     "end_time": "2024-09-18T05:34:15.182643Z",
     "start_time": "2024-09-18T05:34:12.121878Z"
    }
   },
   "source": [
    "%pip install --upgrade pip\n",
    "%pip install -r requirements.txt\n",
    "%pip install nmdc-schema==11.0.0rc22"
   ],
   "outputs": [
    {
     "name": "stdout",
     "output_type": "stream",
     "text": [
      "Requirement already satisfied: pip in /Users/EECavanna/mambaforge/lib/python3.10/site-packages (24.2)\r\n",
      "Note: you may need to restart the kernel to use updated packages.\n",
      "Requirement already satisfied: dictdiffer==0.9.0 in /Users/EECavanna/mambaforge/lib/python3.10/site-packages (from -r requirements.txt (line 1)) (0.9.0)\r\n",
      "Requirement already satisfied: jsonschema==4.19.2 in /Users/EECavanna/mambaforge/lib/python3.10/site-packages (from -r requirements.txt (line 2)) (4.19.2)\r\n",
      "Requirement already satisfied: pymongo==4.7.2 in /Users/EECavanna/mambaforge/lib/python3.10/site-packages (from -r requirements.txt (line 3)) (4.7.2)\r\n",
      "Requirement already satisfied: python-dotenv==1.0.0 in /Users/EECavanna/mambaforge/lib/python3.10/site-packages (from -r requirements.txt (line 4)) (1.0.0)\r\n",
      "Requirement already satisfied: PyYAML==6.0.1 in /Users/EECavanna/mambaforge/lib/python3.10/site-packages (from -r requirements.txt (line 5)) (6.0.1)\r\n",
      "Requirement already satisfied: linkml-runtime==1.8.2 in /Users/EECavanna/mambaforge/lib/python3.10/site-packages (from -r requirements.txt (line 6)) (1.8.2)\r\n",
      "Requirement already satisfied: attrs>=22.2.0 in /Users/EECavanna/mambaforge/lib/python3.10/site-packages (from jsonschema==4.19.2->-r requirements.txt (line 2)) (23.1.0)\r\n",
      "Requirement already satisfied: jsonschema-specifications>=2023.03.6 in /Users/EECavanna/mambaforge/lib/python3.10/site-packages (from jsonschema==4.19.2->-r requirements.txt (line 2)) (2023.12.1)\r\n",
      "Requirement already satisfied: referencing>=0.28.4 in /Users/EECavanna/mambaforge/lib/python3.10/site-packages (from jsonschema==4.19.2->-r requirements.txt (line 2)) (0.35.1)\r\n",
      "Requirement already satisfied: rpds-py>=0.7.1 in /Users/EECavanna/mambaforge/lib/python3.10/site-packages (from jsonschema==4.19.2->-r requirements.txt (line 2)) (0.10.6)\r\n",
      "Requirement already satisfied: dnspython<3.0.0,>=1.16.0 in /Users/EECavanna/mambaforge/lib/python3.10/site-packages (from pymongo==4.7.2->-r requirements.txt (line 3)) (2.4.2)\r\n",
      "Requirement already satisfied: click in /Users/EECavanna/mambaforge/lib/python3.10/site-packages (from linkml-runtime==1.8.2->-r requirements.txt (line 6)) (8.1.7)\r\n",
      "Requirement already satisfied: curies>=0.5.4 in /Users/EECavanna/mambaforge/lib/python3.10/site-packages (from linkml-runtime==1.8.2->-r requirements.txt (line 6)) (0.7.6)\r\n",
      "Requirement already satisfied: deprecated in /Users/EECavanna/mambaforge/lib/python3.10/site-packages (from linkml-runtime==1.8.2->-r requirements.txt (line 6)) (1.2.14)\r\n",
      "Requirement already satisfied: hbreader in /Users/EECavanna/mambaforge/lib/python3.10/site-packages (from linkml-runtime==1.8.2->-r requirements.txt (line 6)) (0.9.1)\r\n",
      "Requirement already satisfied: json-flattener>=0.1.9 in /Users/EECavanna/mambaforge/lib/python3.10/site-packages (from linkml-runtime==1.8.2->-r requirements.txt (line 6)) (0.1.9)\r\n",
      "Requirement already satisfied: jsonasobj2<2.dev0,>=1.0.4 in /Users/EECavanna/mambaforge/lib/python3.10/site-packages (from linkml-runtime==1.8.2->-r requirements.txt (line 6)) (1.0.4)\r\n",
      "Requirement already satisfied: prefixcommons>=0.1.12 in /Users/EECavanna/mambaforge/lib/python3.10/site-packages (from linkml-runtime==1.8.2->-r requirements.txt (line 6)) (0.1.12)\r\n",
      "Requirement already satisfied: prefixmaps>=0.1.4 in /Users/EECavanna/mambaforge/lib/python3.10/site-packages (from linkml-runtime==1.8.2->-r requirements.txt (line 6)) (0.2.5)\r\n",
      "Requirement already satisfied: pydantic<3.0.0,>=1.10.2 in /Users/EECavanna/mambaforge/lib/python3.10/site-packages (from linkml-runtime==1.8.2->-r requirements.txt (line 6)) (2.4.2)\r\n",
      "Requirement already satisfied: rdflib>=6.0.0 in /Users/EECavanna/mambaforge/lib/python3.10/site-packages (from linkml-runtime==1.8.2->-r requirements.txt (line 6)) (7.0.0)\r\n",
      "Requirement already satisfied: requests in /Users/EECavanna/mambaforge/lib/python3.10/site-packages (from linkml-runtime==1.8.2->-r requirements.txt (line 6)) (2.31.0)\r\n",
      "Requirement already satisfied: pytrie in /Users/EECavanna/mambaforge/lib/python3.10/site-packages (from curies>=0.5.4->linkml-runtime==1.8.2->-r requirements.txt (line 6)) (0.4.0)\r\n",
      "Requirement already satisfied: pytest-logging<2016.0.0,>=2015.11.4 in /Users/EECavanna/mambaforge/lib/python3.10/site-packages (from prefixcommons>=0.1.12->linkml-runtime==1.8.2->-r requirements.txt (line 6)) (2015.11.4)\r\n",
      "Requirement already satisfied: annotated-types>=0.4.0 in /Users/EECavanna/mambaforge/lib/python3.10/site-packages (from pydantic<3.0.0,>=1.10.2->linkml-runtime==1.8.2->-r requirements.txt (line 6)) (0.6.0)\r\n",
      "Requirement already satisfied: pydantic-core==2.10.1 in /Users/EECavanna/mambaforge/lib/python3.10/site-packages (from pydantic<3.0.0,>=1.10.2->linkml-runtime==1.8.2->-r requirements.txt (line 6)) (2.10.1)\r\n",
      "Requirement already satisfied: typing-extensions>=4.6.1 in /Users/EECavanna/mambaforge/lib/python3.10/site-packages (from pydantic<3.0.0,>=1.10.2->linkml-runtime==1.8.2->-r requirements.txt (line 6)) (4.12.2)\r\n",
      "Requirement already satisfied: isodate<0.7.0,>=0.6.0 in /Users/EECavanna/mambaforge/lib/python3.10/site-packages (from rdflib>=6.0.0->linkml-runtime==1.8.2->-r requirements.txt (line 6)) (0.6.1)\r\n",
      "Requirement already satisfied: pyparsing<4,>=2.1.0 in /Users/EECavanna/mambaforge/lib/python3.10/site-packages (from rdflib>=6.0.0->linkml-runtime==1.8.2->-r requirements.txt (line 6)) (3.1.1)\r\n",
      "Requirement already satisfied: charset-normalizer<4,>=2 in /Users/EECavanna/mambaforge/lib/python3.10/site-packages (from requests->linkml-runtime==1.8.2->-r requirements.txt (line 6)) (3.3.1)\r\n",
      "Requirement already satisfied: idna<4,>=2.5 in /Users/EECavanna/mambaforge/lib/python3.10/site-packages (from requests->linkml-runtime==1.8.2->-r requirements.txt (line 6)) (3.4)\r\n",
      "Requirement already satisfied: urllib3<3,>=1.21.1 in /Users/EECavanna/mambaforge/lib/python3.10/site-packages (from requests->linkml-runtime==1.8.2->-r requirements.txt (line 6)) (1.26.18)\r\n",
      "Requirement already satisfied: certifi>=2017.4.17 in /Users/EECavanna/mambaforge/lib/python3.10/site-packages (from requests->linkml-runtime==1.8.2->-r requirements.txt (line 6)) (2023.7.22)\r\n",
      "Requirement already satisfied: wrapt<2,>=1.10 in /Users/EECavanna/mambaforge/lib/python3.10/site-packages (from deprecated->linkml-runtime==1.8.2->-r requirements.txt (line 6)) (1.15.0)\r\n",
      "Requirement already satisfied: six in /Users/EECavanna/mambaforge/lib/python3.10/site-packages (from isodate<0.7.0,>=0.6.0->rdflib>=6.0.0->linkml-runtime==1.8.2->-r requirements.txt (line 6)) (1.16.0)\r\n",
      "Requirement already satisfied: pytest>=2.8.1 in /Users/EECavanna/mambaforge/lib/python3.10/site-packages (from pytest-logging<2016.0.0,>=2015.11.4->prefixcommons>=0.1.12->linkml-runtime==1.8.2->-r requirements.txt (line 6)) (7.4.3)\r\n",
      "Requirement already satisfied: sortedcontainers in /Users/EECavanna/mambaforge/lib/python3.10/site-packages (from pytrie->curies>=0.5.4->linkml-runtime==1.8.2->-r requirements.txt (line 6)) (2.4.0)\r\n",
      "Requirement already satisfied: iniconfig in /Users/EECavanna/mambaforge/lib/python3.10/site-packages (from pytest>=2.8.1->pytest-logging<2016.0.0,>=2015.11.4->prefixcommons>=0.1.12->linkml-runtime==1.8.2->-r requirements.txt (line 6)) (2.0.0)\r\n",
      "Requirement already satisfied: packaging in /Users/EECavanna/mambaforge/lib/python3.10/site-packages (from pytest>=2.8.1->pytest-logging<2016.0.0,>=2015.11.4->prefixcommons>=0.1.12->linkml-runtime==1.8.2->-r requirements.txt (line 6)) (23.2)\r\n",
      "Requirement already satisfied: pluggy<2.0,>=0.12 in /Users/EECavanna/mambaforge/lib/python3.10/site-packages (from pytest>=2.8.1->pytest-logging<2016.0.0,>=2015.11.4->prefixcommons>=0.1.12->linkml-runtime==1.8.2->-r requirements.txt (line 6)) (1.3.0)\r\n",
      "Requirement already satisfied: exceptiongroup>=1.0.0rc8 in /Users/EECavanna/mambaforge/lib/python3.10/site-packages (from pytest>=2.8.1->pytest-logging<2016.0.0,>=2015.11.4->prefixcommons>=0.1.12->linkml-runtime==1.8.2->-r requirements.txt (line 6)) (1.1.3)\r\n",
      "Requirement already satisfied: tomli>=1.0.0 in /Users/EECavanna/mambaforge/lib/python3.10/site-packages (from pytest>=2.8.1->pytest-logging<2016.0.0,>=2015.11.4->prefixcommons>=0.1.12->linkml-runtime==1.8.2->-r requirements.txt (line 6)) (2.0.1)\r\n",
      "Note: you may need to restart the kernel to use updated packages.\n",
      "Requirement already satisfied: nmdc-schema==11.0.0rc22 in /Users/EECavanna/mambaforge/lib/python3.10/site-packages (11.0.0rc22)\r\n",
      "Requirement already satisfied: linkml<2.0.0,>=1.7.10 in /Users/EECavanna/mambaforge/lib/python3.10/site-packages (from nmdc-schema==11.0.0rc22) (1.8.3)\r\n",
      "Requirement already satisfied: linkml-runtime<2.0.0,>=1.7.7 in /Users/EECavanna/mambaforge/lib/python3.10/site-packages (from nmdc-schema==11.0.0rc22) (1.8.2)\r\n",
      "Requirement already satisfied: mkdocs<2.0.0,>=1.4.2 in /Users/EECavanna/mambaforge/lib/python3.10/site-packages (from nmdc-schema==11.0.0rc22) (1.5.3)\r\n",
      "Requirement already satisfied: mkdocs-mermaid2-plugin<0.7.0,>=0.6.0 in /Users/EECavanna/mambaforge/lib/python3.10/site-packages (from nmdc-schema==11.0.0rc22) (0.6.0)\r\n",
      "Requirement already satisfied: mkdocs-redirects<2.0.0,>=1.2.1 in /Users/EECavanna/mambaforge/lib/python3.10/site-packages (from nmdc-schema==11.0.0rc22) (1.2.1)\r\n",
      "Requirement already satisfied: pymongo<5.0.0,>=4.7.2 in /Users/EECavanna/mambaforge/lib/python3.10/site-packages (from nmdc-schema==11.0.0rc22) (4.7.2)\r\n",
      "Requirement already satisfied: ruamel-yaml<0.19.0,>=0.18.6 in /Users/EECavanna/mambaforge/lib/python3.10/site-packages (from nmdc-schema==11.0.0rc22) (0.18.6)\r\n",
      "Requirement already satisfied: antlr4-python3-runtime<4.10,>=4.9.0 in /Users/EECavanna/mambaforge/lib/python3.10/site-packages (from linkml<2.0.0,>=1.7.10->nmdc-schema==11.0.0rc22) (4.9.3)\r\n",
      "Requirement already satisfied: click>=7.0 in /Users/EECavanna/mambaforge/lib/python3.10/site-packages (from linkml<2.0.0,>=1.7.10->nmdc-schema==11.0.0rc22) (8.1.7)\r\n",
      "Requirement already satisfied: graphviz>=0.10.1 in /Users/EECavanna/mambaforge/lib/python3.10/site-packages (from linkml<2.0.0,>=1.7.10->nmdc-schema==11.0.0rc22) (0.20.1)\r\n",
      "Requirement already satisfied: hbreader in /Users/EECavanna/mambaforge/lib/python3.10/site-packages (from linkml<2.0.0,>=1.7.10->nmdc-schema==11.0.0rc22) (0.9.1)\r\n",
      "Requirement already satisfied: isodate>=0.6.0 in /Users/EECavanna/mambaforge/lib/python3.10/site-packages (from linkml<2.0.0,>=1.7.10->nmdc-schema==11.0.0rc22) (0.6.1)\r\n",
      "Requirement already satisfied: jinja2>=3.1.0 in /Users/EECavanna/mambaforge/lib/python3.10/site-packages (from linkml<2.0.0,>=1.7.10->nmdc-schema==11.0.0rc22) (3.1.2)\r\n",
      "Requirement already satisfied: jsonasobj2<2.0.0,>=1.0.3 in /Users/EECavanna/mambaforge/lib/python3.10/site-packages (from linkml<2.0.0,>=1.7.10->nmdc-schema==11.0.0rc22) (1.0.4)\r\n",
      "Requirement already satisfied: jsonschema>=4.0.0 in /Users/EECavanna/mambaforge/lib/python3.10/site-packages (from jsonschema[format]>=4.0.0->linkml<2.0.0,>=1.7.10->nmdc-schema==11.0.0rc22) (4.19.2)\r\n",
      "Requirement already satisfied: linkml-dataops in /Users/EECavanna/mambaforge/lib/python3.10/site-packages (from linkml<2.0.0,>=1.7.10->nmdc-schema==11.0.0rc22) (0.1.0)\r\n",
      "Requirement already satisfied: openpyxl in /Users/EECavanna/mambaforge/lib/python3.10/site-packages (from linkml<2.0.0,>=1.7.10->nmdc-schema==11.0.0rc22) (3.1.2)\r\n",
      "Requirement already satisfied: parse in /Users/EECavanna/mambaforge/lib/python3.10/site-packages (from linkml<2.0.0,>=1.7.10->nmdc-schema==11.0.0rc22) (1.19.1)\r\n",
      "Requirement already satisfied: prefixcommons>=0.1.7 in /Users/EECavanna/mambaforge/lib/python3.10/site-packages (from linkml<2.0.0,>=1.7.10->nmdc-schema==11.0.0rc22) (0.1.12)\r\n",
      "Requirement already satisfied: prefixmaps>=0.2.2 in /Users/EECavanna/mambaforge/lib/python3.10/site-packages (from linkml<2.0.0,>=1.7.10->nmdc-schema==11.0.0rc22) (0.2.5)\r\n",
      "Requirement already satisfied: pydantic<3.0.0,>=1.0.0 in /Users/EECavanna/mambaforge/lib/python3.10/site-packages (from linkml<2.0.0,>=1.7.10->nmdc-schema==11.0.0rc22) (2.4.2)\r\n",
      "Requirement already satisfied: pyjsg>=0.11.6 in /Users/EECavanna/mambaforge/lib/python3.10/site-packages (from linkml<2.0.0,>=1.7.10->nmdc-schema==11.0.0rc22) (0.11.10)\r\n",
      "Requirement already satisfied: pyshex>=0.7.20 in /Users/EECavanna/mambaforge/lib/python3.10/site-packages (from linkml<2.0.0,>=1.7.10->nmdc-schema==11.0.0rc22) (0.8.1)\r\n",
      "Requirement already satisfied: pyshexc>=0.8.3 in /Users/EECavanna/mambaforge/lib/python3.10/site-packages (from linkml<2.0.0,>=1.7.10->nmdc-schema==11.0.0rc22) (0.9.1)\r\n",
      "Requirement already satisfied: python-dateutil in /Users/EECavanna/mambaforge/lib/python3.10/site-packages (from linkml<2.0.0,>=1.7.10->nmdc-schema==11.0.0rc22) (2.8.2)\r\n",
      "Requirement already satisfied: pyyaml in /Users/EECavanna/mambaforge/lib/python3.10/site-packages (from linkml<2.0.0,>=1.7.10->nmdc-schema==11.0.0rc22) (6.0.1)\r\n",
      "Requirement already satisfied: rdflib>=6.0.0 in /Users/EECavanna/mambaforge/lib/python3.10/site-packages (from linkml<2.0.0,>=1.7.10->nmdc-schema==11.0.0rc22) (7.0.0)\r\n",
      "Requirement already satisfied: requests>=2.22 in /Users/EECavanna/mambaforge/lib/python3.10/site-packages (from linkml<2.0.0,>=1.7.10->nmdc-schema==11.0.0rc22) (2.31.0)\r\n",
      "Requirement already satisfied: sqlalchemy>=1.4.31 in /Users/EECavanna/mambaforge/lib/python3.10/site-packages (from linkml<2.0.0,>=1.7.10->nmdc-schema==11.0.0rc22) (2.0.22)\r\n",
      "Requirement already satisfied: watchdog>=0.9.0 in /Users/EECavanna/mambaforge/lib/python3.10/site-packages (from linkml<2.0.0,>=1.7.10->nmdc-schema==11.0.0rc22) (3.0.0)\r\n",
      "Requirement already satisfied: curies>=0.5.4 in /Users/EECavanna/mambaforge/lib/python3.10/site-packages (from linkml-runtime<2.0.0,>=1.7.7->nmdc-schema==11.0.0rc22) (0.7.6)\r\n",
      "Requirement already satisfied: deprecated in /Users/EECavanna/mambaforge/lib/python3.10/site-packages (from linkml-runtime<2.0.0,>=1.7.7->nmdc-schema==11.0.0rc22) (1.2.14)\r\n",
      "Requirement already satisfied: json-flattener>=0.1.9 in /Users/EECavanna/mambaforge/lib/python3.10/site-packages (from linkml-runtime<2.0.0,>=1.7.7->nmdc-schema==11.0.0rc22) (0.1.9)\r\n",
      "Requirement already satisfied: ghp-import>=1.0 in /Users/EECavanna/mambaforge/lib/python3.10/site-packages (from mkdocs<2.0.0,>=1.4.2->nmdc-schema==11.0.0rc22) (2.1.0)\r\n",
      "Requirement already satisfied: markdown>=3.2.1 in /Users/EECavanna/mambaforge/lib/python3.10/site-packages (from mkdocs<2.0.0,>=1.4.2->nmdc-schema==11.0.0rc22) (3.5.1)\r\n",
      "Requirement already satisfied: markupsafe>=2.0.1 in /Users/EECavanna/mambaforge/lib/python3.10/site-packages (from mkdocs<2.0.0,>=1.4.2->nmdc-schema==11.0.0rc22) (2.1.3)\r\n",
      "Requirement already satisfied: mergedeep>=1.3.4 in /Users/EECavanna/mambaforge/lib/python3.10/site-packages (from mkdocs<2.0.0,>=1.4.2->nmdc-schema==11.0.0rc22) (1.3.4)\r\n",
      "Requirement already satisfied: packaging>=20.5 in /Users/EECavanna/mambaforge/lib/python3.10/site-packages (from mkdocs<2.0.0,>=1.4.2->nmdc-schema==11.0.0rc22) (23.2)\r\n",
      "Requirement already satisfied: pathspec>=0.11.1 in /Users/EECavanna/mambaforge/lib/python3.10/site-packages (from mkdocs<2.0.0,>=1.4.2->nmdc-schema==11.0.0rc22) (0.11.2)\r\n",
      "Requirement already satisfied: platformdirs>=2.2.0 in /Users/EECavanna/mambaforge/lib/python3.10/site-packages (from mkdocs<2.0.0,>=1.4.2->nmdc-schema==11.0.0rc22) (3.11.0)\r\n",
      "Requirement already satisfied: pyyaml-env-tag>=0.1 in /Users/EECavanna/mambaforge/lib/python3.10/site-packages (from mkdocs<2.0.0,>=1.4.2->nmdc-schema==11.0.0rc22) (0.1)\r\n",
      "Requirement already satisfied: setuptools>=18.5 in /Users/EECavanna/mambaforge/lib/python3.10/site-packages (from mkdocs-mermaid2-plugin<0.7.0,>=0.6.0->nmdc-schema==11.0.0rc22) (73.0.1)\r\n",
      "Requirement already satisfied: beautifulsoup4>=4.6.3 in /Users/EECavanna/mambaforge/lib/python3.10/site-packages (from mkdocs-mermaid2-plugin<0.7.0,>=0.6.0->nmdc-schema==11.0.0rc22) (4.12.2)\r\n",
      "Requirement already satisfied: jsbeautifier in /Users/EECavanna/mambaforge/lib/python3.10/site-packages (from mkdocs-mermaid2-plugin<0.7.0,>=0.6.0->nmdc-schema==11.0.0rc22) (1.14.9)\r\n",
      "Requirement already satisfied: mkdocs-material in /Users/EECavanna/mambaforge/lib/python3.10/site-packages (from mkdocs-mermaid2-plugin<0.7.0,>=0.6.0->nmdc-schema==11.0.0rc22) (9.4.7)\r\n",
      "Requirement already satisfied: pymdown-extensions>=8.0 in /Users/EECavanna/mambaforge/lib/python3.10/site-packages (from mkdocs-mermaid2-plugin<0.7.0,>=0.6.0->nmdc-schema==11.0.0rc22) (10.3.1)\r\n",
      "Requirement already satisfied: dnspython<3.0.0,>=1.16.0 in /Users/EECavanna/mambaforge/lib/python3.10/site-packages (from pymongo<5.0.0,>=4.7.2->nmdc-schema==11.0.0rc22) (2.4.2)\r\n",
      "Requirement already satisfied: ruamel.yaml.clib>=0.2.7 in /Users/EECavanna/mambaforge/lib/python3.10/site-packages (from ruamel-yaml<0.19.0,>=0.18.6->nmdc-schema==11.0.0rc22) (0.2.8)\r\n",
      "Requirement already satisfied: soupsieve>1.2 in /Users/EECavanna/mambaforge/lib/python3.10/site-packages (from beautifulsoup4>=4.6.3->mkdocs-mermaid2-plugin<0.7.0,>=0.6.0->nmdc-schema==11.0.0rc22) (2.5)\r\n",
      "Requirement already satisfied: pytrie in /Users/EECavanna/mambaforge/lib/python3.10/site-packages (from curies>=0.5.4->linkml-runtime<2.0.0,>=1.7.7->nmdc-schema==11.0.0rc22) (0.4.0)\r\n",
      "Requirement already satisfied: six in /Users/EECavanna/mambaforge/lib/python3.10/site-packages (from isodate>=0.6.0->linkml<2.0.0,>=1.7.10->nmdc-schema==11.0.0rc22) (1.16.0)\r\n",
      "Requirement already satisfied: attrs>=22.2.0 in /Users/EECavanna/mambaforge/lib/python3.10/site-packages (from jsonschema>=4.0.0->jsonschema[format]>=4.0.0->linkml<2.0.0,>=1.7.10->nmdc-schema==11.0.0rc22) (23.1.0)\r\n",
      "Requirement already satisfied: jsonschema-specifications>=2023.03.6 in /Users/EECavanna/mambaforge/lib/python3.10/site-packages (from jsonschema>=4.0.0->jsonschema[format]>=4.0.0->linkml<2.0.0,>=1.7.10->nmdc-schema==11.0.0rc22) (2023.12.1)\r\n",
      "Requirement already satisfied: referencing>=0.28.4 in /Users/EECavanna/mambaforge/lib/python3.10/site-packages (from jsonschema>=4.0.0->jsonschema[format]>=4.0.0->linkml<2.0.0,>=1.7.10->nmdc-schema==11.0.0rc22) (0.35.1)\r\n",
      "Requirement already satisfied: rpds-py>=0.7.1 in /Users/EECavanna/mambaforge/lib/python3.10/site-packages (from jsonschema>=4.0.0->jsonschema[format]>=4.0.0->linkml<2.0.0,>=1.7.10->nmdc-schema==11.0.0rc22) (0.10.6)\r\n",
      "Requirement already satisfied: fqdn in /Users/EECavanna/mambaforge/lib/python3.10/site-packages (from jsonschema[format]>=4.0.0->linkml<2.0.0,>=1.7.10->nmdc-schema==11.0.0rc22) (1.5.1)\r\n",
      "Requirement already satisfied: idna in /Users/EECavanna/mambaforge/lib/python3.10/site-packages (from jsonschema[format]>=4.0.0->linkml<2.0.0,>=1.7.10->nmdc-schema==11.0.0rc22) (3.4)\r\n",
      "Requirement already satisfied: isoduration in /Users/EECavanna/mambaforge/lib/python3.10/site-packages (from jsonschema[format]>=4.0.0->linkml<2.0.0,>=1.7.10->nmdc-schema==11.0.0rc22) (20.11.0)\r\n",
      "Requirement already satisfied: jsonpointer>1.13 in /Users/EECavanna/mambaforge/lib/python3.10/site-packages (from jsonschema[format]>=4.0.0->linkml<2.0.0,>=1.7.10->nmdc-schema==11.0.0rc22) (2.4)\r\n",
      "Requirement already satisfied: rfc3339-validator in /Users/EECavanna/mambaforge/lib/python3.10/site-packages (from jsonschema[format]>=4.0.0->linkml<2.0.0,>=1.7.10->nmdc-schema==11.0.0rc22) (0.1.4)\r\n",
      "Requirement already satisfied: rfc3987 in /Users/EECavanna/mambaforge/lib/python3.10/site-packages (from jsonschema[format]>=4.0.0->linkml<2.0.0,>=1.7.10->nmdc-schema==11.0.0rc22) (1.3.8)\r\n",
      "Requirement already satisfied: uri-template in /Users/EECavanna/mambaforge/lib/python3.10/site-packages (from jsonschema[format]>=4.0.0->linkml<2.0.0,>=1.7.10->nmdc-schema==11.0.0rc22) (1.3.0)\r\n",
      "Requirement already satisfied: webcolors>=1.11 in /Users/EECavanna/mambaforge/lib/python3.10/site-packages (from jsonschema[format]>=4.0.0->linkml<2.0.0,>=1.7.10->nmdc-schema==11.0.0rc22) (1.13)\r\n",
      "Requirement already satisfied: pytest-logging<2016.0.0,>=2015.11.4 in /Users/EECavanna/mambaforge/lib/python3.10/site-packages (from prefixcommons>=0.1.7->linkml<2.0.0,>=1.7.10->nmdc-schema==11.0.0rc22) (2015.11.4)\r\n",
      "Requirement already satisfied: annotated-types>=0.4.0 in /Users/EECavanna/mambaforge/lib/python3.10/site-packages (from pydantic<3.0.0,>=1.0.0->linkml<2.0.0,>=1.7.10->nmdc-schema==11.0.0rc22) (0.6.0)\r\n",
      "Requirement already satisfied: pydantic-core==2.10.1 in /Users/EECavanna/mambaforge/lib/python3.10/site-packages (from pydantic<3.0.0,>=1.0.0->linkml<2.0.0,>=1.7.10->nmdc-schema==11.0.0rc22) (2.10.1)\r\n",
      "Requirement already satisfied: typing-extensions>=4.6.1 in /Users/EECavanna/mambaforge/lib/python3.10/site-packages (from pydantic<3.0.0,>=1.0.0->linkml<2.0.0,>=1.7.10->nmdc-schema==11.0.0rc22) (4.12.2)\r\n",
      "Requirement already satisfied: jsonasobj>=1.2.1 in /Users/EECavanna/mambaforge/lib/python3.10/site-packages (from pyjsg>=0.11.6->linkml<2.0.0,>=1.7.10->nmdc-schema==11.0.0rc22) (1.3.1)\r\n",
      "Requirement already satisfied: cfgraph>=0.2.1 in /Users/EECavanna/mambaforge/lib/python3.10/site-packages (from pyshex>=0.7.20->linkml<2.0.0,>=1.7.10->nmdc-schema==11.0.0rc22) (0.2.1)\r\n",
      "Requirement already satisfied: chardet in /Users/EECavanna/mambaforge/lib/python3.10/site-packages (from pyshex>=0.7.20->linkml<2.0.0,>=1.7.10->nmdc-schema==11.0.0rc22) (5.2.0)\r\n",
      "Requirement already satisfied: rdflib-shim in /Users/EECavanna/mambaforge/lib/python3.10/site-packages (from pyshex>=0.7.20->linkml<2.0.0,>=1.7.10->nmdc-schema==11.0.0rc22) (1.0.3)\r\n",
      "Requirement already satisfied: shexjsg>=0.8.2 in /Users/EECavanna/mambaforge/lib/python3.10/site-packages (from pyshex>=0.7.20->linkml<2.0.0,>=1.7.10->nmdc-schema==11.0.0rc22) (0.8.2)\r\n",
      "Requirement already satisfied: sparqlslurper>=0.5.1 in /Users/EECavanna/mambaforge/lib/python3.10/site-packages (from pyshex>=0.7.20->linkml<2.0.0,>=1.7.10->nmdc-schema==11.0.0rc22) (0.5.1)\r\n",
      "Requirement already satisfied: sparqlwrapper>=1.8.5 in /Users/EECavanna/mambaforge/lib/python3.10/site-packages (from pyshex>=0.7.20->linkml<2.0.0,>=1.7.10->nmdc-schema==11.0.0rc22) (2.0.0)\r\n",
      "Requirement already satisfied: urllib3 in /Users/EECavanna/mambaforge/lib/python3.10/site-packages (from pyshex>=0.7.20->linkml<2.0.0,>=1.7.10->nmdc-schema==11.0.0rc22) (1.26.18)\r\n",
      "Requirement already satisfied: pyparsing<4,>=2.1.0 in /Users/EECavanna/mambaforge/lib/python3.10/site-packages (from rdflib>=6.0.0->linkml<2.0.0,>=1.7.10->nmdc-schema==11.0.0rc22) (3.1.1)\r\n",
      "Requirement already satisfied: charset-normalizer<4,>=2 in /Users/EECavanna/mambaforge/lib/python3.10/site-packages (from requests>=2.22->linkml<2.0.0,>=1.7.10->nmdc-schema==11.0.0rc22) (3.3.1)\r\n",
      "Requirement already satisfied: certifi>=2017.4.17 in /Users/EECavanna/mambaforge/lib/python3.10/site-packages (from requests>=2.22->linkml<2.0.0,>=1.7.10->nmdc-schema==11.0.0rc22) (2023.7.22)\r\n",
      "Requirement already satisfied: wrapt<2,>=1.10 in /Users/EECavanna/mambaforge/lib/python3.10/site-packages (from deprecated->linkml-runtime<2.0.0,>=1.7.7->nmdc-schema==11.0.0rc22) (1.15.0)\r\n",
      "Requirement already satisfied: editorconfig>=0.12.2 in /Users/EECavanna/mambaforge/lib/python3.10/site-packages (from jsbeautifier->mkdocs-mermaid2-plugin<0.7.0,>=0.6.0->nmdc-schema==11.0.0rc22) (0.12.3)\r\n",
      "Requirement already satisfied: jsonpatch in /Users/EECavanna/mambaforge/lib/python3.10/site-packages (from linkml-dataops->linkml<2.0.0,>=1.7.10->nmdc-schema==11.0.0rc22) (1.33)\r\n",
      "Requirement already satisfied: jsonpath-ng in /Users/EECavanna/mambaforge/lib/python3.10/site-packages (from linkml-dataops->linkml<2.0.0,>=1.7.10->nmdc-schema==11.0.0rc22) (1.6.0)\r\n",
      "Requirement already satisfied: babel~=2.10 in /Users/EECavanna/mambaforge/lib/python3.10/site-packages (from mkdocs-material->mkdocs-mermaid2-plugin<0.7.0,>=0.6.0->nmdc-schema==11.0.0rc22) (2.13.1)\r\n",
      "Requirement already satisfied: colorama~=0.4 in /Users/EECavanna/mambaforge/lib/python3.10/site-packages (from mkdocs-material->mkdocs-mermaid2-plugin<0.7.0,>=0.6.0->nmdc-schema==11.0.0rc22) (0.4.6)\r\n",
      "Requirement already satisfied: mkdocs-material-extensions~=1.3 in /Users/EECavanna/mambaforge/lib/python3.10/site-packages (from mkdocs-material->mkdocs-mermaid2-plugin<0.7.0,>=0.6.0->nmdc-schema==11.0.0rc22) (1.3)\r\n",
      "Requirement already satisfied: paginate~=0.5 in /Users/EECavanna/mambaforge/lib/python3.10/site-packages (from mkdocs-material->mkdocs-mermaid2-plugin<0.7.0,>=0.6.0->nmdc-schema==11.0.0rc22) (0.5.6)\r\n",
      "Requirement already satisfied: pygments~=2.16 in /Users/EECavanna/mambaforge/lib/python3.10/site-packages (from mkdocs-material->mkdocs-mermaid2-plugin<0.7.0,>=0.6.0->nmdc-schema==11.0.0rc22) (2.16.1)\r\n",
      "Requirement already satisfied: regex>=2022.4 in /Users/EECavanna/mambaforge/lib/python3.10/site-packages (from mkdocs-material->mkdocs-mermaid2-plugin<0.7.0,>=0.6.0->nmdc-schema==11.0.0rc22) (2023.10.3)\r\n",
      "Requirement already satisfied: et-xmlfile in /Users/EECavanna/mambaforge/lib/python3.10/site-packages (from openpyxl->linkml<2.0.0,>=1.7.10->nmdc-schema==11.0.0rc22) (1.1.0)\r\n",
      "Requirement already satisfied: pytest>=2.8.1 in /Users/EECavanna/mambaforge/lib/python3.10/site-packages (from pytest-logging<2016.0.0,>=2015.11.4->prefixcommons>=0.1.7->linkml<2.0.0,>=1.7.10->nmdc-schema==11.0.0rc22) (7.4.3)\r\n",
      "Requirement already satisfied: arrow>=0.15.0 in /Users/EECavanna/mambaforge/lib/python3.10/site-packages (from isoduration->jsonschema[format]>=4.0.0->linkml<2.0.0,>=1.7.10->nmdc-schema==11.0.0rc22) (1.3.0)\r\n",
      "Requirement already satisfied: ply in /Users/EECavanna/mambaforge/lib/python3.10/site-packages (from jsonpath-ng->linkml-dataops->linkml<2.0.0,>=1.7.10->nmdc-schema==11.0.0rc22) (3.11)\r\n",
      "Requirement already satisfied: sortedcontainers in /Users/EECavanna/mambaforge/lib/python3.10/site-packages (from pytrie->curies>=0.5.4->linkml-runtime<2.0.0,>=1.7.7->nmdc-schema==11.0.0rc22) (2.4.0)\r\n",
      "Requirement already satisfied: rdflib-jsonld==0.6.1 in /Users/EECavanna/mambaforge/lib/python3.10/site-packages (from rdflib-shim->pyshex>=0.7.20->linkml<2.0.0,>=1.7.10->nmdc-schema==11.0.0rc22) (0.6.1)\r\n",
      "Requirement already satisfied: types-python-dateutil>=2.8.10 in /Users/EECavanna/mambaforge/lib/python3.10/site-packages (from arrow>=0.15.0->isoduration->jsonschema[format]>=4.0.0->linkml<2.0.0,>=1.7.10->nmdc-schema==11.0.0rc22) (2.8.19.14)\r\n",
      "Requirement already satisfied: iniconfig in /Users/EECavanna/mambaforge/lib/python3.10/site-packages (from pytest>=2.8.1->pytest-logging<2016.0.0,>=2015.11.4->prefixcommons>=0.1.7->linkml<2.0.0,>=1.7.10->nmdc-schema==11.0.0rc22) (2.0.0)\r\n",
      "Requirement already satisfied: pluggy<2.0,>=0.12 in /Users/EECavanna/mambaforge/lib/python3.10/site-packages (from pytest>=2.8.1->pytest-logging<2016.0.0,>=2015.11.4->prefixcommons>=0.1.7->linkml<2.0.0,>=1.7.10->nmdc-schema==11.0.0rc22) (1.3.0)\r\n",
      "Requirement already satisfied: exceptiongroup>=1.0.0rc8 in /Users/EECavanna/mambaforge/lib/python3.10/site-packages (from pytest>=2.8.1->pytest-logging<2016.0.0,>=2015.11.4->prefixcommons>=0.1.7->linkml<2.0.0,>=1.7.10->nmdc-schema==11.0.0rc22) (1.1.3)\r\n",
      "Requirement already satisfied: tomli>=1.0.0 in /Users/EECavanna/mambaforge/lib/python3.10/site-packages (from pytest>=2.8.1->pytest-logging<2016.0.0,>=2015.11.4->prefixcommons>=0.1.7->linkml<2.0.0,>=1.7.10->nmdc-schema==11.0.0rc22) (2.0.1)\r\n",
      "Note: you may need to restart the kernel to use updated packages.\n"
     ]
    }
   ],
   "execution_count": 1
  },
  {
   "cell_type": "markdown",
   "id": "a407c354",
   "metadata": {},
   "source": [
    "### Import Python dependencies\n",
    "\n",
    "Import the Python objects upon which this notebook depends.\n",
    "\n",
    "- TODO: Consider whether the JSON Schema Validator version (e.g. `Draft7Validator` versus `Draft201909Validator`) is consistent with the JSON Schema version."
   ]
  },
  {
   "cell_type": "code",
   "id": "dbecd561",
   "metadata": {
    "ExecuteTime": {
     "end_time": "2024-09-18T05:38:11.575351Z",
     "start_time": "2024-09-18T05:38:11.568630Z"
    }
   },
   "source": [
    "# Standard library packages:\n",
    "import subprocess\n",
    "from typing import List\n",
    "\n",
    "# Third-party packages:\n",
    "import pymongo\n",
    "from jsonschema import Draft7Validator as JSONSchemaValidator\n",
    "from nmdc_schema.nmdc_data import get_nmdc_jsonschema_dict, SchemaVariantIdentifier, get_nmdc_schema_definition\n",
    "from nmdc_schema.migrators.adapters.mongo_adapter import MongoAdapter\n",
    "from linkml_runtime import SchemaView\n",
    "\n",
    "# Note: The migrator module has \"10_2_0\" in its name because, when it was created,\n",
    "#       the latest legacy schema version was, indeed, still `10.2.0`.\n",
    "from nmdc_schema.migrators.migrator_from_10_2_0_to_11_0_0 import Migrator\n",
    "\n",
    "# First-party packages:\n",
    "from helpers import Config, setup_logger, get_collection_names_from_schema\n",
    "from bookkeeper import Bookkeeper, MigrationEvent"
   ],
   "outputs": [],
   "execution_count": 10
  },
  {
   "cell_type": "markdown",
   "id": "99b20ff4",
   "metadata": {},
   "source": [
    "### Parse configuration files\n",
    "\n",
    "Parse the notebook and Mongo configuration files."
   ]
  },
  {
   "cell_type": "code",
   "id": "1eac645a",
   "metadata": {
    "ExecuteTime": {
     "end_time": "2024-09-18T05:34:42.690792Z",
     "start_time": "2024-09-18T05:34:40.507152Z"
    }
   },
   "source": [
    "cfg = Config()\n",
    "\n",
    "# Define some aliases we can use to make the shell commands in this notebook easier to read.\n",
    "mongodump = cfg.mongodump_path\n",
    "mongorestore = cfg.mongorestore_path\n",
    "mongosh = cfg.mongosh_path\n",
    "\n",
    "# Perform a sanity test of the application paths.\n",
    "!{mongodump} --version\n",
    "!{mongorestore} --version\n",
    "!{mongosh} --version"
   ],
   "outputs": [
    {
     "name": "stdout",
     "output_type": "stream",
     "text": [
      "mongodump version: 100.7.4\r\n",
      "git version: fb74684da15f56d40231ab04ded86c71c1d8f37c\r\n",
      "Go version: go1.19.11\r\n",
      "   os: darwin\r\n",
      "   arch: arm64\r\n",
      "   compiler: gc\r\n",
      "mongorestore version: 100.7.4\r\n",
      "git version: fb74684da15f56d40231ab04ded86c71c1d8f37c\r\n",
      "Go version: go1.19.11\r\n",
      "   os: darwin\r\n",
      "   arch: arm64\r\n",
      "   compiler: gc\r\n",
      "1.10.6\r\n"
     ]
    }
   ],
   "execution_count": 3
  },
  {
   "cell_type": "markdown",
   "id": "68245d2b",
   "metadata": {},
   "source": [
    "### Create MongoDB clients\n",
    "\n",
    "Create MongoDB clients you can use to access the \"origin\" and \"transformer\" MongoDB servers."
   ]
  },
  {
   "cell_type": "code",
   "id": "8e95f559",
   "metadata": {
    "ExecuteTime": {
     "end_time": "2024-09-18T05:35:27.531850Z",
     "start_time": "2024-09-18T05:35:24.090289Z"
    }
   },
   "source": [
    "# Mongo client for \"origin\" MongoDB server.\n",
    "origin_mongo_client = pymongo.MongoClient(host=cfg.origin_mongo_host, \n",
    "                                          port=int(cfg.origin_mongo_port),\n",
    "                                          username=cfg.origin_mongo_username,\n",
    "                                          password=cfg.origin_mongo_password,\n",
    "                                          directConnection=True)\n",
    "\n",
    "# Mongo client for \"transformer\" MongoDB server.\n",
    "transformer_mongo_client = pymongo.MongoClient(host=cfg.transformer_mongo_host, \n",
    "                                               port=int(cfg.transformer_mongo_port),\n",
    "                                               username=cfg.transformer_mongo_username,\n",
    "                                               password=cfg.transformer_mongo_password,\n",
    "                                               directConnection=True)\n",
    "\n",
    "# Perform sanity tests of those MongoDB clients' abilities to access their respective MongoDB servers.\n",
    "with pymongo.timeout(3):\n",
    "    # Display the MongoDB server version (running on the \"origin\" Mongo server).\n",
    "    print(\"Origin Mongo server version:      \" + origin_mongo_client.server_info()[\"version\"])\n",
    "\n",
    "    # Sanity test: Ensure the origin database exists.\n",
    "    assert \"nmdc\" in origin_mongo_client.list_database_names(), \"Origin database does not exist.\"\n",
    "\n",
    "    # Display the MongoDB server version (running on the \"transformer\" Mongo server).\n",
    "    print(\"Transformer Mongo server version: \" + transformer_mongo_client.server_info()[\"version\"])\n",
    "\n",
    "    # Sanity test: Ensure the transformation database does not exist.\n",
    "    assert \"nmdc\" not in transformer_mongo_client.list_database_names(), \"Transformation database already exists.\""
   ],
   "outputs": [
    {
     "ename": "ServerSelectionTimeoutError",
     "evalue": "localhost:27054: [Errno 61] Connection refused (configured timeouts: socketTimeoutMS: 20000.0ms, connectTimeoutMS: 20000.0ms), Timeout: 2.999477917328477s, Topology Description: <TopologyDescription id: 66ea669cb14bb8e4a2353ab8, topology_type: Single, servers: [<ServerDescription ('localhost', 27054) server_type: Unknown, rtt: None, error=AutoReconnect('localhost:27054: [Errno 61] Connection refused (configured timeouts: socketTimeoutMS: 20000.0ms, connectTimeoutMS: 20000.0ms)')>]>",
     "output_type": "error",
     "traceback": [
      "\u001B[0;31m---------------------------------------------------------------------------\u001B[0m",
      "\u001B[0;31mServerSelectionTimeoutError\u001B[0m               Traceback (most recent call last)",
      "Cell \u001B[0;32mIn[4], line 18\u001B[0m\n\u001B[1;32m     15\u001B[0m \u001B[38;5;66;03m# Perform sanity tests of those MongoDB clients' abilities to access their respective MongoDB servers.\u001B[39;00m\n\u001B[1;32m     16\u001B[0m \u001B[38;5;28;01mwith\u001B[39;00m pymongo\u001B[38;5;241m.\u001B[39mtimeout(\u001B[38;5;241m3\u001B[39m):\n\u001B[1;32m     17\u001B[0m     \u001B[38;5;66;03m# Display the MongoDB server version (running on the \"origin\" Mongo server).\u001B[39;00m\n\u001B[0;32m---> 18\u001B[0m     \u001B[38;5;28mprint\u001B[39m(\u001B[38;5;124m\"\u001B[39m\u001B[38;5;124mOrigin Mongo server version:      \u001B[39m\u001B[38;5;124m\"\u001B[39m \u001B[38;5;241m+\u001B[39m \u001B[43morigin_mongo_client\u001B[49m\u001B[38;5;241;43m.\u001B[39;49m\u001B[43mserver_info\u001B[49m\u001B[43m(\u001B[49m\u001B[43m)\u001B[49m[\u001B[38;5;124m\"\u001B[39m\u001B[38;5;124mversion\u001B[39m\u001B[38;5;124m\"\u001B[39m])\n\u001B[1;32m     20\u001B[0m     \u001B[38;5;66;03m# Sanity test: Ensure the origin database exists.\u001B[39;00m\n\u001B[1;32m     21\u001B[0m     \u001B[38;5;28;01massert\u001B[39;00m \u001B[38;5;124m\"\u001B[39m\u001B[38;5;124mnmdc\u001B[39m\u001B[38;5;124m\"\u001B[39m \u001B[38;5;129;01min\u001B[39;00m origin_mongo_client\u001B[38;5;241m.\u001B[39mlist_database_names(), \u001B[38;5;124m\"\u001B[39m\u001B[38;5;124mOrigin database does not exist.\u001B[39m\u001B[38;5;124m\"\u001B[39m\n",
      "File \u001B[0;32m~/mambaforge/lib/python3.10/site-packages/pymongo/mongo_client.py:1922\u001B[0m, in \u001B[0;36mMongoClient.server_info\u001B[0;34m(self, session)\u001B[0m\n\u001B[1;32m   1911\u001B[0m \u001B[38;5;28;01mdef\u001B[39;00m \u001B[38;5;21mserver_info\u001B[39m(\u001B[38;5;28mself\u001B[39m, session: Optional[client_session\u001B[38;5;241m.\u001B[39mClientSession] \u001B[38;5;241m=\u001B[39m \u001B[38;5;28;01mNone\u001B[39;00m) \u001B[38;5;241m-\u001B[39m\u001B[38;5;241m>\u001B[39m \u001B[38;5;28mdict\u001B[39m[\u001B[38;5;28mstr\u001B[39m, Any]:\n\u001B[1;32m   1912\u001B[0m \u001B[38;5;250m    \u001B[39m\u001B[38;5;124;03m\"\"\"Get information about the MongoDB server we're connected to.\u001B[39;00m\n\u001B[1;32m   1913\u001B[0m \n\u001B[1;32m   1914\u001B[0m \u001B[38;5;124;03m    :param session: a\u001B[39;00m\n\u001B[0;32m   (...)\u001B[0m\n\u001B[1;32m   1918\u001B[0m \u001B[38;5;124;03m       Added ``session`` parameter.\u001B[39;00m\n\u001B[1;32m   1919\u001B[0m \u001B[38;5;124;03m    \"\"\"\u001B[39;00m\n\u001B[1;32m   1920\u001B[0m     \u001B[38;5;28;01mreturn\u001B[39;00m cast(\n\u001B[1;32m   1921\u001B[0m         \u001B[38;5;28mdict\u001B[39m,\n\u001B[0;32m-> 1922\u001B[0m         \u001B[38;5;28;43mself\u001B[39;49m\u001B[38;5;241;43m.\u001B[39;49m\u001B[43madmin\u001B[49m\u001B[38;5;241;43m.\u001B[39;49m\u001B[43mcommand\u001B[49m\u001B[43m(\u001B[49m\n\u001B[1;32m   1923\u001B[0m \u001B[43m            \u001B[49m\u001B[38;5;124;43m\"\u001B[39;49m\u001B[38;5;124;43mbuildinfo\u001B[39;49m\u001B[38;5;124;43m\"\u001B[39;49m\u001B[43m,\u001B[49m\u001B[43m \u001B[49m\u001B[43mread_preference\u001B[49m\u001B[38;5;241;43m=\u001B[39;49m\u001B[43mReadPreference\u001B[49m\u001B[38;5;241;43m.\u001B[39;49m\u001B[43mPRIMARY\u001B[49m\u001B[43m,\u001B[49m\u001B[43m \u001B[49m\u001B[43msession\u001B[49m\u001B[38;5;241;43m=\u001B[39;49m\u001B[43msession\u001B[49m\n\u001B[1;32m   1924\u001B[0m \u001B[43m        \u001B[49m\u001B[43m)\u001B[49m,\n\u001B[1;32m   1925\u001B[0m     )\n",
      "File \u001B[0;32m~/mambaforge/lib/python3.10/site-packages/pymongo/_csot.py:108\u001B[0m, in \u001B[0;36mapply.<locals>.csot_wrapper\u001B[0;34m(self, *args, **kwargs)\u001B[0m\n\u001B[1;32m    106\u001B[0m         \u001B[38;5;28;01mwith\u001B[39;00m _TimeoutContext(timeout):\n\u001B[1;32m    107\u001B[0m             \u001B[38;5;28;01mreturn\u001B[39;00m func(\u001B[38;5;28mself\u001B[39m, \u001B[38;5;241m*\u001B[39margs, \u001B[38;5;241m*\u001B[39m\u001B[38;5;241m*\u001B[39mkwargs)\n\u001B[0;32m--> 108\u001B[0m \u001B[38;5;28;01mreturn\u001B[39;00m \u001B[43mfunc\u001B[49m\u001B[43m(\u001B[49m\u001B[38;5;28;43mself\u001B[39;49m\u001B[43m,\u001B[49m\u001B[43m \u001B[49m\u001B[38;5;241;43m*\u001B[39;49m\u001B[43margs\u001B[49m\u001B[43m,\u001B[49m\u001B[43m \u001B[49m\u001B[38;5;241;43m*\u001B[39;49m\u001B[38;5;241;43m*\u001B[39;49m\u001B[43mkwargs\u001B[49m\u001B[43m)\u001B[49m\n",
      "File \u001B[0;32m~/mambaforge/lib/python3.10/site-packages/pymongo/database.py:893\u001B[0m, in \u001B[0;36mDatabase.command\u001B[0;34m(self, command, value, check, allowable_errors, read_preference, codec_options, session, comment, **kwargs)\u001B[0m\n\u001B[1;32m    891\u001B[0m \u001B[38;5;28;01mif\u001B[39;00m read_preference \u001B[38;5;129;01mis\u001B[39;00m \u001B[38;5;28;01mNone\u001B[39;00m:\n\u001B[1;32m    892\u001B[0m     read_preference \u001B[38;5;241m=\u001B[39m (session \u001B[38;5;129;01mand\u001B[39;00m session\u001B[38;5;241m.\u001B[39m_txn_read_preference()) \u001B[38;5;129;01mor\u001B[39;00m ReadPreference\u001B[38;5;241m.\u001B[39mPRIMARY\n\u001B[0;32m--> 893\u001B[0m \u001B[38;5;28;01mwith\u001B[39;00m \u001B[38;5;28;43mself\u001B[39;49m\u001B[38;5;241;43m.\u001B[39;49m\u001B[43m__client\u001B[49m\u001B[38;5;241;43m.\u001B[39;49m\u001B[43m_conn_for_reads\u001B[49m\u001B[43m(\u001B[49m\u001B[43mread_preference\u001B[49m\u001B[43m,\u001B[49m\u001B[43m \u001B[49m\u001B[43msession\u001B[49m\u001B[43m,\u001B[49m\u001B[43m \u001B[49m\u001B[43moperation\u001B[49m\u001B[38;5;241;43m=\u001B[39;49m\u001B[43mcommand_name\u001B[49m\u001B[43m)\u001B[49m \u001B[38;5;28;01mas\u001B[39;00m (\n\u001B[1;32m    894\u001B[0m     connection,\n\u001B[1;32m    895\u001B[0m     read_preference,\n\u001B[1;32m    896\u001B[0m ):\n\u001B[1;32m    897\u001B[0m     \u001B[38;5;28;01mreturn\u001B[39;00m \u001B[38;5;28mself\u001B[39m\u001B[38;5;241m.\u001B[39m_command(\n\u001B[1;32m    898\u001B[0m         connection,\n\u001B[1;32m    899\u001B[0m         command,\n\u001B[0;32m   (...)\u001B[0m\n\u001B[1;32m    906\u001B[0m         \u001B[38;5;241m*\u001B[39m\u001B[38;5;241m*\u001B[39mkwargs,\n\u001B[1;32m    907\u001B[0m     )\n",
      "File \u001B[0;32m~/mambaforge/lib/python3.10/site-packages/pymongo/mongo_client.py:1369\u001B[0m, in \u001B[0;36mMongoClient._conn_for_reads\u001B[0;34m(self, read_preference, session, operation)\u001B[0m\n\u001B[1;32m   1367\u001B[0m \u001B[38;5;28;01massert\u001B[39;00m read_preference \u001B[38;5;129;01mis\u001B[39;00m \u001B[38;5;129;01mnot\u001B[39;00m \u001B[38;5;28;01mNone\u001B[39;00m, \u001B[38;5;124m\"\u001B[39m\u001B[38;5;124mread_preference must not be None\u001B[39m\u001B[38;5;124m\"\u001B[39m\n\u001B[1;32m   1368\u001B[0m _ \u001B[38;5;241m=\u001B[39m \u001B[38;5;28mself\u001B[39m\u001B[38;5;241m.\u001B[39m_get_topology()\n\u001B[0;32m-> 1369\u001B[0m server \u001B[38;5;241m=\u001B[39m \u001B[38;5;28;43mself\u001B[39;49m\u001B[38;5;241;43m.\u001B[39;49m\u001B[43m_select_server\u001B[49m\u001B[43m(\u001B[49m\u001B[43mread_preference\u001B[49m\u001B[43m,\u001B[49m\u001B[43m \u001B[49m\u001B[43msession\u001B[49m\u001B[43m,\u001B[49m\u001B[43m \u001B[49m\u001B[43moperation\u001B[49m\u001B[43m)\u001B[49m\n\u001B[1;32m   1370\u001B[0m \u001B[38;5;28;01mreturn\u001B[39;00m \u001B[38;5;28mself\u001B[39m\u001B[38;5;241m.\u001B[39m_conn_from_server(read_preference, server, session)\n",
      "File \u001B[0;32m~/mambaforge/lib/python3.10/site-packages/pymongo/mongo_client.py:1316\u001B[0m, in \u001B[0;36mMongoClient._select_server\u001B[0;34m(self, server_selector, session, operation, address, deprioritized_servers, operation_id)\u001B[0m\n\u001B[1;32m   1314\u001B[0m             \u001B[38;5;28;01mraise\u001B[39;00m AutoReconnect(\u001B[38;5;124m\"\u001B[39m\u001B[38;5;124mserver \u001B[39m\u001B[38;5;132;01m%s\u001B[39;00m\u001B[38;5;124m:\u001B[39m\u001B[38;5;132;01m%s\u001B[39;00m\u001B[38;5;124m no longer available\u001B[39m\u001B[38;5;124m\"\u001B[39m \u001B[38;5;241m%\u001B[39m address)  \u001B[38;5;66;03m# noqa: UP031\u001B[39;00m\n\u001B[1;32m   1315\u001B[0m     \u001B[38;5;28;01melse\u001B[39;00m:\n\u001B[0;32m-> 1316\u001B[0m         server \u001B[38;5;241m=\u001B[39m \u001B[43mtopology\u001B[49m\u001B[38;5;241;43m.\u001B[39;49m\u001B[43mselect_server\u001B[49m\u001B[43m(\u001B[49m\n\u001B[1;32m   1317\u001B[0m \u001B[43m            \u001B[49m\u001B[43mserver_selector\u001B[49m\u001B[43m,\u001B[49m\n\u001B[1;32m   1318\u001B[0m \u001B[43m            \u001B[49m\u001B[43moperation\u001B[49m\u001B[43m,\u001B[49m\n\u001B[1;32m   1319\u001B[0m \u001B[43m            \u001B[49m\u001B[43mdeprioritized_servers\u001B[49m\u001B[38;5;241;43m=\u001B[39;49m\u001B[43mdeprioritized_servers\u001B[49m\u001B[43m,\u001B[49m\n\u001B[1;32m   1320\u001B[0m \u001B[43m            \u001B[49m\u001B[43moperation_id\u001B[49m\u001B[38;5;241;43m=\u001B[39;49m\u001B[43moperation_id\u001B[49m\u001B[43m,\u001B[49m\n\u001B[1;32m   1321\u001B[0m \u001B[43m        \u001B[49m\u001B[43m)\u001B[49m\n\u001B[1;32m   1322\u001B[0m     \u001B[38;5;28;01mreturn\u001B[39;00m server\n\u001B[1;32m   1323\u001B[0m \u001B[38;5;28;01mexcept\u001B[39;00m PyMongoError \u001B[38;5;28;01mas\u001B[39;00m exc:\n\u001B[1;32m   1324\u001B[0m     \u001B[38;5;66;03m# Server selection errors in a transaction are transient.\u001B[39;00m\n",
      "File \u001B[0;32m~/mambaforge/lib/python3.10/site-packages/pymongo/topology.py:369\u001B[0m, in \u001B[0;36mTopology.select_server\u001B[0;34m(self, selector, operation, server_selection_timeout, address, deprioritized_servers, operation_id)\u001B[0m\n\u001B[1;32m    359\u001B[0m \u001B[38;5;28;01mdef\u001B[39;00m \u001B[38;5;21mselect_server\u001B[39m(\n\u001B[1;32m    360\u001B[0m     \u001B[38;5;28mself\u001B[39m,\n\u001B[1;32m    361\u001B[0m     selector: Callable[[Selection], Selection],\n\u001B[0;32m   (...)\u001B[0m\n\u001B[1;32m    366\u001B[0m     operation_id: Optional[\u001B[38;5;28mint\u001B[39m] \u001B[38;5;241m=\u001B[39m \u001B[38;5;28;01mNone\u001B[39;00m,\n\u001B[1;32m    367\u001B[0m ) \u001B[38;5;241m-\u001B[39m\u001B[38;5;241m>\u001B[39m Server:\n\u001B[1;32m    368\u001B[0m \u001B[38;5;250m    \u001B[39m\u001B[38;5;124;03m\"\"\"Like select_servers, but choose a random server if several match.\"\"\"\u001B[39;00m\n\u001B[0;32m--> 369\u001B[0m     server \u001B[38;5;241m=\u001B[39m \u001B[38;5;28;43mself\u001B[39;49m\u001B[38;5;241;43m.\u001B[39;49m\u001B[43m_select_server\u001B[49m\u001B[43m(\u001B[49m\n\u001B[1;32m    370\u001B[0m \u001B[43m        \u001B[49m\u001B[43mselector\u001B[49m\u001B[43m,\u001B[49m\n\u001B[1;32m    371\u001B[0m \u001B[43m        \u001B[49m\u001B[43moperation\u001B[49m\u001B[43m,\u001B[49m\n\u001B[1;32m    372\u001B[0m \u001B[43m        \u001B[49m\u001B[43mserver_selection_timeout\u001B[49m\u001B[43m,\u001B[49m\n\u001B[1;32m    373\u001B[0m \u001B[43m        \u001B[49m\u001B[43maddress\u001B[49m\u001B[43m,\u001B[49m\n\u001B[1;32m    374\u001B[0m \u001B[43m        \u001B[49m\u001B[43mdeprioritized_servers\u001B[49m\u001B[43m,\u001B[49m\n\u001B[1;32m    375\u001B[0m \u001B[43m        \u001B[49m\u001B[43moperation_id\u001B[49m\u001B[38;5;241;43m=\u001B[39;49m\u001B[43moperation_id\u001B[49m\u001B[43m,\u001B[49m\n\u001B[1;32m    376\u001B[0m \u001B[43m    \u001B[49m\u001B[43m)\u001B[49m\n\u001B[1;32m    377\u001B[0m     \u001B[38;5;28;01mif\u001B[39;00m _csot\u001B[38;5;241m.\u001B[39mget_timeout():\n\u001B[1;32m    378\u001B[0m         _csot\u001B[38;5;241m.\u001B[39mset_rtt(server\u001B[38;5;241m.\u001B[39mdescription\u001B[38;5;241m.\u001B[39mmin_round_trip_time)\n",
      "File \u001B[0;32m~/mambaforge/lib/python3.10/site-packages/pymongo/topology.py:347\u001B[0m, in \u001B[0;36mTopology._select_server\u001B[0;34m(self, selector, operation, server_selection_timeout, address, deprioritized_servers, operation_id)\u001B[0m\n\u001B[1;32m    338\u001B[0m \u001B[38;5;28;01mdef\u001B[39;00m \u001B[38;5;21m_select_server\u001B[39m(\n\u001B[1;32m    339\u001B[0m     \u001B[38;5;28mself\u001B[39m,\n\u001B[1;32m    340\u001B[0m     selector: Callable[[Selection], Selection],\n\u001B[0;32m   (...)\u001B[0m\n\u001B[1;32m    345\u001B[0m     operation_id: Optional[\u001B[38;5;28mint\u001B[39m] \u001B[38;5;241m=\u001B[39m \u001B[38;5;28;01mNone\u001B[39;00m,\n\u001B[1;32m    346\u001B[0m ) \u001B[38;5;241m-\u001B[39m\u001B[38;5;241m>\u001B[39m Server:\n\u001B[0;32m--> 347\u001B[0m     servers \u001B[38;5;241m=\u001B[39m \u001B[38;5;28;43mself\u001B[39;49m\u001B[38;5;241;43m.\u001B[39;49m\u001B[43mselect_servers\u001B[49m\u001B[43m(\u001B[49m\n\u001B[1;32m    348\u001B[0m \u001B[43m        \u001B[49m\u001B[43mselector\u001B[49m\u001B[43m,\u001B[49m\u001B[43m \u001B[49m\u001B[43moperation\u001B[49m\u001B[43m,\u001B[49m\u001B[43m \u001B[49m\u001B[43mserver_selection_timeout\u001B[49m\u001B[43m,\u001B[49m\u001B[43m \u001B[49m\u001B[43maddress\u001B[49m\u001B[43m,\u001B[49m\u001B[43m \u001B[49m\u001B[43moperation_id\u001B[49m\n\u001B[1;32m    349\u001B[0m \u001B[43m    \u001B[49m\u001B[43m)\u001B[49m\n\u001B[1;32m    350\u001B[0m     servers \u001B[38;5;241m=\u001B[39m _filter_servers(servers, deprioritized_servers)\n\u001B[1;32m    351\u001B[0m     \u001B[38;5;28;01mif\u001B[39;00m \u001B[38;5;28mlen\u001B[39m(servers) \u001B[38;5;241m==\u001B[39m \u001B[38;5;241m1\u001B[39m:\n",
      "File \u001B[0;32m~/mambaforge/lib/python3.10/site-packages/pymongo/topology.py:254\u001B[0m, in \u001B[0;36mTopology.select_servers\u001B[0;34m(self, selector, operation, server_selection_timeout, address, operation_id)\u001B[0m\n\u001B[1;32m    251\u001B[0m     server_timeout \u001B[38;5;241m=\u001B[39m server_selection_timeout\n\u001B[1;32m    253\u001B[0m \u001B[38;5;28;01mwith\u001B[39;00m \u001B[38;5;28mself\u001B[39m\u001B[38;5;241m.\u001B[39m_lock:\n\u001B[0;32m--> 254\u001B[0m     server_descriptions \u001B[38;5;241m=\u001B[39m \u001B[38;5;28;43mself\u001B[39;49m\u001B[38;5;241;43m.\u001B[39;49m\u001B[43m_select_servers_loop\u001B[49m\u001B[43m(\u001B[49m\n\u001B[1;32m    255\u001B[0m \u001B[43m        \u001B[49m\u001B[43mselector\u001B[49m\u001B[43m,\u001B[49m\u001B[43m \u001B[49m\u001B[43mserver_timeout\u001B[49m\u001B[43m,\u001B[49m\u001B[43m \u001B[49m\u001B[43moperation\u001B[49m\u001B[43m,\u001B[49m\u001B[43m \u001B[49m\u001B[43moperation_id\u001B[49m\u001B[43m,\u001B[49m\u001B[43m \u001B[49m\u001B[43maddress\u001B[49m\n\u001B[1;32m    256\u001B[0m \u001B[43m    \u001B[49m\u001B[43m)\u001B[49m\n\u001B[1;32m    258\u001B[0m     \u001B[38;5;28;01mreturn\u001B[39;00m [\n\u001B[1;32m    259\u001B[0m         cast(Server, \u001B[38;5;28mself\u001B[39m\u001B[38;5;241m.\u001B[39mget_server_by_address(sd\u001B[38;5;241m.\u001B[39maddress)) \u001B[38;5;28;01mfor\u001B[39;00m sd \u001B[38;5;129;01min\u001B[39;00m server_descriptions\n\u001B[1;32m    260\u001B[0m     ]\n",
      "File \u001B[0;32m~/mambaforge/lib/python3.10/site-packages/pymongo/topology.py:304\u001B[0m, in \u001B[0;36mTopology._select_servers_loop\u001B[0;34m(self, selector, timeout, operation, operation_id, address)\u001B[0m\n\u001B[1;32m    293\u001B[0m     \u001B[38;5;28;01mif\u001B[39;00m _SERVER_SELECTION_LOGGER\u001B[38;5;241m.\u001B[39misEnabledFor(logging\u001B[38;5;241m.\u001B[39mDEBUG):\n\u001B[1;32m    294\u001B[0m         _debug_log(\n\u001B[1;32m    295\u001B[0m             _SERVER_SELECTION_LOGGER,\n\u001B[1;32m    296\u001B[0m             message\u001B[38;5;241m=\u001B[39m_ServerSelectionStatusMessage\u001B[38;5;241m.\u001B[39mFAILED,\n\u001B[0;32m   (...)\u001B[0m\n\u001B[1;32m    302\u001B[0m             failure\u001B[38;5;241m=\u001B[39m\u001B[38;5;28mself\u001B[39m\u001B[38;5;241m.\u001B[39m_error_message(selector),\n\u001B[1;32m    303\u001B[0m         )\n\u001B[0;32m--> 304\u001B[0m     \u001B[38;5;28;01mraise\u001B[39;00m ServerSelectionTimeoutError(\n\u001B[1;32m    305\u001B[0m         \u001B[38;5;124mf\u001B[39m\u001B[38;5;124m\"\u001B[39m\u001B[38;5;132;01m{\u001B[39;00m\u001B[38;5;28mself\u001B[39m\u001B[38;5;241m.\u001B[39m_error_message(selector)\u001B[38;5;132;01m}\u001B[39;00m\u001B[38;5;124m, Timeout: \u001B[39m\u001B[38;5;132;01m{\u001B[39;00mtimeout\u001B[38;5;132;01m}\u001B[39;00m\u001B[38;5;124ms, Topology Description: \u001B[39m\u001B[38;5;132;01m{\u001B[39;00m\u001B[38;5;28mself\u001B[39m\u001B[38;5;241m.\u001B[39mdescription\u001B[38;5;132;01m!r}\u001B[39;00m\u001B[38;5;124m\"\u001B[39m\n\u001B[1;32m    306\u001B[0m     )\n\u001B[1;32m    308\u001B[0m \u001B[38;5;28;01mif\u001B[39;00m \u001B[38;5;129;01mnot\u001B[39;00m logged_waiting:\n\u001B[1;32m    309\u001B[0m     _info_log(\n\u001B[1;32m    310\u001B[0m         _SERVER_SELECTION_LOGGER,\n\u001B[1;32m    311\u001B[0m         message\u001B[38;5;241m=\u001B[39m_ServerSelectionStatusMessage\u001B[38;5;241m.\u001B[39mWAITING,\n\u001B[0;32m   (...)\u001B[0m\n\u001B[1;32m    317\u001B[0m         remainingTimeMS\u001B[38;5;241m=\u001B[39m\u001B[38;5;28mint\u001B[39m(end_time \u001B[38;5;241m-\u001B[39m time\u001B[38;5;241m.\u001B[39mmonotonic()),\n\u001B[1;32m    318\u001B[0m     )\n",
      "\u001B[0;31mServerSelectionTimeoutError\u001B[0m: localhost:27054: [Errno 61] Connection refused (configured timeouts: socketTimeoutMS: 20000.0ms, connectTimeoutMS: 20000.0ms), Timeout: 2.999477917328477s, Topology Description: <TopologyDescription id: 66ea669cb14bb8e4a2353ab8, topology_type: Single, servers: [<ServerDescription ('localhost', 27054) server_type: Unknown, rtt: None, error=AutoReconnect('localhost:27054: [Errno 61] Connection refused (configured timeouts: socketTimeoutMS: 20000.0ms, connectTimeoutMS: 20000.0ms)')>]>"
     ]
    }
   ],
   "execution_count": 4
  },
  {
   "cell_type": "markdown",
   "id": "1e195db1",
   "metadata": {},
   "source": [
    "Delete the \"nmdc\" database from the transformer MongoDB server if that database already exists there (e.g. if it was left over from an experiment).\n",
    "\n",
    "##### Description\n",
    "\n",
    "| Description                  | Link                                                          |\n",
    "|------------------------------|---------------------------------------------------------------|\n",
    "| Python's `subprocess` module | https://docs.python.org/3/library/subprocess.html             |\n",
    "| `mongosh` CLI options        | https://www.mongodb.com/docs/mongodb-shell/reference/options/ |"
   ]
  },
  {
   "cell_type": "code",
   "id": "8939a2ed",
   "metadata": {},
   "source": [
    "# Note: I run this command via Python's `subprocess` module instead of via an IPython magic `!` command\n",
    "#       because I expect to eventually use regular Python scripts—not Python notebooks—for migrations.\n",
    "shell_command = f\"\"\"\n",
    "  {cfg.mongosh_path} \\\n",
    "      --host='{cfg.transformer_mongo_host}' \\\n",
    "      --port='{cfg.transformer_mongo_port}' \\\n",
    "      --username='{cfg.transformer_mongo_username}' \\\n",
    "      --password='{cfg.transformer_mongo_password}' \\\n",
    "      --quiet \\\n",
    "      --eval 'use nmdc' \\\n",
    "      --eval 'db.dropDatabase()'\n",
    "\"\"\"\n",
    "completed_process = subprocess.run(shell_command, shell=True)\n",
    "print(f\"\\nReturn code: {completed_process.returncode}\")"
   ],
   "outputs": [],
   "execution_count": null
  },
  {
   "cell_type": "markdown",
   "id": "bc387abc62686091",
   "metadata": {
    "collapsed": false
   },
   "source": [
    "### Create JSON Schema validator\n",
    "\n",
    "In this step, you'll create a JSON Schema validator for the NMDC Schema."
   ]
  },
  {
   "cell_type": "code",
   "id": "5c982eb0c04e606d",
   "metadata": {
    "collapsed": false,
    "ExecuteTime": {
     "end_time": "2024-09-18T05:35:41.362092Z",
     "start_time": "2024-09-18T05:35:41.303340Z"
    }
   },
   "source": [
    "nmdc_jsonschema: dict = get_nmdc_jsonschema_dict(variant=SchemaVariantIdentifier.nmdc_materialized_patterns)\n",
    "nmdc_jsonschema_validator = JSONSchemaValidator(nmdc_jsonschema)\n",
    "\n",
    "# Perform sanity tests of the NMDC Schema dictionary and the JSON Schema validator.\n",
    "# Reference: https://python-jsonschema.readthedocs.io/en/latest/api/jsonschema/protocols/#jsonschema.protocols.Validator.check_schema\n",
    "print(\"NMDC Schema title:   \" + nmdc_jsonschema[\"title\"])\n",
    "print(\"NMDC Schema version: \" + nmdc_jsonschema[\"version\"])\n",
    "\n",
    "nmdc_jsonschema_validator.check_schema(nmdc_jsonschema)  # raises exception if schema is invalid"
   ],
   "outputs": [
    {
     "name": "stdout",
     "output_type": "stream",
     "text": [
      "NMDC Schema title:   NMDC\n",
      "NMDC Schema version: 11.0.0rc22\n"
     ]
    }
   ],
   "execution_count": 5
  },
  {
   "cell_type": "markdown",
   "id": "e7e8befb362a1670",
   "metadata": {},
   "source": [
    "### Create SchemaView\n",
    "\n",
    "In this step, you'll instantiate a `SchemaView` that is bound to the destination schema. \n",
    "\n",
    "- Reference: https://linkml.io/linkml/developers/schemaview.html"
   ]
  },
  {
   "cell_type": "code",
   "id": "625a6e7df5016677",
   "metadata": {
    "ExecuteTime": {
     "end_time": "2024-09-18T05:44:52.809592Z",
     "start_time": "2024-09-18T05:44:51.993095Z"
    }
   },
   "source": [
    "schema_view = SchemaView(get_nmdc_schema_definition())\n",
    "\n",
    "# As a sanity test, confirm we can use the `SchemaView` instance to access a schema class.\n",
    "schema_view.get_class(class_name=\"Database\")[\"name\"]"
   ],
   "outputs": [
    {
     "data": {
      "text/plain": [
       "'Database'"
      ]
     },
     "execution_count": 21,
     "metadata": {},
     "output_type": "execute_result"
    }
   ],
   "execution_count": 21
  },
  {
   "cell_type": "markdown",
   "id": "3975ac24",
   "metadata": {},
   "source": [
    "### Revoke access from the \"origin\" MongoDB server\n",
    "\n",
    "We revoke both \"write\" and \"read\" access to the server.\n",
    "\n",
    "We revoke \"write\" access so people don't make changes to the original data while the migration is happening, given that the migration ends with an overwriting of the original data (which would wipe out any changes made in the meantime).\n",
    "\n",
    "We also revoke \"read\" access. The revocation of \"read\" access is technically optional, but (a) the JavaScript mongosh script will be easier for me to maintain if it revokes everything and (b) this prevents people from reading data during the restore step, during which the database may not be self-consistent.\n",
    "\n",
    "##### References\n",
    "\n",
    "| Description                    | Link                                                      |\n",
    "|--------------------------------|-----------------------------------------------------------|\n",
    "| Running a script via `mongosh` | https://www.mongodb.com/docs/mongodb-shell/write-scripts/ |"
   ]
  },
  {
   "cell_type": "code",
   "id": "f761caad",
   "metadata": {},
   "source": [
    "shell_command = f\"\"\"\n",
    "  {cfg.mongosh_path} \\\n",
    "      --host='{cfg.origin_mongo_host}' \\\n",
    "      --port='{cfg.origin_mongo_port}' \\\n",
    "      --username='{cfg.origin_mongo_username}' \\\n",
    "      --password='{cfg.origin_mongo_password}' \\\n",
    "      --quiet \\\n",
    "      --file='mongosh-scripts/revoke-privileges.mongo.js'\n",
    "\"\"\"\n",
    "completed_process = subprocess.run(shell_command, shell=True)\n",
    "print(f\"\\nReturn code: {completed_process.returncode}\")"
   ],
   "outputs": [],
   "execution_count": null
  },
  {
   "metadata": {},
   "cell_type": "markdown",
   "source": [
    "### Delete obsolete dumps from previous migrations\n",
    "\n",
    "Delete any existing dumps before we create new ones in this notebook. This is so the dumps you generate with this notebook do not get merged with any unrelated ones."
   ],
   "id": "7f9c87de6fb8530c"
  },
  {
   "metadata": {},
   "cell_type": "code",
   "outputs": [],
   "execution_count": null,
   "source": [
    "!rm -rf {cfg.origin_dump_folder_path}\n",
    "!rm -rf {cfg.transformer_dump_folder_path}"
   ],
   "id": "6a949d0fcb4b6fa0"
  },
  {
   "cell_type": "markdown",
   "id": "b7799910b6b0715d",
   "metadata": {},
   "source": [
    "### Dump collections from the \"origin\" MongoDB server\n",
    "\n",
    "Use `mongodump` to dump all the collections **from** the \"origin\" MongoDB server **into** a local directory.\n",
    "\n",
    "- TODO: Consider only dumping collections represented by the initial schema."
   ]
  },
  {
   "cell_type": "code",
   "id": "da530d6754c4f6fe",
   "metadata": {},
   "source": [
    "# Dump all collections from the \"origin\" database.\n",
    "shell_command = f\"\"\"\n",
    "  {mongodump} \\\n",
    "      --host='{cfg.origin_mongo_host}' \\\n",
    "      --port='{cfg.origin_mongo_port}' \\\n",
    "      --username='{cfg.origin_mongo_username}' \\\n",
    "      --password='{cfg.origin_mongo_password}' \\\n",
    "      --authenticationDatabase='admin' \\\n",
    "      --db='nmdc' \\\n",
    "      --gzip \\\n",
    "      --out='{cfg.origin_dump_folder_path}'\n",
    "\"\"\"\n",
    "completed_process = subprocess.run(shell_command, shell=True)\n",
    "print(f\"\\nReturn code: {completed_process.returncode}\")"
   ],
   "outputs": [],
   "execution_count": null
  },
  {
   "cell_type": "markdown",
   "id": "932ebde8abdd70ec",
   "metadata": {},
   "source": [
    "### Load the dumped collections into the \"transformer\" MongoDB server\n",
    "\n",
    "Use `mongorestore` to load the dumped collections **from** the local directory **into** the \"transformer\" MongoDB server."
   ]
  },
  {
   "cell_type": "code",
   "id": "79bd888e82d52a93",
   "metadata": {},
   "source": [
    "# Restore the dumped collections to the \"transformer\" MongoDB server.\n",
    "shell_command = f\"\"\"\n",
    "  {mongorestore} \\\n",
    "      --host='{cfg.transformer_mongo_host}' \\\n",
    "      --port='{cfg.transformer_mongo_port}' \\\n",
    "      --username='{cfg.transformer_mongo_username}' \\\n",
    "      --password='{cfg.transformer_mongo_password}' \\\n",
    "      --authenticationDatabase='admin' \\\n",
    "      --gzip \\\n",
    "      --drop \\\n",
    "      --preserveUUID \\\n",
    "      --stopOnError \\\n",
    "      --dir='{cfg.origin_dump_folder_path}'\n",
    "\"\"\"\n",
    "completed_process = subprocess.run(shell_command, shell=True)\n",
    "print(f\"\\nReturn code: {completed_process.returncode}\")"
   ],
   "outputs": [],
   "execution_count": null
  },
  {
   "cell_type": "markdown",
   "id": "c3e3c9c4",
   "metadata": {},
   "source": [
    "### Transform the collections within the \"transformer\" MongoDB server\n",
    "\n",
    "Use the migrator to transform the collections in the \"transformer\" database.\n",
    "\n",
    "> Reminder: The database transformation functions are defined in the `nmdc-schema` Python package installed earlier.\n",
    "\n",
    "> Reminder: The \"origin\" database is **not** affected by this step."
   ]
  },
  {
   "cell_type": "code",
   "id": "9c89c9dd3afe64e2",
   "metadata": {},
   "source": [
    "# Instantiate a MongoAdapter bound to the \"transformer\" database.\n",
    "adapter = MongoAdapter(\n",
    "    database=transformer_mongo_client[\"nmdc\"],\n",
    "    on_collection_created=lambda name: print(f'Created collection \"{name}\"'),\n",
    "    on_collection_renamed=lambda old_name, name: print(f'Renamed collection \"{old_name}\" to \"{name}\"'),\n",
    "    on_collection_deleted=lambda name: print(f'Deleted collection \"{name}\"'),\n",
    ")\n",
    "\n",
    "# Instantiate a Migrator bound to that adapter.\n",
    "logger = setup_logger()\n",
    "migrator = Migrator(adapter=adapter, logger=logger)\n",
    "\n",
    "# Execute the Migrator's `upgrade` method to perform the migration.\n",
    "migrator.upgrade()"
   ],
   "outputs": [],
   "execution_count": null
  },
  {
   "cell_type": "markdown",
   "id": "4c090068",
   "metadata": {},
   "source": [
    "### Validate the transformed documents\n",
    "\n",
    "Now that we have transformed the database, validate each document in each collection in the \"transformer\" MongoDB server."
   ]
  },
  {
   "cell_type": "code",
   "id": "e1c50b9911e02e70",
   "metadata": {},
   "source": [
    "# Get the names of all collections.\n",
    "collection_names: List[str] = get_collection_names_from_schema(schema_view)\n",
    "\n",
    "# Ensure that, if the (large) \"functional_annotation_agg\" collection is present in `collection_names`,\n",
    "# it goes at the end of the list we process. That way, we can find out about validation errors in\n",
    "# other collections without having to wait for that (large) collection to be validated.\n",
    "ordered_collection_names = sorted(collection_names.copy())\n",
    "large_collection_name = \"functional_annotation_agg\"\n",
    "if large_collection_name in ordered_collection_names:\n",
    "    ordered_collection_names = list(filter(lambda n: n != large_collection_name, ordered_collection_names))\n",
    "    ordered_collection_names.append(large_collection_name)  # puts it last\n",
    "\n",
    "for collection_name in ordered_collection_names:\n",
    "    collection = transformer_mongo_client[\"nmdc\"][collection_name]\n",
    "    num_documents_in_collection = collection.count_documents({})\n",
    "    print(f\"Validating collection {collection_name} ({num_documents_in_collection} documents)\")\n",
    "\n",
    "    for document in collection.find():\n",
    "        # Validate the transformed document.\n",
    "        #\n",
    "        # Reference: https://github.com/microbiomedata/nmdc-schema/blob/main/src/docs/schema-validation.md\n",
    "        #\n",
    "        # Note: Dictionaries originating as Mongo documents include a Mongo-generated key named `_id`. However,\n",
    "        #       the NMDC Schema does not describe that key and, indeed, data validators consider dictionaries\n",
    "        #       containing that key to be invalid with respect to the NMDC Schema. So, here, we validate a\n",
    "        #       copy (i.e. a shallow copy) of the document that lacks that specific key.\n",
    "        #\n",
    "        # Note: `root_to_validate` is a dictionary having the shape: { \"some_collection_name\": [ some_document ] }\n",
    "        #       Reference: https://docs.python.org/3/library/stdtypes.html#dict (see the \"type constructor\" section)\n",
    "        #\n",
    "        document_without_underscore_id_key = {key: value for key, value in document.items() if key != \"_id\"}\n",
    "        root_to_validate = dict([(collection_name, [document_without_underscore_id_key])])\n",
    "        nmdc_jsonschema_validator.validate(root_to_validate)  # raises exception if invalid"
   ],
   "outputs": [],
   "execution_count": null
  },
  {
   "cell_type": "markdown",
   "id": "3edf77c7",
   "metadata": {},
   "source": [
    "### Dump the collections from the \"transformer\" MongoDB server\n",
    "\n",
    "Now that the collections have been transformed and validated, dump them **from** the \"transformer\" MongoDB server **into** a local directory."
   ]
  },
  {
   "cell_type": "code",
   "id": "db6e432d",
   "metadata": {},
   "source": [
    "# Dump the database from the \"transformer\" MongoDB server.\n",
    "shell_command = f\"\"\"\n",
    "  {mongodump} \\\n",
    "      --host='{cfg.transformer_mongo_host}' \\\n",
    "      --port='{cfg.transformer_mongo_port}' \\\n",
    "      --username='{cfg.transformer_mongo_username}' \\\n",
    "      --password='{cfg.transformer_mongo_password}' \\\n",
    "      --authenticationDatabase='admin' \\\n",
    "      --db='nmdc' \\\n",
    "      --gzip \\\n",
    "      --out='{cfg.transformer_dump_folder_path}'\n",
    "\"\"\"\n",
    "completed_process = subprocess.run(shell_command, shell=True)\n",
    "print(f\"\\nReturn code: {completed_process.returncode}\")  "
   ],
   "outputs": [],
   "execution_count": null
  },
  {
   "cell_type": "markdown",
   "id": "997fcb281d9d3222",
   "metadata": {
    "collapsed": false
   },
   "source": [
    "### Create a bookkeeper\n",
    "\n",
    "Create a `Bookkeeper` that can be used to document migration events in the \"origin\" server."
   ]
  },
  {
   "cell_type": "code",
   "id": "dbbe706d",
   "metadata": {},
   "source": [
    "bookkeeper = Bookkeeper(mongo_client=origin_mongo_client)"
   ],
   "outputs": [],
   "execution_count": null
  },
  {
   "cell_type": "markdown",
   "id": "1e0c8891",
   "metadata": {},
   "source": [
    "### Indicate — on the \"origin\" server — that the migration is underway\n",
    "\n",
    "Add an entry to the migration log collection to indicate that this migration has started."
   ]
  },
  {
   "cell_type": "code",
   "id": "ca49f61a",
   "metadata": {},
   "source": [
    "bookkeeper.record_migration_event(migrator=migrator, event=MigrationEvent.MIGRATION_STARTED)"
   ],
   "outputs": [],
   "execution_count": null
  },
  {
   "cell_type": "markdown",
   "id": "9c253e6f",
   "metadata": {},
   "source": [
    "### Drop the original collections from the \"origin\" MongoDB server\n",
    "\n",
    "This is necessary for situations where collections were renamed or deleted. (The `--drop` option of `mongorestore` only drops collections that exist in the dump.)"
   ]
  },
  {
   "cell_type": "code",
   "id": "0b26e434",
   "metadata": {},
   "source": [
    "shell_command = f\"\"\"\n",
    "  {cfg.mongosh_path} \\\n",
    "      --host='{cfg.origin_mongo_host}' \\\n",
    "      --port='{cfg.origin_mongo_port}' \\\n",
    "      --username='{cfg.origin_mongo_username}' \\\n",
    "      --password='{cfg.origin_mongo_password}' \\\n",
    "      --eval 'use nmdc' \\\n",
    "      --eval 'db.dropDatabase()'\n",
    "\"\"\"\n",
    "completed_process = subprocess.run(shell_command, shell=True)\n",
    "print(f\"\\nReturn code: {completed_process.returncode}\")"
   ],
   "outputs": [],
   "execution_count": null
  },
  {
   "cell_type": "markdown",
   "id": "d84bdc11",
   "metadata": {},
   "source": [
    "### Load the collections into the \"origin\" MongoDB server\n",
    "\n",
    "Load the transformed collections into the \"origin\" MongoDB server."
   ]
  },
  {
   "cell_type": "code",
   "id": "1dfbcf0a",
   "metadata": {},
   "source": [
    "# Load the transformed collections into the origin server, replacing any same-named ones that are there.\n",
    "shell_command = f\"\"\"\n",
    "  {mongorestore} \\\n",
    "      --host='{cfg.origin_mongo_host}' \\\n",
    "      --port='{cfg.origin_mongo_port}' \\\n",
    "      --username='{cfg.origin_mongo_username}' \\\n",
    "      --password='{cfg.origin_mongo_password}' \\\n",
    "      --authenticationDatabase='admin' \\\n",
    "      --gzip \\\n",
    "      --verbose \\\n",
    "      --dir='{cfg.transformer_dump_folder_path}' \\\n",
    "      --drop \\\n",
    "      --preserveUUID \\\n",
    "      --stopOnError\n",
    "\"\"\"\n",
    "completed_process = subprocess.run(shell_command, shell=True)\n",
    "print(f\"\\nReturn code: {completed_process.returncode}\")  "
   ],
   "outputs": [],
   "execution_count": null
  },
  {
   "cell_type": "markdown",
   "id": "ca5ee89a79148499",
   "metadata": {
    "collapsed": false
   },
   "source": [
    "### Indicate that the migration is complete\n",
    "\n",
    "Add an entry to the migration log collection to indicate that this migration is complete."
   ]
  },
  {
   "cell_type": "code",
   "id": "d1eaa6c92789c4f3",
   "metadata": {
    "collapsed": false
   },
   "source": [
    "bookkeeper.record_migration_event(migrator=migrator, event=MigrationEvent.MIGRATION_COMPLETED)"
   ],
   "outputs": [],
   "execution_count": null
  },
  {
   "cell_type": "markdown",
   "id": "04c856a8",
   "metadata": {},
   "source": [
    "### Restore access to the \"origin\" MongoDB server\n",
    "\n",
    "This effectively un-does the access revocation that we did earlier."
   ]
  },
  {
   "cell_type": "code",
   "id": "9aab3c7e",
   "metadata": {},
   "source": [
    "shell_command = f\"\"\"\n",
    "  {cfg.mongosh_path} \\\n",
    "      --host='{cfg.origin_mongo_host}' \\\n",
    "      --port='{cfg.origin_mongo_port}' \\\n",
    "      --username='{cfg.origin_mongo_username}' \\\n",
    "      --password='{cfg.origin_mongo_password}' \\\n",
    "      --quiet \\\n",
    "      --file='mongosh-scripts/restore-privileges.mongo.js'\n",
    "\"\"\"\n",
    "completed_process = subprocess.run(shell_command, shell=True)\n",
    "print(f\"\\nReturn code: {completed_process.returncode}\")"
   ],
   "outputs": [],
   "execution_count": null
  }
 ],
 "metadata": {
  "kernelspec": {
   "display_name": "Python 3",
   "language": "python",
   "name": "python3"
  },
  "language_info": {
   "codemirror_mode": {
    "name": "ipython",
    "version": 3
   },
   "file_extension": ".py",
   "mimetype": "text/x-python",
   "name": "python",
   "nbconvert_exporter": "python",
   "pygments_lexer": "ipython3",
   "version": "3.10.12"
  }
 },
 "nbformat": 4,
 "nbformat_minor": 5
}
